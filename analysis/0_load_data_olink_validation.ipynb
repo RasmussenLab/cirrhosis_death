{
 "cells": [
  {
   "cell_type": "markdown",
   "metadata": {},
   "source": [
    "# Olink validation data\n",
    "\n",
    "both for \n",
    "\n",
    "- `ProDoc` (N=29) samples\n",
    "- `CircaFlow` samples"
   ]
  },
  {
   "cell_type": "code",
   "execution_count": null,
   "metadata": {},
   "outputs": [],
   "source": [
    "from collections import namedtuple\n",
    "from pathlib import Path\n",
    "\n",
    "import pandas as pd\n",
    "\n",
    "import config"
   ]
  },
  {
   "cell_type": "markdown",
   "metadata": {},
   "source": [
    "## Set default paths and collection"
   ]
  },
  {
   "cell_type": "code",
   "execution_count": null,
   "metadata": {},
   "outputs": [],
   "source": [
    "DATA_FOLDER = Path(config.data)\n",
    "\n",
    "inputs = {}\n",
    "outputs = {}"
   ]
  },
  {
   "cell_type": "markdown",
   "metadata": {},
   "source": [
    "## Define Measurment"
   ]
  },
  {
   "cell_type": "code",
   "execution_count": null,
   "metadata": {},
   "outputs": [],
   "source": [
    "Measurement = namedtuple('Measurment', 'idx measure')\n",
    "measure_olink = Measurement(['SampleID', 'Assay'], 'NPX')\n",
    "measure_olink"
   ]
  },
  {
   "cell_type": "markdown",
   "metadata": {},
   "source": [
    "## Load Olink validation data"
   ]
  },
  {
   "cell_type": "code",
   "execution_count": null,
   "metadata": {},
   "outputs": [],
   "source": [
    "inputs['olink'] = DATA_FOLDER / \"Validation Results\" / \"ProDoc_Olink_bridged_QC_long.tsv\"\n",
    "olink = pd.read_table(inputs['olink'], sep='\\t', low_memory=False)\n",
    "olink = olink.set_index(measure_olink.idx)\n",
    "olink"
   ]
  },
  {
   "cell_type": "markdown",
   "metadata": {},
   "source": [
    "## Contains duplicated bridging samples"
   ]
  },
  {
   "cell_type": "code",
   "execution_count": null,
   "metadata": {},
   "outputs": [],
   "source": [
    "duplicated = olink[measure_olink.measure].index.duplicated(keep=False)\n",
    "olink_bridge = olink.loc[duplicated].sort_index(level=-1).set_index('Project', append=True)\n",
    "olink_bridge.head(20)"
   ]
  },
  {
   "cell_type": "code",
   "execution_count": null,
   "metadata": {},
   "outputs": [],
   "source": [
    "outputs['bridging_samples'] = config.data_processed / 'bridges.pkl'\n",
    "olink_bridge.to_pickle(outputs['bridging_samples'])\n",
    "olink_bridge.to_excel(outputs['bridging_samples'].with_suffix('.xlsx'))"
   ]
  },
  {
   "cell_type": "markdown",
   "metadata": {},
   "source": [
    "## Metadata for Olink features\n",
    "\n",
    "- `UniProt` ID of `OlinkID`\n",
    "- limit of detection (`LOD`)"
   ]
  },
  {
   "cell_type": "code",
   "execution_count": null,
   "metadata": {},
   "outputs": [],
   "source": [
    "inputs['metadata'] = DATA_FOLDER / \"Validation Results\" / \"metadata.tsv\"\n",
    "metadata = pd.read_table(inputs[\"metadata\"])\n",
    "metadata"
   ]
  },
  {
   "cell_type": "markdown",
   "metadata": {},
   "source": [
    "## Sample name to ID mapping  - find subcohorts"
   ]
  },
  {
   "cell_type": "code",
   "execution_count": null,
   "metadata": {},
   "outputs": [],
   "source": [
    "inputs['id_map'] = DATA_FOLDER / \"Validation Results\" / \"id.xlsx\"\n",
    "id_map = pd.read_excel(inputs[\"id_map\"], index_col='SampleID')\n",
    "id_map"
   ]
  },
  {
   "cell_type": "code",
   "execution_count": null,
   "metadata": {},
   "outputs": [],
   "source": [
    "print(id_map[\"CBMRID\"].str[:4].value_counts().to_string())"
   ]
  },
  {
   "cell_type": "markdown",
   "metadata": {},
   "source": [
    "## Select cohorts"
   ]
  },
  {
   "cell_type": "code",
   "execution_count": null,
   "metadata": {},
   "outputs": [],
   "source": [
    "def _select_idx(query: str,\n",
    "                expected: int,\n",
    "                id_map: pd.DataFrame = id_map,\n",
    "                id_col: str = 'CBMRID'):\n",
    "    idx = id_map.loc[id_map[id_col].str.contains(query)]\n",
    "    idx = idx[id_col].to_list()\n",
    "    assert len(\n",
    "        idx\n",
    "    ) == expected, f\"Excepcted {expected} Prodoc validation samples, not {len(idx)}\"\n",
    "    return idx"
   ]
  },
  {
   "cell_type": "code",
   "execution_count": null,
   "metadata": {},
   "outputs": [],
   "source": [
    "idx_prodoc = _select_idx(query='ProD', expected=29)\n",
    "# idx_prodoc"
   ]
  },
  {
   "cell_type": "code",
   "execution_count": null,
   "metadata": {},
   "outputs": [],
   "source": [
    "idx_circaflow = _select_idx(query='Cflow', expected=101)\n",
    "# idx_circaflow"
   ]
  },
  {
   "cell_type": "code",
   "execution_count": null,
   "metadata": {},
   "outputs": [],
   "source": [
    "olink_prodoc_val = olink.loc[idx_prodoc, measure_olink.measure].unstack()\n",
    "olink_prodoc_val.describe()"
   ]
  },
  {
   "cell_type": "code",
   "execution_count": null,
   "metadata": {},
   "outputs": [],
   "source": [
    "stem = 'olink_prodoc_val'\n",
    "outputs[f'{stem}'] = config.data_processed / f'{stem}.pkl'\n",
    "olink_prodoc_val.to_pickle(outputs[f'{stem}'])\n",
    "olink_prodoc_val.to_excel(outputs[f'{stem}'].with_suffix('.xlsx'))"
   ]
  },
  {
   "cell_type": "code",
   "execution_count": null,
   "metadata": {},
   "outputs": [],
   "source": [
    "olink_cflow = olink.loc[idx_circaflow, measure_olink.measure].unstack()\n",
    "olink_cflow.describe()"
   ]
  },
  {
   "cell_type": "markdown",
   "metadata": {},
   "source": [
    "Integrate update from Rasmus (last three non-matching IDs)"
   ]
  },
  {
   "cell_type": "code",
   "execution_count": null,
   "metadata": {},
   "outputs": [],
   "source": [
    "inputs['olink_update'] = DATA_FOLDER / \"Validation Results\" / \"update_olink_221204.tsv\"\n",
    "olink_update = pd.read_table(inputs['olink_update'], sep='\\t', low_memory=False)\n",
    "olink_update = olink_update.set_index(measure_olink.idx)\n",
    "\n",
    "olink_cflow_update = olink_update.loc[:, measure_olink.measure].unstack()\n",
    "olink_cflow_update"
   ]
  },
  {
   "cell_type": "code",
   "execution_count": null,
   "metadata": {},
   "outputs": [],
   "source": [
    "olink_cflow.loc[olink_cflow_update.index]"
   ]
  },
  {
   "cell_type": "code",
   "execution_count": null,
   "metadata": {},
   "outputs": [],
   "source": [
    "stem = 'olink_cflow'\n",
    "outputs[stem] = config.data_processed / f'{stem}.xlsx'\n",
    "olink_cflow.to_excel(outputs[stem])\n",
    "olink_cflow.to_pickle(outputs[stem].with_suffix('.pkl'))"
   ]
  },
  {
   "cell_type": "markdown",
   "metadata": {},
   "source": [
    "Log all input and selected output files "
   ]
  },
  {
   "cell_type": "code",
   "execution_count": null,
   "metadata": {},
   "outputs": [],
   "source": [
    "inputs"
   ]
  },
  {
   "cell_type": "code",
   "execution_count": null,
   "metadata": {},
   "outputs": [],
   "source": [
    "outputs"
   ]
  }
 ],
 "metadata": {
  "kernelspec": {
   "display_name": "Python 3 (ipykernel)",
   "language": "python",
   "name": "python3"
  },
  "language_info": {
   "codemirror_mode": {
    "name": "ipython",
    "version": 3
   },
   "file_extension": ".py",
   "mimetype": "text/x-python",
   "name": "python",
   "nbconvert_exporter": "python",
   "pygments_lexer": "ipython3",
   "version": "3.10.4"
  },
  "vscode": {
   "interpreter": {
    "hash": "4a7cb36f33b5487d941f082aa821b72e5ffcd123aba4697c50d4e81e1a75fb3c"
   }
  }
 },
 "nbformat": 4,
 "nbformat_minor": 4
}
