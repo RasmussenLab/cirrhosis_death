{
 "cells": [
  {
   "cell_type": "markdown",
   "id": "4fa60ae4-23a2-4c7b-8df8-5854ca2e7b52",
   "metadata": {},
   "source": [
    "# Raw Data\n",
    "\n",
    "- join OLink and clinical data\n",
    "- "
   ]
  },
  {
   "cell_type": "code",
   "execution_count": null,
   "id": "3c3751a2-88cf-40d9-9722-0c8ab1202f19",
   "metadata": {},
   "outputs": [],
   "source": [
    "from pathlib import Path\n",
    "\n",
    "import matplotlib.pyplot as plt\n",
    "import pandas as pd\n",
    "\n",
    "import src\n",
    "\n",
    "import config"
   ]
  },
  {
   "cell_type": "code",
   "execution_count": null,
   "id": "0335b521-16cb-4d5c-947b-df76af576105",
   "metadata": {},
   "outputs": [],
   "source": [
    "DATA_FOLDER = Path(config.data)\n",
    "list(DATA_FOLDER.iterdir())\n",
    "\n",
    "TODAY = '2022-08-05'"
   ]
  },
  {
   "cell_type": "code",
   "execution_count": null,
   "id": "b033fcc4-9162-485a-bdee-995129fb48b4",
   "metadata": {},
   "outputs": [],
   "source": [
    "DATA_CLINIC = DATA_FOLDER / '2022-08-04_clinical_data.xlsx'\n",
    "DATA_OLINK = DATA_FOLDER / 'QC_OlinkProD_wide.tsv'"
   ]
  },
  {
   "cell_type": "code",
   "execution_count": null,
   "id": "03669304-add5-4028-ad70-d5296d59d44e",
   "metadata": {},
   "outputs": [],
   "source": [
    "clinic = pd.read_excel(DATA_CLINIC)\n",
    "clinic.SampleID = clinic.SampleID.str.replace(' ', '')\n",
    "clinic = clinic.set_index('SampleID').sort_index()\n",
    "clinic"
   ]
  },
  {
   "cell_type": "code",
   "execution_count": null,
   "id": "744725cf-f588-48fa-bf48-6285a95f8219",
   "metadata": {},
   "outputs": [],
   "source": [
    "olink = pd.read_table(DATA_OLINK)\n",
    "olink = olink.set_index(olink.SampleID.str[4:]).sort_index()\n",
    "olink"
   ]
  },
  {
   "cell_type": "markdown",
   "id": "b457ec88-a298-4133-88a4-6f9952509a63",
   "metadata": {},
   "source": [
    "## Different overlaps"
   ]
  },
  {
   "cell_type": "code",
   "execution_count": null,
   "id": "477910d6-1614-49b0-bbeb-1bedf862483c",
   "metadata": {},
   "outputs": [],
   "source": [
    "idx_overlap = olink.index.intersection(clinic.index)\n",
    "idx_overlap"
   ]
  },
  {
   "cell_type": "code",
   "execution_count": null,
   "id": "33fee229-fcf7-45a1-883a-190c623d05b9",
   "metadata": {},
   "outputs": [],
   "source": [
    "# in clinical data, but not in olink data\n",
    "clinic.index.difference(olink.index)"
   ]
  },
  {
   "cell_type": "code",
   "execution_count": null,
   "id": "45f09007-725a-4a0f-8aeb-3dd16e9b9cff",
   "metadata": {},
   "outputs": [],
   "source": [
    "# in olink data, but not in clinical data -> excluded samples\n",
    "olink.index.difference(clinic.index)"
   ]
  },
  {
   "cell_type": "markdown",
   "id": "d3b720d9-294e-4e49-bd55-bacd49b84901",
   "metadata": {},
   "source": [
    "## Dump feature names"
   ]
  },
  {
   "cell_type": "code",
   "execution_count": null,
   "id": "66039484-a38b-4f90-86c0-f1f72fc42500",
   "metadata": {},
   "outputs": [],
   "source": [
    "import yaml\n",
    "\n",
    "with open('config/olink_features.yaml' ,'w') as f:\n",
    "    yaml.dump({k:'' for k in olink.columns.to_list()}, f)\n",
    "\n",
    "# clinic.dtypes.to_dict()    \n",
    "    \n",
    "with open('config/clinic_features.yaml' ,'w') as f:\n",
    "    yaml.dump({k:'' for k in clinic.columns.to_list()}, f)"
   ]
  },
  {
   "cell_type": "markdown",
   "id": "bc18253c-b9aa-4c5a-9bad-2a42d3778ad3",
   "metadata": {},
   "source": [
    "## Subselect"
   ]
  },
  {
   "cell_type": "code",
   "execution_count": null,
   "id": "573cf869-5f33-403e-bdee-52eb3ec50f1c",
   "metadata": {},
   "outputs": [],
   "source": [
    "clinic = clinic.loc[idx_overlap]\n",
    "olink = olink.loc[idx_overlap]"
   ]
  },
  {
   "cell_type": "markdown",
   "id": "da0306c1-7d67-4720-aa3d-c8d5982b43c0",
   "metadata": {},
   "source": [
    "## Deaths over time\n",
    "\n",
    "- one plot with absolute time axis\n",
    "- one plot relative to diagnosis date"
   ]
  },
  {
   "cell_type": "code",
   "execution_count": null,
   "id": "1988f118-c3da-4c00-bfaf-a1d7adf2b6cd",
   "metadata": {},
   "outputs": [],
   "source": [
    "kp_data = clinic[['DateDiagnose', 'DateDeath']].copy()\n",
    "kp_data['dead'] = (clinic['DateDeath'] - clinic['DateDiagnose']).notna()\n",
    "kp_data[\"DateDeath\"] = kp_data[\"DateDeath\"].fillna(value=TODAY)\n",
    "kp_data"
   ]
  },
  {
   "cell_type": "code",
   "execution_count": null,
   "id": "b69a84aa-3cdf-4aad-aad0-02e5f8a171aa",
   "metadata": {},
   "outputs": [],
   "source": [
    "kp_data.describe(datetime_is_numeric=True, include='all')"
   ]
  },
  {
   "cell_type": "code",
   "execution_count": null,
   "id": "a2c449f7-5b63-4fba-8677-04799d41eae4",
   "metadata": {},
   "outputs": [],
   "source": []
  },
  {
   "cell_type": "code",
   "execution_count": null,
   "id": "019e574a-4e25-42f0-b06d-5db36cb22042",
   "metadata": {},
   "outputs": [],
   "source": [
    "din_a4 = (8.27*2,11.69*2 )\n",
    "fig, ax = plt.subplots(figsize=din_a4)    \n",
    "\n",
    "src.plotting.plot_lifelines(kp_data.sort_values('DateDiagnose'), ax = ax)\n",
    "_ = plt.xticks(rotation=45)\n",
    "ax.invert_yaxis()"
   ]
  },
  {
   "cell_type": "code",
   "execution_count": null,
   "id": "5235b058-ba5a-4f93-90bd-6b489b2c4726",
   "metadata": {},
   "outputs": [],
   "source": [
    "ax = kp_data.astype({'dead':'category'}).plot.scatter(x=\"DateDiagnose\", y=\"dead\",c='blue', rot=45)"
   ]
  },
  {
   "cell_type": "code",
   "execution_count": null,
   "id": "154d52d5-392c-421e-9578-f06e8fd4049a",
   "metadata": {},
   "outputs": [],
   "source": [
    "ax = kp_data.astype({'dead':'category'}).plot.scatter(x=\"DateDiagnose\", y='DateDeath', c=\"dead\", rot=45, sharex=False)\n",
    "min_date, max_date = kp_data[\"DateDiagnose\"].min(), kp_data[\"DateDiagnose\"].max()\n",
    "ax.plot([min_date, max_date], [min_date, max_date],  'k-', lw=2)\n",
    "fig = ax.get_figure()"
   ]
  },
  {
   "cell_type": "markdown",
   "id": "2c4ee5f3-8760-4009-aee0-958f7277d1fc",
   "metadata": {},
   "source": [
    "## Kaplan-Meier survival plot"
   ]
  },
  {
   "cell_type": "code",
   "execution_count": null,
   "id": "e39892fb-edbd-4495-8a70-8118ed9835b5",
   "metadata": {
    "lines_to_next_cell": 0
   },
   "outputs": [],
   "source": [
    "# from lifelines import KaplanMeierFitter\n",
    "# kmf = KaplanMeierFitter()\n",
    "\n",
    "# T = kp_plot['DateDeath']\n",
    "# C = kp_plot['dead']\n",
    "\n",
    "# kmf.fit(T, event_observed=C)"
   ]
  },
  {
   "cell_type": "code",
   "execution_count": null,
   "id": "3f130392-d108-4230-a1c2-5af475c00bcf",
   "metadata": {},
   "outputs": [],
   "source": []
  }
 ],
 "metadata": {
  "jupytext": {
   "formats": "ipynb,py:light"
  },
  "kernelspec": {
   "display_name": "Python 3 (ipykernel)",
   "language": "python",
   "name": "python3"
  },
  "language_info": {
   "codemirror_mode": {
    "name": "ipython",
    "version": 3
   },
   "file_extension": ".py",
   "mimetype": "text/x-python",
   "name": "python",
   "nbconvert_exporter": "python",
   "pygments_lexer": "ipython3",
   "version": "3.10.4"
  }
 },
 "nbformat": 4,
 "nbformat_minor": 5
}
