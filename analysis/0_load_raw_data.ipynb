{
 "cells": [
  {
   "cell_type": "markdown",
   "id": "4fa60ae4-23a2-4c7b-8df8-5854ca2e7b52",
   "metadata": {},
   "source": [
    "# Raw Data\n",
    "\n",
    "- join OLink and clinical data\n",
    "- create targets: \n",
    "    \n",
    "  event | next 90 days | next 180 days\n",
    "  --- | --- | ---\n",
    "  death | `dead_90` | `dead_180`\n",
    "  admission to hospital | `adm_90`  | `adm_180`\n",
    "    \n",
    "  all cases within 90 days will be included into the 180 days"
   ]
  },
  {
   "cell_type": "code",
   "execution_count": null,
   "id": "3c3751a2-88cf-40d9-9722-0c8ab1202f19",
   "metadata": {},
   "outputs": [],
   "source": [
    "from pathlib import Path\n",
    "\n",
    "import matplotlib.pyplot as plt\n",
    "import pandas as pd\n",
    "import seaborn as sns\n",
    "\n",
    "from lifelines import KaplanMeierFitter\n",
    "\n",
    "import src\n",
    "\n",
    "import config\n",
    "\n",
    "pd.options.display.max_columns = 100"
   ]
  },
  {
   "cell_type": "code",
   "execution_count": null,
   "id": "0335b521-16cb-4d5c-947b-df76af576105",
   "metadata": {},
   "outputs": [],
   "source": [
    "DATA_FOLDER = Path(config.data)\n",
    "DATA_PROCESSED = Path(config.data_processed)\n",
    "list(DATA_FOLDER.iterdir())\n",
    "\n",
    "config.STUDY_ENDDATE"
   ]
  },
  {
   "cell_type": "code",
   "execution_count": null,
   "id": "b033fcc4-9162-485a-bdee-995129fb48b4",
   "metadata": {},
   "outputs": [],
   "source": [
    "DATA_CLINIC = DATA_FOLDER / '2022-08-08_clinical_data.xlsx'\n",
    "DATA_OLINK = DATA_FOLDER / 'QC_OlinkProD_wide.tsv'"
   ]
  },
  {
   "cell_type": "code",
   "execution_count": null,
   "id": "03669304-add5-4028-ad70-d5296d59d44e",
   "metadata": {},
   "outputs": [],
   "source": [
    "clinic = pd.read_excel(DATA_CLINIC)\n",
    "clinic.SampleID = clinic.SampleID.str.replace(' ', '')\n",
    "clinic = clinic.set_index('SampleID').sort_index()\n",
    "clinic"
   ]
  },
  {
   "cell_type": "code",
   "execution_count": null,
   "id": "744725cf-f588-48fa-bf48-6285a95f8219",
   "metadata": {},
   "outputs": [],
   "source": [
    "olink = pd.read_table(DATA_OLINK)\n",
    "olink = olink.set_index(olink.SampleID.str[4:]).sort_index()\n",
    "olink"
   ]
  },
  {
   "cell_type": "markdown",
   "id": "b457ec88-a298-4133-88a4-6f9952509a63",
   "metadata": {},
   "source": [
    "## Different overlaps"
   ]
  },
  {
   "cell_type": "code",
   "execution_count": null,
   "id": "477910d6-1614-49b0-bbeb-1bedf862483c",
   "metadata": {},
   "outputs": [],
   "source": [
    "idx_overlap = olink.index.intersection(clinic.index)\n",
    "idx_overlap"
   ]
  },
  {
   "cell_type": "code",
   "execution_count": null,
   "id": "33fee229-fcf7-45a1-883a-190c623d05b9",
   "metadata": {},
   "outputs": [],
   "source": [
    "# in clinical data, but not in olink data\n",
    "clinic.index.difference(olink.index)"
   ]
  },
  {
   "cell_type": "code",
   "execution_count": null,
   "id": "45f09007-725a-4a0f-8aeb-3dd16e9b9cff",
   "metadata": {},
   "outputs": [],
   "source": [
    "# in olink data, but not in clinical data -> excluded samples\n",
    "olink.index.difference(clinic.index)"
   ]
  },
  {
   "cell_type": "markdown",
   "id": "d3b720d9-294e-4e49-bd55-bacd49b84901",
   "metadata": {},
   "source": [
    "## Dump feature names"
   ]
  },
  {
   "cell_type": "code",
   "execution_count": null,
   "id": "66039484-a38b-4f90-86c0-f1f72fc42500",
   "metadata": {},
   "outputs": [],
   "source": [
    "import yaml\n",
    "\n",
    "with open('config/olink_features.yaml', 'w') as f:\n",
    "    yaml.dump({k: '' for k in olink.columns.to_list()}, f, sort_keys=False)\n",
    "\n",
    "with open('config/clinic_features.yaml', 'w') as f:\n",
    "    yaml.dump({k: '' for k in clinic.columns.to_list()}, f, sort_keys=False)\n",
    "\n",
    "olink.columns.to_series().to_excel('config/olink_features.xlsx')\n",
    "clinic.columns.to_series().to_excel('config/clinic_features.xlsx')"
   ]
  },
  {
   "cell_type": "markdown",
   "id": "bc18253c-b9aa-4c5a-9bad-2a42d3778ad3",
   "metadata": {},
   "source": [
    "## Subselect"
   ]
  },
  {
   "cell_type": "code",
   "execution_count": null,
   "id": "573cf869-5f33-403e-bdee-52eb3ec50f1c",
   "metadata": {},
   "outputs": [],
   "source": [
    "clinic = clinic.loc[idx_overlap]\n",
    "olink = olink.loc[idx_overlap]\n",
    "\n",
    "clinic['dead'] = (clinic['DateDeath'] - clinic['DateDiagnose']).notna()\n",
    "clinic[\"DateDeath\"] = clinic[\"DateDeath\"].fillna(value=config.STUDY_ENDDATE)"
   ]
  },
  {
   "cell_type": "markdown",
   "id": "da0306c1-7d67-4720-aa3d-c8d5982b43c0",
   "metadata": {
    "lines_to_next_cell": 2
   },
   "source": [
    "## Deaths over time\n",
    "\n",
    "- one plot with absolute time axis\n",
    "- one plot relative to diagnosis date"
   ]
  },
  {
   "cell_type": "code",
   "execution_count": null,
   "id": "b69a84aa-3cdf-4aad-aad0-02e5f8a171aa",
   "metadata": {},
   "outputs": [],
   "source": [
    "clinic.describe(datetime_is_numeric=True, include='all')"
   ]
  },
  {
   "cell_type": "code",
   "execution_count": null,
   "id": "019e574a-4e25-42f0-b06d-5db36cb22042",
   "metadata": {},
   "outputs": [],
   "source": [
    "din_a4 = (8.27 * 2, 11.69 * 2)\n",
    "fig, ax = plt.subplots(figsize=din_a4)\n",
    "\n",
    "src.plotting.plot_lifelines(clinic.sort_values('DateDiagnose'), ax=ax)\n",
    "_ = plt.xticks(rotation=45)\n",
    "ax.invert_yaxis()"
   ]
  },
  {
   "cell_type": "code",
   "execution_count": null,
   "id": "cc648f8d-95d9-48b8-b170-f262377167b2",
   "metadata": {},
   "outputs": [],
   "source": [
    "clinic.dead"
   ]
  },
  {
   "cell_type": "code",
   "execution_count": null,
   "id": "5235b058-ba5a-4f93-90bd-6b489b2c4726",
   "metadata": {},
   "outputs": [],
   "source": [
    "fig, axes = plt.subplots(2, sharex=True)\n",
    "ax =  axes[0]\n",
    "ax.set_yticks([])\n",
    "\n",
    "ax = clinic.loc[clinic.dead].astype({\n",
    "    'dead': 'category'\n",
    "}).plot.scatter(x=\"DateDiagnose\", y=\"dead\", c='blue', rot=45, ax=ax, ylabel='dead')\n",
    "ax =  axes[1]\n",
    "# ax.axes.yaxis.set_visible(False)\n",
    "ax.set_yticks([])\n",
    "ax = clinic.loc[~clinic.dead].astype({\n",
    "    'dead': 'category'\n",
    "}).plot.scatter(x=\"DateDiagnose\", y=\"dead\", c='blue', rot=45, ax=ax, ylabel='alive')\n",
    "_ = fig.suptitle(\"Diagnose date by survival status\", fontsize=22)"
   ]
  },
  {
   "cell_type": "code",
   "execution_count": null,
   "id": "154d52d5-392c-421e-9578-f06e8fd4049a",
   "metadata": {},
   "outputs": [],
   "source": [
    "ax = clinic.astype({\n",
    "    'dead': 'category'\n",
    "}).plot.scatter(x=\"DateDiagnose\", y='DateDeath', c=\"dead\", rot=45, sharex=False)\n",
    "min_date, max_date = clinic[\"DateDiagnose\"].min(), clinic[\"DateDiagnose\"].max()\n",
    "ax.plot([min_date, max_date], [min_date, max_date], 'k-', lw=2)\n",
    "fig = ax.get_figure()"
   ]
  },
  {
   "cell_type": "markdown",
   "id": "f8b73945-02ae-48cd-ad00-1577c653ca0e",
   "metadata": {},
   "source": [
    "## Cleanup steps"
   ]
  },
  {
   "cell_type": "markdown",
   "id": "35b85c1b-6a15-467d-880f-fe88391694dd",
   "metadata": {},
   "source": [
    "### Clinic\n",
    "\n",
    "- [x] encode binary variables (yes, no) as `category`s \n",
    "  > Be aware that this might cause unexpected behaviour!"
   ]
  },
  {
   "cell_type": "markdown",
   "id": "383cc594-67c7-4adf-ab5c-41760a56c1df",
   "metadata": {},
   "source": [
    "Fill derived variables with missing measurements"
   ]
  },
  {
   "cell_type": "code",
   "execution_count": null,
   "id": "0918e8b8-cb06-40ac-bea1-6b93077b6b29",
   "metadata": {},
   "outputs": [],
   "source": [
    "# fill missing Admissions with zero, and make it an integer\n",
    "clinic[\"Admissions\"] = clinic[\"Admissions\"].fillna(0).astype(int)"
   ]
  },
  {
   "cell_type": "markdown",
   "id": "abd2d638-625f-418b-8fc9-5857e7b50660",
   "metadata": {},
   "source": [
    "Encode binary variables"
   ]
  },
  {
   "cell_type": "code",
   "execution_count": null,
   "id": "aed46ac1-cff6-4c12-a283-e46ef84c39b2",
   "metadata": {},
   "outputs": [],
   "source": [
    "# binary variables\n",
    "vars_binary = config.clinic_data.vars_binary\n",
    "clinic[vars_binary].head()\n",
    "# clinic.columns.to_list()"
   ]
  },
  {
   "cell_type": "code",
   "execution_count": null,
   "id": "2b560ba8-7cad-472c-b107-03157adeb280",
   "metadata": {},
   "outputs": [],
   "source": [
    "clinic[vars_binary] = clinic[vars_binary].astype('category')"
   ]
  },
  {
   "cell_type": "markdown",
   "id": "883d260d-d289-4259-b0ea-e0bb16d1ab52",
   "metadata": {},
   "source": [
    "### Olink\n",
    "\n",
    "- [x] remove additional meta data\n",
    "- [x] highlight missing values\n"
   ]
  },
  {
   "cell_type": "code",
   "execution_count": null,
   "id": "52379bd1-4de6-441e-9c4f-5bf5c0aeea62",
   "metadata": {},
   "outputs": [],
   "source": [
    "# \n",
    "olink.head()"
   ]
  },
  {
   "cell_type": "markdown",
   "id": "83774013-c6ba-438d-916d-794873404705",
   "metadata": {},
   "source": [
    "Remove additional metadata"
   ]
  },
  {
   "cell_type": "code",
   "execution_count": null,
   "id": "4ba5e6b4-a4ee-4be6-bbfb-47d5b26caf29",
   "metadata": {},
   "outputs": [],
   "source": [
    "olink = olink.loc[:,'IL8':]"
   ]
  },
  {
   "cell_type": "markdown",
   "id": "7503f2aa-4d96-422c-ae07-c9c4603d8fa1",
   "metadata": {},
   "source": [
    "Which measurments have missing values\n",
    "\n",
    "- [ ] Imputation due to limit of detection (LOD) -> how to best impute"
   ]
  },
  {
   "cell_type": "code",
   "execution_count": null,
   "id": "37a4a682-6e2e-40c1-91ec-9fa5d436bb33",
   "metadata": {},
   "outputs": [],
   "source": [
    "olink.loc[:, olink.isna().any()].describe() "
   ]
  },
  {
   "cell_type": "markdown",
   "id": "5ec14017-b20f-41e5-a1ba-29b74cf305fa",
   "metadata": {},
   "source": [
    "## Targets\n",
    "\n",
    "- death only has right censoring, no drop-out\n",
    "- admission has right censoring, and a few drop-outs who die before their first admission for the cirrhosis"
   ]
  },
  {
   "cell_type": "code",
   "execution_count": null,
   "id": "5fc2e9c9-2835-4885-80aa-25e4cd9f715a",
   "metadata": {},
   "outputs": [],
   "source": [
    "clinic[\"TimeToAdmFromDiagnose\"] = (\n",
    "    clinic[\"DateFirstAdmission\"].fillna(config.STUDY_ENDDATE) -\n",
    "    clinic[\"DateDiagnose\"]).dt.days\n",
    "clinic[\"TimeToDeathFromDiagnose\"] = (\n",
    "    clinic[\"DateDeath\"].fillna(config.STUDY_ENDDATE) -\n",
    "    clinic[\"DateDiagnose\"]).dt.days\n",
    "\n",
    "mask = clinic[\"TimeToDeathFromDiagnose\"] < clinic[\"TimeToAdmFromDiagnose\"]\n",
    "cols_view = [\n",
    "    \"TimeToDeathFromDiagnose\", \"TimeToAdmFromDiagnose\", \"dead\", \"Admissions\"\n",
    "]\n",
    "clinic[cols_view].loc[mask]"
   ]
  },
  {
   "cell_type": "markdown",
   "id": "526b0dee-a571-47e6-a135-f9548407a975",
   "metadata": {},
   "source": [
    "For these individuals, the diagnose time is censored as the persons died before."
   ]
  },
  {
   "cell_type": "code",
   "execution_count": null,
   "id": "a49c7877-7806-4524-ac92-a9abdd8b1ec8",
   "metadata": {},
   "outputs": [],
   "source": [
    "clinic.loc[mask,\n",
    "           \"TimeToAdmFromDiagnose\"] = clinic.loc[mask,\n",
    "                                                 \"TimeToDeathFromDiagnose\"]\n",
    "clinic.loc[mask, cols_view]"
   ]
  },
  {
   "cell_type": "markdown",
   "id": "2c4ee5f3-8760-4009-aee0-958f7277d1fc",
   "metadata": {},
   "source": [
    "### Kaplan-Meier survival plot "
   ]
  },
  {
   "cell_type": "code",
   "execution_count": null,
   "id": "e39892fb-edbd-4495-8a70-8118ed9835b5",
   "metadata": {},
   "outputs": [],
   "source": [
    "kmf = KaplanMeierFitter()\n",
    "kmf.fit(clinic[\"TimeToDeathFromDiagnose\"], event_observed=clinic[\"dead\"])\n",
    "\n",
    "y_lim = (0, 1)\n",
    "ax = kmf.plot(title='Kaplan Meier survival curve since diagnose',\n",
    "              xlim=(0, None),\n",
    "              ylim=(0, 1),\n",
    "              xlabel='Time since diagnose',\n",
    "              ylabel='survival rate',\n",
    "              legend=False)\n",
    "_ = ax.vlines(90, *y_lim)\n",
    "_ = ax.vlines(180, *y_lim)"
   ]
  },
  {
   "cell_type": "code",
   "execution_count": null,
   "id": "27fad55d-bbd0-42c2-9b5a-17927ae88348",
   "metadata": {},
   "outputs": [],
   "source": [
    "_ = sns.catplot(x=\"TimeToDeathFromDiagnose\",\n",
    "                y=\"dead\",\n",
    "                hue=\"DiagnosisPlace\",\n",
    "                data=clinic.astype({'dead': 'category'}),\n",
    "                height=4,\n",
    "                aspect=3)\n",
    "ax = _.fig.get_axes()[0]\n",
    "ylim = ax.get_ylim()\n",
    "ax.vlines(90, *ylim)\n",
    "ax.vlines(180, *ylim)"
   ]
  },
  {
   "cell_type": "markdown",
   "id": "407ceef8-c279-4bb7-8217-31c700e3b5dc",
   "metadata": {},
   "source": [
    "### KP plot admissions"
   ]
  },
  {
   "cell_type": "code",
   "execution_count": null,
   "id": "132db651-e531-45a3-836b-4a136913fbf5",
   "metadata": {},
   "outputs": [],
   "source": [
    "kmf = KaplanMeierFitter()\n",
    "kmf.fit(clinic[\"TimeToAdmFromDiagnose\"], event_observed=clinic['Admissions'])\n",
    "\n",
    "y_lim = (0, 1)\n",
    "ax = kmf.plot(title='Kaplan Meier curve for admissions',\n",
    "              xlim=(0, None),\n",
    "              ylim=(0, 1),\n",
    "              xlabel='Time since diagnose',\n",
    "              ylabel='non-admission rate',\n",
    "              legend=False)\n",
    "_ = ax.vlines(90, *y_lim)\n",
    "_ = ax.vlines(180, *y_lim)"
   ]
  },
  {
   "cell_type": "markdown",
   "id": "858d62c6-13cf-412d-b2fc-53a0ad67565b",
   "metadata": {},
   "source": [
    "### Build targets"
   ]
  },
  {
   "cell_type": "code",
   "execution_count": null,
   "id": "07f23f77-626a-4899-aff8-d1bd3a24224b",
   "metadata": {},
   "outputs": [],
   "source": [
    "targets = {}\n",
    "\n",
    "for cutoff in [90, 180]:\n",
    "    targets[f'dead_{cutoff}'] = (clinic[\"TimeToDeath\"] <= cutoff).astype(int)\n",
    "    targets[f'adm_{cutoff}'] = (clinic[\"TimeToAdmFromDiagnose\"] <=\n",
    "                                cutoff).astype(int)\n",
    "targets = pd.DataFrame(targets)\n",
    "targets = targets.sort_index(axis=1, ascending=False)\n",
    "targets.head()"
   ]
  },
  {
   "cell_type": "code",
   "execution_count": null,
   "id": "7f6f3137-21f8-4293-ae38-7e7f99584ddf",
   "metadata": {},
   "outputs": [],
   "source": [
    "from src.pandas import combine_value_counts\n",
    "\n",
    "combine_value_counts(targets)"
   ]
  },
  {
   "cell_type": "code",
   "execution_count": null,
   "id": "174384a2-5aa9-4dd2-bd32-9643f477c543",
   "metadata": {},
   "outputs": [],
   "source": [
    "ret = []\n",
    "for var in targets.columns:\n",
    "    _ = pd.crosstab(targets[var], clinic.DiagnosisPlace)\n",
    "    _.index = [f'{var.replace(\"_\", \" <= \")} - {i}' for i in _.index]\n",
    "    ret.append(_)\n",
    "ret = pd.concat(ret)\n",
    "\n",
    "tab_targets_by_diagnosisPlace = ret\n",
    "tab_targets_by_diagnosisPlace"
   ]
  },
  {
   "cell_type": "markdown",
   "id": "113bef3b-0ac5-4621-9b41-1a40ba976ef8",
   "metadata": {},
   "source": [
    "add to clinical targets"
   ]
  },
  {
   "cell_type": "code",
   "execution_count": null,
   "id": "21f5cf0a-9d98-409a-a1d1-593f87ddc7b6",
   "metadata": {},
   "outputs": [],
   "source": [
    "clinic = clinic.join(targets)"
   ]
  },
  {
   "cell_type": "markdown",
   "id": "d8632125-9964-43e5-84ea-48b9ed09722f",
   "metadata": {},
   "source": [
    "## Dumped processed and selected data"
   ]
  },
  {
   "cell_type": "code",
   "execution_count": null,
   "id": "d40040f1-ba3b-4bff-8af1-48f1642156b8",
   "metadata": {},
   "outputs": [],
   "source": [
    "DATA_PROCESSED.mkdir(exist_ok=True, parents=True)\n",
    "\n",
    "clinic.to_pickle(config.fname_pkl_clinic)\n",
    "olink.to_pickle(config.fname_pkl_olink)\n",
    "targets.to_pickle(config.fname_pkl_targets)"
   ]
  }
 ],
 "metadata": {
  "jupytext": {
   "formats": "ipynb,py:light"
  },
  "kernelspec": {
   "display_name": "Python 3 (ipykernel)",
   "language": "python",
   "name": "python3"
  },
  "language_info": {
   "codemirror_mode": {
    "name": "ipython",
    "version": 3
   },
   "file_extension": ".py",
   "mimetype": "text/x-python",
   "name": "python",
   "nbconvert_exporter": "python",
   "pygments_lexer": "ipython3",
   "version": "3.10.4"
  }
 },
 "nbformat": 4,
 "nbformat_minor": 5
}
