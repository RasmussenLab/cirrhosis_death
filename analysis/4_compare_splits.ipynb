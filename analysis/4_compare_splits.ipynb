{
 "cells": [
  {
   "cell_type": "markdown",
   "id": "17ebadbe-05fb-402f-8b9b-6c1480dba09d",
   "metadata": {
    "tags": []
   },
   "source": [
    "# Compare data splits\n",
    "\n",
    "- compare two data splits by a binary target variable"
   ]
  },
  {
   "cell_type": "code",
   "execution_count": null,
   "id": "0c68accd-5a13-4cab-820f-7617a495f144",
   "metadata": {},
   "outputs": [],
   "source": [
    "import logging\n",
    "from pathlib import Path\n",
    "import pandas as pd\n",
    "import sweetviz\n",
    "\n",
    "\n",
    "import config\n",
    "\n",
    "\n",
    "def find_val_ids(df: pd.DataFrame, val_ids: str = None, val_ids_query: str = None, sep=',') -> list:\n",
    "    \"\"\"Find validation IDs based on query or split.\"\"\"\n",
    "    if not val_ids:\n",
    "        if val_ids_query:\n",
    "            logging.warning(f\"Querying index using: {val_ids_query}\")\n",
    "            val_ids = df.filter(like='Cflow', axis=0).index.to_list()\n",
    "            logging.warning(f\"Found {len(val_ids)} Test-IDs\")\n",
    "        else:\n",
    "            raise ValueError(\"Provide a query string.\")\n",
    "    elif isinstance(val_ids, str):\n",
    "        val_ids = val_ids.split(sep)\n",
    "    else:\n",
    "        raise ValueError(\"Provide IDs in csv format as str: 'ID1,ID2'\")\n",
    "    return val_ids"
   ]
  },
  {
   "cell_type": "markdown",
   "id": "656d1380-0566-446e-9bad-74873d7d484d",
   "metadata": {
    "lines_to_next_cell": 0
   },
   "source": [
    "## Parameters"
   ]
  },
  {
   "cell_type": "code",
   "execution_count": null,
   "id": "921ec00e-7791-4ca6-ab3a-2c6a694a4d16",
   "metadata": {
    "tags": [
     "parameters"
    ]
   },
   "outputs": [],
   "source": [
    "fname_pkl_clinic = config.fname_pkl_all_clinic_num\n",
    "fname_pkl_olink = config.fname_pkl_all_olink\n",
    "\n",
    "TARGET = 'hasLiverAdm180'\n",
    "FOLDER = ''\n",
    "feat_set_to_consider: str = 'OLINK_AND_CLINIC'\n",
    "VAL_IDS = ''\n",
    "VAL_IDS_query = \"Cflow\"\n",
    "name_report = 'train_val_comparison'"
   ]
  },
  {
   "cell_type": "code",
   "execution_count": null,
   "id": "e0545baa-4dcd-4829-8615-664157b1cd9d",
   "metadata": {},
   "outputs": [],
   "source": [
    "if not FOLDER:\n",
    "    FOLDER = Path(config.folder_reports) / TARGET\n",
    "    FOLDER.mkdir(exist_ok=True)\n",
    "else:\n",
    "    FOLDER = Path(FOLDER)\n",
    "FOLDER"
   ]
  },
  {
   "cell_type": "markdown",
   "id": "5a843818-3c14-457c-be17-a7302173d838",
   "metadata": {},
   "source": [
    "## Read data"
   ]
  },
  {
   "cell_type": "code",
   "execution_count": null,
   "id": "36f99b5c-30c6-4a3e-b4e2-1cb186404261",
   "metadata": {},
   "outputs": [],
   "source": [
    "data = pd.read_pickle(fname_pkl_clinic).join(pd.read_pickle(fname_pkl_olink))\n",
    "data\n",
    "\n",
    "# cols = njab.pandas.get_colums_accessor(clinic)"
   ]
  },
  {
   "cell_type": "code",
   "execution_count": null,
   "id": "0971f4bf-8fb6-42b5-a562-44ffc5c2904c",
   "metadata": {},
   "outputs": [],
   "source": [
    "test_ids = find_val_ids(data, val_ids=VAL_IDS, val_ids_query=VAL_IDS_query)\n",
    "# val_ids"
   ]
  },
  {
   "cell_type": "markdown",
   "id": "e164321e-6f18-4aec-8b53-aa219e1c4b78",
   "metadata": {},
   "source": [
    "retain entries with only non-missing targets"
   ]
  },
  {
   "cell_type": "code",
   "execution_count": null,
   "id": "6009d4d9-5144-47b4-8744-9da22ad11dfb",
   "metadata": {},
   "outputs": [],
   "source": [
    "test_split = data.loc[test_ids]\n",
    "train_split = data.drop(test_ids)\n",
    "train_split.shape, test_split.shape"
   ]
  },
  {
   "cell_type": "code",
   "execution_count": null,
   "id": "115ed429-51b3-496c-a824-888accc2f1d8",
   "metadata": {},
   "outputs": [],
   "source": [
    "train_split = train_split.dropna(subset=[TARGET])\n",
    "test_split = test_split.dropna(subset=[TARGET])\n",
    "train_split.shape, test_split.shape"
   ]
  },
  {
   "cell_type": "code",
   "execution_count": null,
   "id": "d5b609a4-dd57-49da-bd62-c8350b582ec3",
   "metadata": {},
   "outputs": [],
   "source": [
    "# def find_unique(df:pd.DataFrame) -> pd.Index:\n",
    "#     drop_cols = df.describe(include='all').loc['unique'] == 1\n",
    "#     drop_cols = df.columns[drop_cols]\n",
    "#     return drop_cols\n",
    "\n",
    "# drop_cols = find_unique(test_split)\n",
    "# test_split[drop_cols].describe(include='all') if not test_split[drop_cols].empty else \"None\""
   ]
  },
  {
   "cell_type": "code",
   "execution_count": null,
   "id": "f689a059-758a-412d-90d0-d6fe3cb51ca7",
   "metadata": {},
   "outputs": [],
   "source": [
    "# drop_cols = find_unique(train_split)\n",
    "# train_split[drop_cols].describe(include='all') if not train_split[drop_cols].empty else \"None\""
   ]
  },
  {
   "cell_type": "code",
   "execution_count": null,
   "id": "86c77835-3858-485f-bfd3-f5cefc1be5f4",
   "metadata": {},
   "outputs": [],
   "source": [
    "# test_split = test_split.drop(drop_cols, axis=1)\n",
    "# train_split = train_split.drop(drop_cols, axis=1)"
   ]
  },
  {
   "cell_type": "markdown",
   "id": "345513bb-fb75-4930-b8c2-114be2101af1",
   "metadata": {},
   "source": [
    "## Create Report"
   ]
  },
  {
   "cell_type": "code",
   "execution_count": null,
   "id": "95ffa8d1-6d50-4da9-a667-1b0158106a72",
   "metadata": {},
   "outputs": [],
   "source": [
    "sweetviz_report = sweetviz.compare([train_split, 'training data'],\n",
    "                                   [test_split, 'test data'],\n",
    "                                   target_feat=TARGET,\n",
    "                                   pairwise_analysis='off')\n",
    "sweetviz_report.show_html(filepath=FOLDER / f'{name_report}.html')"
   ]
  }
 ],
 "metadata": {
  "kernelspec": {
   "display_name": "Python 3 (ipykernel)",
   "language": "python",
   "name": "python3"
  },
  "language_info": {
   "codemirror_mode": {
    "name": "ipython",
    "version": 3
   },
   "file_extension": ".py",
   "mimetype": "text/x-python",
   "name": "python",
   "nbconvert_exporter": "python",
   "pygments_lexer": "ipython3",
   "version": "3.10.4"
  }
 },
 "nbformat": 4,
 "nbformat_minor": 5
}
