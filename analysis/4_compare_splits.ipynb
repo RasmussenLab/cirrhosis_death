{
 "cells": [
  {
   "cell_type": "markdown",
   "id": "17ebadbe-05fb-402f-8b9b-6c1480dba09d",
   "metadata": {
    "tags": []
   },
   "source": [
    "# Compare data splits\n",
    "\n",
    "- compare two data splits by a binary target variable"
   ]
  },
  {
   "cell_type": "code",
   "execution_count": null,
   "id": "0c68accd-5a13-4cab-820f-7617a495f144",
   "metadata": {},
   "outputs": [],
   "source": [
    "from pathlib import Path\n",
    "import pandas as pd\n",
    "import sweetviz\n",
    "\n",
    "import src\n",
    "\n",
    "import config"
   ]
  },
  {
   "cell_type": "markdown",
   "id": "656d1380-0566-446e-9bad-74873d7d484d",
   "metadata": {},
   "source": [
    "## Parameters"
   ]
  },
  {
   "cell_type": "code",
   "execution_count": null,
   "id": "921ec00e-7791-4ca6-ab3a-2c6a694a4d16",
   "metadata": {
    "tags": [
     "parameters"
    ]
   },
   "outputs": [],
   "source": [
    "fname_pkl_train = config.fname_pkl_clinic\n",
    "fname_pkl_val = config.fname_pkl_val_clinic\n",
    "\n",
    "TARGET = 'liverDead090infl'\n",
    "FOLDER = ''\n",
    "\n",
    "name_report = 'train_val_comparison'"
   ]
  },
  {
   "cell_type": "code",
   "execution_count": null,
   "id": "e0545baa-4dcd-4829-8615-664157b1cd9d",
   "metadata": {},
   "outputs": [],
   "source": [
    "if not FOLDER:\n",
    "    FOLDER = Path(config.folder_reports) / TARGET\n",
    "    FOLDER.mkdir(exist_ok=True)\n",
    "else:\n",
    "    FOLDER = Path(FOLDER)"
   ]
  },
  {
   "cell_type": "markdown",
   "id": "5a843818-3c14-457c-be17-a7302173d838",
   "metadata": {},
   "source": [
    "## Read data"
   ]
  },
  {
   "cell_type": "code",
   "execution_count": null,
   "id": "36f99b5c-30c6-4a3e-b4e2-1cb186404261",
   "metadata": {},
   "outputs": [],
   "source": [
    "train_split = pd.read_pickle(fname_pkl_train)\n",
    "cols_train = src.pandas.get_colums_accessor(train_split)\n",
    "\n",
    "val_split = pd.read_pickle(fname_pkl_val)"
   ]
  },
  {
   "cell_type": "markdown",
   "id": "e164321e-6f18-4aec-8b53-aa219e1c4b78",
   "metadata": {},
   "source": [
    "retain entries with only non-missing targets"
   ]
  },
  {
   "cell_type": "code",
   "execution_count": null,
   "id": "115ed429-51b3-496c-a824-888accc2f1d8",
   "metadata": {},
   "outputs": [],
   "source": [
    "train_split = train_split.dropna(subset=[TARGET])\n",
    "val_split = val_split.dropna(subset=[TARGET])"
   ]
  },
  {
   "cell_type": "markdown",
   "id": "345513bb-fb75-4930-b8c2-114be2101af1",
   "metadata": {},
   "source": [
    "## Create Report"
   ]
  },
  {
   "cell_type": "code",
   "execution_count": null,
   "id": "95ffa8d1-6d50-4da9-a667-1b0158106a72",
   "metadata": {},
   "outputs": [],
   "source": [
    "sweetviz_report = sweetviz.compare([train_split, 'training data'],\n",
    "                                   [val_split, 'validation data'],\n",
    "                                   target_feat=TARGET,\n",
    "                                   pairwise_analysis='off')\n",
    "sweetviz_report.show_html(filepath=FOLDER / f'{name_report}.html')"
   ]
  }
 ],
 "metadata": {
  "kernelspec": {
   "display_name": "Python 3 (ipykernel)",
   "language": "python",
   "name": "python3"
  },
  "language_info": {
   "codemirror_mode": {
    "name": "ipython",
    "version": 3
   },
   "file_extension": ".py",
   "mimetype": "text/x-python",
   "name": "python",
   "nbconvert_exporter": "python",
   "pygments_lexer": "ipython3",
   "version": "3.10.4"
  }
 },
 "nbformat": 4,
 "nbformat_minor": 5
}
