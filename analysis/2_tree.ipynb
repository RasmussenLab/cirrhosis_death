{
 "cells": [
  {
   "cell_type": "markdown",
   "id": "009237bc-8515-4462-8bad-1519988e9d03",
   "metadata": {},
   "source": [
    "# Decision Tree"
   ]
  },
  {
   "cell_type": "code",
   "execution_count": null,
   "id": "f6fc6a1a-7729-44be-9256-80267ddd262f",
   "metadata": {},
   "outputs": [],
   "source": [
    "from pathlib import Path\n",
    "\n",
    "import numpy as np\n",
    "import pandas as pd\n",
    "\n",
    "import pingouin as pg\n",
    "\n",
    "import matplotlib.pyplot as plt\n",
    "import seaborn\n",
    "\n",
    "import sklearn\n",
    "import sklearn.impute\n",
    "import sklearn.tree\n",
    "\n",
    "import src.stats\n",
    "from src.sklearn import transform_DataFrame\n",
    "from src.plotting.metrics import plot_split_prc\n",
    "\n",
    "import config"
   ]
  },
  {
   "cell_type": "markdown",
   "id": "3bc519ff-7baa-43bd-995b-d4086b2ee053",
   "metadata": {},
   "source": [
    "# Set parameters"
   ]
  },
  {
   "cell_type": "code",
   "execution_count": null,
   "id": "9f219780-d079-4207-85db-f3864e13f4be",
   "metadata": {
    "tags": [
     "parameters"
    ]
   },
   "outputs": [],
   "source": [
    "TARGET = 'dead090infl'\n",
    "TARGET = 'hasLiverAdm90'\n",
    "FOLDER = ''"
   ]
  },
  {
   "cell_type": "code",
   "execution_count": null,
   "id": "0a9b873d-32fb-4c90-93d3-6874a1ada3b7",
   "metadata": {},
   "outputs": [],
   "source": [
    "if not FOLDER:\n",
    "    FOLDER = Path(config.folder_reports) / TARGET\n",
    "    FOLDER.mkdir(exist_ok=True, parents=True)"
   ]
  },
  {
   "cell_type": "code",
   "execution_count": null,
   "id": "341eef07-5a9b-4ea4-b1f2-6af4437b60c7",
   "metadata": {},
   "outputs": [],
   "source": [
    "clinic = pd.read_pickle(config.fname_pkl_clinic)\n",
    "cols_clinic = src.pandas.get_colums_accessor(clinic)\n",
    "olink = pd.read_pickle(config.fname_pkl_olink)"
   ]
  },
  {
   "cell_type": "code",
   "execution_count": null,
   "id": "fd58af6e-1fd6-4672-b7a8-6a67091a3f1a",
   "metadata": {},
   "outputs": [],
   "source": [
    "pd.crosstab(clinic.DiagnosisPlace, clinic.dead)"
   ]
  },
  {
   "cell_type": "markdown",
   "id": "710c4561-81e4-4797-969a-068272a657b2",
   "metadata": {},
   "source": [
    "FirstAdmission is also right-censored"
   ]
  },
  {
   "cell_type": "code",
   "execution_count": null,
   "id": "f06fda17-7850-4809-8315-2026cd6c0582",
   "metadata": {},
   "outputs": [],
   "source": [
    "time_from_diagnose_to_first_admission = clinic[\"DateFirstAdmission\"].fillna(\n",
    "    config.STUDY_ENDDATE) - clinic[\"DateDiagnose\"]\n",
    "time_from_diagnose_to_first_admission.describe()"
   ]
  },
  {
   "cell_type": "markdown",
   "id": "d40445d2-7fc1-4276-a664-ab0e57550449",
   "metadata": {},
   "source": [
    "Who dies without having a first Admission date?"
   ]
  },
  {
   "cell_type": "code",
   "execution_count": null,
   "id": "007acbff-2ad2-48dc-b8ea-bb4bc52490b2",
   "metadata": {},
   "outputs": [],
   "source": [
    "dead_wo_adm = clinic[\"DateFirstAdmission\"].isna() & clinic['dead']\n",
    "idx_dead_wo_adm = dead_wo_adm.loc[dead_wo_adm].index\n",
    "print('Dead without admission to hospital:',\n",
    "      *dead_wo_adm.loc[dead_wo_adm].index)\n",
    "clinic.loc[dead_wo_adm, [\"DateFirstAdmission\", \"DateDiagnose\"]]"
   ]
  },
  {
   "cell_type": "markdown",
   "id": "aaf7da39-7c4e-487e-a56d-9fe0b9275907",
   "metadata": {},
   "source": [
    "# Differences between groups defined by target"
   ]
  },
  {
   "cell_type": "code",
   "execution_count": null,
   "id": "3b2b578e-b753-41b0-922b-ea47b5501d22",
   "metadata": {},
   "outputs": [],
   "source": [
    "clinic"
   ]
  },
  {
   "cell_type": "code",
   "execution_count": null,
   "id": "2797c0c7-7168-4c09-8161-bdcc61e651ae",
   "metadata": {},
   "outputs": [],
   "source": [
    "clinic[TARGET].value_counts()"
   ]
  },
  {
   "cell_type": "code",
   "execution_count": null,
   "id": "57c4cc37-9313-4896-8a9e-18eaa19b6fbf",
   "metadata": {},
   "outputs": [],
   "source": [
    "pd.crosstab(clinic[TARGET], clinic[\"DecomensatedAtDiagnosis\"])"
   ]
  },
  {
   "cell_type": "code",
   "execution_count": null,
   "id": "2fcbabf3-1d89-44af-b693-e776b687cb63",
   "metadata": {},
   "outputs": [],
   "source": [
    "y = clinic[TARGET].astype(bool)"
   ]
  },
  {
   "cell_type": "code",
   "execution_count": null,
   "id": "d42bb805-3400-4e1b-b959-931f7a0cfee0",
   "metadata": {},
   "outputs": [],
   "source": [
    "y"
   ]
  },
  {
   "cell_type": "markdown",
   "id": "b6bb3228-0829-4ede-964b-7239591ed927",
   "metadata": {},
   "source": [
    "## All Features"
   ]
  },
  {
   "cell_type": "code",
   "execution_count": null,
   "id": "f17eb72e-ba8c-4cc1-86bc-2108d3a0bc96",
   "metadata": {},
   "outputs": [],
   "source": [
    "clinic.dtypes.value_counts()"
   ]
  },
  {
   "cell_type": "code",
   "execution_count": null,
   "id": "29131549-0667-40a8-95b7-3874a7ee3631",
   "metadata": {},
   "outputs": [],
   "source": [
    "X = (olink\n",
    "     .join(clinic[config.clinic_data.vars_cont])\n",
    "     .join(clinic[config.clinic_data.comorbidities].astype('object').replace({'Yes': 1, 'No': 0, 'yes': 1, 'no': 0}))\n",
    "    )"
   ]
  },
  {
   "cell_type": "code",
   "execution_count": null,
   "id": "8efb8f4e-6816-445f-a613-d4a06ad13a38",
   "metadata": {},
   "outputs": [],
   "source": [
    "feat_w_missings = X.isna().sum()\n",
    "feat_w_missings = feat_w_missings.loc[feat_w_missings > 0]\n",
    "feat_w_missings"
   ]
  },
  {
   "cell_type": "code",
   "execution_count": null,
   "id": "a858fda3-c8e9-450d-950f-987d81573636",
   "metadata": {},
   "outputs": [],
   "source": [
    "median_imputer = sklearn.impute.SimpleImputer(strategy='median')\n",
    "X = transform_DataFrame(X, median_imputer.fit_transform)"
   ]
  },
  {
   "cell_type": "markdown",
   "id": "050bf2bd-22ed-47d3-ad35-00c1547c15b8",
   "metadata": {},
   "source": [
    "## DecisionTreeClassifier\n",
    "\n",
    "- Documentation for [DecisionTreeClassifier](https://scikit-learn.org/stable/modules/generated/sklearn.tree.DecisionTreeClassifier.html?highlight=decisiontree#sklearn.tree.DecisionTreeClassifier)\n",
    "- `gini`: weighted probab\n",
    "- `log_loss`: as in Logistic Regression (binary entropy)"
   ]
  },
  {
   "cell_type": "code",
   "execution_count": null,
   "id": "174c53fa-6b2f-4806-8743-863b5916a570",
   "metadata": {},
   "outputs": [],
   "source": [
    "clf = sklearn.tree.DecisionTreeClassifier(criterion='log_loss',\n",
    "                                          max_depth=3,\n",
    "                                          min_samples_leaf=1,\n",
    "                                          # min_samples_split=4,\n",
    "                                          max_features=X.shape[-1]\n",
    "                                         )\n",
    "clf = clf.fit(X, y)\n",
    "\n",
    "# rerunning this shows differences in deeper nodes\n",
    "fig, ax = plt.subplots()\n",
    "nodes = sklearn.tree.plot_tree(clf,\n",
    "                               feature_names=X.columns,\n",
    "                               class_names=[\"False\", \"True\", \"none\"],\n",
    "                               filled=True,\n",
    "                               ax=ax)\n",
    "fig.tight_layout()\n",
    "fig.savefig(FOLDER / '2_decision_tree.pdf')"
   ]
  },
  {
   "cell_type": "code",
   "execution_count": null,
   "id": "476206b6-0f78-40a6-a034-a14e6761b628",
   "metadata": {},
   "outputs": [],
   "source": [
    "results_train = src.sklearn.get_results_split(clf, X, y)\n",
    "fig, ax = plt.subplots(1, 1, figsize=None)\n",
    "ax = plot_split_prc(results_train, 'Decision Tree', ax)"
   ]
  },
  {
   "cell_type": "markdown",
   "id": "82b1cecd-9e18-46e0-a3ac-376fffbee681",
   "metadata": {},
   "source": [
    "- [ ] olink data only\n",
    "- [ ] clinial data only\n",
    "- [ ] laboratory (biochemistry) only?"
   ]
  }
 ],
 "metadata": {
  "kernelspec": {
   "display_name": "Python 3 (ipykernel)",
   "language": "python",
   "name": "python3"
  },
  "language_info": {
   "codemirror_mode": {
    "name": "ipython",
    "version": 3
   },
   "file_extension": ".py",
   "mimetype": "text/x-python",
   "name": "python",
   "nbconvert_exporter": "python",
   "pygments_lexer": "ipython3",
   "version": "3.10.4"
  }
 },
 "nbformat": 4,
 "nbformat_minor": 5
}
