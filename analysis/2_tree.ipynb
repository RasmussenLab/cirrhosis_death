{
 "cells": [
  {
   "cell_type": "markdown",
   "id": "009237bc-8515-4462-8bad-1519988e9d03",
   "metadata": {},
   "source": [
    "# Decision Tree"
   ]
  },
  {
   "cell_type": "code",
   "execution_count": null,
   "id": "f6fc6a1a-7729-44be-9256-80267ddd262f",
   "metadata": {},
   "outputs": [],
   "source": [
    "import logging\n",
    "from pathlib import Path\n",
    "from typing import Union\n",
    "\n",
    "import numpy as np\n",
    "import pandas as pd\n",
    "\n",
    "import pingouin as pg\n",
    "\n",
    "import matplotlib.pyplot as plt\n",
    "import seaborn\n",
    "\n",
    "import sklearn\n",
    "import sklearn.impute\n",
    "import sklearn.tree\n",
    "\n",
    "import src.pandas\n",
    "\n",
    "from njab.plotting.metrics import plot_split_prc\n",
    "\n",
    "import njab.sklearn\n",
    "from njab.sklearn import transform_DataFrame\n",
    "from njab.sklearn.scoring import ConfusionMatrix\n",
    "\n",
    "import config"
   ]
  },
  {
   "cell_type": "markdown",
   "id": "3bc519ff-7baa-43bd-995b-d4086b2ee053",
   "metadata": {},
   "source": [
    "# Set parameters"
   ]
  },
  {
   "cell_type": "code",
   "execution_count": null,
   "id": "9f219780-d079-4207-85db-f3864e13f4be",
   "metadata": {
    "tags": [
     "parameters"
    ]
   },
   "outputs": [],
   "source": [
    "TARGET: str = 'hasLiverAdm180'  # target column in CLINIC data\n",
    "CLINIC: Path = config.fname_pkl_prodoc_clinic  # clinic numeric pickled, can contain missing\n",
    "feat_clinic: list = config.clinic_data.comorbidities + config.clinic_data.vars_cont  # ToDo: make string\n",
    "OLINK: Path = config.fname_pkl_prodoc_olink  # olink numeric pickled, can contain missing\n",
    "VAL_IDS: str = ''  #\n",
    "use_val_split = True\n",
    "FOLDER = ''"
   ]
  },
  {
   "cell_type": "code",
   "execution_count": null,
   "id": "b78eebaa-173e-4fb0-9663-9cf3d8ceec51",
   "metadata": {},
   "outputs": [],
   "source": [
    "# TARGET = 'hasLiverAdm90'\n",
    "# VAL_IDS = '10129902,10146789,10146791,10146795,10146796,10146799,10146800,10146809,10146811,10146812,10146814,10146818,10146819,10146821,10146823,10146824,10146825,10146826,10146827,10146828,10146830,10146831,10146838,10146839,10146842,10146843,10146844,10146850,10146851'"
   ]
  },
  {
   "cell_type": "markdown",
   "id": "150f174b-1086-464b-999a-4317bb8549df",
   "metadata": {},
   "source": [
    "set output folder"
   ]
  },
  {
   "cell_type": "code",
   "execution_count": null,
   "id": "0a9b873d-32fb-4c90-93d3-6874a1ada3b7",
   "metadata": {},
   "outputs": [],
   "source": [
    "if not FOLDER:\n",
    "    FOLDER = Path(config.folder_reports) / TARGET\n",
    "    FOLDER.mkdir(exist_ok=True, parents=True)\n",
    "FOLDER"
   ]
  },
  {
   "cell_type": "markdown",
   "id": "1759bcbd-0ab5-4773-88ff-2aaa15a7b219",
   "metadata": {},
   "source": [
    "Load data"
   ]
  },
  {
   "cell_type": "code",
   "execution_count": null,
   "id": "341eef07-5a9b-4ea4-b1f2-6af4437b60c7",
   "metadata": {},
   "outputs": [],
   "source": [
    "clinic = pd.read_pickle(CLINIC)\n",
    "cols_clinic = src.pandas.get_colums_accessor(clinic)\n",
    "olink = pd.read_pickle(OLINK)"
   ]
  },
  {
   "cell_type": "markdown",
   "id": "aaf7da39-7c4e-487e-a56d-9fe0b9275907",
   "metadata": {
    "tags": []
   },
   "source": [
    "# Differences between groups defined by target"
   ]
  },
  {
   "cell_type": "code",
   "execution_count": null,
   "id": "3b2b578e-b753-41b0-922b-ea47b5501d22",
   "metadata": {},
   "outputs": [],
   "source": [
    "clinic"
   ]
  },
  {
   "cell_type": "code",
   "execution_count": null,
   "id": "2797c0c7-7168-4c09-8161-bdcc61e651ae",
   "metadata": {},
   "outputs": [],
   "source": [
    "target_counts = clinic[TARGET].value_counts()\n",
    "\n",
    "if target_counts.sum() < len(clinic):\n",
    "    print(\n",
    "        f\"Target has missing values. Can only use {target_counts.sum()} of {len(clinic)} samples.\"\n",
    "    )\n",
    "    mask = clinic[TARGET].notna()\n",
    "    clinic, olink = clinic.loc[mask], olink.loc[mask]\n",
    "\n",
    "target_counts"
   ]
  },
  {
   "cell_type": "code",
   "execution_count": null,
   "id": "57c4cc37-9313-4896-8a9e-18eaa19b6fbf",
   "metadata": {},
   "outputs": [],
   "source": [
    "pd.crosstab(clinic[TARGET], clinic[\"DecomensatedAtDiagnosis\"])"
   ]
  },
  {
   "cell_type": "code",
   "execution_count": null,
   "id": "2fcbabf3-1d89-44af-b693-e776b687cb63",
   "metadata": {},
   "outputs": [],
   "source": [
    "y = clinic[TARGET].astype(int)  # NA is encoded as False for boolean type"
   ]
  },
  {
   "cell_type": "code",
   "execution_count": null,
   "id": "d42bb805-3400-4e1b-b959-931f7a0cfee0",
   "metadata": {
    "tags": []
   },
   "outputs": [],
   "source": [
    "y"
   ]
  },
  {
   "cell_type": "markdown",
   "id": "54aec564-47ea-498a-9560-b122674bfb3a",
   "metadata": {},
   "source": [
    "# Data Splits"
   ]
  },
  {
   "cell_type": "code",
   "execution_count": null,
   "id": "509d44c1-af5a-47b2-a4aa-b9dbb1713561",
   "metadata": {},
   "outputs": [],
   "source": [
    "olink_val, clinic_val = None, None\n",
    "if use_val_split:\n",
    "    if not VAL_IDS:\n",
    "        logging.warning(\"Create train and test split.\")\n",
    "        _, VAL_IDS = sklearn.model_selection.train_test_split(\n",
    "            clinic.index,\n",
    "            test_size=0.2,\n",
    "            random_state=123,\n",
    "            stratify=clinic[TARGET])\n",
    "        VAL_IDS = list(VAL_IDS)\n",
    "    elif isinstance(VAL_IDS, str):\n",
    "        VAL_IDS = VAL_IDS.split(\",\")\n",
    "    else:\n",
    "        raise ValueError(\"Provide IDs in csv format as str: 'ID1,ID2'\")\n",
    "VAL_IDS"
   ]
  },
  {
   "cell_type": "code",
   "execution_count": null,
   "id": "0506f86b-c946-4e37-acae-ca4e484a816d",
   "metadata": {},
   "outputs": [],
   "source": [
    "if VAL_IDS:\n",
    "    diff = pd.Index(VAL_IDS)\n",
    "    VAL_IDS = clinic.index.intersection(VAL_IDS)\n",
    "    if len(diff) < len(VAL_IDS):\n",
    "        logging.warning(\"Some requested validation IDs are not in the data: \"\n",
    "                        \",\".join(str(x) for x in diff.difference(VAL_IDS)))\n",
    "    olink_val = olink.loc[VAL_IDS]\n",
    "    olink = olink.drop(VAL_IDS)\n",
    "    #\n",
    "    clinic_val = clinic.loc[VAL_IDS]\n",
    "    clinic = clinic.drop(VAL_IDS)\n",
    "    use_val_split = True\n",
    "\n",
    "    y_val = y.loc[VAL_IDS]\n",
    "    y = y.drop(VAL_IDS)"
   ]
  },
  {
   "cell_type": "code",
   "execution_count": null,
   "id": "fd58af6e-1fd6-4672-b7a8-6a67091a3f1a",
   "metadata": {},
   "outputs": [],
   "source": [
    "pd.crosstab(clinic.DiagnosisPlace, clinic.dead)"
   ]
  },
  {
   "cell_type": "markdown",
   "id": "710c4561-81e4-4797-969a-068272a657b2",
   "metadata": {},
   "source": [
    "FirstAdmission is also right-censored"
   ]
  },
  {
   "cell_type": "code",
   "execution_count": null,
   "id": "f06fda17-7850-4809-8315-2026cd6c0582",
   "metadata": {},
   "outputs": [],
   "source": [
    "# move somewhere else\n",
    "time_from_diagnose_to_first_admission = clinic[\"DateFirstAdmission\"].fillna(\n",
    "    config.STUDY_ENDDATE) - clinic[\"DateDiagnose\"]\n",
    "time_from_diagnose_to_first_admission.describe()"
   ]
  },
  {
   "cell_type": "markdown",
   "id": "d40445d2-7fc1-4276-a664-ab0e57550449",
   "metadata": {},
   "source": [
    "Who dies without having a first Admission date?"
   ]
  },
  {
   "cell_type": "code",
   "execution_count": null,
   "id": "007acbff-2ad2-48dc-b8ea-bb4bc52490b2",
   "metadata": {},
   "outputs": [],
   "source": [
    "dead_wo_adm = clinic[\"DateFirstAdmission\"].isna() & clinic['dead']\n",
    "idx_dead_wo_adm = dead_wo_adm.loc[dead_wo_adm].index\n",
    "print('Dead without admission to hospital:',\n",
    "      *dead_wo_adm.loc[dead_wo_adm].index)\n",
    "clinic.loc[dead_wo_adm, [\"DateFirstAdmission\", \"DateDiagnose\"]]"
   ]
  },
  {
   "cell_type": "markdown",
   "id": "b6bb3228-0829-4ede-964b-7239591ed927",
   "metadata": {},
   "source": [
    "# Prepare all Features"
   ]
  },
  {
   "cell_type": "code",
   "execution_count": null,
   "id": "f17eb72e-ba8c-4cc1-86bc-2108d3a0bc96",
   "metadata": {},
   "outputs": [],
   "source": [
    "clinic.dtypes.value_counts()"
   ]
  },
  {
   "cell_type": "code",
   "execution_count": null,
   "id": "29131549-0667-40a8-95b7-3874a7ee3631",
   "metadata": {},
   "outputs": [],
   "source": [
    "# ToDo move part of this to pre-processing\n",
    "X = (olink.join(clinic[config.clinic_data.vars_cont]).join(\n",
    "    clinic[config.clinic_data.comorbidities].astype('object').replace({\n",
    "        'Yes': 1,\n",
    "        'No': 0,\n",
    "        'yes': 1,\n",
    "        'no': 0\n",
    "    })))"
   ]
  },
  {
   "cell_type": "code",
   "execution_count": null,
   "id": "8efb8f4e-6816-445f-a613-d4a06ad13a38",
   "metadata": {},
   "outputs": [],
   "source": [
    "feat_w_missings = X.isna().sum()\n",
    "feat_w_missings = feat_w_missings.loc[feat_w_missings > 0]\n",
    "feat_w_missings"
   ]
  },
  {
   "cell_type": "code",
   "execution_count": null,
   "id": "a858fda3-c8e9-450d-950f-987d81573636",
   "metadata": {},
   "outputs": [],
   "source": [
    "median_imputer = sklearn.impute.SimpleImputer(strategy='median')\n",
    "X = transform_DataFrame(X, median_imputer.fit_transform)"
   ]
  },
  {
   "cell_type": "markdown",
   "id": "050bf2bd-22ed-47d3-ad35-00c1547c15b8",
   "metadata": {},
   "source": [
    "# DecisionTreeClassifier - Clinic&Olink\n",
    "\n",
    "- Documentation for [DecisionTreeClassifier](https://scikit-learn.org/stable/modules/generated/sklearn.tree.DecisionTreeClassifier.html?highlight=decisiontree#sklearn.tree.DecisionTreeClassifier)\n",
    "- `gini`: weighted probab\n",
    "- `log_loss`: as in Logistic Regression (binary entropy)"
   ]
  },
  {
   "cell_type": "code",
   "execution_count": null,
   "id": "174c53fa-6b2f-4806-8743-863b5916a570",
   "metadata": {},
   "outputs": [],
   "source": [
    "clf = sklearn.tree.DecisionTreeClassifier(criterion='entropy',\n",
    "                                          max_depth=5,\n",
    "                                          min_samples_leaf=3,\n",
    "                                          min_samples_split=3,\n",
    "                                          max_features=X.shape[-1])\n",
    "clf = clf.fit(X, y)\n",
    "\n",
    "# rerunning this shows differences in deeper nodes\n",
    "fig, ax = plt.subplots()\n",
    "nodes = sklearn.tree.plot_tree(clf,\n",
    "                               feature_names=X.columns,\n",
    "                               class_names=[\"False\", \"True\", \"none\"],\n",
    "                               filled=True,\n",
    "                               ax=ax)\n",
    "fig.suptitle(f\"Decision tree for endpoint {TARGET}\")\n",
    "fig.tight_layout()\n",
    "fig.savefig(FOLDER / '2_decision_tree.pdf')"
   ]
  },
  {
   "cell_type": "code",
   "execution_count": null,
   "id": "60413671-c091-4273-b962-20ab8c2cfd89",
   "metadata": {},
   "outputs": [],
   "source": [
    "pred_train = clf.predict(X)\n",
    "ConfusionMatrix(y, pred_train).as_dataframe"
   ]
  },
  {
   "cell_type": "code",
   "execution_count": null,
   "id": "476206b6-0f78-40a6-a034-a14e6761b628",
   "metadata": {},
   "outputs": [],
   "source": [
    "results_train = njab.sklearn.get_results_split(y_true=y,\n",
    "                                               y_score=clf.predict_proba(X)[:,\n",
    "                                                                            1])\n",
    "fig, ax = plt.subplots(1, 1, figsize=None)\n",
    "ax = plot_split_prc(results_train, 'Decision Tree', ax)"
   ]
  },
  {
   "cell_type": "code",
   "execution_count": null,
   "id": "0c890162-0e31-4430-b9e1-bab751390b65",
   "metadata": {},
   "outputs": [],
   "source": [
    "feat_used = clf.feature_importances_ > 0.0\n",
    "feat_used = X.columns[feat_used]\n",
    "feat_used"
   ]
  },
  {
   "cell_type": "markdown",
   "id": "e2dc268b-45e2-42c2-a322-7e9da233f8d2",
   "metadata": {},
   "source": [
    "## Test split performance"
   ]
  },
  {
   "cell_type": "code",
   "execution_count": null,
   "id": "b209f130-250a-40ae-bdf3-a8f99c728961",
   "metadata": {},
   "outputs": [],
   "source": [
    "if olink_val is not None and clinic_val is not None:\n",
    "    X_val = (olink_val.join(clinic_val[config.clinic_data.vars_cont]).join(\n",
    "        clinic_val[config.clinic_data.comorbidities].astype('object').replace({\n",
    "            'Yes': 1,\n",
    "            'No': 0,\n",
    "            'yes': 1,\n",
    "            'no': 0\n",
    "        })))\n",
    "    display(X_val)"
   ]
  },
  {
   "cell_type": "code",
   "execution_count": null,
   "id": "2a88c0a7-cc55-43f3-bbfc-06baa0191d95",
   "metadata": {},
   "outputs": [],
   "source": [
    "if olink_val is not None and clinic_val is not None:\n",
    "    feat_w_missings = X_val.isna().sum()\n",
    "    feat_w_missings = feat_w_missings.loc[feat_w_missings > 0]\n",
    "    display(feat_w_missings)"
   ]
  },
  {
   "cell_type": "code",
   "execution_count": null,
   "id": "cdb27de6-68e5-46c5-b40b-2b5eaa103c21",
   "metadata": {},
   "outputs": [],
   "source": [
    "if olink_val is not None and clinic_val is not None:\n",
    "    X_val = transform_DataFrame(X_val, median_imputer.transform)\n",
    "    pred_val = clf.predict(X_val)\n",
    "    pred_val = pd.Series(pred_val, index=X_val.index)\n",
    "    score_val = pd.Series(clf.predict_proba(X_val)[:, 1], index=X_val.index)\n",
    "    display(ConfusionMatrix(y_val, pred_val).as_dataframe)"
   ]
  },
  {
   "cell_type": "code",
   "execution_count": null,
   "id": "230fee4d-86c1-47cf-a941-92d613875d76",
   "metadata": {},
   "outputs": [],
   "source": [
    "if olink_val is not None and clinic_val is not None:\n",
    "    out_val = pd.DataFrame({\n",
    "        'true': y_val,\n",
    "        'pred': pred_val,\n",
    "        'score': score_val\n",
    "    }).join(X_val[feat_used])\n",
    "    out_val = out_val.sort_values(by=['true', 'pred', 'score'], ascending=False)\n",
    "    display(out_val)"
   ]
  },
  {
   "cell_type": "markdown",
   "id": "f0ed4d7c-3e12-4046-9dd3-b844ba157839",
   "metadata": {},
   "source": [
    "# DecisionTreeClassifier - only Olink"
   ]
  },
  {
   "cell_type": "code",
   "execution_count": null,
   "id": "e0c35022-287e-4aec-b517-3c3e2fb7a01a",
   "metadata": {},
   "outputs": [],
   "source": [
    "def has_na(df: pd.DataFrame, axis=0, verbose=True) -> bool:\n",
    "    na_feat = df.isna().sum(axis=axis)\n",
    "    na_feat = na_feat[na_feat > 0]\n",
    "    has_na = not na_feat.empty\n",
    "    if has_na and verbose:\n",
    "        display(na_feat)\n",
    "    return has_na\n",
    "\n",
    "\n",
    "has_na(olink)"
   ]
  },
  {
   "cell_type": "code",
   "execution_count": null,
   "id": "4218a7d9-cb6e-4a72-9b59-24137c3f3229",
   "metadata": {},
   "outputs": [],
   "source": [
    "median_imputer = sklearn.impute.SimpleImputer(strategy='median').fit(olink)\n",
    "if has_na(olink, verbose=False):\n",
    "    olink = transform_DataFrame(olink, median_imputer.transform)\n",
    "if olink_val is not None and has_na(\n",
    "        olink_val):  # second term should only be evaluted if first one is True\n",
    "    olink_val = transform_DataFrame(olink_val, median_imputer.transform)"
   ]
  },
  {
   "cell_type": "code",
   "execution_count": null,
   "id": "a5b51b2a-d810-45db-8d16-1cced5aedcb9",
   "metadata": {},
   "outputs": [],
   "source": [
    "X = olink\n",
    "X_val = olink_val"
   ]
  },
  {
   "cell_type": "code",
   "execution_count": null,
   "id": "35dff57d-7419-486e-b7fd-d949f972a750",
   "metadata": {},
   "outputs": [],
   "source": [
    "clf = sklearn.tree.DecisionTreeClassifier(criterion='entropy',\n",
    "                                          max_depth=5,\n",
    "                                          min_samples_leaf=3,\n",
    "                                          min_samples_split=3,\n",
    "                                          max_features=None)\n",
    "clf = clf.fit(X, y)\n",
    "\n",
    "fig, ax = plt.subplots()\n",
    "nodes = sklearn.tree.plot_tree(clf,\n",
    "                               feature_names=X.columns,\n",
    "                               class_names=[\"False\", \"True\", \"none\"],\n",
    "                               filled=True,\n",
    "                               ax=ax)\n",
    "fig.suptitle(f\"Decision tree for endpoint {TARGET}\", fontsize='xx-large')\n",
    "fig.tight_layout()\n",
    "fig.savefig(FOLDER / '2_decision_tree_olink_only.pdf')"
   ]
  },
  {
   "cell_type": "code",
   "execution_count": null,
   "id": "d23267be-1ef4-45b9-95b9-4534c0659194",
   "metadata": {},
   "outputs": [],
   "source": [
    "feat_used = clf.feature_importances_ > 0.0\n",
    "feat_used = X.columns[feat_used]\n",
    "feat_used"
   ]
  },
  {
   "cell_type": "code",
   "execution_count": null,
   "id": "f3e5d15e-c9ad-40dd-aa82-3b1adb34df3a",
   "metadata": {},
   "outputs": [],
   "source": [
    "if X_val is not None:\n",
    "    pred_val = clf.predict(X_val)\n",
    "    pred_val = pd.Series(pred_val, index=X_val.index)\n",
    "    score_val = pd.Series(clf.predict_proba(X_val)[:, 1], index=X_val.index)\n",
    "    display(ConfusionMatrix(y_val, pred_val).as_dataframe)"
   ]
  },
  {
   "cell_type": "code",
   "execution_count": null,
   "id": "6511c71c-9ebc-4a64-960d-236bee1f1225",
   "metadata": {},
   "outputs": [],
   "source": [
    "if X_val is not None:\n",
    "    out_val = pd.DataFrame({\n",
    "        'true': y_val,\n",
    "        'pred': pred_val,\n",
    "        'score': score_val\n",
    "    }).join(X_val[feat_used])\n",
    "    out_val = out_val.sort_values(by=['true', 'pred', 'score'], ascending=False)\n",
    "    display(out_val)"
   ]
  },
  {
   "cell_type": "markdown",
   "id": "82b1cecd-9e18-46e0-a3ac-376fffbee681",
   "metadata": {},
   "source": [
    "- [x] olink data only\n",
    "- [ ] clinial data only\n",
    "- [ ] laboratory (biochemistry) only?"
   ]
  },
  {
   "cell_type": "code",
   "execution_count": null,
   "id": "416f9be3-ccb9-4bb0-b1d1-a04b68cb86a7",
   "metadata": {},
   "outputs": [],
   "source": []
  }
 ],
 "metadata": {
  "kernelspec": {
   "display_name": "Python 3 (ipykernel)",
   "language": "python",
   "name": "python3"
  },
  "language_info": {
   "codemirror_mode": {
    "name": "ipython",
    "version": 3
   },
   "file_extension": ".py",
   "mimetype": "text/x-python",
   "name": "python",
   "nbconvert_exporter": "python",
   "pygments_lexer": "ipython3",
   "version": "3.10.4"
  },
  "vscode": {
   "interpreter": {
    "hash": "4a7cb36f33b5487d941f082aa821b72e5ffcd123aba4697c50d4e81e1a75fb3c"
   }
  }
 },
 "nbformat": 4,
 "nbformat_minor": 5
}
