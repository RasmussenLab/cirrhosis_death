{
 "cells": [
  {
   "cell_type": "markdown",
   "id": "bc13abfb",
   "metadata": {},
   "source": [
    "# Raw Data\n",
    "\n",
    "- prepare OLink and clinical data\n",
    "- create views on data\n",
    "- create targets: \n",
    "    \n",
    "event | next 90 days | next 180 days |\n",
    "--- | --- | --- |\n",
    "death | `dead90` | `dead180` | \n",
    "admission to hospital | `adm90`  | `adm180` |\n",
    "    \n",
    "all cases within 90 days will be included into the 180 days, from `incl`usion and from `infl`ammation sample time."
   ]
  },
  {
   "cell_type": "code",
   "execution_count": null,
   "id": "abadd8f7",
   "metadata": {},
   "outputs": [],
   "source": [
    "import datetime\n",
    "from pathlib import Path\n",
    "\n",
    "import matplotlib.pyplot as plt\n",
    "import pandas as pd\n",
    "import numpy as np\n",
    "\n",
    "import seaborn as sns\n",
    "\n",
    "from lifelines import KaplanMeierFitter\n",
    "\n",
    "import src\n",
    "\n",
    "import config"
   ]
  },
  {
   "cell_type": "code",
   "execution_count": null,
   "id": "0335b521-16cb-4d5c-947b-df76af576105",
   "metadata": {},
   "outputs": [],
   "source": [
    "DATA_FOLDER = Path(config.data)\n",
    "DATA_PROCESSED = Path(config.data_processed)\n",
    "FOLDER_REPORTS = Path(config.folder_reports)\n",
    "list(DATA_FOLDER.iterdir())\n",
    "\n",
    "config.STUDY_ENDDATE"
   ]
  },
  {
   "cell_type": "code",
   "execution_count": null,
   "id": "b033fcc4-9162-485a-bdee-995129fb48b4",
   "metadata": {},
   "outputs": [],
   "source": [
    "DATA_CLINIC = DATA_FOLDER / 'DataSheet - fewer variables_2022-09-28.xlsx'\n",
    "DATA_META = DATA_FOLDER / 'data_sheets.xlsx'\n",
    "DATA_OLINK = DATA_FOLDER / 'QC_OlinkProD_wide.tsv'"
   ]
  },
  {
   "cell_type": "markdown",
   "id": "42622119-aa21-4f10-bd8b-8bbe4ca17872",
   "metadata": {},
   "source": [
    "Load sheet `rename` from meta data and rename specified columns"
   ]
  },
  {
   "cell_type": "code",
   "execution_count": null,
   "id": "267081c0-046e-4421-b10c-fb527ef5e9a8",
   "metadata": {},
   "outputs": [],
   "source": [
    "to_rename = pd.read_excel(DATA_META, sheet_name='rename', header=None, index_col=0).to_dict()[1]\n",
    "to_rename"
   ]
  },
  {
   "cell_type": "markdown",
   "id": "a6084f07-be9f-45c3-bb88-5600e37d4820",
   "metadata": {},
   "source": [
    "Load clinical data"
   ]
  },
  {
   "cell_type": "code",
   "execution_count": null,
   "id": "c17d7c65-91e3-4e5f-b8a4-dff22073cae5",
   "metadata": {},
   "outputs": [],
   "source": [
    "clinic = pd.read_excel(DATA_CLINIC).rename(columns=to_rename)\n",
    "clinic.SampleID = clinic.SampleID.str.replace(' ', '')\n",
    "cols_clinic = src.pandas.get_colums_accessor(clinic)\n",
    "clinic = clinic.set_index('SampleID').sort_index()"
   ]
  },
  {
   "cell_type": "code",
   "execution_count": null,
   "id": "dee7c0c2-955d-4548-a461-93637ef95276",
   "metadata": {},
   "outputs": [],
   "source": [
    "# clinic\n",
    "clinic.describe(datetime_is_numeric=True, include='all')"
   ]
  },
  {
   "cell_type": "code",
   "execution_count": null,
   "id": "41f4bd8c-0023-4900-9753-15ae71183023",
   "metadata": {},
   "outputs": [],
   "source": [
    "olink = pd.read_table(DATA_OLINK)\n",
    "olink = olink.set_index(olink.SampleID.str[4:]).sort_index()\n",
    "cols_olink = src.pandas.get_colums_accessor(olink)"
   ]
  },
  {
   "cell_type": "code",
   "execution_count": null,
   "id": "c26747cb-b148-4832-8fad-bb21fca6eed6",
   "metadata": {},
   "outputs": [],
   "source": [
    "# olink\n",
    "olink.describe(datetime_is_numeric=True, include='all')"
   ]
  },
  {
   "cell_type": "markdown",
   "id": "d3b720d9-294e-4e49-bd55-bacd49b84901",
   "metadata": {},
   "source": [
    "## Dump feature names\n",
    "\n",
    "- maybe with data type information?"
   ]
  },
  {
   "cell_type": "code",
   "execution_count": null,
   "id": "66039484-a38b-4f90-86c0-f1f72fc42500",
   "metadata": {},
   "outputs": [],
   "source": [
    "# import yaml\n",
    "\n",
    "# with open('config/olink_features.yaml', 'w') as f:\n",
    "#     yaml.dump({k: '' for k in olink.columns.to_list()}, f, sort_keys=False)\n",
    "\n",
    "# with open('config/clinic_features.yaml', 'w') as f:\n",
    "#     yaml.dump({k: '' for k in clinic.columns.to_list()}, f, sort_keys=False)\n",
    "\n",
    "# olink.columns.to_series().to_excel('config/olink_features.xlsx')\n",
    "# clinic.columns.to_series().to_excel('config/clinic_features.xlsx')"
   ]
  },
  {
   "cell_type": "markdown",
   "id": "da0306c1-7d67-4720-aa3d-c8d5982b43c0",
   "metadata": {
    "lines_to_next_cell": 2
   },
   "source": [
    "## Deaths over time\n",
    "\n",
    "- one plot with absolute time axis\n",
    "- one plot relative to diagnosis date"
   ]
  },
  {
   "cell_type": "code",
   "execution_count": null,
   "id": "b69a84aa-3cdf-4aad-aad0-02e5f8a171aa",
   "metadata": {},
   "outputs": [],
   "source": [
    "clinic['dead'] = (clinic['DateDeath'] - clinic['DateInflSample']).notna()\n",
    "clinic[\"DateDeath\"] = clinic[\"DateDeath\"].fillna(value=config.STUDY_ENDDATE)"
   ]
  },
  {
   "cell_type": "code",
   "execution_count": null,
   "id": "019e574a-4e25-42f0-b06d-5db36cb22042",
   "metadata": {},
   "outputs": [],
   "source": [
    "din_a4 = (8.27 * 2, 11.69 * 2)\n",
    "fig, ax = plt.subplots(figsize=din_a4)\n",
    "\n",
    "src.plotting.plot_lifelines(clinic.sort_values('DateInflSample'), start_col='DateInflSample', ax=ax)\n",
    "_ = plt.xticks(rotation=45)\n",
    "ax.invert_yaxis()\n",
    "fig.savefig(FOLDER_REPORTS/ 'lifelines.pdf')"
   ]
  },
  {
   "cell_type": "code",
   "execution_count": null,
   "id": "cc648f8d-95d9-48b8-b170-f262377167b2",
   "metadata": {},
   "outputs": [],
   "source": [
    "clinic.dead.value_counts()"
   ]
  },
  {
   "cell_type": "code",
   "execution_count": null,
   "id": "5235b058-ba5a-4f93-90bd-6b489b2c4726",
   "metadata": {},
   "outputs": [],
   "source": [
    "fig, axes = plt.subplots(2, sharex=True)\n",
    "ax =  axes[0]\n",
    "ax.set_yticks([])\n",
    "\n",
    "ax = clinic.loc[clinic.dead].astype({\n",
    "    'dead': 'category'\n",
    "}).plot.scatter(x=\"DateInflSample\", y=\"dead\", c='blue', rot=45, ax=ax, ylabel='dead')\n",
    "ax =  axes[1]\n",
    "# ax.axes.yaxis.set_visible(False)\n",
    "ax.set_yticks([])\n",
    "ax = clinic.loc[~clinic.dead].astype({\n",
    "    'dead': 'category'\n",
    "}).plot.scatter(x=\"DateInflSample\", y=\"dead\", c='blue', rot=45, ax=ax, ylabel='alive')\n",
    "_ = fig.suptitle(\"Inclusion date by survival status\", fontsize=22)\n",
    "fig.savefig(FOLDER_REPORTS / 'death_vs_alive_diagonose_dates')"
   ]
  },
  {
   "cell_type": "code",
   "execution_count": null,
   "id": "154d52d5-392c-421e-9578-f06e8fd4049a",
   "metadata": {},
   "outputs": [],
   "source": [
    "ax = clinic.astype({\n",
    "    'dead': 'category'\n",
    "}).plot.scatter(x=\"DateInflSample\", y='DateDeath', c=\"dead\", rot=45, sharex=False)\n",
    "# ticks = ax.get_xticks()\n",
    "# ax.set_xticklabels(ax.get_xticklabels(),  horizontalalignment='right')\n",
    "# ax.set_xticks(ticks)\n",
    "min_date, max_date = clinic[\"DateInflSample\"].min(), clinic[\"DateInflSample\"].max()\n",
    "ax.plot([min_date, max_date],\n",
    "        [min_date, max_date],\n",
    "        'k-', lw=2)\n",
    "_ = ax.annotate('date', [min_date, min_date + datetime.timedelta(days=20)], rotation=25)\n",
    "offset, rot = 20 , 25\n",
    "delta=90\n",
    "_ = ax.plot([min_date, max_date],\n",
    "        [min_date + datetime.timedelta(days=delta), max_date+ datetime.timedelta(days=delta)],\n",
    "        'k-', lw=1)\n",
    "_ = ax.annotate(f'+ {delta} days', [min_date, min_date + datetime.timedelta(days=delta+20)], rotation=25)\n",
    "delta=180\n",
    "ax.plot([min_date, max_date],\n",
    "        [min_date + datetime.timedelta(days=delta), max_date+ datetime.timedelta(days=delta)],\n",
    "        'k-', lw=1)\n",
    "_ = ax.annotate(f'+ {delta} days', [min_date, min_date + datetime.timedelta(days=delta+20)], rotation=25)\n",
    "fig = ax.get_figure()\n",
    "fig.savefig(FOLDER_REPORTS / 'timing_deaths_over_time.pdf')"
   ]
  },
  {
   "cell_type": "markdown",
   "id": "f8b73945-02ae-48cd-ad00-1577c653ca0e",
   "metadata": {},
   "source": [
    "## Cleanup steps"
   ]
  },
  {
   "cell_type": "markdown",
   "id": "35b85c1b-6a15-467d-880f-fe88391694dd",
   "metadata": {},
   "source": [
    "### Clinic\n",
    "\n",
    "- [x] encode binary variables (yes, no) as `category`s \n",
    "  > Be aware that this might cause unexpected behaviour!"
   ]
  },
  {
   "cell_type": "markdown",
   "id": "383cc594-67c7-4adf-ab5c-41760a56c1df",
   "metadata": {},
   "source": [
    "Fill derived variables with missing measurements"
   ]
  },
  {
   "cell_type": "code",
   "execution_count": null,
   "id": "3a61d494-9cd0-4d80-9bfc-976d3e0b0a06",
   "metadata": {},
   "outputs": [],
   "source": [
    "clinic.loc[:, clinic.columns.str.contains(\"Adm\")].describe()"
   ]
  },
  {
   "cell_type": "code",
   "execution_count": null,
   "id": "0918e8b8-cb06-40ac-bea1-6b93077b6b29",
   "metadata": {},
   "outputs": [],
   "source": [
    "# fill missing Admissions with zero, and make it an integer\n",
    "# clinic[\"Admissions\"] = clinic[\"Admissions\"].fillna(0).astype(int)\n",
    "# clinic[\"AmountLiverRelatedAdm\"] = clinic[\"AmountLiverRelatedAdm\"].fillna(0).astype(int)"
   ]
  },
  {
   "cell_type": "markdown",
   "id": "abd2d638-625f-418b-8fc9-5857e7b50660",
   "metadata": {},
   "source": [
    "Encode binary variables"
   ]
  },
  {
   "cell_type": "code",
   "execution_count": null,
   "id": "aed46ac1-cff6-4c12-a283-e46ef84c39b2",
   "metadata": {},
   "outputs": [],
   "source": [
    "# binary variables\n",
    "vars_binary = config.clinic_data.vars_binary\n",
    "clinic[vars_binary].head()\n",
    "# clinic.columns.to_list()"
   ]
  },
  {
   "cell_type": "code",
   "execution_count": null,
   "id": "2b560ba8-7cad-472c-b107-03157adeb280",
   "metadata": {},
   "outputs": [],
   "source": [
    "clinic[vars_binary] = clinic[vars_binary].astype('category')"
   ]
  },
  {
   "cell_type": "markdown",
   "id": "603d0818-b352-4b33-9cb3-8d8a842713ed",
   "metadata": {},
   "source": [
    "remaining non numeric variables"
   ]
  },
  {
   "cell_type": "code",
   "execution_count": null,
   "id": "fad8c523-f583-4dd7-b703-e8e268036b16",
   "metadata": {},
   "outputs": [],
   "source": [
    "mask_cols_obj = clinic.dtypes == 'object'\n",
    "clinic.loc[:,mask_cols_obj].describe()"
   ]
  },
  {
   "cell_type": "code",
   "execution_count": null,
   "id": "6bba0e16-aae6-4c37-89c6-5eb900ef42a3",
   "metadata": {},
   "outputs": [],
   "source": [
    "clinic[\"HbA1c\"] = clinic[\"HbA1c\"].replace(to_replace=\"(NA)\", value=np.nan).astype(pd.Int32Dtype())\n",
    "# clinic[\"LiverRelated1admFromInclu\"] = clinic[\"LiverRelated1admFromInclu\"].replace('x', 1).fillna(0).astype('category')\n",
    "clinic[\"MaritalStatus\"] = clinic[\"MaritalStatus\"].astype('category')\n",
    "clinic[\"HeartDiseaseTotal\"] = clinic[\"HeartDiseaseTotal\"].replace(0, 'no').astype('category')\n",
    "clinic.loc[:,mask_cols_obj].describe(include='all')"
   ]
  },
  {
   "cell_type": "code",
   "execution_count": null,
   "id": "887b4d7a-7458-4af7-b97f-151821836e57",
   "metadata": {},
   "outputs": [],
   "source": [
    "def get_dummies_yes_no(s, prefix=None):\n",
    "    return pd.get_dummies(s, prefix=prefix).replace({\n",
    "        0: 'No',\n",
    "        1: 'Yes'\n",
    "    }).astype('category')\n",
    "    \n",
    "clinic = clinic.join(get_dummies_yes_no(clinic[\"DiagnosisPlace\"]))\n",
    "clinic = clinic.join(get_dummies_yes_no(clinic[\"MaritalStatus\"], prefix='MaritalStatus'))\n",
    "clinic = clinic.join(get_dummies_yes_no(clinic[\"CauseOfDeath\"], prefix='CoD'))\n",
    "clinic"
   ]
  },
  {
   "cell_type": "markdown",
   "id": "baec9531-1e96-4073-8014-e15e9b8e313a",
   "metadata": {},
   "source": [
    "- few have more than one etiology"
   ]
  },
  {
   "cell_type": "code",
   "execution_count": null,
   "id": "3364b783-ac1a-45ef-9ddc-b80bf026cd5a",
   "metadata": {},
   "outputs": [],
   "source": [
    "etiology_mask_yes = clinic.loc[:, clinic.columns.str.contains(\"Eti\")] == 'Yes'\n",
    "etiology_mask_yes.sum(axis=1).value_counts()"
   ]
  },
  {
   "cell_type": "code",
   "execution_count": null,
   "id": "c93e99cb-dc1b-4a13-8e57-686704244ecc",
   "metadata": {},
   "outputs": [],
   "source": [
    "# etiology_mask_yes.drop('EtiAlco', axis=1).sum(axis=1).astype(bool)"
   ]
  },
  {
   "cell_type": "code",
   "execution_count": null,
   "id": "f750356d-b59f-4e42-a3cb-eb4b1ea59ae6",
   "metadata": {},
   "outputs": [],
   "source": [
    "clinic[\"EtiNonAlco\"] = (clinic[\"EtiAlco\"] == 'No') & (etiology_mask_yes.drop('EtiAlco', axis=1).sum(axis=1).astype(bool))\n",
    "#clinic[\"EtiNonAlco\"] = clinic[\"EtiNonAlco\"].replace({False: 'No', True: 'Yes'}).astype('category')\n",
    "clinic[\"EtiNonAlco\"] = get_dummies_yes_no(clinic[\"EtiNonAlco\"])[True]\n",
    "clinic[\"EtiNonAlco\"].value_counts()"
   ]
  },
  {
   "cell_type": "markdown",
   "id": "883d260d-d289-4259-b0ea-e0bb16d1ab52",
   "metadata": {},
   "source": [
    "### Olink\n",
    "\n",
    "- [x] remove additional meta data\n",
    "- [x] highlight missing values\n"
   ]
  },
  {
   "cell_type": "code",
   "execution_count": null,
   "id": "52379bd1-4de6-441e-9c4f-5bf5c0aeea62",
   "metadata": {},
   "outputs": [],
   "source": [
    "olink.head()"
   ]
  },
  {
   "cell_type": "markdown",
   "id": "83774013-c6ba-438d-916d-794873404705",
   "metadata": {},
   "source": [
    "Remove additional metadata"
   ]
  },
  {
   "cell_type": "code",
   "execution_count": null,
   "id": "4ba5e6b4-a4ee-4be6-bbfb-47d5b26caf29",
   "metadata": {},
   "outputs": [],
   "source": [
    "olink = olink.loc[:,'IL8':]"
   ]
  },
  {
   "cell_type": "markdown",
   "id": "7503f2aa-4d96-422c-ae07-c9c4603d8fa1",
   "metadata": {},
   "source": [
    "Which measurments have missing values\n",
    "\n",
    "- [ ] Imputation due to limit of detection (LOD) -> how to best impute"
   ]
  },
  {
   "cell_type": "code",
   "execution_count": null,
   "id": "37a4a682-6e2e-40c1-91ec-9fa5d436bb33",
   "metadata": {},
   "outputs": [],
   "source": [
    "olink.loc[:, olink.isna().any()].describe() "
   ]
  },
  {
   "cell_type": "markdown",
   "id": "5ec14017-b20f-41e5-a1ba-29b74cf305fa",
   "metadata": {},
   "source": [
    "## Timespans\n",
    "\n",
    "- death only has right censoring, no drop-out\n",
    "- admission has right censoring, and a few drop-outs who die before their first admission for the cirrhosis"
   ]
  },
  {
   "cell_type": "code",
   "execution_count": null,
   "id": "5fc2e9c9-2835-4885-80aa-25e4cd9f715a",
   "metadata": {},
   "outputs": [],
   "source": [
    "# clinic[\"DaysToAdmFromInclusion\"] = (\n",
    "#     clinic[\"DateFirstAdmission\"].fillna(config.STUDY_ENDDATE) -\n",
    "#     clinic[\"DateInclusion\"]).dt.days\n",
    "# clinic[\"DaysToDeathFromInclusion\"] = (\n",
    "#     clinic[\"DateDeath\"].fillna(config.STUDY_ENDDATE) -\n",
    "#     clinic[\"DateInclusion\"]).dt.days\n",
    "\n",
    "# mask = clinic[\"DaysToDeathFromInclusion\"] < clinic[\"DaysToAdmFromInclusion\"]\n",
    "# cols_view = [\n",
    "#     \"DaysToDeathFromInclusion\", \"DaysToAdmFromInclusion\", \"dead\", cols_clinic.AmountLiverRelatedAdm, \"Age\"\n",
    "# ]\n",
    "# clinic[cols_view].loc[mask]"
   ]
  },
  {
   "cell_type": "markdown",
   "id": "526b0dee-a571-47e6-a135-f9548407a975",
   "metadata": {},
   "source": [
    "For these individuals, the admission time is censored as the persons died before."
   ]
  },
  {
   "cell_type": "code",
   "execution_count": null,
   "id": "a49c7877-7806-4524-ac92-a9abdd8b1ec8",
   "metadata": {},
   "outputs": [],
   "source": [
    "# clinic.loc[mask,\n",
    "#            \"DaysToAdmFromInclusion\"] = clinic.loc[mask,\n",
    "#                                                  \"DaysToDeathFromInclusion\"]\n",
    "# clinic.loc[mask, cols_view]"
   ]
  },
  {
   "cell_type": "code",
   "execution_count": null,
   "id": "7419097b-9716-462a-a294-ebdabfa6a5a1",
   "metadata": {},
   "outputs": [],
   "source": [
    "clinic[\"DaysToAdmFromInflSample\"] = (\n",
    "    clinic[\"DateFirstAdmission\"].fillna(config.STUDY_ENDDATE) -\n",
    "    clinic[\"DateInflSample\"]).dt.days\n",
    "clinic[\"DaysToDeathFromInfl\"] = (\n",
    "    clinic[\"DateDeath\"].fillna(config.STUDY_ENDDATE) -\n",
    "    clinic[\"DateInflSample\"]).dt.days\n",
    "\n",
    "cols_clinic = src.pandas.get_colums_accessor(clinic)\n",
    "\n",
    "cols_view = [\n",
    "    # \"DaysToDeathFromInclusion\",\n",
    "    cols_clinic.DaysToDeathFromInfl,\n",
    "    # \"DaysToAdmFromInclusion\",\n",
    "    cols_clinic.DaysToAdmFromInflSample,\n",
    "    \"dead\",\n",
    "    # \"AmountLiverRelatedAdm\",\n",
    "    \"Age\"\n",
    "]\n",
    "mask = (clinic[cols_view] < 0).any(axis=1)\n",
    "clinic[cols_view].loc[mask]"
   ]
  },
  {
   "cell_type": "code",
   "execution_count": null,
   "id": "337dc6c5-beaf-47ed-a934-f920f40ab7bb",
   "metadata": {},
   "outputs": [],
   "source": [
    "clinic[cols_view].describe()"
   ]
  },
  {
   "cell_type": "code",
   "execution_count": null,
   "id": "0f3f632b",
   "metadata": {},
   "outputs": [],
   "source": [
    "clinic[cols_view].dtypes"
   ]
  },
  {
   "cell_type": "markdown",
   "id": "5a89be7b-3924-45a6-b167-eb44fc8e50f1",
   "metadata": {},
   "source": [
    "## Days from Inclusion to Inflammatory Sample"
   ]
  },
  {
   "cell_type": "code",
   "execution_count": null,
   "id": "5f40024a-d7df-4747-9c69-69036c3d8eb3",
   "metadata": {},
   "outputs": [],
   "source": [
    "# clinic[\"DaysFromInclToInflSample\"] = (clinic[\"DateInflSample\"] - clinic[\"DateInclusion\"]).dt.days\n",
    "# fig, ax = plt.subplots(figsize=(2,5))\n",
    "# _ = clinic[\"DaysFromInclToInflSample\"].plot(kind='box', ax=ax)\n",
    "# _ = ax.set_ylabel('days from inclusion')\n",
    "# _ = ax.set_xticklabels([''])\n",
    "# fig.savefig(FOLDER_REPORTS / 'DaysFromInclToInflSample_boxplot.pdf')"
   ]
  },
  {
   "cell_type": "code",
   "execution_count": null,
   "id": "7cad1bfc-6629-4d98-992e-b38846473f07",
   "metadata": {},
   "outputs": [],
   "source": [
    "# ax = clinic.plot.scatter(x=cols_clinic.DateInclusion, y=cols_clinic.DateInflSample)\n",
    "# fig = ax.get_figure()\n",
    "# fig.savefig(FOLDER_REPORTS / 'DaysFromInclToInflSample_scatter.pdf')"
   ]
  },
  {
   "cell_type": "markdown",
   "id": "2c4ee5f3-8760-4009-aee0-958f7277d1fc",
   "metadata": {},
   "source": [
    "## Kaplan-Meier survival plot "
   ]
  },
  {
   "cell_type": "code",
   "execution_count": null,
   "id": "e39892fb-edbd-4495-8a70-8118ed9835b5",
   "metadata": {},
   "outputs": [],
   "source": [
    "kmf = KaplanMeierFitter()\n",
    "kmf.fit(clinic[\"DaysToDeathFromInfl\"], event_observed=clinic[\"dead\"])\n",
    "\n",
    "fig, ax = plt.subplots()\n",
    "y_lim = (0, 1)\n",
    "ax = kmf.plot(  #title='Kaplan Meier survival curve since inclusion',\n",
    "    xlim=(0, None),\n",
    "    ylim=y_lim,\n",
    "    xlabel='Days since inflammation sample',\n",
    "    ylabel='survival rate',\n",
    "    ax=ax,\n",
    "    legend=False)\n",
    "_ = ax.vlines(90, *y_lim)\n",
    "_ = ax.vlines(180, *y_lim)\n",
    "fig.savefig(FOLDER_REPORTS / 'km_plot_death.pdf')"
   ]
  },
  {
   "cell_type": "code",
   "execution_count": null,
   "id": "27fad55d-bbd0-42c2-9b5a-17927ae88348",
   "metadata": {},
   "outputs": [],
   "source": [
    "_ = sns.catplot(x=\"DaysToDeathFromInfl\",\n",
    "                y=\"dead\",\n",
    "                hue=\"DiagnosisPlace\",\n",
    "                data=clinic.astype({'dead': 'category'}),\n",
    "                height=4,\n",
    "                aspect=3)\n",
    "_.set_xlabels('Days from inflammation sample to death or until study end')\n",
    "ax = _.fig.get_axes()[0]\n",
    "ylim = ax.get_ylim()\n",
    "ax.vlines(90, *ylim)\n",
    "ax.vlines(180, *ylim)\n",
    "fig = ax.get_figure()\n",
    "fig.savefig(FOLDER_REPORTS / 'deaths_along_time.pdf')"
   ]
  },
  {
   "cell_type": "markdown",
   "id": "407ceef8-c279-4bb7-8217-31c700e3b5dc",
   "metadata": {},
   "source": [
    "## KP plot admissions"
   ]
  },
  {
   "cell_type": "code",
   "execution_count": null,
   "id": "132db651-e531-45a3-836b-4a136913fbf5",
   "metadata": {},
   "outputs": [],
   "source": [
    "kmf = KaplanMeierFitter()\n",
    "kmf.fit(clinic[\"DaysToDeathFromInfl\"], event_observed=clinic[\"LiverAdm180\"].fillna(0))\n",
    "\n",
    "\n",
    "fig, ax = plt.subplots()\n",
    "y_lim = (0, 1)\n",
    "ax = kmf.plot(#title='Kaplan Meier curve for liver related admissions',\n",
    "              xlim=(0, None),\n",
    "              ylim=(0, 1),\n",
    "              xlabel='Days since inflammation sample',\n",
    "              ylabel='remaining with non-liver related admission',\n",
    "              legend=False)\n",
    "_ = ax.vlines(90, *y_lim)\n",
    "_ = ax.vlines(180, *y_lim)\n",
    "fig = ax.get_figure()\n",
    "fig.savefig(FOLDER_REPORTS / 'km_plot_admission.pdf')"
   ]
  },
  {
   "cell_type": "markdown",
   "id": "858d62c6-13cf-412d-b2fc-53a0ad67565b",
   "metadata": {},
   "source": [
    "## Targets"
   ]
  },
  {
   "cell_type": "code",
   "execution_count": null,
   "id": "08640443-d678-4ada-91f2-6d0eea8c47ef",
   "metadata": {},
   "outputs": [],
   "source": [
    "mask = clinic.columns.str.contains(\"(90|180)\")\n",
    "clinic.loc[:,mask] = clinic.loc[:,mask].fillna(0)\n",
    "clinic.loc[:,mask].describe()"
   ]
  },
  {
   "cell_type": "code",
   "execution_count": null,
   "id": "42ffaed7-910f-44ac-87d4-f32fee5260b4",
   "metadata": {},
   "outputs": [],
   "source": [
    "mask = clinic.columns.str.contains(\"Adm(90|180)\")\n",
    "clinic.loc[:,mask].describe() # four targets for liver related admissions"
   ]
  },
  {
   "cell_type": "code",
   "execution_count": null,
   "id": "32910771-e03c-41ea-91a3-8db138042de4",
   "metadata": {},
   "outputs": [],
   "source": [
    "target_name = {k:f'has{k}' for k in clinic.columns[mask]}\n",
    "target_name"
   ]
  },
  {
   "cell_type": "code",
   "execution_count": null,
   "id": "09760954-99cf-4312-8227-962b4cdbaca3",
   "metadata": {},
   "outputs": [],
   "source": [
    "targets = {}\n",
    "\n",
    "for cutoff in [90, 180]:\n",
    "    # targets[f'dead{cutoff:03}incl'] = (clinic[\"DaysToDeathFromInclusion\"] <=\n",
    "    #                                 cutoff).astype(int)\n",
    "    targets[f'dead{cutoff:03}infl'] = (clinic[\"DaysToDeathFromInfl\"] <=\n",
    "                                       cutoff).astype(int)\n",
    "    targets[f\"liverDead{cutoff:03}infl\"] = (\n",
    "        clinic.loc[clinic[\"CauseOfDeath\"] != 'NonLiver',\n",
    "                   \"DaysToDeathFromInfl\"] <= cutoff).astype(int)\n",
    "\n",
    "targets = pd.DataFrame(targets)\n",
    "targets = targets.join(\n",
    "    (clinic.loc[:, mask] > 0).astype(int).rename(columns=target_name))\n",
    "# targets = targets.sort_index(axis=1, ascending=False)\n",
    "targets.describe()"
   ]
  },
  {
   "cell_type": "code",
   "execution_count": null,
   "id": "7f6f3137-21f8-4293-ae38-7e7f99584ddf",
   "metadata": {},
   "outputs": [],
   "source": [
    "from src.pandas import combine_value_counts\n",
    "combine_value_counts(targets)"
   ]
  },
  {
   "cell_type": "code",
   "execution_count": null,
   "id": "174384a2-5aa9-4dd2-bd32-9643f477c543",
   "metadata": {},
   "outputs": [],
   "source": [
    "ret = []\n",
    "for var in targets.columns:\n",
    "    _ = pd.crosstab(targets[var], clinic.DiagnosisPlace)\n",
    "    _.index = [f'{var.replace(\"_\", \" <= \", 1)} - {i}' for i in _.index]\n",
    "    ret.append(_)\n",
    "ret = pd.concat(ret)\n",
    "\n",
    "tab_targets_by_diagnosisPlace = ret\n",
    "tab_targets_by_diagnosisPlace"
   ]
  },
  {
   "cell_type": "markdown",
   "id": "113bef3b-0ac5-4621-9b41-1a40ba976ef8",
   "metadata": {},
   "source": [
    "add to clinical targets"
   ]
  },
  {
   "cell_type": "code",
   "execution_count": null,
   "id": "21f5cf0a-9d98-409a-a1d1-593f87ddc7b6",
   "metadata": {},
   "outputs": [],
   "source": [
    "clinic = clinic.join(targets)"
   ]
  },
  {
   "cell_type": "markdown",
   "id": "f31c935c-e1e5-49cf-b3d9-e8a7765ab0c4",
   "metadata": {},
   "source": [
    "## Censoring"
   ]
  },
  {
   "cell_type": "markdown",
   "id": "43928fd1-c46a-4349-b000-7bd2b13ddcc3",
   "metadata": {},
   "source": [
    "FirstAdmission is also right-censored"
   ]
  },
  {
   "cell_type": "code",
   "execution_count": null,
   "id": "d159b1f7-7e3b-4261-a2ff-295b717ae7f9",
   "metadata": {},
   "outputs": [],
   "source": [
    "time_from_inclusion_to_first_admission = clinic[\"DateFirstAdmission\"].fillna(config.STUDY_ENDDATE) - clinic[\"DateInflSample\"]\n",
    "time_from_inclusion_to_first_admission.describe()"
   ]
  },
  {
   "cell_type": "markdown",
   "id": "ac7c08ce-9824-4c58-b6f8-f618df73f2bf",
   "metadata": {},
   "source": [
    "Who dies without having a first Admission date?"
   ]
  },
  {
   "cell_type": "code",
   "execution_count": null,
   "id": "15339dfc-1d43-4bc0-b254-ac8d672a1c07",
   "metadata": {},
   "outputs": [],
   "source": [
    "dead_wo_adm = clinic[\"DateFirstAdmission\"].isna() & clinic['dead']\n",
    "idx_dead_wo_adm = dead_wo_adm.loc[dead_wo_adm].index\n",
    "print('Dead without admission to hospital:', *dead_wo_adm.loc[dead_wo_adm].index)\n",
    "clinic.loc[dead_wo_adm, [\"DateFirstAdmission\", \"DateInflSample\", cols_clinic.LiverAdm180]]"
   ]
  },
  {
   "cell_type": "markdown",
   "id": "2ce1021c-048d-4fc3-999c-a2b8c1aebe88",
   "metadata": {},
   "source": [
    "## Different overlaps\n",
    "\n",
    "- save persons with clinical data as potential validation cohort separately\n",
    "- done after preprocessing of data\n"
   ]
  },
  {
   "cell_type": "code",
   "execution_count": null,
   "id": "477910d6-1614-49b0-bbeb-1bedf862483c",
   "metadata": {},
   "outputs": [],
   "source": [
    "idx_overlap = olink.index.intersection(clinic.index)\n",
    "idx_overlap"
   ]
  },
  {
   "cell_type": "code",
   "execution_count": null,
   "id": "33fee229-fcf7-45a1-883a-190c623d05b9",
   "metadata": {},
   "outputs": [],
   "source": [
    "# in clinical data, but not in olink data\n",
    "idx_validation = clinic.index.difference(olink.index)\n",
    "idx_validation"
   ]
  },
  {
   "cell_type": "code",
   "execution_count": null,
   "id": "45f09007-725a-4a0f-8aeb-3dd16e9b9cff",
   "metadata": {},
   "outputs": [],
   "source": [
    "# in olink data, but not in clinical data -> excluded samples\n",
    "olink.index.difference(clinic.index)"
   ]
  },
  {
   "cell_type": "markdown",
   "id": "618aa5d7-14cf-407a-ae95-d51903f7b794",
   "metadata": {},
   "source": [
    "## Save validation cohort separately"
   ]
  },
  {
   "cell_type": "code",
   "execution_count": null,
   "id": "e91920ab-ba11-4ed7-97d8-45af427c56bf",
   "metadata": {},
   "outputs": [],
   "source": [
    "clinic.loc[idx_validation].to_pickle(config.fname_pkl_val_clinic)"
   ]
  },
  {
   "cell_type": "markdown",
   "id": "d8632125-9964-43e5-84ea-48b9ed09722f",
   "metadata": {},
   "source": [
    "## Dumped processed and selected data"
   ]
  },
  {
   "cell_type": "code",
   "execution_count": null,
   "id": "573cf869-5f33-403e-bdee-52eb3ec50f1c",
   "metadata": {},
   "outputs": [],
   "source": [
    "clinic = clinic.loc[idx_overlap]\n",
    "olink = olink.loc[idx_overlap]"
   ]
  },
  {
   "cell_type": "code",
   "execution_count": null,
   "id": "d40040f1-ba3b-4bff-8af1-48f1642156b8",
   "metadata": {},
   "outputs": [],
   "source": [
    "DATA_PROCESSED.mkdir(exist_ok=True, parents=True)\n",
    "\n",
    "clinic.to_pickle(config.fname_pkl_clinic)\n",
    "olink.to_pickle(config.fname_pkl_olink)\n",
    "targets.to_pickle(config.fname_pkl_targets)"
   ]
  },
  {
   "cell_type": "code",
   "execution_count": null,
   "id": "89d83daa-9878-4d0c-8e2a-e203184351b3",
   "metadata": {},
   "outputs": [],
   "source": [
    "clinic[targets.columns].describe()"
   ]
  }
 ],
 "metadata": {
  "jupytext": {
   "formats": "ipynb,py:percent"
  },
  "kernelspec": {
   "display_name": "Python 3 (ipykernel)",
   "language": "python",
   "name": "python3"
  },
  "language_info": {
   "codemirror_mode": {
    "name": "ipython",
    "version": 3
   },
   "file_extension": ".py",
   "mimetype": "text/x-python",
   "name": "python",
   "nbconvert_exporter": "python",
   "pygments_lexer": "ipython3",
   "version": "3.10.4"
  },
  "vscode": {
   "interpreter": {
    "hash": "4a7cb36f33b5487d941f082aa821b72e5ffcd123aba4697c50d4e81e1a75fb3c"
   }
  }
 },
 "nbformat": 4,
 "nbformat_minor": 5
}
