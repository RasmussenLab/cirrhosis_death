{
 "cells": [
  {
   "cell_type": "markdown",
   "id": "3a6d6f27-b134-49f2-8b62-7a813a922ed7",
   "metadata": {},
   "source": [
    "# Combine cohorts: ProDoc and CircaFlow\n",
    "\n",
    "- ProDoc should be used for training\n",
    "- CircaFlow should be used for testing"
   ]
  },
  {
   "cell_type": "code",
   "execution_count": null,
   "id": "3ddf56da-27e9-49c6-b87c-b558ac6d9a7f",
   "metadata": {},
   "outputs": [],
   "source": [
    "import config\n",
    "import pandas as pd"
   ]
  },
  {
   "cell_type": "code",
   "execution_count": null,
   "id": "c3a93a60-4477-47d1-8801-98a68b2bace6",
   "metadata": {},
   "outputs": [],
   "source": [
    "files_in = {'clinic': {p.stem: p for p in [config.fname_pkl_prodoc_clinic_num, config.fname_pkl_cirkaflow_clinic_num]}}\n",
    "files_in['olink'] = {p.stem: p for p in [config.fname_pkl_prodoc_olink, config.fname_pkl_cirkaflow_olink]}\n",
    "files_in"
   ]
  },
  {
   "cell_type": "code",
   "execution_count": null,
   "id": "afa997a9-bb36-4157-8e59-2b357dc330dd",
   "metadata": {},
   "outputs": [],
   "source": [
    "# not generic\n",
    "clinic = pd.read_pickle(config.fname_pkl_prodoc_clinic_num)\n",
    "clinic_cirkaflow = pd.read_pickle(config.fname_pkl_cirkaflow_clinic_num)\n",
    "\n",
    "feat_in_both = clinic.columns.intersection(clinic_cirkaflow.columns)\n",
    "feat_in_both"
   ]
  },
  {
   "cell_type": "code",
   "execution_count": null,
   "id": "7417c039-0b32-43e9-9e9f-3304ea70dbdc",
   "metadata": {},
   "outputs": [],
   "source": [
    "clinic = pd.concat([clinic[feat_in_both], clinic_cirkaflow[feat_in_both]])\n",
    "clinic"
   ]
  },
  {
   "cell_type": "code",
   "execution_count": null,
   "id": "0b928831-50d3-4c6a-8dd7-c41f1762d1de",
   "metadata": {},
   "outputs": [],
   "source": [
    "olink = files_in['olink'].values()\n",
    "olink = pd.concat(map(pd.read_pickle, olink))\n",
    "olink"
   ]
  },
  {
   "cell_type": "code",
   "execution_count": null,
   "id": "3239a9e4-2ef3-4cd7-8ff4-30a9d1923003",
   "metadata": {},
   "outputs": [],
   "source": [
    "files_out = {'olink': config.fname_pkl_all_olink, \n",
    "            'clinic': config.fname_pkl_all_clinic_num}\n",
    "files_out"
   ]
  },
  {
   "cell_type": "code",
   "execution_count": null,
   "id": "f3e947e0-f49e-4b93-9f8d-cd849e6aa32e",
   "metadata": {},
   "outputs": [],
   "source": [
    "clinic.to_pickle(files_out['clinic'])\n",
    "olink.to_pickle(files_out['olink'])"
   ]
  }
 ],
 "metadata": {
  "kernelspec": {
   "display_name": "Python 3 (ipykernel)",
   "language": "python",
   "name": "python3"
  },
  "language_info": {
   "codemirror_mode": {
    "name": "ipython",
    "version": 3
   },
   "file_extension": ".py",
   "mimetype": "text/x-python",
   "name": "python",
   "nbconvert_exporter": "python",
   "pygments_lexer": "ipython3",
   "version": "3.10.4"
  }
 },
 "nbformat": 4,
 "nbformat_minor": 5
}
