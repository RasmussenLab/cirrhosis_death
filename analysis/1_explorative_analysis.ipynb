{
 "cells": [
  {
   "cell_type": "markdown",
   "id": "3a75abb0-7a52-4e8c-9b61-b1d75376ca8f",
   "metadata": {},
   "source": [
    "# Explorative Analysis"
   ]
  },
  {
   "cell_type": "code",
   "execution_count": null,
   "id": "9ff64eb7-f349-4ef7-999c-e78ae5067edc",
   "metadata": {},
   "outputs": [],
   "source": [
    "from pathlib import Path\n",
    "\n",
    "import numpy as np\n",
    "import pandas as pd\n",
    "\n",
    "import pingouin as pg\n",
    "import seaborn\n",
    "import sklearn\n",
    "from sklearn.metrics import precision_recall_curve, roc_curve\n",
    "\n",
    "import src.stats\n",
    "from src.sklearn import run_pca, StandardScaler\n",
    "from src.sklearn.scoring import ConfusionMatrix\n",
    "\n",
    "import config"
   ]
  },
  {
   "cell_type": "markdown",
   "id": "bf2fc83e",
   "metadata": {},
   "source": [
    "# Set parameters"
   ]
  },
  {
   "cell_type": "code",
   "execution_count": null,
   "id": "7a8e4d0f",
   "metadata": {
    "tags": [
     "parameters"
    ]
   },
   "outputs": [],
   "source": [
    "TARGET = 'dead090infl'\n",
    "FOLDER = ''"
   ]
  },
  {
   "cell_type": "code",
   "execution_count": null,
   "id": "3c6787a4-638f-43ff-9a56-ba11ca9718d6",
   "metadata": {},
   "outputs": [],
   "source": [
    "if not FOLDER:\n",
    "    FOLDER = Path(config.folder_reports) / TARGET\n",
    "    FOLDER.mkdir(exist_ok=True)"
   ]
  },
  {
   "cell_type": "code",
   "execution_count": null,
   "id": "1390b94e-9ec4-4905-be62-d4f59a0c3b2c",
   "metadata": {},
   "outputs": [],
   "source": [
    "clinic = pd.read_pickle(config.fname_pkl_clinic)\n",
    "cols_clinic = src.pandas.get_colums_accessor(clinic)\n",
    "olink = pd.read_pickle(config.fname_pkl_olink)"
   ]
  },
  {
   "cell_type": "code",
   "execution_count": null,
   "id": "cb049936-fc68-4c01-9596-1e0a03a4e99b",
   "metadata": {},
   "outputs": [],
   "source": [
    "pd.crosstab(clinic.DiagnosisPlace, clinic.dead)"
   ]
  },
  {
   "cell_type": "markdown",
   "id": "3da4183f-4039-40f4-955d-29235d4468dd",
   "metadata": {},
   "source": [
    "FirstAdmission is also right-censored"
   ]
  },
  {
   "cell_type": "code",
   "execution_count": null,
   "id": "bc6e7da0-87f8-45a8-b704-76c2ddfb668a",
   "metadata": {},
   "outputs": [],
   "source": [
    "time_from_inclusion_to_first_admission = clinic[\"DateFirstAdmission\"].fillna(config.STUDY_ENDDATE) - clinic[\"DateInclusion\"]\n",
    "time_from_inclusion_to_first_admission.describe()"
   ]
  },
  {
   "cell_type": "markdown",
   "id": "52b36dc6-0647-4ca3-91ad-8a7bdb4d9d2b",
   "metadata": {},
   "source": [
    "Who dies without having a first Admission date?"
   ]
  },
  {
   "cell_type": "code",
   "execution_count": null,
   "id": "f37d0776-21b3-4aea-aae6-d9d4ffec0ae3",
   "metadata": {},
   "outputs": [],
   "source": [
    "dead_wo_adm = clinic[\"DateFirstAdmission\"].isna() & clinic['dead']\n",
    "idx_dead_wo_adm = dead_wo_adm.loc[dead_wo_adm].index\n",
    "print('Dead without admission to hospital:', *dead_wo_adm.loc[dead_wo_adm].index)\n",
    "clinic.loc[dead_wo_adm, [\"DateFirstAdmission\", \"DateInclusion\", cols_clinic.AmountLiverRelatedAdm]]"
   ]
  },
  {
   "cell_type": "markdown",
   "id": "580e6baa",
   "metadata": {},
   "source": [
    "# Differences between groups defined by target"
   ]
  },
  {
   "cell_type": "code",
   "execution_count": null,
   "id": "fcae4703-5a36-4695-9c80-6161a93e2e8b",
   "metadata": {},
   "outputs": [],
   "source": [
    "clinic"
   ]
  },
  {
   "cell_type": "code",
   "execution_count": null,
   "id": "7c50b1a6",
   "metadata": {},
   "outputs": [],
   "source": [
    "clinic[TARGET].value_counts()"
   ]
  },
  {
   "cell_type": "code",
   "execution_count": null,
   "id": "f0151c62-e20d-439f-9ff8-3c07fb27cac7",
   "metadata": {},
   "outputs": [],
   "source": [
    "pd.crosstab(clinic[TARGET], clinic[\"DecomensatedAtDiagnosis\"])"
   ]
  },
  {
   "cell_type": "code",
   "execution_count": null,
   "id": "1a2fbb03",
   "metadata": {},
   "outputs": [],
   "source": [
    "happend = clinic[TARGET].astype(bool)"
   ]
  },
  {
   "cell_type": "markdown",
   "id": "aa05177f-e82b-481d-8c7e-832bf8bc0d21",
   "metadata": {},
   "source": [
    "## Continous"
   ]
  },
  {
   "cell_type": "code",
   "execution_count": null,
   "id": "542fac2c",
   "metadata": {},
   "outputs": [],
   "source": [
    "var = 'Age'\n",
    "# import scipy.stats \n",
    "# scipy.stats.ttest_ind(clinic.loc[happend, var], clinic.loc[~happend, var], equal_var=False) # same results as pengoin\n",
    "pg.ttest(clinic.loc[happend, var], clinic.loc[~happend, var])"
   ]
  },
  {
   "cell_type": "code",
   "execution_count": null,
   "id": "582325f0-bd80-47e0-acf3-5cd8a9ed9e39",
   "metadata": {},
   "outputs": [],
   "source": [
    "vars_cont = config.clinic_data.vars_cont\n",
    "ana_differential = src.stats.diff_analysis(\n",
    "    clinic[vars_cont],\n",
    "    happend,\n",
    "    event_names=('died', 'alive'),\n",
    ")\n",
    "ana_differential = ana_differential.sort_values(('ttest', 'p-val'))\n",
    "\n",
    "writer = pd.ExcelWriter(FOLDER/'differential_analysis.xlsx')\n",
    "ana_differential.to_excel(writer, \"clinic continous\")\n",
    "\n",
    "ana_differential"
   ]
  },
  {
   "cell_type": "markdown",
   "id": "5eec39f3-f041-4fa8-b9ad-ed5485ca48ca",
   "metadata": {},
   "source": [
    "## Binary"
   ]
  },
  {
   "cell_type": "code",
   "execution_count": null,
   "id": "f7fd9387-5d5f-4a6a-85e8-9d32c87842fd",
   "metadata": {},
   "outputs": [],
   "source": [
    "clinic[config.clinic_data.vars_binary].describe()"
   ]
  },
  {
   "cell_type": "markdown",
   "id": "d62e8560-b19f-43e9-a3dd-7a2367fe1be4",
   "metadata": {},
   "source": [
    "Might focus on discriminative power of\n",
    "  - DecompensatedAtDiagnosis \n",
    "  - alcohol consumption\n",
    "  \n",
    "but the more accute diseases as heart disease and cancer seem to be distinctive"
   ]
  },
  {
   "cell_type": "code",
   "execution_count": null,
   "id": "5db35433-b055-47dc-ba24-64e0a968918d",
   "metadata": {},
   "outputs": [],
   "source": [
    "diff_binomial = []\n",
    "for var in config.clinic_data.vars_binary[1:]:\n",
    "    diff_binomial.append(src.stats.binomtest(clinic[var], happend))\n",
    "for var in config.clinic_data.vars_binary_created:\n",
    "    diff_binomial.append(src.stats.binomtest(clinic[var], happend))\n",
    "diff_binomial = pd.concat(diff_binomial).sort_values(('binomial test', 'pvalue'))\n",
    "diff_binomial.to_excel(writer, 'clinic binary')\n",
    "with pd.option_context('display.max_rows', len(diff_binomial)):\n",
    "    display(diff_binomial)"
   ]
  },
  {
   "cell_type": "markdown",
   "id": "e69b0063-098d-4ad8-aa8c-1c3a99b17d5f",
   "metadata": {},
   "source": [
    "## Olink - uncontrolled"
   ]
  },
  {
   "cell_type": "code",
   "execution_count": null,
   "id": "6f877d1d-9dd9-4e11-9211-8bba7f112763",
   "metadata": {},
   "outputs": [],
   "source": [
    "olink.loc[:, olink.isna().any()].describe()"
   ]
  },
  {
   "cell_type": "code",
   "execution_count": null,
   "id": "6ebd5be7-cf73-412b-9124-007db58b18ff",
   "metadata": {},
   "outputs": [],
   "source": [
    "ana_diff_olink = src.stats.diff_analysis(olink, happend, event_names=('died', 'alive')).sort_values(('ttest', 'p-val'))\n",
    "ana_diff_olink.to_excel(writer, \"olink simple\")\n",
    "with pd.option_context('display.max_rows', len(ana_diff_olink)):\n",
    "    display(ana_diff_olink)"
   ]
  },
  {
   "cell_type": "markdown",
   "id": "962d97f7-264c-4eca-be3c-9fe36a54de7b",
   "metadata": {},
   "source": [
    "## Olink - controlled for with clinical covariates"
   ]
  },
  {
   "cell_type": "code",
   "execution_count": null,
   "id": "89536b7e-3695-498b-9fc3-6b6127f6b7fa",
   "metadata": {},
   "outputs": [],
   "source": [
    "covar = [cols_clinic.Sex, cols_clinic.Age, *config.clinic_data.comorbidities]\n",
    "covar"
   ]
  },
  {
   "cell_type": "code",
   "execution_count": null,
   "id": "3695504d-4889-4aff-89c0-9cdf44041231",
   "metadata": {},
   "outputs": [],
   "source": [
    "olink.columns.name='gene'"
   ]
  },
  {
   "cell_type": "code",
   "execution_count": null,
   "id": "2eb9773d-c7e6-422f-a0d2-66e3fdf9998a",
   "metadata": {},
   "outputs": [],
   "source": [
    "clinic_ancova = [TARGET, *covar] \n",
    "clinic_ancova = clinic[clinic_ancova].copy()\n",
    "clinic_ancova = clinic_ancova.dropna() # for now discard all rows with a missing feature\n",
    "categorical_columns = clinic_ancova.columns[clinic_ancova.dtypes == 'category']\n",
    "print(categorical_columns)\n",
    "for categorical_column in categorical_columns:\n",
    "    # only works if no NA and only binary variables!\n",
    "    clinic_ancova[categorical_column] = clinic_ancova[categorical_column].cat.codes\n",
    "clinic_ancova.describe()"
   ]
  },
  {
   "cell_type": "code",
   "execution_count": null,
   "id": "1d592131-53a4-46f9-a5ae-ca009e5704ff",
   "metadata": {},
   "outputs": [],
   "source": [
    "# ana_diff_olink = src.stats.diff_analysis(olink, happend, event_names=('died', 'alive'))\n",
    "# with pd.option_context('display.max_rows', len(ana_diff_olink)):\n",
    "#     display(ana_diff_olink.sort_values(('ttest', 'p-val')))\n",
    "\n",
    "ancova = src.stats.groups_comparision.ancova_per_feat(olink, clinic_ancova, target=TARGET, covar=covar).sort_values('qvalue')\n",
    "ancova.to_excel(writer, \"olink controlled\")\n",
    "ancova.head(20)"
   ]
  },
  {
   "cell_type": "code",
   "execution_count": null,
   "id": "537ca250-7637-4405-a1fb-d29893553ace",
   "metadata": {},
   "outputs": [],
   "source": [
    "writer.close()"
   ]
  },
  {
   "cell_type": "markdown",
   "id": "cd5d4ea6-89a3-4a6b-84f0-85d886b4fb62",
   "metadata": {},
   "source": [
    "# PCA "
   ]
  },
  {
   "cell_type": "markdown",
   "id": "0986f6f0-7508-4aa0-9dfa-2b1e27777309",
   "metadata": {},
   "source": [
    "## Missing values handling"
   ]
  },
  {
   "cell_type": "code",
   "execution_count": null,
   "id": "de597e7a-c395-4809-9d35-67ada73523d7",
   "metadata": {},
   "outputs": [],
   "source": [
    "def info_missing(df):\n",
    "    N, M = olink.shape\n",
    "    msg = \"{} missing features out of {} measurments, corresponding to {:.3f}%\"\n",
    "    msg = msg.format(df.isna().sum().sum(), N * M,\n",
    "                     df.isna().sum().sum() / (N * M) * 100)\n",
    "    print(msg)\n",
    "    return msg\n",
    "\n",
    "_ = info_missing(olink)"
   ]
  },
  {
   "cell_type": "markdown",
   "id": "b0f42717-1a09-4d50-b84a-64ee8a281bce",
   "metadata": {},
   "source": [
    "## PCA on scaled data \n",
    "\n",
    "- missing values set to zero"
   ]
  },
  {
   "cell_type": "code",
   "execution_count": null,
   "id": "f1e73b8c-951b-486e-ab68-9a9010d893c5",
   "metadata": {},
   "outputs": [],
   "source": [
    "olink_scaled = StandardScaler().fit_transform(olink).fillna(0)\n",
    "\n",
    "PCs, pca = run_pca(olink_scaled, n_components=None)\n",
    "PCs.iloc[:10, :10]"
   ]
  },
  {
   "cell_type": "code",
   "execution_count": null,
   "id": "abe58a57-8041-4283-865b-623debe97d84",
   "metadata": {},
   "outputs": [],
   "source": [
    "olink.columns[np.argmax(np.abs(pca.components_[:,0]))] # eigenvector first PCa, absolut arg max -> variable"
   ]
  },
  {
   "cell_type": "code",
   "execution_count": null,
   "id": "4cb1c1be-668a-4b28-a79d-87c91039d4d0",
   "metadata": {},
   "outputs": [],
   "source": [
    "exp_var_olink = pd.Series(pca.explained_variance_ratio_).to_frame('explained variance')\n",
    "exp_var_olink[\"explained variance (cummulated)\"] = exp_var_olink['explained variance'].cumsum()\n",
    "exp_var_olink.index.name = 'PC'\n",
    "ax = exp_var_olink.plot()"
   ]
  },
  {
   "cell_type": "code",
   "execution_count": null,
   "id": "976682c3-90ad-4555-a58c-2d5bc627a226",
   "metadata": {},
   "outputs": [],
   "source": [
    "ax = seaborn.scatterplot(x=PCs.iloc[:,0], y=PCs.iloc[:, 1], hue=clinic[TARGET])"
   ]
  },
  {
   "cell_type": "markdown",
   "id": "06a0f362-4a2f-42dc-80f0-36282b5c15be",
   "metadata": {},
   "source": [
    "# Initial Modeling"
   ]
  },
  {
   "cell_type": "code",
   "execution_count": null,
   "id": "d51b6944-c1a6-44cb-bb23-21a067684b73",
   "metadata": {},
   "outputs": [],
   "source": [
    "y_true = clinic[TARGET]\n",
    "predictions = y_true.to_frame('true')\n",
    "y_true.value_counts()"
   ]
  },
  {
   "cell_type": "code",
   "execution_count": null,
   "id": "d3025564-4485-4656-8157-3fd07a3a71fe",
   "metadata": {},
   "outputs": [],
   "source": [
    "(y_true.value_counts() / len(y_true))"
   ]
  },
  {
   "cell_type": "markdown",
   "id": "5f297c95-1897-4fa0-8759-a6e25cef9176",
   "metadata": {},
   "source": [
    "## Baseline\n",
    "- `age`, `decompensated`, `child-pugh` "
   ]
  },
  {
   "cell_type": "code",
   "execution_count": null,
   "id": "8e5a66e9-476d-4c4a-bfe9-eb169acbaafd",
   "metadata": {},
   "outputs": [],
   "source": [
    "X = [cols_clinic.Age, cols_clinic.ChildPugh]\n",
    "X = clinic[X].copy()\n",
    "X.loc[:,'decompensated'] = clinic.DecomensatedAtDiagnosis.cat.codes\n",
    "\n",
    "weights= sklearn.utils.class_weight.compute_sample_weight('balanced', y_true)\n",
    "\n",
    "log_reg = sklearn.linear_model.LogisticRegression()\n",
    "log_reg = log_reg.fit(X=X, y=y_true, sample_weight=weights)"
   ]
  },
  {
   "cell_type": "code",
   "execution_count": null,
   "id": "1155f871-0b37-4f83-b1c6-422a0307af4e",
   "metadata": {},
   "outputs": [],
   "source": [
    "y_pred = log_reg.predict(X)\n",
    "predictions['baseline weighted (LR)'] = y_pred\n",
    "ConfusionMatrix(y_true, y_pred).as_dataframe"
   ]
  },
  {
   "cell_type": "markdown",
   "id": "fadd6100-5a9f-4939-a8c6-7b64fd72da01",
   "metadata": {},
   "source": [
    "## Logistic Regression"
   ]
  },
  {
   "cell_type": "code",
   "execution_count": null,
   "id": "4f1fd832-7e84-44b8-aedb-473ae817f1ad",
   "metadata": {},
   "outputs": [],
   "source": [
    "X = PCs.iloc[:,:5]"
   ]
  },
  {
   "cell_type": "markdown",
   "id": "3dc8f94e-b218-48d0-9e16-9053371d18c1",
   "metadata": {},
   "source": [
    "### With weights"
   ]
  },
  {
   "cell_type": "code",
   "execution_count": null,
   "id": "c6b75c52-afd8-46ad-95af-847a9e29103f",
   "metadata": {},
   "outputs": [],
   "source": [
    "weights= sklearn.utils.class_weight.compute_sample_weight('balanced', y_true)\n",
    "\n",
    "log_reg = sklearn.linear_model.LogisticRegression()\n",
    "log_reg = log_reg.fit(X=X, y=y_true, sample_weight=weights)"
   ]
  },
  {
   "cell_type": "code",
   "execution_count": null,
   "id": "8be079dc-1843-4c0d-a671-98a08d9afef8",
   "metadata": {},
   "outputs": [],
   "source": [
    "scores = dict(ref_score=(y_true.value_counts() / len(clinic)).max(),\n",
    "              model_score=log_reg.score(X, y_true, sample_weight=None))\n",
    "\n",
    "scores"
   ]
  },
  {
   "cell_type": "code",
   "execution_count": null,
   "id": "2a45237c-123d-4ed5-a9d1-4dc48c3cd1ad",
   "metadata": {},
   "outputs": [],
   "source": [
    "y_pred = log_reg.predict(X)\n",
    "predictions['5 PCs weighted (LR)'] = y_pred\n",
    "\n",
    "ConfusionMatrix(y_true, y_pred).as_dataframe"
   ]
  },
  {
   "cell_type": "code",
   "execution_count": null,
   "id": "522d5e1a-d186-4ceb-aedc-ed2fc4397be1",
   "metadata": {},
   "outputs": [],
   "source": [
    "pivot = y_true.to_frame()\n",
    "pivot['pred'] = y_pred\n",
    "pivot = pivot.join(clinic.dead.astype(int))\n",
    "pivot.describe().iloc[:2]"
   ]
  },
  {
   "cell_type": "code",
   "execution_count": null,
   "id": "402173bf-25ae-4ec5-a82c-1e2f4a0e793e",
   "metadata": {},
   "outputs": [],
   "source": [
    "pd.pivot_table(pivot, values='pred', index=TARGET, columns='dead', aggfunc='sum')"
   ]
  },
  {
   "cell_type": "code",
   "execution_count": null,
   "id": "cae89ff8-19d3-4173-bf1b-c6e1e8e25aa9",
   "metadata": {},
   "outputs": [],
   "source": [
    "pd.pivot_table(pivot, values='dead', index=TARGET, columns='pred', aggfunc='sum')"
   ]
  },
  {
   "cell_type": "code",
   "execution_count": null,
   "id": "b8690611-ff42-4f41-babe-e28508639bde",
   "metadata": {},
   "outputs": [],
   "source": [
    "pivot.groupby(['pred', TARGET]).agg({'dead': ['count', 'sum']}) # more detailed"
   ]
  },
  {
   "cell_type": "markdown",
   "id": "f8fc6421-911c-47b8-9632-a1075e0db65d",
   "metadata": {},
   "source": [
    "### Without weights, but adapting cutoff"
   ]
  },
  {
   "cell_type": "code",
   "execution_count": null,
   "id": "597857e6-4b16-4c2e-8f10-01b0fbec938f",
   "metadata": {},
   "outputs": [],
   "source": [
    "log_reg = log_reg.fit(X=X, y=y_true, sample_weight=None)\n",
    "\n",
    "y_prob = log_reg.predict_proba(X)[:,1]"
   ]
  },
  {
   "cell_type": "code",
   "execution_count": null,
   "id": "9d527f84-e8b7-49cf-851f-11b8faa462fe",
   "metadata": {},
   "outputs": [],
   "source": [
    "fpr, tpr, cutoffs = roc_curve(y_true, y_prob)\n",
    "roc = pd.DataFrame([fpr, tpr, cutoffs], index='fpr tpr cutoffs'.split())\n",
    "ax = roc.T.plot('fpr', 'tpr')"
   ]
  },
  {
   "cell_type": "code",
   "execution_count": null,
   "id": "a99708f0-9bd2-4b22-8fd3-f88932e945a4",
   "metadata": {},
   "outputs": [],
   "source": [
    "precision, recall, cutoffs = precision_recall_curve(y_true, y_prob)\n",
    "prc = pd.DataFrame([precision, recall, cutoffs], index='precision recall cutoffs'.split())\n",
    "prc"
   ]
  },
  {
   "cell_type": "code",
   "execution_count": null,
   "id": "9488f5e8-59cc-4abd-a4f6-ae0fd9cfe3c0",
   "metadata": {},
   "outputs": [],
   "source": [
    "ax = prc.T.plot('recall', 'precision', ylabel='precision')"
   ]
  },
  {
   "cell_type": "code",
   "execution_count": null,
   "id": "aa82818e-8235-44a4-86a8-ab01e6607552",
   "metadata": {},
   "outputs": [],
   "source": [
    "prc.loc['f1_score'] = 2 * (prc.loc['precision'] * prc.loc['recall']) / (1/prc.loc['precision'] + 1/prc.loc['recall']) \n",
    "f1_max = prc[prc.loc['f1_score'].argmax()]\n",
    "f1_max"
   ]
  },
  {
   "cell_type": "code",
   "execution_count": null,
   "id": "7fcfac06-cf16-4514-a341-12050303c7c8",
   "metadata": {},
   "outputs": [],
   "source": [
    "y_pred = pd.Series((y_prob > f1_max.loc['cutoffs']), index=PCs.index).astype(int)\n",
    "\n",
    "predictions['5 PCs (LR)'] = y_pred\n",
    "\n",
    "ConfusionMatrix(y_true, y_pred).as_dataframe # this needs to be augmented with information if patient died by now (to see who is \"wrongly classified)\")"
   ]
  },
  {
   "cell_type": "code",
   "execution_count": null,
   "id": "0d0fe153-39ca-49e8-9007-0ea53759ad90",
   "metadata": {},
   "outputs": [],
   "source": [
    "pivot = y_pred.to_frame('pred').join(y_true).join(clinic.dead.astype(int))\n",
    "pivot.describe().iloc[:2]"
   ]
  },
  {
   "cell_type": "markdown",
   "id": "a232999b-2bc3-44bb-a6ca-61e49944a374",
   "metadata": {},
   "source": [
    "How many will die for those who have been predicted to die?"
   ]
  },
  {
   "cell_type": "code",
   "execution_count": null,
   "id": "3443648a-9bcc-4794-950b-e2cb32e788b2",
   "metadata": {},
   "outputs": [],
   "source": [
    "pd.pivot_table(pivot, values='pred', index=TARGET, columns='dead', aggfunc='sum')"
   ]
  },
  {
   "cell_type": "code",
   "execution_count": null,
   "id": "054ef3ca-45cd-423a-81ec-ed020212adc8",
   "metadata": {},
   "outputs": [],
   "source": [
    "pivot.groupby(['pred', TARGET]).agg({'dead': ['count', 'sum']}) # more detailed"
   ]
  },
  {
   "cell_type": "markdown",
   "id": "8fad3476-9200-4456-992e-f491c3470355",
   "metadata": {},
   "source": [
    "## Compare prediction errors between models"
   ]
  },
  {
   "cell_type": "code",
   "execution_count": null,
   "id": "c6fc40f3-c6fa-4063-9d82-58647ca06e92",
   "metadata": {},
   "outputs": [],
   "source": [
    "def get_mask_fp_tn(predictions:pd.DataFrame):\n",
    "    N, M = predictions.shape\n",
    "    row_sums = predictions.sum(axis=1)\n",
    "    mask = (row_sums == 0) | (row_sums==M)\n",
    "    return ~mask\n",
    "mask_fp_tn = get_mask_fp_tn(predictions)\n",
    "predictions.loc[mask_fp_tn].sort_values(by='true', ascending=False)"
   ]
  },
  {
   "cell_type": "code",
   "execution_count": null,
   "id": "cab058a5-ee03-4bc8-8274-1f8f64a1d08b",
   "metadata": {},
   "outputs": [],
   "source": [
    "sel_clinic_cols = [cols_clinic.Age, cols_clinic.DiagnosisPlace, cols_clinic.Heartdisease, cols_clinic.DaysToAdmFromInclusion, cols_clinic.DaysToDeathFromInclusion, cols_clinic.DaysToDeathFromInfl, cols_clinic.DateInclusion, cols_clinic.DateBiochemistry_, cols_clinic.DateImmunoglobulins_, cols_clinic.DateInflSample]\n",
    "predictions.loc[mask_fp_tn].loc[y_true.astype(bool)].sort_values(by='true', ascending=False).join(clinic[sel_clinic_cols])"
   ]
  },
  {
   "cell_type": "code",
   "execution_count": null,
   "id": "71b673b0-8586-49d3-b224-b2fa7ef09b6a",
   "metadata": {},
   "outputs": [],
   "source": [
    "mask_tp = predictions.sum(axis=1) == 4\n",
    "predictions.loc[mask_tp].join(clinic[sel_clinic_cols])"
   ]
  },
  {
   "cell_type": "markdown",
   "id": "94c9cf28-c323-438e-9dbd-e555546e918d",
   "metadata": {},
   "source": [
    "## Plot TP, TN, FP and FN on PCA plot"
   ]
  },
  {
   "cell_type": "code",
   "execution_count": null,
   "id": "a58e7793-6f8a-464e-9639-86ac3ba12921",
   "metadata": {},
   "outputs": [],
   "source": [
    "model_pred_cols = predictions.columns[1:5].to_list()\n",
    "model_pred_cols"
   ]
  },
  {
   "cell_type": "code",
   "execution_count": null,
   "id": "ca33491f-7e90-49ce-b089-45cdb6b34e7d",
   "metadata": {},
   "outputs": [],
   "source": [
    "binary_labels = pd.DataFrame()\n",
    "\n",
    "TRUE_COL = 'true'\n",
    "for model_pred_col in model_pred_cols:\n",
    "    binary_labels[model_pred_col] = predictions.apply(lambda x: src.sklearn.scoring.get_label_binary_classification(\n",
    "        x[TRUE_COL], x[model_pred_col]),\n",
    "                      axis=1)\n",
    "binary_labels.sample(6)"
   ]
  },
  {
   "cell_type": "code",
   "execution_count": null,
   "id": "0697a0c6-c000-407b-a8a6-a14be7e69294",
   "metadata": {},
   "outputs": [],
   "source": [
    "colors = seaborn.color_palette(n_colors=4)\n",
    "colors"
   ]
  },
  {
   "cell_type": "code",
   "execution_count": null,
   "id": "9af1ee9d-2b1c-4e03-8218-7ceac962401a",
   "metadata": {},
   "outputs": [],
   "source": [
    "import matplotlib.pyplot as plt\n",
    "fig, axes = plt.subplots(3,1, figsize=(10,20), sharex=True, sharey=True)\n",
    "for model_pred_col, ax in zip(binary_labels.columns, axes.ravel()):\n",
    "    ax = seaborn.scatterplot(x=PCs.iloc[:,0], y=PCs.iloc[:, 1], hue=binary_labels[model_pred_col], hue_order=['TN', 'TP', 'FN', 'FP'],\n",
    "                             # palette=colors,\n",
    "                             palette=[colors[0], colors[2], colors[1], colors[3]],\n",
    "                             ax=ax)\n",
    "    ax.set_title(model_pred_col)"
   ]
  }
 ],
 "metadata": {
  "jupytext": {
   "formats": "ipynb,py:percent"
  },
  "kernelspec": {
   "display_name": "Python 3 (ipykernel)",
   "language": "python",
   "name": "python3"
  },
  "language_info": {
   "codemirror_mode": {
    "name": "ipython",
    "version": 3
   },
   "file_extension": ".py",
   "mimetype": "text/x-python",
   "name": "python",
   "nbconvert_exporter": "python",
   "pygments_lexer": "ipython3",
   "version": "3.10.4"
  },
  "vscode": {
   "interpreter": {
    "hash": "4a7cb36f33b5487d941f082aa821b72e5ffcd123aba4697c50d4e81e1a75fb3c"
   }
  }
 },
 "nbformat": 4,
 "nbformat_minor": 5
}
