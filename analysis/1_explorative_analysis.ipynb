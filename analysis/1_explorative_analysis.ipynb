{
 "cells": [
  {
   "cell_type": "markdown",
   "id": "3a75abb0-7a52-4e8c-9b61-b1d75376ca8f",
   "metadata": {},
   "source": [
    "# Explorative Analysis"
   ]
  },
  {
   "cell_type": "code",
   "execution_count": null,
   "id": "9ff64eb7-f349-4ef7-999c-e78ae5067edc",
   "metadata": {},
   "outputs": [],
   "source": [
    "import numpy as np\n",
    "import pandas as pd\n",
    "\n",
    "import config\n",
    "\n",
    "pd.options.display.max_columns = 100\n",
    "pd.options.display.max_rows = 100\n",
    "pd.options.display.min_rows = 50"
   ]
  },
  {
   "cell_type": "code",
   "execution_count": null,
   "id": "1390b94e-9ec4-4905-be62-d4f59a0c3b2c",
   "metadata": {},
   "outputs": [],
   "source": [
    "clinic = pd.read_pickle(config.fname_pkl_clinic)\n",
    "olink = pd.read_pickle(config.fname_pkl_olink)"
   ]
  },
  {
   "cell_type": "code",
   "execution_count": null,
   "id": "cb049936-fc68-4c01-9596-1e0a03a4e99b",
   "metadata": {},
   "outputs": [],
   "source": [
    "pd.crosstab(clinic.DiagnosisPlace, clinic.dead)"
   ]
  },
  {
   "cell_type": "markdown",
   "id": "3da4183f-4039-40f4-955d-29235d4468dd",
   "metadata": {},
   "source": [
    "FirstAdmission is also right-censored"
   ]
  },
  {
   "cell_type": "code",
   "execution_count": null,
   "id": "bc6e7da0-87f8-45a8-b704-76c2ddfb668a",
   "metadata": {},
   "outputs": [],
   "source": [
    "time_from_diagnose_to_first_admission = clinic[\"DateFirstAdmission\"].fillna(config.STUDY_ENDDATE) - clinic[\"DateDiagnose\"]\n",
    "time_from_diagnose_to_first_admission.describe()"
   ]
  },
  {
   "cell_type": "markdown",
   "id": "52b36dc6-0647-4ca3-91ad-8a7bdb4d9d2b",
   "metadata": {},
   "source": [
    "Who dies without having a first Admission date?"
   ]
  },
  {
   "cell_type": "code",
   "execution_count": null,
   "id": "f37d0776-21b3-4aea-aae6-d9d4ffec0ae3",
   "metadata": {},
   "outputs": [],
   "source": [
    "dead_wo_adm = clinic[\"DateFirstAdmission\"].isna() & clinic['dead']\n",
    "idx_dead_wo_adm = dead_wo_adm.loc[dead_wo_adm].index\n",
    "print('Dead without admission to hospital:', *dead_wo_adm.loc[dead_wo_adm].index)\n",
    "clinic.loc[dead_wo_adm, [\"DateFirstAdmission\", \"DateDiagnose\", \"Admissions\"]]"
   ]
  }
 ],
 "metadata": {
  "jupytext": {
   "formats": "ipynb,auto:percent"
  },
  "kernelspec": {
   "display_name": "Python 3 (ipykernel)",
   "language": "python",
   "name": "python3"
  },
  "language_info": {
   "codemirror_mode": {
    "name": "ipython",
    "version": 3
   },
   "file_extension": ".py",
   "mimetype": "text/x-python",
   "name": "python",
   "nbconvert_exporter": "python",
   "pygments_lexer": "ipython3",
   "version": "3.10.4"
  }
 },
 "nbformat": 4,
 "nbformat_minor": 5
}
