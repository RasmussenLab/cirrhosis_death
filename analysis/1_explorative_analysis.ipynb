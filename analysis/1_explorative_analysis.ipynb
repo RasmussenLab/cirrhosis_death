{
 "cells": [
  {
   "cell_type": "markdown",
   "id": "3a75abb0-7a52-4e8c-9b61-b1d75376ca8f",
   "metadata": {},
   "source": [
    "# Explorative Analysis"
   ]
  },
  {
   "cell_type": "code",
   "execution_count": null,
   "id": "9ff64eb7-f349-4ef7-999c-e78ae5067edc",
   "metadata": {},
   "outputs": [],
   "source": [
    "from functools import partial\n",
    "from pathlib import Path\n",
    "import logging\n",
    "\n",
    "import numpy as np\n",
    "import pandas as pd\n",
    "\n",
    "import pingouin as pg\n",
    "import sklearn\n",
    "from sklearn.metrics import precision_recall_curve, roc_curve\n",
    "from lifelines import KaplanMeierFitter\n",
    "\n",
    "import matplotlib.pyplot as plt\n",
    "import seaborn\n",
    "\n",
    "import src\n",
    "from src.plotting.km import compare_km_curves\n",
    "import njab.plotting\n",
    "from njab.sklearn import run_pca, StandardScaler\n",
    "from njab.sklearn.scoring import ConfusionMatrix\n",
    "\n",
    "import config\n",
    "import njab"
   ]
  },
  {
   "cell_type": "markdown",
   "id": "bf2fc83e",
   "metadata": {},
   "source": [
    "# Set parameters"
   ]
  },
  {
   "cell_type": "code",
   "execution_count": null,
   "id": "7a8e4d0f",
   "metadata": {
    "tags": [
     "parameters"
    ]
   },
   "outputs": [],
   "source": [
    "TARGET = 'dead180infl'\n",
    "FOLDER = Path(config.folder_reports) / 'prodoc' / TARGET\n",
    "CLINIC = config.fname_pkl_prodoc_clinic\n",
    "OLINK = config.fname_pkl_prodoc_olink\n",
    "val_ids: str = ''  # List of comma separated values or filepath\n",
    "#\n",
    "clinic_cont = config.clinic_data.vars_cont  # list or string of csv, eg. \"var1,var2\"\n",
    "clinic_binary = config.clinic_data.vars_binary  # list or string of csv, eg. \"var1,var2\"\n",
    "da_covar = 'Sex,Age,Cancer,Depression,Psychiatric,Diabetes,HeartDiseaseTotal,Hypertension,HighCholesterol'  # List of comma separated values or filepath"
   ]
  },
  {
   "cell_type": "code",
   "execution_count": null,
   "id": "45f458fe-8c1b-44f1-8c1a-4ffa3556d879",
   "metadata": {},
   "outputs": [],
   "source": [
    "# TARGET = 'dead180infl'\n",
    "# # TARGET = 'hasLiverAdm180'\n",
    "# FOLDER = Path(config.folder_reports) / 'cirkaflow' / TARGET\n",
    "# CLINIC = config.fname_pkl_cirkaflow_clinic\n",
    "# OLINK = config.fname_pkl_cirkaflow_olink"
   ]
  },
  {
   "cell_type": "code",
   "execution_count": null,
   "id": "1dc6f046-c07e-4a8a-9992-7772429580f4",
   "metadata": {},
   "outputs": [],
   "source": [
    "Y_KM = config.Y_KM[TARGET]"
   ]
  },
  {
   "cell_type": "code",
   "execution_count": null,
   "id": "3c6787a4-638f-43ff-9a56-ba11ca9718d6",
   "metadata": {},
   "outputs": [],
   "source": [
    "if not FOLDER:\n",
    "    FOLDER = Path(config.folder_reports) / TARGET\n",
    "else:\n",
    "    FOLDER = Path(FOLDER)\n",
    "FOLDER.mkdir(exist_ok=True, parents=True)\n",
    "FOLDER"
   ]
  },
  {
   "cell_type": "code",
   "execution_count": null,
   "id": "1390b94e-9ec4-4905-be62-d4f59a0c3b2c",
   "metadata": {},
   "outputs": [],
   "source": [
    "clinic = pd.read_pickle(CLINIC)\n",
    "cols_clinic = src.pandas.get_colums_accessor(clinic)\n",
    "olink = pd.read_pickle(OLINK)"
   ]
  },
  {
   "cell_type": "code",
   "execution_count": null,
   "id": "cb049936-fc68-4c01-9596-1e0a03a4e99b",
   "metadata": {},
   "outputs": [],
   "source": [
    "# pd.crosstab(clinic.DiagnosisPlace, clinic[TARGET], margins=True)"
   ]
  },
  {
   "cell_type": "code",
   "execution_count": null,
   "id": "998032b8-31ef-45f9-a886-f1705ae2cda2",
   "metadata": {},
   "outputs": [],
   "source": [
    "check_isin_clinic = partial(src.pandas.col_isin_df, df=clinic)\n",
    "covar = check_isin_clinic(da_covar)\n",
    "covar"
   ]
  },
  {
   "cell_type": "code",
   "execution_count": null,
   "id": "6314a6c9-0b28-4ae6-b907-0dfd3a03c244",
   "metadata": {},
   "outputs": [],
   "source": [
    "vars_cont = check_isin_clinic(config.clinic_data.vars_cont)\n",
    "vars_cont"
   ]
  },
  {
   "cell_type": "code",
   "execution_count": null,
   "id": "d05f2fb5-1a49-49d0-bd8a-91280c00cf2d",
   "metadata": {},
   "outputs": [],
   "source": [
    "vars_binary = check_isin_clinic(config.clinic_data.vars_binary)\n",
    "vars_binary"
   ]
  },
  {
   "cell_type": "markdown",
   "id": "936b2c4d-6f28-439e-aec9-4f8925d30255",
   "metadata": {},
   "source": [
    "### Collect outputs"
   ]
  },
  {
   "cell_type": "code",
   "execution_count": null,
   "id": "b4d18dae-75bf-42b6-9687-89df4b680b23",
   "metadata": {},
   "outputs": [],
   "source": [
    "fname = FOLDER / '1_differential_analysis.xlsx'\n",
    "files_out = {fname.name: fname}\n",
    "writer = pd.ExcelWriter(fname)"
   ]
  },
  {
   "cell_type": "markdown",
   "id": "580e6baa",
   "metadata": {},
   "source": [
    "# Differences between groups defined by target"
   ]
  },
  {
   "cell_type": "code",
   "execution_count": null,
   "id": "fcae4703-5a36-4695-9c80-6161a93e2e8b",
   "metadata": {},
   "outputs": [],
   "source": [
    "clinic"
   ]
  },
  {
   "cell_type": "code",
   "execution_count": null,
   "id": "7c50b1a6",
   "metadata": {},
   "outputs": [],
   "source": [
    "target_counts = clinic[TARGET].value_counts()\n",
    "\n",
    "if target_counts.sum() < len(clinic):\n",
    "    print(\n",
    "        f\"Target has missing values. Can only use {target_counts.sum()} of {len(clinic)} samples.\"\n",
    "    )\n",
    "    mask = clinic[TARGET].notna()\n",
    "    clinic, olink = clinic.loc[mask], olink.loc[mask]\n",
    "\n",
    "target_counts"
   ]
  },
  {
   "cell_type": "code",
   "execution_count": null,
   "id": "f0151c62-e20d-439f-9ff8-3c07fb27cac7",
   "metadata": {},
   "outputs": [],
   "source": [
    "# pd.crosstab(clinic[TARGET], clinic[\"DecomensatedAtDiagnosis\"])"
   ]
  },
  {
   "cell_type": "code",
   "execution_count": null,
   "id": "1a2fbb03",
   "metadata": {},
   "outputs": [],
   "source": [
    "happend = clinic[TARGET].astype(bool)"
   ]
  },
  {
   "cell_type": "markdown",
   "id": "aa05177f-e82b-481d-8c7e-832bf8bc0d21",
   "metadata": {},
   "source": [
    "## Continous"
   ]
  },
  {
   "cell_type": "code",
   "execution_count": null,
   "id": "542fac2c",
   "metadata": {},
   "outputs": [],
   "source": [
    "var = 'Age'\n",
    "# import scipy.stats\n",
    "# scipy.stats.ttest_ind(clinic.loc[happend, var], clinic.loc[~happend, var], equal_var=False) # same results as pengoin\n",
    "pg.ttest(clinic.loc[happend, var], clinic.loc[~happend, var])"
   ]
  },
  {
   "cell_type": "code",
   "execution_count": null,
   "id": "582325f0-bd80-47e0-acf3-5cd8a9ed9e39",
   "metadata": {},
   "outputs": [],
   "source": [
    "vars_cont = config.clinic_data.vars_cont\n",
    "ana_differential = njab.stats.groups_comparision.diff_analysis(\n",
    "    clinic[vars_cont],\n",
    "    happend,\n",
    "    event_names=(TARGET, 'no event'),\n",
    ")\n",
    "ana_differential = ana_differential.sort_values(('ttest', 'p-val'))\n",
    "\n",
    "ana_differential.to_excel(writer, \"clinic continous\", float_format='%.4f')\n",
    "\n",
    "ana_differential"
   ]
  },
  {
   "cell_type": "markdown",
   "id": "5eec39f3-f041-4fa8-b9ad-ed5485ca48ca",
   "metadata": {},
   "source": [
    "## Binary"
   ]
  },
  {
   "cell_type": "code",
   "execution_count": null,
   "id": "f7fd9387-5d5f-4a6a-85e8-9d32c87842fd",
   "metadata": {},
   "outputs": [],
   "source": [
    "clinic[vars_binary].describe()"
   ]
  },
  {
   "cell_type": "code",
   "execution_count": null,
   "id": "665d0f2e-a783-4932-85f0-d59dc760e2de",
   "metadata": {},
   "outputs": [],
   "source": [
    "vars_binary_created = check_isin_clinic(config.clinic_data.vars_binary_created)\n",
    "clinic[vars_binary_created].describe()"
   ]
  },
  {
   "cell_type": "markdown",
   "id": "d62e8560-b19f-43e9-a3dd-7a2367fe1be4",
   "metadata": {},
   "source": [
    "Might focus on discriminative power of\n",
    "  - DecompensatedAtDiagnosis\n",
    "  - alcohol consumption\n",
    "\n",
    "but the more accute diseases as heart disease and cancer seem to be distinctive"
   ]
  },
  {
   "cell_type": "code",
   "execution_count": null,
   "id": "5db35433-b055-47dc-ba24-64e0a968918d",
   "metadata": {},
   "outputs": [],
   "source": [
    "diff_binomial = []\n",
    "for var in vars_binary[1:] + vars_binary_created:\n",
    "    if len(clinic[var].cat.categories) == 2:\n",
    "        diff_binomial.append(\n",
    "            njab.stats.groups_comparision.binomtest(clinic[var],\n",
    "                                                    happend,\n",
    "                                                    event_names=(TARGET,\n",
    "                                                                 'no-event')))\n",
    "    else:\n",
    "        logging.warning(\n",
    "            f\"Non-binary variable: {var} with {len(clinic[var].cat.categories)} categories\"\n",
    "        )\n",
    "\n",
    "diff_binomial = pd.concat(diff_binomial).sort_values(\n",
    "    ('binomial test', 'pvalue'))\n",
    "diff_binomial.to_excel(writer, 'clinic binary', float_format='%.4f')\n",
    "with pd.option_context('display.max_rows', len(diff_binomial)):\n",
    "    display(diff_binomial)"
   ]
  },
  {
   "cell_type": "markdown",
   "id": "e69b0063-098d-4ad8-aa8c-1c3a99b17d5f",
   "metadata": {},
   "source": [
    "## Olink - uncontrolled"
   ]
  },
  {
   "cell_type": "code",
   "execution_count": null,
   "id": "6f877d1d-9dd9-4e11-9211-8bba7f112763",
   "metadata": {},
   "outputs": [],
   "source": [
    "olink.loc[:, olink.isna().any()].describe()"
   ]
  },
  {
   "cell_type": "code",
   "execution_count": null,
   "id": "a352cb3f-e3c4-4821-b05b-ab9a41f7f595",
   "metadata": {
    "lines_to_next_cell": 2
   },
   "outputs": [],
   "source": [
    "ana_diff_olink = njab.stats.groups_comparision.diff_analysis(\n",
    "    olink, happend, event_names=(TARGET, 'no-event')).sort_values(\n",
    "        ('ttest', 'p-val'))\n",
    "ana_diff_olink.to_excel(writer, \"olink simple\", float_format='%.4f')\n",
    "# with pd.option_context('display.max_rows', len(ana_diff_olink)):\n",
    "# display(ana_diff_olink)\n",
    "ana_diff_olink.head(20)"
   ]
  },
  {
   "cell_type": "markdown",
   "id": "962d97f7-264c-4eca-be3c-9fe36a54de7b",
   "metadata": {},
   "source": [
    "## Olink - controlled for with clinical covariates"
   ]
  },
  {
   "cell_type": "code",
   "execution_count": null,
   "id": "3695504d-4889-4aff-89c0-9cdf44041231",
   "metadata": {},
   "outputs": [],
   "source": [
    "olink.columns.name = 'OlinkID'"
   ]
  },
  {
   "cell_type": "code",
   "execution_count": null,
   "id": "3020a48a-32bb-486f-9f4f-d260c4b0e2eb",
   "metadata": {},
   "outputs": [],
   "source": [
    "clinic_ancova = [TARGET, *covar]\n",
    "clinic_ancova = clinic[clinic_ancova].copy()\n",
    "clinic_ancova.describe(include='all')"
   ]
  },
  {
   "cell_type": "code",
   "execution_count": null,
   "id": "f50b0b0e-5d51-4517-a913-c64b8e1bca17",
   "metadata": {},
   "outputs": [],
   "source": [
    "clinic_ancova = clinic_ancova.dropna(\n",
    ")  # for now discard all rows with a missing feature\n",
    "categorical_columns = clinic_ancova.columns[clinic_ancova.dtypes == 'category']\n",
    "print(\"Available covariates\", \", \".join(categorical_columns.to_list()))\n",
    "for categorical_column in categorical_columns:\n",
    "    # only works if no NA and only binary variables!\n",
    "    clinic_ancova[categorical_column] = clinic_ancova[\n",
    "        categorical_column].cat.codes\n",
    "\n",
    "desc_ancova = clinic_ancova.describe()\n",
    "desc_ancova.to_excel(writer, \"covars\", float_format='%.4f')\n",
    "desc_ancova"
   ]
  },
  {
   "cell_type": "code",
   "execution_count": null,
   "id": "0b7b41f0-c57b-495a-91ef-3d77c5e5c141",
   "metadata": {},
   "outputs": [],
   "source": [
    "if (desc_ancova.loc['std'] < 0.001).sum():\n",
    "    non_varying = desc_ancova.loc['std'] < 0.001\n",
    "    non_varying = non_varying[non_varying].index\n",
    "    print(\"Non varying columns: \", ', '.join(non_varying))\n",
    "    clinic_ancova = clinic_ancova.drop(non_varying, axis=1)\n",
    "    for col in non_varying:\n",
    "        covar.remove(col)"
   ]
  },
  {
   "cell_type": "code",
   "execution_count": null,
   "id": "1d592131-53a4-46f9-a5ae-ca009e5704ff",
   "metadata": {},
   "outputs": [],
   "source": [
    "ancova = njab.stats.ancova.AncovaOnlyTarget(\n",
    "    df_proteomics=olink.loc[clinic_ancova.index],\n",
    "    df_clinic=clinic_ancova,\n",
    "    target=TARGET,\n",
    "    covar=covar)\n",
    "ancova = ancova.ancova().sort_values('p-unc')\n",
    "ancova = ancova.loc[:, \"p-unc\":]\n",
    "ancova.columns = pd.MultiIndex.from_product([['ancova'], ancova.columns],\n",
    "                                            names=('test', 'var'))\n",
    "ancova.to_excel(writer, \"olink controlled\", float_format='%.4f')\n",
    "ancova.head(20)"
   ]
  },
  {
   "cell_type": "code",
   "execution_count": null,
   "id": "58084913-8d24-45a8-bf25-51dc96e26074",
   "metadata": {},
   "outputs": [],
   "source": [
    "ana_diff_olink = ana_diff_olink.join(ancova.reset_index(level=-1,\n",
    "                                                        drop=True)).sort_values(\n",
    "                                                            ('ancova', 'p-unc'))\n",
    "ana_diff_olink.to_excel(writer, \"olink DA\", float_format='%.4f')\n",
    "ana_diff_olink"
   ]
  },
  {
   "cell_type": "code",
   "execution_count": null,
   "id": "537ca250-7637-4405-a1fb-d29893553ace",
   "metadata": {},
   "outputs": [],
   "source": [
    "writer.close()"
   ]
  },
  {
   "cell_type": "markdown",
   "id": "46936611-8d1a-4d99-a2d0-9e706372be46",
   "metadata": {},
   "source": [
    "## KM plot for top marker"
   ]
  },
  {
   "cell_type": "code",
   "execution_count": null,
   "id": "ebf0ef3f-77fa-48b8-b03e-b311c8a69957",
   "metadata": {},
   "outputs": [],
   "source": [
    "marker = ana_diff_olink.iloc[0].name\n",
    "marker"
   ]
  },
  {
   "cell_type": "code",
   "execution_count": null,
   "id": "6e7750d8-f96a-4aea-8004-6fa3dc5d2bc2",
   "metadata": {},
   "outputs": [],
   "source": [
    "class_weight = 'balanced'\n",
    "# class_weight=None\n",
    "model = sklearn.linear_model.LogisticRegression(class_weight=class_weight)\n",
    "model = model.fit(X=olink[marker].to_frame(), y=happend)"
   ]
  },
  {
   "cell_type": "markdown",
   "id": "8407fc1a-46e6-4803-bebb-8cd3e57f9636",
   "metadata": {
    "tags": []
   },
   "source": [
    "For the univariate logistic regression\n",
    "$$ ln \\frac{p}{1-p} = \\beta_0 + \\beta_1 \\cdot x $$\n",
    "the cutoff `c=0.5` corresponds a feature value of: \n",
    "$$ x = - \\frac{\\beta_0}{\\beta_1} $$"
   ]
  },
  {
   "cell_type": "code",
   "execution_count": null,
   "id": "c308d2ca-e6b9-4a3f-b83d-514ba409bb95",
   "metadata": {},
   "outputs": [],
   "source": [
    "cutoff = -float(model.intercept_) / float(model.coef_)\n",
    "print(f\"Custom cutoff defined by Logistic regressor: {cutoff:.3f}\")"
   ]
  },
  {
   "cell_type": "code",
   "execution_count": null,
   "id": "5e52f64d-eb4b-4010-8881-de240ca41701",
   "metadata": {},
   "outputs": [],
   "source": [
    "pred = njab.sklearn.scoring.get_pred(model, olink[marker].to_frame())\n",
    "pred.sum()"
   ]
  },
  {
   "cell_type": "code",
   "execution_count": null,
   "id": "693228eb-6b07-49dc-af24-8156ca71b4fa",
   "metadata": {},
   "outputs": [],
   "source": [
    "y_km = clinic[Y_KM]\n",
    "compare_km_curves = partial(compare_km_curves,\n",
    "                            time=clinic[\"DaysToDeathFromInfl\"],\n",
    "                            y=y_km,\n",
    "                            xlabel='Days since inflammation sample',\n",
    "                            ylabel=f'rate {y_km.name}')\n",
    "\n",
    "ax = compare_km_curves(pred=pred)\n",
    "print(f\"Intercept {-float(model.intercept_):5.3f}, coef.: {float(model.coef_):5.3f}\")\n",
    "cutoff = -float(model.intercept_) / float(model.coef_)\n",
    "direction = '>' if model.coef_ > 0 else '<'\n",
    "print(\n",
    "    f\"Custom cutoff defined by Logistic regressor for {marker:>10}: {cutoff:.3f}\"\n",
    ")\n",
    "ax.set_title(\n",
    "    f'KM curve for {TARGET} and Olink marker {marker} (cutoff{direction}{cutoff:.2f})'\n",
    ")\n",
    "ax.legend([\n",
    "    f\"KP pred=0 (N={(~pred).sum()})\", '95% CI (pred=0)',\n",
    "    f\"KP pred=1 (N={pred.sum()})\", '95% CI (pred=1)'\n",
    "])\n",
    "fname = FOLDER / f'KM_plot_{marker}.pdf'\n",
    "files_out[fname.name] = fname\n",
    "njab.plotting.savefig(ax.get_figure(), fname)"
   ]
  },
  {
   "cell_type": "code",
   "execution_count": null,
   "id": "9ed13668-12a8-4f64-afb4-42fe6bf78794",
   "metadata": {},
   "outputs": [],
   "source": [
    "rejected = ana_diff_olink.query(\"`('ancova', 'rejected')` == True\")\n",
    "rejected"
   ]
  },
  {
   "cell_type": "markdown",
   "id": "26515c8a-38fb-4676-91be-f13ed92db05d",
   "metadata": {},
   "source": [
    "Direction of cutoff cannot be directly inferred from cutoff"
   ]
  },
  {
   "cell_type": "code",
   "execution_count": null,
   "id": "8ddd830a-8541-4cac-bcb8-f26577930b77",
   "metadata": {},
   "outputs": [],
   "source": [
    "for marker in rejected.index[1:]:  # first case done above currently\n",
    "    fig, ax = plt.subplots()\n",
    "    class_weight = 'balanced'\n",
    "    # class_weight=None\n",
    "    model = sklearn.linear_model.LogisticRegression(class_weight=class_weight)\n",
    "    model = model.fit(X=olink[marker].to_frame(), y=happend)\n",
    "    print(f\"Intercept {-float(model.intercept_):5.3f}, coef.: {float(model.coef_):5.3f}\")\n",
    "    cutoff = -float(model.intercept_) / float(model.coef_)\n",
    "    direction = '>' if model.coef_ > 0 else '<'\n",
    "    print(\n",
    "        f\"Custom cutoff defined by Logistic regressor for {marker:>10}: {cutoff:.3f}\"\n",
    "    )\n",
    "    pred = njab.sklearn.scoring.get_pred(model, olink[marker].to_frame())\n",
    "    ax = compare_km_curves(pred=pred)\n",
    "    ax.set_title(\n",
    "        f'KM curve for {TARGET} and Olink marker {marker} (cutoff{direction}{cutoff:.2f})'\n",
    "    )\n",
    "    ax.legend([\n",
    "        f\"KP pred=0 (N={(~pred).sum()})\", '95% CI (pred=0)',\n",
    "        f\"KP pred=1 (N={pred.sum()})\", '95% CI (pred=1)'\n",
    "    ])\n",
    "    fname = FOLDER / f'KM_plot_{marker}.pdf'\n",
    "    files_out[fname.name] = fname\n",
    "    njab.plotting.savefig(ax.get_figure(), fname)"
   ]
  },
  {
   "cell_type": "markdown",
   "id": "cd5d4ea6-89a3-4a6b-84f0-85d886b4fb62",
   "metadata": {},
   "source": [
    "# PCA"
   ]
  },
  {
   "cell_type": "markdown",
   "id": "0986f6f0-7508-4aa0-9dfa-2b1e27777309",
   "metadata": {
    "lines_to_next_cell": 2
   },
   "source": [
    "## Missing values handling"
   ]
  },
  {
   "cell_type": "code",
   "execution_count": null,
   "id": "de597e7a-c395-4809-9d35-67ada73523d7",
   "metadata": {},
   "outputs": [],
   "source": [
    "def info_missing(df):\n",
    "    N, M = olink.shape\n",
    "    msg = \"{} missing features out of {} measurments, corresponding to {:.3f}%\"\n",
    "    msg = msg.format(df.isna().sum().sum(), N * M,\n",
    "                     df.isna().sum().sum() / (N * M) * 100)\n",
    "    print(msg)\n",
    "    return msg\n",
    "\n",
    "\n",
    "_ = info_missing(olink)"
   ]
  },
  {
   "cell_type": "markdown",
   "id": "b0f42717-1a09-4d50-b84a-64ee8a281bce",
   "metadata": {},
   "source": [
    "## PCA on scaled data\n",
    "\n",
    "- missing values set to zero"
   ]
  },
  {
   "cell_type": "code",
   "execution_count": null,
   "id": "f1e73b8c-951b-486e-ab68-9a9010d893c5",
   "metadata": {},
   "outputs": [],
   "source": [
    "olink_scaled = StandardScaler().fit_transform(olink).fillna(0)\n",
    "\n",
    "PCs, pca = run_pca(olink_scaled, n_components=None)\n",
    "PCs.iloc[:10, :10]"
   ]
  },
  {
   "cell_type": "code",
   "execution_count": null,
   "id": "abe58a57-8041-4283-865b-623debe97d84",
   "metadata": {},
   "outputs": [],
   "source": [
    "olink.columns[np.argmax(np.abs(\n",
    "    pca.components_[:,\n",
    "                    0]))]  # eigenvector first PCa, absolut arg max -> variable"
   ]
  },
  {
   "cell_type": "code",
   "execution_count": null,
   "id": "4cb1c1be-668a-4b28-a79d-87c91039d4d0",
   "metadata": {},
   "outputs": [],
   "source": [
    "exp_var_olink = pd.Series(\n",
    "    pca.explained_variance_ratio_).to_frame('explained variance')\n",
    "exp_var_olink[\"explained variance (cummulated)\"] = exp_var_olink[\n",
    "    'explained variance'].cumsum()\n",
    "exp_var_olink.index.name = 'PC'\n",
    "ax = exp_var_olink.plot()\n",
    "fig = ax.get_figure()\n",
    "njab.plotting.savefig(fig, name=FOLDER / '1_PCs_distribution')"
   ]
  },
  {
   "cell_type": "code",
   "execution_count": null,
   "id": "976682c3-90ad-4555-a58c-2d5bc627a226",
   "metadata": {},
   "outputs": [],
   "source": [
    "ax = seaborn.scatterplot(x=PCs.iloc[:, 0], y=PCs.iloc[:, 1], hue=clinic[TARGET])\n",
    "fig = ax.get_figure()\n",
    "njab.plotting.savefig(fig, name=FOLDER / '1_PC1_vs_PC2.pdf')"
   ]
  },
  {
   "cell_type": "code",
   "execution_count": null,
   "id": "32ccc713-1ae2-4e10-ad3c-fa6f66209705",
   "metadata": {},
   "outputs": [],
   "source": [
    "#umap"
   ]
  }
 ],
 "metadata": {
  "jupytext": {
   "formats": "ipynb,py:percent"
  },
  "kernelspec": {
   "display_name": "Python 3 (ipykernel)",
   "language": "python",
   "name": "python3"
  },
  "language_info": {
   "codemirror_mode": {
    "name": "ipython",
    "version": 3
   },
   "file_extension": ".py",
   "mimetype": "text/x-python",
   "name": "python",
   "nbconvert_exporter": "python",
   "pygments_lexer": "ipython3",
   "version": "3.10.4"
  },
  "vscode": {
   "interpreter": {
    "hash": "4a7cb36f33b5487d941f082aa821b72e5ffcd123aba4697c50d4e81e1a75fb3c"
   }
  }
 },
 "nbformat": 4,
 "nbformat_minor": 5
}
