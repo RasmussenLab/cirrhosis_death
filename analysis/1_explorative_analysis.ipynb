{
 "cells": [
  {
   "cell_type": "markdown",
   "id": "3a75abb0-7a52-4e8c-9b61-b1d75376ca8f",
   "metadata": {},
   "source": [
    "# Explorative Analysis"
   ]
  },
  {
   "cell_type": "code",
   "execution_count": null,
   "id": "9ff64eb7-f349-4ef7-999c-e78ae5067edc",
   "metadata": {},
   "outputs": [],
   "source": [
    "import numpy as np\n",
    "import pandas as pd\n",
    "\n",
    "import pingouin as pg\n",
    "\n",
    "import src.stats\n",
    "from src.sklearn import run_pca, StandardScaler\n",
    "\n",
    "import config"
   ]
  },
  {
   "cell_type": "markdown",
   "id": "bf2fc83e",
   "metadata": {},
   "source": [
    "## Set parameters"
   ]
  },
  {
   "cell_type": "code",
   "execution_count": null,
   "id": "7a8e4d0f",
   "metadata": {},
   "outputs": [],
   "source": [
    "TARGET = 'dead_wi_90_f_infl_sample'"
   ]
  },
  {
   "cell_type": "code",
   "execution_count": null,
   "id": "1390b94e-9ec4-4905-be62-d4f59a0c3b2c",
   "metadata": {},
   "outputs": [],
   "source": [
    "clinic = pd.read_pickle(config.fname_pkl_clinic)\n",
    "olink = pd.read_pickle(config.fname_pkl_olink)"
   ]
  },
  {
   "cell_type": "code",
   "execution_count": null,
   "id": "cb049936-fc68-4c01-9596-1e0a03a4e99b",
   "metadata": {},
   "outputs": [],
   "source": [
    "pd.crosstab(clinic.DiagnosisPlace, clinic.dead)"
   ]
  },
  {
   "cell_type": "markdown",
   "id": "3da4183f-4039-40f4-955d-29235d4468dd",
   "metadata": {},
   "source": [
    "FirstAdmission is also right-censored"
   ]
  },
  {
   "cell_type": "code",
   "execution_count": null,
   "id": "bc6e7da0-87f8-45a8-b704-76c2ddfb668a",
   "metadata": {},
   "outputs": [],
   "source": [
    "time_from_diagnose_to_first_admission = clinic[\"DateFirstAdmission\"].fillna(config.STUDY_ENDDATE) - clinic[\"DateDiagnose\"]\n",
    "time_from_diagnose_to_first_admission.describe()"
   ]
  },
  {
   "cell_type": "markdown",
   "id": "52b36dc6-0647-4ca3-91ad-8a7bdb4d9d2b",
   "metadata": {},
   "source": [
    "Who dies without having a first Admission date?"
   ]
  },
  {
   "cell_type": "code",
   "execution_count": null,
   "id": "f37d0776-21b3-4aea-aae6-d9d4ffec0ae3",
   "metadata": {},
   "outputs": [],
   "source": [
    "dead_wo_adm = clinic[\"DateFirstAdmission\"].isna() & clinic['dead']\n",
    "idx_dead_wo_adm = dead_wo_adm.loc[dead_wo_adm].index\n",
    "print('Dead without admission to hospital:', *dead_wo_adm.loc[dead_wo_adm].index)\n",
    "clinic.loc[dead_wo_adm, [\"DateFirstAdmission\", \"DateDiagnose\", \"Admissions\"]]"
   ]
  },
  {
   "cell_type": "markdown",
   "id": "580e6baa",
   "metadata": {},
   "source": [
    "## Differences between groups defined by target"
   ]
  },
  {
   "cell_type": "code",
   "execution_count": null,
   "id": "fcae4703-5a36-4695-9c80-6161a93e2e8b",
   "metadata": {},
   "outputs": [],
   "source": [
    "clinic"
   ]
  },
  {
   "cell_type": "code",
   "execution_count": null,
   "id": "7c50b1a6",
   "metadata": {},
   "outputs": [],
   "source": [
    "clinic[TARGET].value_counts()"
   ]
  },
  {
   "cell_type": "code",
   "execution_count": null,
   "id": "f0151c62-e20d-439f-9ff8-3c07fb27cac7",
   "metadata": {},
   "outputs": [],
   "source": [
    "pd.crosstab(clinic[TARGET], clinic[\"DecomensatedAtDiagnosis\"])"
   ]
  },
  {
   "cell_type": "code",
   "execution_count": null,
   "id": "1a2fbb03",
   "metadata": {},
   "outputs": [],
   "source": [
    "happend = clinic[TARGET].astype(bool)"
   ]
  },
  {
   "cell_type": "markdown",
   "id": "aa05177f-e82b-481d-8c7e-832bf8bc0d21",
   "metadata": {},
   "source": [
    "### Continous"
   ]
  },
  {
   "cell_type": "code",
   "execution_count": null,
   "id": "542fac2c",
   "metadata": {},
   "outputs": [],
   "source": [
    "var = 'Age'\n",
    "# import scipy.stats \n",
    "# scipy.stats.ttest_ind(clinic.loc[happend, var], clinic.loc[~happend, var], equal_var=False) # same results as pengoin\n",
    "pg.ttest(clinic.loc[happend, var], clinic.loc[~happend, var])"
   ]
  },
  {
   "cell_type": "code",
   "execution_count": null,
   "id": "582325f0-bd80-47e0-acf3-5cd8a9ed9e39",
   "metadata": {},
   "outputs": [],
   "source": [
    "vars_cont = config.clinic_data.vars_cont\n",
    "ana_differential = src.stats.diff_analysis(\n",
    "    clinic[vars_cont],\n",
    "    happend,\n",
    "    event_names=('died', 'alive'),\n",
    ")\n",
    "ana_differential.sort_values(('ttest', 'p-val'))"
   ]
  },
  {
   "cell_type": "markdown",
   "id": "5eec39f3-f041-4fa8-b9ad-ed5485ca48ca",
   "metadata": {},
   "source": [
    "### Binary"
   ]
  },
  {
   "cell_type": "code",
   "execution_count": null,
   "id": "f7fd9387-5d5f-4a6a-85e8-9d32c87842fd",
   "metadata": {},
   "outputs": [],
   "source": [
    "clinic[config.clinic_data.vars_binary].describe()"
   ]
  },
  {
   "cell_type": "markdown",
   "id": "d62e8560-b19f-43e9-a3dd-7a2367fe1be4",
   "metadata": {},
   "source": [
    "Might focus on discriminative power of\n",
    "  - DecompensatedAtDiagnosis \n",
    "  - alcohol consumption\n",
    "  \n",
    "but the more accute diseases as heart disease and cancer seem to be distinctive"
   ]
  },
  {
   "cell_type": "code",
   "execution_count": null,
   "id": "5db35433-b055-47dc-ba24-64e0a968918d",
   "metadata": {},
   "outputs": [],
   "source": [
    "diff_binomial = []\n",
    "for var in config.clinic_data.vars_binary[1:]:\n",
    "      diff_binomial.append(src.stats.binomtest(clinic[var], happend))\n",
    "pd.concat(diff_binomial).sort_values(('binomial test', 'pvalue'))"
   ]
  },
  {
   "cell_type": "markdown",
   "id": "e69b0063-098d-4ad8-aa8c-1c3a99b17d5f",
   "metadata": {},
   "source": [
    "## Olink"
   ]
  },
  {
   "cell_type": "code",
   "execution_count": null,
   "id": "6f877d1d-9dd9-4e11-9211-8bba7f112763",
   "metadata": {},
   "outputs": [],
   "source": [
    "olink.loc[:, olink.isna().any()].describe()"
   ]
  },
  {
   "cell_type": "code",
   "execution_count": null,
   "id": "6ebd5be7-cf73-412b-9124-007db58b18ff",
   "metadata": {},
   "outputs": [],
   "source": [
    "ana_diff_olink = src.stats.diff_analysis(olink, happend, event_names=('died', 'alive'))\n",
    "ana_diff_olink.sort_values(('ttest', 'p-val'))"
   ]
  },
  {
   "cell_type": "markdown",
   "id": "cd5d4ea6-89a3-4a6b-84f0-85d886b4fb62",
   "metadata": {},
   "source": [
    "## PCA "
   ]
  },
  {
   "cell_type": "markdown",
   "id": "0986f6f0-7508-4aa0-9dfa-2b1e27777309",
   "metadata": {},
   "source": [
    "### Missing values handling"
   ]
  },
  {
   "cell_type": "code",
   "execution_count": null,
   "id": "de597e7a-c395-4809-9d35-67ada73523d7",
   "metadata": {},
   "outputs": [],
   "source": [
    "def info_missing(df):\n",
    "    N, M = olink.shape\n",
    "    msg = \"{} missing features out of {} measurments, corresponding to {:.3f}%\"\n",
    "    msg = msg.format(df.isna().sum().sum(), N * M,\n",
    "                     df.isna().sum().sum() / (N * M) * 100)\n",
    "    print(msg)\n",
    "    return msg\n",
    "\n",
    "_ = info_missing(olink)"
   ]
  },
  {
   "cell_type": "markdown",
   "id": "b0f42717-1a09-4d50-b84a-64ee8a281bce",
   "metadata": {},
   "source": [
    "### PCA on scaled data \n",
    "\n",
    "- missing values set to zero"
   ]
  },
  {
   "cell_type": "code",
   "execution_count": null,
   "id": "f1e73b8c-951b-486e-ab68-9a9010d893c5",
   "metadata": {},
   "outputs": [],
   "source": [
    "olink_scaled = StandardScaler().fit_transform(olink).fillna(0)\n",
    "\n",
    "PCs, pca = run_pca(olink_scaled, n_components=None)\n",
    "PCs"
   ]
  },
  {
   "cell_type": "code",
   "execution_count": null,
   "id": "abe58a57-8041-4283-865b-623debe97d84",
   "metadata": {},
   "outputs": [],
   "source": [
    "olink.columns[np.argmax(np.abs(pca.components_[:,0]))] # eigenvector first PCa, absolut arg max -> variable"
   ]
  },
  {
   "cell_type": "code",
   "execution_count": null,
   "id": "4cb1c1be-668a-4b28-a79d-87c91039d4d0",
   "metadata": {},
   "outputs": [],
   "source": [
    "exp_var_olink = pd.Series(pca.explained_variance_ratio_).to_frame('explained variance')\n",
    "exp_var_olink[\"explained variance (cummulated)\"] = exp_var_olink['explained variance'].cumsum()\n",
    "exp_var_olink.index.name = 'PC'\n",
    "ax = exp_var_olink.plot()"
   ]
  },
  {
   "cell_type": "markdown",
   "id": "fadd6100-5a9f-4939-a8c6-7b64fd72da01",
   "metadata": {},
   "source": [
    "### Logistic Regression"
   ]
  },
  {
   "cell_type": "code",
   "execution_count": null,
   "id": "4f1fd832-7e84-44b8-aedb-473ae817f1ad",
   "metadata": {},
   "outputs": [],
   "source": [
    "import sklearn\n",
    "from sklearn.metrics import auc, precision_recall_curve, roc_curve\n",
    "\n",
    "from src.sklearn.scoring import ConfusionMatrix\n",
    "\n",
    "y_true = clinic[TARGET]\n",
    "X = PCs.iloc[:,:5]\n",
    "y_true.value_counts()"
   ]
  },
  {
   "cell_type": "markdown",
   "id": "3dc8f94e-b218-48d0-9e16-9053371d18c1",
   "metadata": {},
   "source": [
    "#### With weights"
   ]
  },
  {
   "cell_type": "code",
   "execution_count": null,
   "id": "c6b75c52-afd8-46ad-95af-847a9e29103f",
   "metadata": {},
   "outputs": [],
   "source": [
    "weights= sklearn.utils.class_weight.compute_sample_weight('balanced', y_true)\n",
    "\n",
    "log_reg = sklearn.linear_model.LogisticRegression()\n",
    "log_reg = log_reg.fit(X=X, y=y_true, sample_weight=weights)"
   ]
  },
  {
   "cell_type": "code",
   "execution_count": null,
   "id": "8be079dc-1843-4c0d-a671-98a08d9afef8",
   "metadata": {},
   "outputs": [],
   "source": [
    "scores = dict(ref_score=(y_true.value_counts() / len(clinic)).max(),\n",
    "              model_score=log_reg.score(X, y_true, sample_weight=None))\n",
    "\n",
    "scores"
   ]
  },
  {
   "cell_type": "code",
   "execution_count": null,
   "id": "2a45237c-123d-4ed5-a9d1-4dc48c3cd1ad",
   "metadata": {},
   "outputs": [],
   "source": [
    "y_pred = log_reg.predict(X)\n",
    "\n",
    "ConfusionMatrix(y_true, y_pred).as_dataframe"
   ]
  },
  {
   "cell_type": "code",
   "execution_count": null,
   "id": "522d5e1a-d186-4ceb-aedc-ed2fc4397be1",
   "metadata": {},
   "outputs": [],
   "source": [
    "pivot = y_true.to_frame()\n",
    "pivot['pred'] = y_pred\n",
    "pivot = pivot.join(clinic.dead.astype(int))\n",
    "pivot.describe().iloc[:2]"
   ]
  },
  {
   "cell_type": "code",
   "execution_count": null,
   "id": "402173bf-25ae-4ec5-a82c-1e2f4a0e793e",
   "metadata": {},
   "outputs": [],
   "source": [
    "pd.pivot_table(pivot, values='pred', index=TARGET, columns='dead', aggfunc='sum')"
   ]
  },
  {
   "cell_type": "code",
   "execution_count": null,
   "id": "cae89ff8-19d3-4173-bf1b-c6e1e8e25aa9",
   "metadata": {},
   "outputs": [],
   "source": [
    "pd.pivot_table(pivot, values='dead', index=TARGET, columns='pred', aggfunc='sum')"
   ]
  },
  {
   "cell_type": "code",
   "execution_count": null,
   "id": "b8690611-ff42-4f41-babe-e28508639bde",
   "metadata": {},
   "outputs": [],
   "source": [
    "pivot.groupby(['pred', TARGET]).agg({'dead': ['count', 'sum']}) # more detailed"
   ]
  },
  {
   "cell_type": "markdown",
   "id": "f8fc6421-911c-47b8-9632-a1075e0db65d",
   "metadata": {},
   "source": [
    "#### Without weights, but adapting cutoff"
   ]
  },
  {
   "cell_type": "code",
   "execution_count": null,
   "id": "83c4e01e-ad48-4a16-a128-0d0dcc614579",
   "metadata": {},
   "outputs": [],
   "source": [
    "log_reg = log_reg.fit(X=X, y=y_true, sample_weight=None)\n",
    "\n",
    "y_prob = log_reg.predict_proba(X)[:,1]\n",
    "y_pred = pd.Series((y_prob > 0.21), index=PCs.index).astype(int)\n",
    "\n",
    "ConfusionMatrix(y_true, y_pred).as_dataframe # this needs to be augmented with information if patient died by now (to see who is \"wrongly classified)\")"
   ]
  },
  {
   "cell_type": "code",
   "execution_count": null,
   "id": "0d0fe153-39ca-49e8-9007-0ea53759ad90",
   "metadata": {},
   "outputs": [],
   "source": [
    "pivot = y_pred.to_frame('pred').join(y_true).join(clinic.dead.astype(int))\n",
    "pivot.describe().iloc[:2]"
   ]
  },
  {
   "cell_type": "markdown",
   "id": "a232999b-2bc3-44bb-a6ca-61e49944a374",
   "metadata": {},
   "source": [
    "How many will die for those who have been predicted to die?"
   ]
  },
  {
   "cell_type": "code",
   "execution_count": null,
   "id": "3443648a-9bcc-4794-950b-e2cb32e788b2",
   "metadata": {},
   "outputs": [],
   "source": [
    "pd.pivot_table(pivot, values='pred', index=TARGET, columns='dead', aggfunc='sum')"
   ]
  },
  {
   "cell_type": "code",
   "execution_count": null,
   "id": "054ef3ca-45cd-423a-81ec-ed020212adc8",
   "metadata": {},
   "outputs": [],
   "source": [
    "pivot.groupby(['pred', TARGET]).agg({'dead': ['count', 'sum']}) # more detailed"
   ]
  },
  {
   "cell_type": "code",
   "execution_count": null,
   "id": "9d527f84-e8b7-49cf-851f-11b8faa462fe",
   "metadata": {},
   "outputs": [],
   "source": [
    "fpr, tpr, cutoffs = roc_curve(y_true, y_prob)\n",
    "roc = pd.DataFrame([fpr, tpr, cutoffs[::-1]], index='fpr tpr cutoffs'.split())\n",
    "ax = roc.T.plot('fpr', 'tpr')"
   ]
  },
  {
   "cell_type": "code",
   "execution_count": null,
   "id": "a99708f0-9bd2-4b22-8fd3-f88932e945a4",
   "metadata": {},
   "outputs": [],
   "source": [
    "precision, recall, cutoffs = precision_recall_curve(y_true, y_prob)\n",
    "prc = pd.DataFrame([precision, recall, cutoffs[::-1]], index='precision recall cutoffs'.split())\n",
    "prc"
   ]
  },
  {
   "cell_type": "code",
   "execution_count": null,
   "id": "9488f5e8-59cc-4abd-a4f6-ae0fd9cfe3c0",
   "metadata": {},
   "outputs": [],
   "source": [
    "ax = prc.T.plot('recall', 'precision', ylabel='precision')"
   ]
  }
 ],
 "metadata": {
  "jupytext": {
   "formats": "ipynb,py:percent"
  },
  "kernelspec": {
   "display_name": "Python 3 (ipykernel)",
   "language": "python",
   "name": "python3"
  },
  "language_info": {
   "codemirror_mode": {
    "name": "ipython",
    "version": 3
   },
   "file_extension": ".py",
   "mimetype": "text/x-python",
   "name": "python",
   "nbconvert_exporter": "python",
   "pygments_lexer": "ipython3",
   "version": "3.10.4"
  },
  "vscode": {
   "interpreter": {
    "hash": "4a7cb36f33b5487d941f082aa821b72e5ffcd123aba4697c50d4e81e1a75fb3c"
   }
  }
 },
 "nbformat": 4,
 "nbformat_minor": 5
}
