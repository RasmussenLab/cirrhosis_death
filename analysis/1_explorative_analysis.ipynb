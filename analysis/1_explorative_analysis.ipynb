{
 "cells": [
  {
   "cell_type": "markdown",
   "id": "3a75abb0-7a52-4e8c-9b61-b1d75376ca8f",
   "metadata": {},
   "source": [
    "# Explorative Analysis"
   ]
  },
  {
   "cell_type": "code",
   "execution_count": null,
   "id": "9ff64eb7-f349-4ef7-999c-e78ae5067edc",
   "metadata": {},
   "outputs": [],
   "source": [
    "import numpy as np\n",
    "import pandas as pd\n",
    "\n",
    "import pingouin as pg\n",
    "\n",
    "import src.stats\n",
    "from src.stats import means_between_groups\n",
    "\n",
    "import config"
   ]
  },
  {
   "cell_type": "markdown",
   "id": "bf2fc83e",
   "metadata": {},
   "source": [
    "## Set parameters"
   ]
  },
  {
   "cell_type": "code",
   "execution_count": null,
   "id": "7a8e4d0f",
   "metadata": {},
   "outputs": [],
   "source": [
    "TARGET = 'dead_90'"
   ]
  },
  {
   "cell_type": "code",
   "execution_count": null,
   "id": "1390b94e-9ec4-4905-be62-d4f59a0c3b2c",
   "metadata": {},
   "outputs": [],
   "source": [
    "clinic = pd.read_pickle(config.fname_pkl_clinic)\n",
    "olink = pd.read_pickle(config.fname_pkl_olink)"
   ]
  },
  {
   "cell_type": "code",
   "execution_count": null,
   "id": "cb049936-fc68-4c01-9596-1e0a03a4e99b",
   "metadata": {},
   "outputs": [],
   "source": [
    "pd.crosstab(clinic.DiagnosisPlace, clinic.dead)"
   ]
  },
  {
   "cell_type": "markdown",
   "id": "3da4183f-4039-40f4-955d-29235d4468dd",
   "metadata": {},
   "source": [
    "FirstAdmission is also right-censored"
   ]
  },
  {
   "cell_type": "code",
   "execution_count": null,
   "id": "bc6e7da0-87f8-45a8-b704-76c2ddfb668a",
   "metadata": {},
   "outputs": [],
   "source": [
    "time_from_diagnose_to_first_admission = clinic[\"DateFirstAdmission\"].fillna(config.STUDY_ENDDATE) - clinic[\"DateDiagnose\"]\n",
    "time_from_diagnose_to_first_admission.describe()"
   ]
  },
  {
   "cell_type": "markdown",
   "id": "52b36dc6-0647-4ca3-91ad-8a7bdb4d9d2b",
   "metadata": {},
   "source": [
    "Who dies without having a first Admission date?"
   ]
  },
  {
   "cell_type": "code",
   "execution_count": null,
   "id": "f37d0776-21b3-4aea-aae6-d9d4ffec0ae3",
   "metadata": {},
   "outputs": [],
   "source": [
    "dead_wo_adm = clinic[\"DateFirstAdmission\"].isna() & clinic['dead']\n",
    "idx_dead_wo_adm = dead_wo_adm.loc[dead_wo_adm].index\n",
    "print('Dead without admission to hospital:', *dead_wo_adm.loc[dead_wo_adm].index)\n",
    "clinic.loc[dead_wo_adm, [\"DateFirstAdmission\", \"DateDiagnose\", \"Admissions\"]]"
   ]
  },
  {
   "cell_type": "markdown",
   "id": "580e6baa",
   "metadata": {},
   "source": [
    "## Differences between groups defined by target"
   ]
  },
  {
   "cell_type": "code",
   "execution_count": null,
   "id": "7c50b1a6",
   "metadata": {},
   "outputs": [],
   "source": [
    "clinic"
   ]
  },
  {
   "cell_type": "code",
   "execution_count": null,
   "id": "1a2fbb03",
   "metadata": {},
   "outputs": [],
   "source": [
    "happend = clinic[TARGET].astype(bool)"
   ]
  },
  {
   "cell_type": "code",
   "execution_count": null,
   "id": "542fac2c",
   "metadata": {},
   "outputs": [],
   "source": [
    "var = 'Age'\n",
    "# import scipy.stats \n",
    "# scipy.stats.ttest_ind(clinic.loc[happend, var], clinic.loc[~happend, var], equal_var=False) # same results as pengoin\n",
    "pg.ttest(clinic.loc[happend, var], clinic.loc[~happend, var])"
   ]
  },
  {
   "cell_type": "code",
   "execution_count": null,
   "id": "1960012d",
   "metadata": {},
   "outputs": [],
   "source": [
    "\n",
    "\n",
    "group_diffs = means_between_groups(clinic, happend, event_names=('died', 'alive'))\n",
    "group_diffs"
   ]
  },
  {
   "cell_type": "code",
   "execution_count": null,
   "id": "f1298187",
   "metadata": {},
   "outputs": [],
   "source": [
    "def calc_stats(df:pd.DataFrame, boolean_array:pd.Series, vars:list[str]):\n",
    "    ret = []\n",
    "    for var in vars:\n",
    "        _ = pg.ttest(df.loc[boolean_array, var], df.loc[~boolean_array, var])\n",
    "        ret.append(_)\n",
    "    ret = pd.concat(ret)\n",
    "    ret = ret.set_index(group_diffs.index)\n",
    "    ret.columns.name = 'ttest'\n",
    "    ret.columns = pd.MultiIndex.from_product([['ttest'], ret.columns], names=('test', 'var'))\n",
    "    return ret\n",
    "\n",
    "ttests = calc_stats(clinic, happend, group_diffs.index)\n",
    "\n",
    "ttests"
   ]
  },
  {
   "cell_type": "code",
   "execution_count": null,
   "id": "89c65872",
   "metadata": {},
   "outputs": [],
   "source": [
    "group_diffs.join(ttests.loc[:, pd.IndexSlice[:,[\"alternative\", \"p-val\", \"cohen-d\"]]])"
   ]
  }
 ],
 "metadata": {
  "jupytext": {
   "formats": "ipynb,auto:percent"
  },
  "kernelspec": {
   "display_name": "Python 3 (ipykernel)",
   "language": "python",
   "name": "python3"
  },
  "language_info": {
   "codemirror_mode": {
    "name": "ipython",
    "version": 3
   },
   "file_extension": ".py",
   "mimetype": "text/x-python",
   "name": "python",
   "nbconvert_exporter": "python",
   "pygments_lexer": "ipython3",
   "version": "3.10.4"
  },
  "vscode": {
   "interpreter": {
    "hash": "4a7cb36f33b5487d941f082aa821b72e5ffcd123aba4697c50d4e81e1a75fb3c"
   }
  }
 },
 "nbformat": 4,
 "nbformat_minor": 5
}
