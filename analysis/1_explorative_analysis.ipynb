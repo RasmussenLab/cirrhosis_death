{
 "cells": [
  {
   "cell_type": "markdown",
   "id": "3a75abb0-7a52-4e8c-9b61-b1d75376ca8f",
   "metadata": {},
   "source": [
    "# Explorative Analysis"
   ]
  },
  {
   "cell_type": "code",
   "execution_count": null,
   "id": "9ff64eb7-f349-4ef7-999c-e78ae5067edc",
   "metadata": {},
   "outputs": [],
   "source": [
    "from pathlib import Path\n",
    "import logging\n",
    "\n",
    "import numpy as np\n",
    "import pandas as pd\n",
    "\n",
    "import pingouin as pg\n",
    "import seaborn\n",
    "import sklearn\n",
    "from sklearn.metrics import precision_recall_curve, roc_curve\n",
    "\n",
    "import src\n",
    "from src.sklearn import run_pca, StandardScaler\n",
    "from src.sklearn.scoring import ConfusionMatrix\n",
    "\n",
    "import config\n",
    "import njab"
   ]
  },
  {
   "cell_type": "markdown",
   "id": "bf2fc83e",
   "metadata": {},
   "source": [
    "# Set parameters"
   ]
  },
  {
   "cell_type": "code",
   "execution_count": null,
   "id": "7a8e4d0f",
   "metadata": {
    "tags": [
     "parameters"
    ]
   },
   "outputs": [],
   "source": [
    "TARGET = 'liverDead090infl'\n",
    "FOLDER = ''\n",
    "CLINIC=config.fname_pkl_clinic\n",
    "OLINK=config.fname_pkl_olink\n",
    "val_ids:str='' # List of comma separated values or filepath\n",
    "#\n",
    "clinic_cont=config.clinic_data.vars_cont # list or string of csv, eg. \"var1,var2\"\n",
    "clinic_binary=config.clinic_data.vars_binary # list or string of csv, eg. \"var1,var2\" \n",
    "da_covar='Sex,Age,Cancer,Depression,Psychiatric,Diabetes,HeartDiseaseTotal,Hypertension,HighCholesterol' # List of comma separated values or filepath"
   ]
  },
  {
   "cell_type": "code",
   "execution_count": null,
   "id": "6f45fbf7-6b08-41f9-846d-d3a968e1f97b",
   "metadata": {},
   "outputs": [],
   "source": [
    "# # compare ProDoc train and validation split\n",
    "# TARGET = 'is_valdiation_sample'\n",
    "# CLINIC=config.fname_pkl_prodoc_clinic\n",
    "# OLINK=config.fname_pkl_prodoc_olink\n",
    "# clinic_cont=('Age,IgM,IgG,IgA,Hgb,Leucocytes,Platelets,Bilirubin,Albumin,CRP,pp,INR,ALAT,MELD-score,MELD-Na,ChildPugh,')\n",
    "# clinic_binary=('Sex,EtiAlco,EtiFat,EtiHBV,EtiHCV,EtiPBC,EtiAIH,EtiMTX,EtiOther,EtiUnknown,DecomensatedAtDiagnosis,Ascites,EsoBleeding,HRS,HE,Icterus,SBP,'\n",
    "#                'Hypertension,HighCholesterol,Cancer,Depression,Psychiatric,Diabetes,InsulinDependent,Statins,NonselectBetaBlock'\n",
    "#                'dead090infl,dead180infl,liverDead090infl,liverDead180infl,hasAdm180,hasAdm90,hasLiverAdm90,hasLiverAdm180')"
   ]
  },
  {
   "cell_type": "code",
   "execution_count": null,
   "id": "3c6787a4-638f-43ff-9a56-ba11ca9718d6",
   "metadata": {},
   "outputs": [],
   "source": [
    "if not FOLDER:\n",
    "    FOLDER = Path(config.folder_reports) / TARGET\n",
    "    FOLDER.mkdir(exist_ok=True, parents=True)\n",
    "FOLDER"
   ]
  },
  {
   "cell_type": "code",
   "execution_count": null,
   "id": "1390b94e-9ec4-4905-be62-d4f59a0c3b2c",
   "metadata": {},
   "outputs": [],
   "source": [
    "clinic = pd.read_pickle(CLINIC)\n",
    "cols_clinic = src.pandas.get_colums_accessor(clinic)\n",
    "olink = pd.read_pickle(OLINK)"
   ]
  },
  {
   "cell_type": "code",
   "execution_count": null,
   "id": "cb049936-fc68-4c01-9596-1e0a03a4e99b",
   "metadata": {},
   "outputs": [],
   "source": [
    "pd.crosstab(clinic.DiagnosisPlace, clinic[TARGET], margins=True)"
   ]
  },
  {
   "cell_type": "code",
   "execution_count": null,
   "id": "998032b8-31ef-45f9-a886-f1705ae2cda2",
   "metadata": {},
   "outputs": [],
   "source": [
    "def join(l): return ','.join([str(x) for x in l])\n",
    "\n",
    "from typing import Union\n",
    "def check_isin_clinic(l:Union[list, str]):\n",
    "    \"\"\"Remove item from passed list and warn.\"\"\"\n",
    "    if isinstance(l, str):\n",
    "        l = l.split(',')\n",
    "    ret = list()\n",
    "    for _var in l:\n",
    "        if _var not in clinic.columns:\n",
    "            logging.warning(f\"Desired variable not found: {_var}\", stacklevel=0)\n",
    "            continue\n",
    "        ret.append(_var)\n",
    "    return ret\n",
    "\n",
    "# da_covar='Sex,Age,Cancer,missingvariable' # List of comma separated values or filepath\n",
    "covar = check_isin_clinic(da_covar)\n",
    "covar"
   ]
  },
  {
   "cell_type": "code",
   "execution_count": null,
   "id": "6314a6c9-0b28-4ae6-b907-0dfd3a03c244",
   "metadata": {},
   "outputs": [],
   "source": [
    "config.clinic_data.vars_cont = check_isin_clinic(config.clinic_data.vars_cont)"
   ]
  },
  {
   "cell_type": "code",
   "execution_count": null,
   "id": "d05f2fb5-1a49-49d0-bd8a-91280c00cf2d",
   "metadata": {},
   "outputs": [],
   "source": [
    "config.clinic_data.vars_binary = check_isin_clinic(config.clinic_data.vars_binary)"
   ]
  },
  {
   "cell_type": "markdown",
   "id": "580e6baa",
   "metadata": {},
   "source": [
    "# Differences between groups defined by target"
   ]
  },
  {
   "cell_type": "code",
   "execution_count": null,
   "id": "fcae4703-5a36-4695-9c80-6161a93e2e8b",
   "metadata": {},
   "outputs": [],
   "source": [
    "clinic"
   ]
  },
  {
   "cell_type": "code",
   "execution_count": null,
   "id": "7c50b1a6",
   "metadata": {},
   "outputs": [],
   "source": [
    "target_counts = clinic[TARGET].value_counts()\n",
    "\n",
    "if target_counts.sum() < len(clinic):\n",
    "    print(\n",
    "        f\"Target has missing values. Can only use {target_counts.sum()} of {len(clinic)} samples.\"\n",
    "    )\n",
    "    mask = clinic[TARGET].notna()\n",
    "    clinic, olink = clinic.loc[mask], olink.loc[mask]\n",
    "\n",
    "target_counts"
   ]
  },
  {
   "cell_type": "code",
   "execution_count": null,
   "id": "f0151c62-e20d-439f-9ff8-3c07fb27cac7",
   "metadata": {},
   "outputs": [],
   "source": [
    "pd.crosstab(clinic[TARGET], clinic[\"DecomensatedAtDiagnosis\"])"
   ]
  },
  {
   "cell_type": "code",
   "execution_count": null,
   "id": "1a2fbb03",
   "metadata": {},
   "outputs": [],
   "source": [
    "happend = clinic[TARGET].astype(bool)"
   ]
  },
  {
   "cell_type": "markdown",
   "id": "aa05177f-e82b-481d-8c7e-832bf8bc0d21",
   "metadata": {},
   "source": [
    "## Continous"
   ]
  },
  {
   "cell_type": "code",
   "execution_count": null,
   "id": "542fac2c",
   "metadata": {},
   "outputs": [],
   "source": [
    "var = 'Age'\n",
    "# import scipy.stats\n",
    "# scipy.stats.ttest_ind(clinic.loc[happend, var], clinic.loc[~happend, var], equal_var=False) # same results as pengoin\n",
    "pg.ttest(clinic.loc[happend, var], clinic.loc[~happend, var])"
   ]
  },
  {
   "cell_type": "code",
   "execution_count": null,
   "id": "582325f0-bd80-47e0-acf3-5cd8a9ed9e39",
   "metadata": {},
   "outputs": [],
   "source": [
    "vars_cont = config.clinic_data.vars_cont\n",
    "ana_differential = njab.stats.groups_comparision.diff_analysis(\n",
    "    clinic[vars_cont],\n",
    "    happend,\n",
    "    event_names=(TARGET, 'no event'),\n",
    ")\n",
    "ana_differential = ana_differential.sort_values(('ttest', 'p-val'))\n",
    "\n",
    "writer = pd.ExcelWriter(FOLDER / '1_differential_analysis.xlsx')\n",
    "ana_differential.to_excel(writer, \"clinic continous\")\n",
    "\n",
    "ana_differential"
   ]
  },
  {
   "cell_type": "markdown",
   "id": "5eec39f3-f041-4fa8-b9ad-ed5485ca48ca",
   "metadata": {},
   "source": [
    "## Binary"
   ]
  },
  {
   "cell_type": "code",
   "execution_count": null,
   "id": "f7fd9387-5d5f-4a6a-85e8-9d32c87842fd",
   "metadata": {},
   "outputs": [],
   "source": [
    "clinic[config.clinic_data.vars_binary].describe()"
   ]
  },
  {
   "cell_type": "markdown",
   "id": "d62e8560-b19f-43e9-a3dd-7a2367fe1be4",
   "metadata": {},
   "source": [
    "Might focus on discriminative power of\n",
    "  - DecompensatedAtDiagnosis\n",
    "  - alcohol consumption\n",
    "\n",
    "but the more accute diseases as heart disease and cancer seem to be distinctive"
   ]
  },
  {
   "cell_type": "code",
   "execution_count": null,
   "id": "5db35433-b055-47dc-ba24-64e0a968918d",
   "metadata": {},
   "outputs": [],
   "source": [
    "diff_binomial = []\n",
    "for var in config.clinic_data.vars_binary[1:]:\n",
    "    diff_binomial.append(\n",
    "        njab.stats.groups_comparision.binomtest(clinic[var],\n",
    "                            happend,\n",
    "                            event_names=(TARGET, 'no-event')))\n",
    "for var in config.clinic_data.vars_binary_created:\n",
    "    diff_binomial.append(\n",
    "        njab.stats.groups_comparision.binomtest(clinic[var],\n",
    "                            happend,\n",
    "                            event_names=(TARGET, 'no-event')))\n",
    "diff_binomial = pd.concat(diff_binomial).sort_values(\n",
    "    ('binomial test', 'pvalue'))\n",
    "diff_binomial.to_excel(writer, 'clinic binary')\n",
    "with pd.option_context('display.max_rows', len(diff_binomial)):\n",
    "    display(diff_binomial)"
   ]
  },
  {
   "cell_type": "markdown",
   "id": "e69b0063-098d-4ad8-aa8c-1c3a99b17d5f",
   "metadata": {},
   "source": [
    "## Olink - uncontrolled"
   ]
  },
  {
   "cell_type": "code",
   "execution_count": null,
   "id": "6f877d1d-9dd9-4e11-9211-8bba7f112763",
   "metadata": {},
   "outputs": [],
   "source": [
    "olink.loc[:, olink.isna().any()].describe()"
   ]
  },
  {
   "cell_type": "code",
   "execution_count": null,
   "id": "a352cb3f-e3c4-4821-b05b-ab9a41f7f595",
   "metadata": {
    "lines_to_next_cell": 2
   },
   "outputs": [],
   "source": [
    "ana_diff_olink = njab.stats.groups_comparision.diff_analysis(olink,\n",
    "                                         happend,\n",
    "                                         event_names=(TARGET,\n",
    "                                                      'no-event')).sort_values(\n",
    "                                                          ('ttest', 'p-val'))\n",
    "ana_diff_olink.to_excel(writer, \"olink simple\")\n",
    "with pd.option_context('display.max_rows', len(ana_diff_olink)):\n",
    "    display(ana_diff_olink)"
   ]
  },
  {
   "cell_type": "markdown",
   "id": "962d97f7-264c-4eca-be3c-9fe36a54de7b",
   "metadata": {},
   "source": [
    "## Olink - controlled for with clinical covariates"
   ]
  },
  {
   "cell_type": "code",
   "execution_count": null,
   "id": "3695504d-4889-4aff-89c0-9cdf44041231",
   "metadata": {},
   "outputs": [],
   "source": [
    "olink.columns.name = 'OlinkID'"
   ]
  },
  {
   "cell_type": "code",
   "execution_count": null,
   "id": "2eb9773d-c7e6-422f-a0d2-66e3fdf9998a",
   "metadata": {},
   "outputs": [],
   "source": [
    "clinic_ancova = [TARGET, *covar]\n",
    "clinic_ancova = clinic[clinic_ancova].copy()\n",
    "clinic_ancova = clinic_ancova.dropna(\n",
    ")  # for now discard all rows with a missing feature\n",
    "categorical_columns = clinic_ancova.columns[clinic_ancova.dtypes == 'category']\n",
    "print(categorical_columns)\n",
    "for categorical_column in categorical_columns:\n",
    "    # only works if no NA and only binary variables!\n",
    "    clinic_ancova[categorical_column] = clinic_ancova[\n",
    "        categorical_column].cat.codes\n",
    "clinic_ancova.describe()"
   ]
  },
  {
   "cell_type": "code",
   "execution_count": null,
   "id": "1d592131-53a4-46f9-a5ae-ca009e5704ff",
   "metadata": {},
   "outputs": [],
   "source": [
    "ancova = njab.stats.ancova.AncovaOnlyTarget(df_proteomics=olink, df_clinic=clinic_ancova, target=TARGET, covar=covar)\n",
    "ancova = ancova.ancova().sort_values('qvalue')\n",
    "ancova = ancova.loc[:, \"p-unc\":]\n",
    "ancova.columns = pd.MultiIndex.from_product([['ancova'], ancova.columns],\n",
    "                                         names=('test', 'var'))\n",
    "ancova.to_excel(writer, \"olink controlled\")\n",
    "ancova.head(20)"
   ]
  },
  {
   "cell_type": "code",
   "execution_count": null,
   "id": "58084913-8d24-45a8-bf25-51dc96e26074",
   "metadata": {},
   "outputs": [],
   "source": [
    "ana_diff_olink = ana_diff_olink.join(ancova.reset_index(level=-1, drop=True))\n",
    "ana_diff_olink.to_excel(writer, \"olink DA\")\n",
    "ana_diff_olink"
   ]
  },
  {
   "cell_type": "code",
   "execution_count": null,
   "id": "537ca250-7637-4405-a1fb-d29893553ace",
   "metadata": {},
   "outputs": [],
   "source": [
    "writer.close()"
   ]
  },
  {
   "cell_type": "markdown",
   "id": "cd5d4ea6-89a3-4a6b-84f0-85d886b4fb62",
   "metadata": {},
   "source": [
    "# PCA"
   ]
  },
  {
   "cell_type": "markdown",
   "id": "0986f6f0-7508-4aa0-9dfa-2b1e27777309",
   "metadata": {
    "lines_to_next_cell": 2
   },
   "source": [
    "## Missing values handling"
   ]
  },
  {
   "cell_type": "code",
   "execution_count": null,
   "id": "de597e7a-c395-4809-9d35-67ada73523d7",
   "metadata": {},
   "outputs": [],
   "source": [
    "def info_missing(df):\n",
    "    N, M = olink.shape\n",
    "    msg = \"{} missing features out of {} measurments, corresponding to {:.3f}%\"\n",
    "    msg = msg.format(df.isna().sum().sum(), N * M,\n",
    "                     df.isna().sum().sum() / (N * M) * 100)\n",
    "    print(msg)\n",
    "    return msg\n",
    "\n",
    "\n",
    "_ = info_missing(olink)"
   ]
  },
  {
   "cell_type": "markdown",
   "id": "b0f42717-1a09-4d50-b84a-64ee8a281bce",
   "metadata": {},
   "source": [
    "## PCA on scaled data\n",
    "\n",
    "- missing values set to zero"
   ]
  },
  {
   "cell_type": "code",
   "execution_count": null,
   "id": "f1e73b8c-951b-486e-ab68-9a9010d893c5",
   "metadata": {},
   "outputs": [],
   "source": [
    "olink_scaled = StandardScaler().fit_transform(olink).fillna(0)\n",
    "\n",
    "PCs, pca = run_pca(olink_scaled, n_components=None)\n",
    "PCs.iloc[:10, :10]"
   ]
  },
  {
   "cell_type": "code",
   "execution_count": null,
   "id": "abe58a57-8041-4283-865b-623debe97d84",
   "metadata": {},
   "outputs": [],
   "source": [
    "olink.columns[np.argmax(np.abs(\n",
    "    pca.components_[:,\n",
    "                    0]))]  # eigenvector first PCa, absolut arg max -> variable"
   ]
  },
  {
   "cell_type": "code",
   "execution_count": null,
   "id": "4cb1c1be-668a-4b28-a79d-87c91039d4d0",
   "metadata": {},
   "outputs": [],
   "source": [
    "exp_var_olink = pd.Series(\n",
    "    pca.explained_variance_ratio_).to_frame('explained variance')\n",
    "exp_var_olink[\"explained variance (cummulated)\"] = exp_var_olink[\n",
    "    'explained variance'].cumsum()\n",
    "exp_var_olink.index.name = 'PC'\n",
    "ax = exp_var_olink.plot()\n",
    "fig = ax.get_figure()\n",
    "src.plotting.savefig(fig, name=FOLDER / '1_PCs_distribution')"
   ]
  },
  {
   "cell_type": "code",
   "execution_count": null,
   "id": "976682c3-90ad-4555-a58c-2d5bc627a226",
   "metadata": {},
   "outputs": [],
   "source": [
    "ax = seaborn.scatterplot(x=PCs.iloc[:, 0],\n",
    "                         y=PCs.iloc[:, 1],\n",
    "                         hue=clinic[TARGET])\n",
    "fig = ax.get_figure()\n",
    "src.plotting.savefig(fig, name=FOLDER / '1_PC1_vs_PC2.pdf')"
   ]
  }
 ],
 "metadata": {
  "jupytext": {
   "formats": "ipynb,py:percent"
  },
  "kernelspec": {
   "display_name": "Python 3 (ipykernel)",
   "language": "python",
   "name": "python3"
  },
  "language_info": {
   "codemirror_mode": {
    "name": "ipython",
    "version": 3
   },
   "file_extension": ".py",
   "mimetype": "text/x-python",
   "name": "python",
   "nbconvert_exporter": "python",
   "pygments_lexer": "ipython3",
   "version": "3.10.4"
  },
  "vscode": {
   "interpreter": {
    "hash": "4a7cb36f33b5487d941f082aa821b72e5ffcd123aba4697c50d4e81e1a75fb3c"
   }
  }
 },
 "nbformat": 4,
 "nbformat_minor": 5
}
