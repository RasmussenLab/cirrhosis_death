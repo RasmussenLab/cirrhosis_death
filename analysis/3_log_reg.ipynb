{
 "cells": [
  {
   "cell_type": "markdown",
   "id": "25b2b8b8-3951-486f-9714-a7cbe0a734a0",
   "metadata": {},
   "source": [
    "# Logistic regression model"
   ]
  },
  {
   "cell_type": "code",
   "execution_count": null,
   "id": "0956d649-7854-47d3-ae9a-a6143e4b1439",
   "metadata": {},
   "outputs": [],
   "source": [
    "import logging\n",
    "from pathlib import Path\n",
    "\n",
    "import numpy as np\n",
    "import pandas as pd\n",
    "\n",
    "import pingouin as pg\n",
    "import matplotlib.pyplot as plt\n",
    "import seaborn\n",
    "\n",
    "import sklearn\n",
    "import sklearn.impute\n",
    "from sklearn.metrics import precision_recall_curve, roc_curve\n",
    "\n",
    "import njab.sklearn\n",
    "from njab.sklearn import StandardScaler\n",
    "from njab.sklearn import pca as njab_pca\n",
    "from njab.sklearn.scoring import ConfusionMatrix\n",
    "from njab.sklearn.types import Splits\n",
    "from njab.plotting.metrics import plot_split_auc, plot_split_prc\n",
    "\n",
    "import src\n",
    "\n",
    "import config"
   ]
  },
  {
   "cell_type": "markdown",
   "id": "100b0784-b865-4b51-ba3f-0aa0934cbdee",
   "metadata": {},
   "source": [
    "# Set parameters\n",
    "\n",
    "- [ ] one large dataset, composing of data should be done elsewhere\n",
    "- [ ] allow feature selection based on requested variables"
   ]
  },
  {
   "cell_type": "code",
   "execution_count": null,
   "id": "10f0546b-136a-4090-9d61-59c80f7ca29c",
   "metadata": {
    "lines_to_next_cell": 2,
    "tags": [
     "parameters"
    ]
   },
   "outputs": [],
   "source": [
    "TARGET:str = 'liverDead180infl' # target column in CLINIC data\n",
    "CLINIC:Path = config.fname_pkl_prodoc_clinic_num # clinic numeric pickled, can contain missing\n",
    "# feat_clinic:list = config.clinic_data.comorbidities + config.clinic_data.vars_cont # ToDo: make string\n",
    "OLINK:Path = config.fname_pkl_prodoc_olink # olink numeric pickled, can contain missing\n",
    "# X_numeric: Path\n",
    "feat_set_to_consider:str='CLINIC_AND_OLINK'\n",
    "VAL_IDS: str = ''  #\n",
    "use_val_split = True\n",
    "FOLDER = ''"
   ]
  },
  {
   "cell_type": "code",
   "execution_count": null,
   "id": "edd12792-2c76-414f-a421-831ec642e149",
   "metadata": {},
   "outputs": [],
   "source": [
    "clinic = pd.read_pickle(CLINIC)\n",
    "cols_clinic = src.pandas.get_colums_accessor(clinic)\n",
    "olink = pd.read_pickle(OLINK)"
   ]
  },
  {
   "cell_type": "markdown",
   "id": "99ccf3a7-f5e0-478d-89a1-d4184260f3a5",
   "metadata": {
    "lines_to_next_cell": 0
   },
   "source": [
    "## Target"
   ]
  },
  {
   "cell_type": "code",
   "execution_count": null,
   "id": "9a9ba85a-244a-4604-8ce6-37b4fc123ba2",
   "metadata": {},
   "outputs": [],
   "source": [
    "def value_counts_with_margins(y:pd.Series):\n",
    "    ret = y.value_counts().to_frame('counts')\n",
    "    ret.index.name = y.name\n",
    "    ret['prop']  = y.value_counts(normalize=True)\n",
    "    return ret\n",
    "\n",
    "value_counts_with_margins(clinic[TARGET])"
   ]
  },
  {
   "cell_type": "code",
   "execution_count": null,
   "id": "d090214d-7721-48bf-87ad-8e5da0f559f3",
   "metadata": {},
   "outputs": [],
   "source": [
    "target_counts = clinic[TARGET].value_counts()\n",
    "\n",
    "if target_counts.sum() < len(clinic):\n",
    "    print(\n",
    "        f\"Target has missing values. Can only use {target_counts.sum()} of {len(clinic)} samples.\"\n",
    "    )\n",
    "    mask = clinic[TARGET].notna()\n",
    "    clinic, olink = clinic.loc[mask], olink.loc[mask]\n",
    "\n",
    "y = clinic[TARGET]\n",
    "\n",
    "target_counts"
   ]
  },
  {
   "cell_type": "markdown",
   "id": "92d0fc3d",
   "metadata": {},
   "source": [
    "# Data Splits"
   ]
  },
  {
   "cell_type": "code",
   "execution_count": null,
   "id": "9fb91915",
   "metadata": {},
   "outputs": [],
   "source": [
    "olink_val, clinic_val = None, None\n",
    "if use_val_split:\n",
    "    if not VAL_IDS:\n",
    "        logging.warning(\"Create train and test split.\")\n",
    "        _, VAL_IDS = sklearn.model_selection.train_test_split(\n",
    "            clinic.index,\n",
    "            test_size=0.2,\n",
    "            random_state=123,\n",
    "            stratify=clinic[TARGET])\n",
    "        VAL_IDS = list(VAL_IDS)\n",
    "    elif isinstance(VAL_IDS, str):\n",
    "        VAL_IDS = VAL_IDS.split(\",\")\n",
    "    else:\n",
    "        raise ValueError(\"Provide IDs in csv format as str: 'ID1,ID2'\")\n",
    "VAL_IDS"
   ]
  },
  {
   "cell_type": "markdown",
   "id": "63ed5714-3c29-4774-9a2f-37e27d8300c3",
   "metadata": {
    "tags": []
   },
   "source": [
    "## Combine dataset\n"
   ]
  },
  {
   "cell_type": "code",
   "execution_count": null,
   "id": "558d2710-12f7-434e-89fa-0cb5df7fe5ad",
   "metadata": {},
   "outputs": [],
   "source": [
    "if feat_set_to_consider not in config.feat_sets:\n",
    "    raise ValueError(f\"Choose one of the available sets: {', '.join(config.feat_sets.keys())}\")\n",
    "feat_to_consider = config.feat_sets[feat_set_to_consider].split(',')\n",
    "feat_to_consider"
   ]
  },
  {
   "cell_type": "code",
   "execution_count": null,
   "id": "ce335bab",
   "metadata": {},
   "outputs": [],
   "source": [
    "# predictors = feat_clinic + olink.columns.to_list()\n",
    "model_name = feat_set_to_consider\n",
    "X = clinic.join(olink)[feat_to_consider]\n",
    "X"
   ]
  },
  {
   "cell_type": "code",
   "execution_count": null,
   "id": "462ea13a",
   "metadata": {
    "lines_to_next_cell": 2
   },
   "outputs": [],
   "source": [
    "if VAL_IDS:\n",
    "    diff = pd.Index(VAL_IDS)\n",
    "    VAL_IDS = X.index.intersection(VAL_IDS)\n",
    "    if len(diff) < len(VAL_IDS):\n",
    "        logging.warning(\"Some requested validation IDs are not in the data: \"\n",
    "                        \",\".join(str(x) for x in diff.difference(VAL_IDS)))\n",
    "    X_val = X.loc[VAL_IDS]\n",
    "    X = X.drop(VAL_IDS)\n",
    "\n",
    "    use_val_split = True\n",
    "    \n",
    "    y_val = y.loc[VAL_IDS]\n",
    "    y = y.drop(VAL_IDS)"
   ]
  },
  {
   "cell_type": "code",
   "execution_count": null,
   "id": "ca642eb3",
   "metadata": {},
   "outputs": [],
   "source": [
    "if not FOLDER:\n",
    "    FOLDER = Path(config.folder_reports) / TARGET / feat_set_to_consider\n",
    "    FOLDER.mkdir(exist_ok=True, parents=True)\n",
    "FOLDER"
   ]
  },
  {
   "cell_type": "markdown",
   "id": "68eddf1e-04b8-4791-bdf0-ba6093cd9f11",
   "metadata": {},
   "source": [
    "### Collect test predictions"
   ]
  },
  {
   "cell_type": "code",
   "execution_count": null,
   "id": "ae5cacf2-ed11-44b7-8101-87ee2f5b1941",
   "metadata": {},
   "outputs": [],
   "source": [
    "predictions = y_val.to_frame('true')"
   ]
  },
  {
   "cell_type": "markdown",
   "id": "d03aac81-957e-4e3f-ae3b-54bbcfdb0e6f",
   "metadata": {},
   "source": [
    "## Deal with missing values globally"
   ]
  },
  {
   "cell_type": "code",
   "execution_count": null,
   "id": "84300568-ceae-476d-8873-76be11a1aac1",
   "metadata": {},
   "outputs": [],
   "source": [
    "feat_w_missings = X.isna().sum()\n",
    "feat_w_missings = feat_w_missings.loc[feat_w_missings > 0]\n",
    "feat_w_missings"
   ]
  },
  {
   "cell_type": "code",
   "execution_count": null,
   "id": "65dd35b8-10a4-4aaa-8a3c-94523846e309",
   "metadata": {
    "lines_to_next_cell": 2
   },
   "outputs": [],
   "source": [
    "median_imputer = sklearn.impute.SimpleImputer(strategy='median')\n",
    "\n",
    "X = njab.sklearn.transform_DataFrame(X, median_imputer.fit_transform)\n",
    "X_val = njab.sklearn.transform_DataFrame(X_val, median_imputer.transform)"
   ]
  },
  {
   "cell_type": "code",
   "execution_count": null,
   "id": "56270610-51de-4004-8194-3dc6a48b0a65",
   "metadata": {},
   "outputs": [],
   "source": [
    "X.isna().sum()"
   ]
  },
  {
   "cell_type": "markdown",
   "id": "b8f24a5e-b8e6-4b41-9bd1-3ebd75fbd19d",
   "metadata": {},
   "source": [
    "## Principal Components\n",
    "\n",
    "- [ ]  base on selected data\n",
    "- binary features do not strictly need to be normalized"
   ]
  },
  {
   "cell_type": "code",
   "execution_count": null,
   "id": "714e0bbf-5bfb-46f8-8dec-057a95b7135e",
   "metadata": {},
   "outputs": [],
   "source": [
    "# on X\n",
    "# scaler = StandardScaler()\n",
    "# olink_scaled = scaler.fit_transform(olink).fillna(0)\n",
    "\n",
    "# PCs, pca = njab_pca.run_pca(olink, n_components=None)\n",
    "# njab_pca.plot_explained_variance(pca)\n",
    "# PCs.iloc[:10, :10]"
   ]
  },
  {
   "cell_type": "markdown",
   "id": "a405118b-0805-478b-9225-48c20a2b2aaf",
   "metadata": {},
   "source": [
    "## Baseline Model - Logistic Regression \n",
    "- `age`, `decompensated`, `MELD-score`\n",
    "- use weigthing to counter class imbalances"
   ]
  },
  {
   "cell_type": "code",
   "execution_count": null,
   "id": "805450f6-1e4c-4720-a878-aefb9f301356",
   "metadata": {},
   "outputs": [],
   "source": [
    "# run nb with parameters\n",
    "# name_model = 'baseline'\n",
    "# cols_base_model = [cols_clinic.Age, cols_clinic.DecomensatedAtDiagnosis, cols_clinic.MELD_score] # MELD score -> death"
   ]
  },
  {
   "cell_type": "code",
   "execution_count": null,
   "id": "3654a62b-66f1-4dbd-a492-5e85a139615d",
   "metadata": {},
   "outputs": [],
   "source": [
    "weights= sklearn.utils.class_weight.compute_sample_weight('balanced', y)"
   ]
  },
  {
   "cell_type": "markdown",
   "id": "9f56b511-0f23-4fc9-84cd-2f1823f28655",
   "metadata": {},
   "source": [
    "## Logistic Regression"
   ]
  },
  {
   "cell_type": "code",
   "execution_count": null,
   "id": "11f20953-9535-4184-9404-7ce19dd3761a",
   "metadata": {},
   "outputs": [],
   "source": [
    "# X_all = \n",
    "# X = X_all[include]\n",
    "\n",
    "# X = olink\n",
    "# X_val = olink_val\n",
    "# model_name = 'olink LR'\n",
    "\n",
    "# X = clinic[feat_clinic]\n",
    "# X_val = clinic_val[feat_clinic]\n",
    "# model_name = 'clinic LR'"
   ]
  },
  {
   "cell_type": "code",
   "execution_count": null,
   "id": "376a970a-2138-40da-aa47-79815c2e709a",
   "metadata": {
    "lines_to_next_cell": 2
   },
   "outputs": [],
   "source": [
    "# X = clinic[feat_clinic].join(olink)\n",
    "# X_val = clinic_val[feat_clinic].join(olink_val)"
   ]
  },
  {
   "cell_type": "code",
   "execution_count": null,
   "id": "6b323c5f-22c0-461f-a17e-f22ef210a011",
   "metadata": {},
   "outputs": [],
   "source": [
    "cv_feat = njab.sklearn.find_n_best_features(\n",
    "    X=X,\n",
    "    y=y,\n",
    "    model=sklearn.linear_model.LogisticRegression(),\n",
    "    name=TARGET,\n",
    "    groups=y,\n",
    "    n_features_max=10,\n",
    "    fit_params=dict(sample_weight=weights)\n",
    ")\n",
    "cv_feat = cv_feat.groupby('n_features').agg(['mean', 'std'])\n",
    "cv_feat"
   ]
  },
  {
   "cell_type": "code",
   "execution_count": null,
   "id": "97ba2d0c-1917-4640-8703-55764ae8cac3",
   "metadata": {},
   "outputs": [],
   "source": [
    "mask = cv_feat.columns.levels[0].str[:4] == 'test'\n",
    "scores_cols =  cv_feat.columns.levels[0][mask]\n",
    "n_feat_best = cv_feat.loc[:, pd.IndexSlice[scores_cols, 'mean']].idxmax()\n",
    "n_feat_best"
   ]
  },
  {
   "cell_type": "code",
   "execution_count": null,
   "id": "3aabd710-380c-41ee-ba17-7a6eb9821d6b",
   "metadata": {},
   "outputs": [],
   "source": [
    "splits = Splits(X_train=X, X_test=X_val, y_train=y, y_test=y_val)\n",
    "results_model = njab.sklearn.run_model(\n",
    "    splits,\n",
    "    # n_feat_to_select=n_feat_best.loc['test_f1', 'mean'],\n",
    "    n_feat_to_select=int(n_feat_best.mode()),\n",
    "    fit_params=dict(sample_weight=weights)\n",
    ")\n",
    "results_model.name = model_name"
   ]
  },
  {
   "cell_type": "code",
   "execution_count": null,
   "id": "6ec2bb92-699f-45cf-88cd-4eb3773cc234",
   "metadata": {},
   "outputs": [],
   "source": [
    "def plot_auc(results, ax=None, **kwargs):\n",
    "    if ax is None:\n",
    "        fig, ax = plt.subplots(1,1, **kwargs)\n",
    "    ax = plot_split_auc(results.train,  f\"{results.name} (train)\", ax)\n",
    "    ax = plot_split_auc(results.test, f\"{results.name} (test)\", ax)\n",
    "    return ax\n",
    "\n",
    "ax = plot_auc(results_model, figsize=(4,2))"
   ]
  },
  {
   "cell_type": "code",
   "execution_count": null,
   "id": "9f102c96-d231-44a6-b971-cf3b672f43a5",
   "metadata": {},
   "outputs": [],
   "source": [
    "def plot_prc(results, ax=None, **kwargs):\n",
    "    if ax is None:\n",
    "        fig, ax = plt.subplots(1,1, **kwargs)\n",
    "    ax = plot_split_prc(results.train,  f\"{results.name} (train)\", ax)\n",
    "    ax = plot_split_prc(results.test, f\"{results.name} (test)\", ax)\n",
    "    return ax\n",
    "\n",
    "ax = plot_prc(results_model, figsize=(4,2))"
   ]
  },
  {
   "cell_type": "code",
   "execution_count": null,
   "id": "87a62d03-2bf6-41d4-9132-7d47f67a894f",
   "metadata": {},
   "outputs": [],
   "source": [
    "# https://www.statsmodels.org/dev/discretemod.html\n",
    "np.exp(results_model.model.coef_)"
   ]
  },
  {
   "cell_type": "code",
   "execution_count": null,
   "id": "9a66b405-0342-4738-8384-46bbce49859c",
   "metadata": {},
   "outputs": [],
   "source": [
    "X[results_model.selected_features].describe()"
   ]
  },
  {
   "cell_type": "code",
   "execution_count": null,
   "id": "6ea6eb13-64ca-446f-9d00-cbee9e816c92",
   "metadata": {},
   "outputs": [],
   "source": [
    "X[results_model.selected_features].head()"
   ]
  },
  {
   "cell_type": "code",
   "execution_count": null,
   "id": "e3d01121-f50e-4034-a50f-d6c021892084",
   "metadata": {},
   "outputs": [],
   "source": [
    "def get_score(clf, X, pos=1):\n",
    "    ret = clf.predict_proba(X)[:,pos]\n",
    "    ret = pd.Series(ret, index=X.index)\n",
    "    return ret\n",
    "\n",
    "def get_pred(clf, X):\n",
    "    ret = clf.predict(X)\n",
    "    ret = pd.Series(ret, index=X.index)\n",
    "    return ret\n",
    "\n",
    "score = get_score(clf=results_model.model, X=X[results_model.selected_features], pos=1)\n",
    "ax = score.hist(bins=20)"
   ]
  },
  {
   "cell_type": "code",
   "execution_count": null,
   "id": "fa41609b-c6c1-41b7-b8dd-076e885c122f",
   "metadata": {},
   "outputs": [],
   "source": [
    "# score_val\n",
    "\n",
    "N_BINS = 10\n",
    "def get_target_count_per_bin(score, y, n_bins=N_BINS):\n",
    "    pred_bins = pd.DataFrame({'score':pd.cut(score, bins=list(x/N_BINS for x in range(0,N_BINS+1))), 'y==1':y})\n",
    "    pred_bins = pred_bins.groupby(by='score').sum().astype(int)\n",
    "    return pred_bins\n",
    "\n",
    "pred_bins = get_target_count_per_bin(score, y)    \n",
    "pred_bins.plot(kind='bar', ylabel='count')\n",
    "pred_bins"
   ]
  },
  {
   "cell_type": "code",
   "execution_count": null,
   "id": "bc35609e-d1d7-4d4f-a2cf-1d63938def91",
   "metadata": {},
   "outputs": [],
   "source": [
    "score_val = get_score(clf=results_model.model, X=X_val[results_model.selected_features], pos=1)\n",
    "predictions['score'] = score_val\n",
    "ax = score_val.hist(bins=20)\n",
    "pred_bins_val = get_target_count_per_bin(score_val, y_val)    \n",
    "pred_bins_val.plot(kind='bar', ylabel='count')\n",
    "pred_bins_val"
   ]
  },
  {
   "cell_type": "markdown",
   "id": "5f6c045b-9e0f-4da6-965e-f7147dc678c5",
   "metadata": {},
   "source": [
    "## Performance evaluations"
   ]
  },
  {
   "cell_type": "code",
   "execution_count": null,
   "id": "45cc2bbd-66d8-43ac-b444-0a1a7f6270ad",
   "metadata": {},
   "outputs": [],
   "source": [
    "y_pred_val = get_pred(clf=results_model.model, X=X_val[results_model.selected_features])\n",
    "predictions[model_name] = y_pred_val\n",
    "predictions['dead'] = clinic['dead']\n",
    "ConfusionMatrix(y_val, y_pred_val).as_dataframe"
   ]
  },
  {
   "cell_type": "code",
   "execution_count": null,
   "id": "23a73b8d-e8b9-4b17-8763-59ef64872e49",
   "metadata": {},
   "outputs": [],
   "source": [
    "predictions.sort_values('score', ascending=False)"
   ]
  },
  {
   "cell_type": "markdown",
   "id": "f246345f-e3bb-4ac9-9e39-d1e6cfdd2127",
   "metadata": {},
   "source": [
    "## Multiplicative decompositon"
   ]
  },
  {
   "cell_type": "code",
   "execution_count": null,
   "id": "2fab7d7d-41e2-45b5-afb4-cd89b8b03c21",
   "metadata": {},
   "outputs": [],
   "source": [
    "components = X[results_model.selected_features].multiply(results_model.model.coef_)\n",
    "components['intercept'] = float(results_model.model.intercept_)\n",
    "np.exp(components)\n",
    "\n",
    "# # prediction is row entries multiplied (note: numerial instability of multiplications)\n",
    "# import functools\n",
    "# np.exp(components).apply(lambda s: functools.reduce(np.multiply, s), axis=1)"
   ]
  },
  {
   "cell_type": "code",
   "execution_count": null,
   "id": "95bc8097-1106-4481-b0e1-e72663c62ab8",
   "metadata": {},
   "outputs": [],
   "source": [
    "pivot = y.to_frame()\n",
    "pivot['pred'] = results_model.model.predict(X[results_model.selected_features])\n",
    "pivot = pivot.join(clinic.dead.astype(int))\n",
    "pivot.describe().iloc[:2]"
   ]
  },
  {
   "cell_type": "code",
   "execution_count": null,
   "id": "f5d96290-b478-4d74-b823-bf27cb0b6369",
   "metadata": {},
   "outputs": [],
   "source": [
    "pd.pivot_table(pivot, values='pred', index=TARGET, columns='dead', aggfunc='sum')"
   ]
  },
  {
   "cell_type": "code",
   "execution_count": null,
   "id": "3aedfdc3-300e-4b4f-883d-a5d06dd9d2d2",
   "metadata": {},
   "outputs": [],
   "source": [
    "pd.pivot_table(pivot, values='dead', index=TARGET, columns='pred', aggfunc='sum')"
   ]
  },
  {
   "cell_type": "code",
   "execution_count": null,
   "id": "d090d1ef-86b6-4eda-86a0-8e66bc3e548d",
   "metadata": {},
   "outputs": [],
   "source": [
    "pivot.groupby(['pred', TARGET]).agg({'dead': ['count', 'sum']}) # more detailed"
   ]
  },
  {
   "cell_type": "markdown",
   "id": "be499849-8d1c-42fd-b100-467eb5edd46e",
   "metadata": {},
   "source": [
    "### Without weights, but adapting cutoff\n",
    "\n",
    "- [ ] use when no weights are used"
   ]
  },
  {
   "cell_type": "code",
   "execution_count": null,
   "id": "f6f2646a-5b90-45e9-a597-9bd51a86eac9",
   "metadata": {},
   "outputs": [],
   "source": [
    "log_reg = sklearn.linear_model.LogisticRegression()\n",
    "log_reg = log_reg.fit(X=X, y=y, sample_weight=None)\n",
    "\n",
    "y_prob = log_reg.predict_proba(X)[:,1]"
   ]
  },
  {
   "cell_type": "code",
   "execution_count": null,
   "id": "0f9fe68e-6a17-4c88-8b90-43e17d4335d0",
   "metadata": {},
   "outputs": [],
   "source": [
    "fpr, tpr, cutoffs = roc_curve(y, y_prob)\n",
    "roc = pd.DataFrame([fpr, tpr, cutoffs], index='fpr tpr cutoffs'.split())\n",
    "ax = roc.T.plot('fpr', 'tpr')"
   ]
  },
  {
   "cell_type": "code",
   "execution_count": null,
   "id": "0abf3e2e-17a8-4e2b-bf04-e90762118069",
   "metadata": {},
   "outputs": [],
   "source": [
    "precision, recall, cutoffs = precision_recall_curve(y, y_prob)\n",
    "prc = pd.DataFrame([precision, recall, cutoffs], index='precision recall cutoffs'.split())\n",
    "prc"
   ]
  },
  {
   "cell_type": "code",
   "execution_count": null,
   "id": "ad256be7-443e-4691-b44f-f5432dc1045b",
   "metadata": {},
   "outputs": [],
   "source": [
    "ax = prc.T.plot('recall', 'precision', ylabel='precision')"
   ]
  },
  {
   "cell_type": "code",
   "execution_count": null,
   "id": "7888a095-0fe2-4f95-8dc9-71c8ebdc2d39",
   "metadata": {},
   "outputs": [],
   "source": [
    "prc.loc['f1_score'] = 2 * (prc.loc['precision'] * prc.loc['recall']) / (1/prc.loc['precision'] + 1/prc.loc['recall'])\n",
    "f1_max = prc[prc.loc['f1_score'].argmax()]\n",
    "f1_max"
   ]
  },
  {
   "cell_type": "code",
   "execution_count": null,
   "id": "099d59b1-2587-41a5-bf78-af8cf521df55",
   "metadata": {},
   "outputs": [],
   "source": [
    "y_pred = pd.Series((y_prob > f1_max.loc['cutoffs']), index=X.index).astype(int)\n",
    "\n",
    "predictions['5 PCs (LR)'] = y_pred\n",
    "\n",
    "ConfusionMatrix(y, y_pred).as_dataframe # this needs to be augmented with information if patient died by now (to see who is \"wrongly classified)\")"
   ]
  },
  {
   "cell_type": "code",
   "execution_count": null,
   "id": "1fc26038-5c51-473e-81c0-9d5275d9989c",
   "metadata": {},
   "outputs": [],
   "source": [
    "pivot = y_pred.to_frame('pred').join(y).join(clinic.dead.astype(int))\n",
    "pivot.describe().iloc[:2]"
   ]
  },
  {
   "cell_type": "markdown",
   "id": "5852edcf-0d1f-4eb3-b97e-d37af3928e51",
   "metadata": {},
   "source": [
    "How many will die for those who have been predicted to die?"
   ]
  },
  {
   "cell_type": "code",
   "execution_count": null,
   "id": "89ffc75f-b24b-4971-9fad-a6196aeae3ef",
   "metadata": {},
   "outputs": [],
   "source": [
    "pd.pivot_table(pivot, values='pred', index=TARGET, columns='dead', aggfunc='sum')"
   ]
  },
  {
   "cell_type": "code",
   "execution_count": null,
   "id": "0f4f2709-5365-45ec-8c8c-ff5d94c5be62",
   "metadata": {},
   "outputs": [],
   "source": [
    "pivot.groupby(['pred', TARGET]).agg({'dead': ['count', 'sum']}) # more detailed"
   ]
  },
  {
   "cell_type": "markdown",
   "id": "fdf79b8f-ddfa-465c-bf36-f9af61e4a0e9",
   "metadata": {},
   "source": [
    "## Plot TP, TN, FP and FN on PCA plot"
   ]
  },
  {
   "cell_type": "code",
   "execution_count": null,
   "id": "a23d072c-ca13-4a33-a591-f925d16c906a",
   "metadata": {},
   "outputs": [],
   "source": [
    "model_pred_cols = predictions.columns[1:5].to_list()\n",
    "model_pred_cols"
   ]
  },
  {
   "cell_type": "code",
   "execution_count": null,
   "id": "78565a8f-dd70-4635-8a62-41726d0edbb5",
   "metadata": {},
   "outputs": [],
   "source": [
    "binary_labels = pd.DataFrame()\n",
    "\n",
    "TRUE_COL = 'true'\n",
    "for model_pred_col in model_pred_cols:\n",
    "    binary_labels[model_pred_col] = predictions.apply(lambda x: njab.sklearn.scoring.get_label_binary_classification(\n",
    "        x[TRUE_COL], x[model_pred_col]),\n",
    "                      axis=1)\n",
    "binary_labels.sample(6)"
   ]
  },
  {
   "cell_type": "code",
   "execution_count": null,
   "id": "0d29861d-f125-4ea1-9b0d-6c5cb6068c79",
   "metadata": {},
   "outputs": [],
   "source": [
    "colors = seaborn.color_palette(n_colors=4)\n",
    "colors"
   ]
  },
  {
   "cell_type": "code",
   "execution_count": null,
   "id": "8788a868-2040-4409-bf93-3f6f505d79d0",
   "metadata": {},
   "outputs": [],
   "source": [
    "# import matplotlib.pyplot as plt\n",
    "# fig, axes = plt.subplots(3,1, figsize=(10,20), sharex=True, sharey=True)\n",
    "# for model_pred_col, ax in zip(binary_labels.columns, axes.ravel()):\n",
    "#     ax = seaborn.scatterplot(x=PCs.iloc[:,0], y=PCs.iloc[:, 1], hue=binary_labels[model_pred_col], hue_order=['TN', 'TP', 'FN', 'FP'],\n",
    "#                              # palette=colors,\n",
    "#                              palette=[colors[0], colors[2], colors[1], colors[3]],\n",
    "#                              ax=ax)\n",
    "#     ax.set_title(model_pred_col)"
   ]
  },
  {
   "cell_type": "code",
   "execution_count": null,
   "id": "5b5d3f78-c2f5-422f-9991-9c12196b3e8f",
   "metadata": {},
   "outputs": [],
   "source": []
  }
 ],
 "metadata": {
  "kernelspec": {
   "display_name": "Python 3 (ipykernel)",
   "language": "python",
   "name": "python3"
  },
  "language_info": {
   "codemirror_mode": {
    "name": "ipython",
    "version": 3
   },
   "file_extension": ".py",
   "mimetype": "text/x-python",
   "name": "python",
   "nbconvert_exporter": "python",
   "pygments_lexer": "ipython3",
   "version": "3.10.4"
  }
 },
 "nbformat": 4,
 "nbformat_minor": 5
}
