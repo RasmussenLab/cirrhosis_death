{
 "cells": [
  {
   "cell_type": "markdown",
   "id": "25b2b8b8-3951-486f-9714-a7cbe0a734a0",
   "metadata": {},
   "source": [
    "# Logistic regression model"
   ]
  },
  {
   "cell_type": "code",
   "execution_count": null,
   "id": "0956d649-7854-47d3-ae9a-a6143e4b1439",
   "metadata": {},
   "outputs": [],
   "source": [
    "import itertools\n",
    "import logging\n",
    "from pathlib import Path\n",
    "\n",
    "import numpy as np\n",
    "import pandas as pd\n",
    "\n",
    "import pingouin as pg\n",
    "import matplotlib.pyplot as plt\n",
    "import seaborn\n",
    "from heatmap import heatmap, corrplot\n",
    "\n",
    "import sklearn\n",
    "import sklearn.impute\n",
    "from sklearn.metrics import precision_recall_curve, roc_curve\n",
    "\n",
    "import njab.sklearn\n",
    "from njab.sklearn import StandardScaler\n",
    "from njab.sklearn import pca as njab_pca\n",
    "from njab.sklearn.scoring import ConfusionMatrix\n",
    "from njab.sklearn.types import Splits\n",
    "from njab.plotting.metrics import plot_auc, plot_prc\n",
    "from njab.sklearn.scoring import get_score, get_pred, get_target_count_per_bin\n",
    "\n",
    "import src\n",
    "\n",
    "import config"
   ]
  },
  {
   "cell_type": "markdown",
   "id": "100b0784-b865-4b51-ba3f-0aa0934cbdee",
   "metadata": {},
   "source": [
    "# Set parameters\n",
    "\n",
    "- [ ] one large dataset, composing of data should be done elsewhere\n",
    "- [ ] allow feature selection based on requested variables"
   ]
  },
  {
   "cell_type": "code",
   "execution_count": null,
   "id": "10f0546b-136a-4090-9d61-59c80f7ca29c",
   "metadata": {
    "tags": [
     "parameters"
    ]
   },
   "outputs": [],
   "source": [
    "TARGET:str = 'dead180infl' # target column in CLINIC data\n",
    "CLINIC:Path = config.fname_pkl_prodoc_clinic_num # clinic numeric pickled, can contain missing\n",
    "# feat_clinic:list = config.clinic_data.comorbidities + config.clinic_data.vars_cont # ToDo: make string\n",
    "OLINK:Path = config.fname_pkl_prodoc_olink # olink numeric pickled, can contain missing\n",
    "# X_numeric: Path\n",
    "feat_set_to_consider:str='OLINK_AND_CLINIC'\n",
    "n_features_max:int = 15\n",
    "VAL_IDS: str = ''  #\n",
    "weights:bool = True\n",
    "FOLDER = ''"
   ]
  },
  {
   "cell_type": "code",
   "execution_count": null,
   "id": "a39b232c-b01b-472e-9b30-bb77dbc6d8b5",
   "metadata": {},
   "outputs": [],
   "source": [
    "weights = False"
   ]
  },
  {
   "cell_type": "markdown",
   "id": "4bf5376f",
   "metadata": {},
   "source": [
    "# Setup\n",
    "## Load data"
   ]
  },
  {
   "cell_type": "code",
   "execution_count": null,
   "id": "edd12792-2c76-414f-a421-831ec642e149",
   "metadata": {
    "lines_to_next_cell": 2
   },
   "outputs": [],
   "source": [
    "clinic = pd.read_pickle(CLINIC)\n",
    "cols_clinic = src.pandas.get_colums_accessor(clinic)\n",
    "olink = pd.read_pickle(OLINK)"
   ]
  },
  {
   "cell_type": "markdown",
   "id": "99ccf3a7-f5e0-478d-89a1-d4184260f3a5",
   "metadata": {
    "lines_to_next_cell": 0
   },
   "source": [
    "## Target"
   ]
  },
  {
   "cell_type": "code",
   "execution_count": null,
   "id": "9a9ba85a-244a-4604-8ce6-37b4fc123ba2",
   "metadata": {},
   "outputs": [],
   "source": [
    "src.pandas.value_counts_with_margins(clinic[TARGET])"
   ]
  },
  {
   "cell_type": "code",
   "execution_count": null,
   "id": "d090214d-7721-48bf-87ad-8e5da0f559f3",
   "metadata": {},
   "outputs": [],
   "source": [
    "target_counts = clinic[TARGET].value_counts()\n",
    "\n",
    "if target_counts.sum() < len(clinic):\n",
    "    print(\n",
    "        f\"Target has missing values. Can only use {target_counts.sum()} of {len(clinic)} samples.\"\n",
    "    )\n",
    "    mask = clinic[TARGET].notna()\n",
    "    clinic, olink = clinic.loc[mask], olink.loc[mask]\n",
    "\n",
    "y = clinic[TARGET]\n",
    "\n",
    "target_counts"
   ]
  },
  {
   "cell_type": "markdown",
   "id": "92d0fc3d",
   "metadata": {},
   "source": [
    "# Test IDs"
   ]
  },
  {
   "cell_type": "code",
   "execution_count": null,
   "id": "9fb91915",
   "metadata": {},
   "outputs": [],
   "source": [
    "olink_val, clinic_val = None, None\n",
    "if not VAL_IDS:\n",
    "    logging.warning(\"Create train and test split.\")\n",
    "    _, VAL_IDS = sklearn.model_selection.train_test_split(\n",
    "        clinic.index,\n",
    "        test_size=0.2,\n",
    "        random_state=123,\n",
    "        stratify=clinic[TARGET])\n",
    "    VAL_IDS = list(VAL_IDS)\n",
    "elif isinstance(VAL_IDS, str):\n",
    "    VAL_IDS = VAL_IDS.split(\",\")\n",
    "else:\n",
    "    raise ValueError(\"Provide IDs in csv format as str: 'ID1,ID2'\")\n",
    "VAL_IDS"
   ]
  },
  {
   "cell_type": "markdown",
   "id": "63ed5714-3c29-4774-9a2f-37e27d8300c3",
   "metadata": {},
   "source": [
    "## Combine clinical and olink data\n"
   ]
  },
  {
   "cell_type": "code",
   "execution_count": null,
   "id": "558d2710-12f7-434e-89fa-0cb5df7fe5ad",
   "metadata": {},
   "outputs": [],
   "source": [
    "if feat_set_to_consider not in config.feat_sets:\n",
    "    raise ValueError(f\"Choose one of the available sets: {', '.join(config.feat_sets.keys())}\")\n",
    "feat_to_consider = config.feat_sets[feat_set_to_consider].split(',')\n",
    "feat_to_consider"
   ]
  },
  {
   "cell_type": "code",
   "execution_count": null,
   "id": "ce335bab",
   "metadata": {},
   "outputs": [],
   "source": [
    "# predictors = feat_clinic + olink.columns.to_list()\n",
    "model_name = feat_set_to_consider\n",
    "X = clinic.join(olink)[feat_to_consider]\n",
    "X"
   ]
  },
  {
   "cell_type": "markdown",
   "id": "4e45eb35",
   "metadata": {},
   "source": [
    "## Data Splits -> train and test split"
   ]
  },
  {
   "cell_type": "code",
   "execution_count": null,
   "id": "462ea13a",
   "metadata": {
    "lines_to_next_cell": 2
   },
   "outputs": [],
   "source": [
    "if VAL_IDS:\n",
    "    diff = pd.Index(VAL_IDS)\n",
    "    VAL_IDS = X.index.intersection(VAL_IDS)\n",
    "    if len(diff) < len(VAL_IDS):\n",
    "        logging.warning(\"Some requested validation IDs are not in the data: \"\n",
    "                        \",\".join(str(x) for x in diff.difference(VAL_IDS)))\n",
    "    X_val = X.loc[VAL_IDS]\n",
    "    X = X.drop(VAL_IDS)\n",
    "\n",
    "    use_val_split = True\n",
    "    \n",
    "    y_val = y.loc[VAL_IDS]\n",
    "    y = y.drop(VAL_IDS)"
   ]
  },
  {
   "cell_type": "markdown",
   "id": "88054bf6",
   "metadata": {
    "lines_to_next_cell": 2
   },
   "source": [
    "## Output folder"
   ]
  },
  {
   "cell_type": "code",
   "execution_count": null,
   "id": "ca642eb3",
   "metadata": {},
   "outputs": [],
   "source": [
    "if not FOLDER:\n",
    "    FOLDER = Path(config.folder_reports) / TARGET / feat_set_to_consider\n",
    "    FOLDER.mkdir(exist_ok=True, parents=True)\n",
    "FOLDER"
   ]
  },
  {
   "cell_type": "markdown",
   "id": "cfcdb589-f419-40a8-acb5-56363fa714c4",
   "metadata": {},
   "source": [
    "Outputs"
   ]
  },
  {
   "cell_type": "code",
   "execution_count": null,
   "id": "50030842",
   "metadata": {},
   "outputs": [],
   "source": [
    "# out\n",
    "files_out = {}\n",
    "files_out['3_log_reg.xlsx'] = FOLDER / '3_log_reg.xlsx'\n",
    "writer = pd.ExcelWriter(files_out['3_log_reg.xlsx'])"
   ]
  },
  {
   "cell_type": "markdown",
   "id": "68eddf1e-04b8-4791-bdf0-ba6093cd9f11",
   "metadata": {},
   "source": [
    "## Collect test predictions"
   ]
  },
  {
   "cell_type": "code",
   "execution_count": null,
   "id": "ae5cacf2-ed11-44b7-8101-87ee2f5b1941",
   "metadata": {},
   "outputs": [],
   "source": [
    "predictions = y_val.to_frame('true')"
   ]
  },
  {
   "cell_type": "markdown",
   "id": "d03aac81-957e-4e3f-ae3b-54bbcfdb0e6f",
   "metadata": {},
   "source": [
    "## Deal with missing values globally - impute"
   ]
  },
  {
   "cell_type": "code",
   "execution_count": null,
   "id": "84300568-ceae-476d-8873-76be11a1aac1",
   "metadata": {},
   "outputs": [],
   "source": [
    "feat_w_missings = X.isna().sum()\n",
    "feat_w_missings = feat_w_missings.loc[feat_w_missings > 0]\n",
    "feat_w_missings"
   ]
  },
  {
   "cell_type": "code",
   "execution_count": null,
   "id": "65dd35b8-10a4-4aaa-8a3c-94523846e309",
   "metadata": {
    "lines_to_next_cell": 2
   },
   "outputs": [],
   "source": [
    "median_imputer = sklearn.impute.SimpleImputer(strategy='median')\n",
    "\n",
    "X = njab.sklearn.transform_DataFrame(X, median_imputer.fit_transform)\n",
    "X_val = njab.sklearn.transform_DataFrame(X_val, median_imputer.transform)"
   ]
  },
  {
   "cell_type": "code",
   "execution_count": null,
   "id": "56270610-51de-4004-8194-3dc6a48b0a65",
   "metadata": {},
   "outputs": [],
   "source": [
    "assert X.isna().sum().sum()  == 0"
   ]
  },
  {
   "cell_type": "markdown",
   "id": "b8f24a5e-b8e6-4b41-9bd1-3ebd75fbd19d",
   "metadata": {},
   "source": [
    "## Principal Components\n",
    "\n",
    "- [ ]  base on selected data\n",
    "- binary features do not strictly need to be normalized"
   ]
  },
  {
   "cell_type": "code",
   "execution_count": null,
   "id": "714e0bbf-5bfb-46f8-8dec-057a95b7135e",
   "metadata": {},
   "outputs": [],
   "source": [
    "scaler = StandardScaler()\n",
    "X_scaled = scaler.fit_transform(X)\n",
    "\n",
    "PCs, pca = njab_pca.run_pca(X_scaled, n_components=None)\n",
    "files_out[\"var_explained_by_PCs.pdf\"] = FOLDER / \"var_explained_by_PCs.pdf\"\n",
    "ax = njab_pca.plot_explained_variance(pca)\n",
    "ax.locator_params(axis='x', integer=True)\n",
    "njab.plotting.savefig(ax.get_figure(), files_out[\"var_explained_by_PCs.pdf\"])\n",
    "X_scaled.shape"
   ]
  },
  {
   "cell_type": "code",
   "execution_count": null,
   "id": "6272f309-e40c-4e5d-a053-809497251542",
   "metadata": {},
   "outputs": [],
   "source": [
    "files_out['scatter_first_5PCs.pdf'] = FOLDER / 'scatter_first_5PCs.pdf'\n",
    "\n",
    "fig, axes = plt.subplots(5, 2, figsize=(8.3, 11.7), layout='constrained')\n",
    "PCs = PCs.join(y.astype('category'))\n",
    "for(i,j), ax in zip(itertools.combinations(range(5), 2), axes.flatten()):\n",
    "    PCs.plot.scatter(i, j, c=TARGET, cmap='Paired', ax=ax)\n",
    "_ = PCs.pop(TARGET)\n",
    "njab.plotting.savefig(fig, files_out['scatter_first_5PCs.pdf'])"
   ]
  },
  {
   "cell_type": "markdown",
   "id": "a405118b-0805-478b-9225-48c20a2b2aaf",
   "metadata": {},
   "source": [
    "## Baseline Model - Logistic Regression \n",
    "- `age`, `decompensated`, `MELD-score`\n",
    "- use weigthing to counter class imbalances"
   ]
  },
  {
   "cell_type": "code",
   "execution_count": null,
   "id": "805450f6-1e4c-4720-a878-aefb9f301356",
   "metadata": {},
   "outputs": [],
   "source": [
    "# run nb with parameters\n",
    "# name_model = 'baseline'\n",
    "# cols_base_model = [cols_clinic.Age, cols_clinic.DecomensatedAtDiagnosis, cols_clinic.MELD_score] # MELD score -> death"
   ]
  },
  {
   "cell_type": "code",
   "execution_count": null,
   "id": "3654a62b-66f1-4dbd-a492-5e85a139615d",
   "metadata": {},
   "outputs": [],
   "source": [
    "if weights:\n",
    "    weights= sklearn.utils.class_weight.compute_sample_weight('balanced', y)\n",
    "    cutoff=0.5\n",
    "else:\n",
    "    cutoff=None\n",
    "    weights=None"
   ]
  },
  {
   "cell_type": "markdown",
   "id": "9f56b511-0f23-4fc9-84cd-2f1823f28655",
   "metadata": {},
   "source": [
    "## Logistic Regression\n",
    "Procedure:\n",
    "1. Select best set of features from entire feature set selected using CV on train split\n",
    "2. Retrain best model configuration using entire train split and evalute on test split"
   ]
  },
  {
   "cell_type": "code",
   "execution_count": null,
   "id": "6b323c5f-22c0-461f-a17e-f22ef210a011",
   "metadata": {},
   "outputs": [],
   "source": [
    "cv_feat = njab.sklearn.find_n_best_features(\n",
    "    X=X,\n",
    "    y=y,\n",
    "    model=sklearn.linear_model.LogisticRegression(),\n",
    "    name=TARGET,\n",
    "    groups=y,\n",
    "    n_features_max=n_features_max,\n",
    "    fit_params=dict(sample_weight=weights)\n",
    ")\n",
    "cv_feat = cv_feat.groupby('n_features').agg(['mean', 'std'])\n",
    "cv_feat.to_excel(writer, 'CV', float_format='%.3f')\n",
    "cv_feat"
   ]
  },
  {
   "cell_type": "code",
   "execution_count": null,
   "id": "97ba2d0c-1917-4640-8703-55764ae8cac3",
   "metadata": {},
   "outputs": [],
   "source": [
    "mask = cv_feat.columns.levels[0].str[:4] == 'test'\n",
    "scores_cols =  cv_feat.columns.levels[0][mask]\n",
    "n_feat_best = cv_feat.loc[:, pd.IndexSlice[scores_cols, 'mean']].idxmax()\n",
    "n_feat_best.name = 'best'\n",
    "n_feat_best.to_excel(writer, 'n_feat_best')\n",
    "n_feat_best"
   ]
  },
  {
   "cell_type": "code",
   "execution_count": null,
   "id": "3aabd710-380c-41ee-ba17-7a6eb9821d6b",
   "metadata": {
    "lines_to_next_cell": 2
   },
   "outputs": [],
   "source": [
    "splits = Splits(X_train=X, X_test=X_val, y_train=y, y_test=y_val)\n",
    "results_model = njab.sklearn.run_model(\n",
    "    splits,\n",
    "    # n_feat_to_select=n_feat_best.loc['test_f1', 'mean'],\n",
    "    n_feat_to_select=n_feat_best.loc['test_roc_auc', 'mean'],\n",
    "    # n_feat_to_select=int(n_feat_best.mode()),\n",
    "    fit_params=dict(sample_weight=weights)\n",
    ")\n",
    "results_model.name = model_name"
   ]
  },
  {
   "cell_type": "code",
   "execution_count": null,
   "id": "6ec2bb92-699f-45cf-88cd-4eb3773cc234",
   "metadata": {},
   "outputs": [],
   "source": [
    "ax = plot_auc(results_model, figsize=(4,2))\n",
    "files_out['ROAUC'] = FOLDER / 'plot_roauc.pdf'\n",
    "njab.plotting.savefig(ax.get_figure(), files_out['ROAUC'])"
   ]
  },
  {
   "cell_type": "code",
   "execution_count": null,
   "id": "9f102c96-d231-44a6-b971-cf3b672f43a5",
   "metadata": {},
   "outputs": [],
   "source": [
    "ax = plot_prc(results_model, figsize=(4,2))\n",
    "files_out['PRAUC'] = FOLDER / 'plot_prauc.pdf'\n",
    "njab.plotting.savefig(ax.get_figure(), files_out['PRAUC'])"
   ]
  },
  {
   "cell_type": "code",
   "execution_count": null,
   "id": "87a62d03-2bf6-41d4-9132-7d47f67a894f",
   "metadata": {},
   "outputs": [],
   "source": [
    "# https://www.statsmodels.org/dev/discretemod.html\n",
    "np.exp(results_model.model.coef_)"
   ]
  },
  {
   "cell_type": "code",
   "execution_count": null,
   "id": "9a66b405-0342-4738-8384-46bbce49859c",
   "metadata": {},
   "outputs": [],
   "source": [
    "des_selected_feat = X[results_model.selected_features].describe()\n",
    "des_selected_feat.to_excel(writer, 'sel_feat', float_format='%.3f')\n",
    "des_selected_feat"
   ]
  },
  {
   "cell_type": "code",
   "execution_count": null,
   "id": "55a6c804-4d6d-4f8c-8546-cdd8ee1d1edb",
   "metadata": {},
   "outputs": [],
   "source": [
    "fig = plt.figure(figsize=(5,5,))\n",
    "files_out['corr_plot_train.pdf'] = FOLDER / 'corr_plot_train.pdf' \n",
    "_ = corrplot(X[results_model.selected_features].join(y).corr(), size_scale=80);\n",
    "fig.tight_layout()\n",
    "njab.plotting.savefig(fig, files_out['corr_plot_train.pdf'])"
   ]
  },
  {
   "cell_type": "markdown",
   "id": "d4b25ef7-ffbb-4edb-a20a-329913422e56",
   "metadata": {
    "lines_to_next_cell": 2
   },
   "source": [
    "Plot training data scores"
   ]
  },
  {
   "cell_type": "code",
   "execution_count": null,
   "id": "e3d01121-f50e-4034-a50f-d6c021892084",
   "metadata": {},
   "outputs": [],
   "source": [
    "N_BINS = 20\n",
    "score = get_score(clf=results_model.model, X=X[results_model.selected_features], pos=1)\n",
    "ax = score.hist(bins=N_BINS)\n",
    "files_out['hist_score_train.pdf'] = FOLDER / 'hist_score_train.pdf'\n",
    "njab.plotting.savefig(ax.get_figure(), files_out['hist_score_train.pdf'])"
   ]
  },
  {
   "cell_type": "code",
   "execution_count": null,
   "id": "fa41609b-c6c1-41b7-b8dd-076e885c122f",
   "metadata": {},
   "outputs": [],
   "source": [
    "# score_val\n",
    "pred_bins = get_target_count_per_bin(score, y, n_bins=N_BINS)    \n",
    "ax = pred_bins.plot(kind='bar', ylabel='count')\n",
    "files_out['hist_score_train_target.pdf'] = FOLDER / 'hist_score_train_target.pdf'\n",
    "njab.plotting.savefig(ax.get_figure(), files_out['hist_score_train_target.pdf'])\n",
    "# pred_bins"
   ]
  },
  {
   "cell_type": "markdown",
   "id": "387b4d1d-801e-4f77-bcd8-b05125809cfa",
   "metadata": {},
   "source": [
    "Test data scores"
   ]
  },
  {
   "cell_type": "code",
   "execution_count": null,
   "id": "bc35609e-d1d7-4d4f-a2cf-1d63938def91",
   "metadata": {},
   "outputs": [],
   "source": [
    "score_val = get_score(clf=results_model.model, X=X_val[results_model.selected_features], pos=1)\n",
    "predictions['score'] = score_val\n",
    "ax = score_val.hist(bins=N_BINS) # list(x/N_BINS for x in range(0,N_BINS)))\n",
    "ax.set_ylabel('count')\n",
    "ax.set_xlim(0,1)\n",
    "files_out['hist_score_test.pdf'] = FOLDER / 'hist_score_test.pdf'\n",
    "njab.plotting.savefig(ax.get_figure(), files_out['hist_score_test.pdf'])\n",
    "pred_bins_val = get_target_count_per_bin(score_val, y_val, n_bins=N_BINS)    \n",
    "ax = pred_bins_val.plot(kind='bar', ylabel='count')\n",
    "ax.locator_params(axis='y', integer=True)\n",
    "files_out['hist_score_test_target.pdf'] = FOLDER / 'hist_score_test_target.pdf'\n",
    "njab.plotting.savefig(ax.get_figure(), files_out['hist_score_test_target.pdf'])\n",
    "# pred_bins_val"
   ]
  },
  {
   "cell_type": "markdown",
   "id": "5f6c045b-9e0f-4da6-965e-f7147dc678c5",
   "metadata": {},
   "source": [
    "## Performance evaluations"
   ]
  },
  {
   "cell_type": "code",
   "execution_count": null,
   "id": "318d279c-f88c-439a-8bb7-24645f6b9065",
   "metadata": {},
   "outputs": [],
   "source": [
    "prc = pd.DataFrame(results_model.train.prc, index='precision recall cutoffs'.split())\n",
    "prc"
   ]
  },
  {
   "cell_type": "code",
   "execution_count": null,
   "id": "ab90b184-341f-49d2-9093-ed31e1a1213a",
   "metadata": {},
   "outputs": [],
   "source": [
    "prc.loc['f1_score'] = 2 * (prc.loc['precision'] * prc.loc['recall']) / (1/prc.loc['precision'] + 1/prc.loc['recall'])\n",
    "f1_max = prc[prc.loc['f1_score'].argmax()]\n",
    "f1_max"
   ]
  },
  {
   "cell_type": "markdown",
   "id": "cc9aa549-d91c-41b4-a0ee-ef1a6b27d5bd",
   "metadata": {},
   "source": [
    "Cutoff set"
   ]
  },
  {
   "cell_type": "code",
   "execution_count": null,
   "id": "9531a34d-02b9-40dd-ad05-a8d03ca396ce",
   "metadata": {},
   "outputs": [],
   "source": [
    "cutoff = float(f1_max.loc['cutoffs'])\n",
    "cutoff"
   ]
  },
  {
   "cell_type": "code",
   "execution_count": null,
   "id": "212f2222-8a2c-44fa-b095-2227e88299a1",
   "metadata": {},
   "outputs": [],
   "source": [
    "y_pred_val = njab.sklearn.scoring.get_custom_pred(\n",
    "    clf=results_model.model,\n",
    "    X=X_val[results_model.selected_features],\n",
    "    cutoff=cutoff)\n",
    "predictions[model_name] = y_pred_val\n",
    "predictions['dead'] = clinic['dead']\n",
    "_ = ConfusionMatrix(y_val, y_pred_val).as_dataframe\n",
    "# _.to_excel(writer, \"CM_test\")\n",
    "_"
   ]
  },
  {
   "cell_type": "code",
   "execution_count": null,
   "id": "45cc2bbd-66d8-43ac-b444-0a1a7f6270ad",
   "metadata": {},
   "outputs": [],
   "source": [
    "y_pred_val = njab.sklearn.scoring.get_custom_pred(\n",
    "    clf=results_model.model,\n",
    "    X=X_val[results_model.selected_features],\n",
    "    cutoff=0.5)\n",
    "predictions[model_name] = y_pred_val\n",
    "predictions['dead'] = clinic['dead']\n",
    "_ = ConfusionMatrix(y_val, y_pred_val).as_dataframe\n",
    "# _.to_excel(writer, \"CM_test\")\n",
    "_"
   ]
  },
  {
   "cell_type": "code",
   "execution_count": null,
   "id": "1d6b9f1a-48ad-4c19-bcec-34de2e2654ec",
   "metadata": {},
   "outputs": [],
   "source": [
    "y_pred_val = get_pred(clf=results_model.model,\n",
    "                      X=X_val[results_model.selected_features])\n",
    "predictions[model_name] = y_pred_val\n",
    "predictions['dead'] = clinic['dead']\n",
    "_ = ConfusionMatrix(y_val, y_pred_val).as_dataframe\n",
    "# _.to_excel(writer, \"CM_test\")\n",
    "_"
   ]
  },
  {
   "cell_type": "markdown",
   "id": "f246345f-e3bb-4ac9-9e39-d1e6cfdd2127",
   "metadata": {},
   "source": [
    "## Multiplicative decompositon"
   ]
  },
  {
   "cell_type": "code",
   "execution_count": null,
   "id": "8f6ae812-d24d-4c3a-b53b-a99c53974385",
   "metadata": {},
   "outputs": [],
   "source": [
    "def get_lr_multiplicative_decomposition(results, X, score, y):\n",
    "    components = X[results.selected_features].multiply(results.model.coef_)\n",
    "    components['intercept'] = float(results.model.intercept_)\n",
    "    components = np.exp(components)\n",
    "    components['score'] = score\n",
    "    components[TARGET]  = y\n",
    "    components = components.sort_values('score', ascending=False)\n",
    "    return components\n",
    "\n",
    "components = get_lr_multiplicative_decomposition(results=results_model, X=X, score=score, y=y)\n",
    "components.to_excel(writer, 'decomp_multiplicative_train')\n",
    "components.to_excel(writer, 'decomp_multiplicative_train_view', float_format='%.3f')\n",
    "components.head(10)"
   ]
  },
  {
   "cell_type": "code",
   "execution_count": null,
   "id": "1dc9a530-ce14-44e7-9834-afc343779558",
   "metadata": {},
   "outputs": [],
   "source": [
    "components_test = get_lr_multiplicative_decomposition(results=results_model, X=X_val, score=score_val, y=y_val)\n",
    "components_test.to_excel(writer, 'decomp_multiplicative_test')\n",
    "components_test.to_excel(writer, 'decomp_multiplicative_test_view', float_format='%.3f')\n",
    "components_test.head(10)"
   ]
  },
  {
   "cell_type": "code",
   "execution_count": null,
   "id": "95bc8097-1106-4481-b0e1-e72663c62ab8",
   "metadata": {},
   "outputs": [],
   "source": [
    "pivot = y.to_frame()\n",
    "pivot['pred'] = results_model.model.predict(X[results_model.selected_features])\n",
    "pivot = pivot.join(clinic.dead.astype(int))\n",
    "pivot.describe().iloc[:2]"
   ]
  },
  {
   "cell_type": "code",
   "execution_count": null,
   "id": "14d684b3",
   "metadata": {
    "lines_to_next_cell": 2
   },
   "outputs": [],
   "source": [
    "pivot_dead_by_pred_and_target = pivot.groupby(['pred', TARGET]).agg({'dead': ['count', 'sum']}) # more detailed\n",
    "pivot_dead_by_pred_and_target.to_excel(writer, 'pivot_dead_by_pred_and_target')"
   ]
  },
  {
   "cell_type": "code",
   "execution_count": null,
   "id": "9f551a62",
   "metadata": {
    "lines_to_next_cell": 0
   },
   "outputs": [],
   "source": [
    "writer.close()\n",
    "files_out"
   ]
  },
  {
   "cell_type": "markdown",
   "id": "fdf79b8f-ddfa-465c-bf36-f9af61e4a0e9",
   "metadata": {},
   "source": [
    "## Plot TP, TN, FP and FN on PCA plot"
   ]
  },
  {
   "cell_type": "code",
   "execution_count": null,
   "id": "78a41ba6-34a3-44fe-bbe2-486a8d69fc14",
   "metadata": {},
   "outputs": [],
   "source": [
    "predictions['label'] = predictions.apply(lambda x: njab.sklearn.scoring.get_label_binary_classification(\n",
    "        x['true'], x[model_name]),\n",
    "                      axis=1)\n",
    "\n",
    "mask = predictions[['true', model_name]].sum(axis=1).astype(bool)\n",
    "predictions.loc[mask].sort_values('score', ascending=False)"
   ]
  },
  {
   "cell_type": "code",
   "execution_count": null,
   "id": "0d29861d-f125-4ea1-9b0d-6c5cb6068c79",
   "metadata": {},
   "outputs": [],
   "source": [
    "colors = seaborn.color_palette(n_colors=4)\n",
    "colors"
   ]
  },
  {
   "cell_type": "code",
   "execution_count": null,
   "id": "8788a868-2040-4409-bf93-3f6f505d79d0",
   "metadata": {},
   "outputs": [],
   "source": [
    "# import matplotlib.pyplot as plt\n",
    "# fig, axes = plt.subplots(3,1, figsize=(10,20), sharex=True, sharey=True)\n",
    "# for model_pred_col, ax in zip(binary_labels.columns, axes.ravel()):\n",
    "#     ax = seaborn.scatterplot(x=PCs.iloc[:,0], y=PCs.iloc[:, 1], hue=binary_labels[model_pred_col], hue_order=['TN', 'TP', 'FN', 'FP'],\n",
    "#                              # palette=colors,\n",
    "#                              palette=[colors[0], colors[2], colors[1], colors[3]],\n",
    "#                              ax=ax)\n",
    "#     ax.set_title(model_pred_col)"
   ]
  }
 ],
 "metadata": {
  "kernelspec": {
   "display_name": "Python 3 (ipykernel)",
   "language": "python",
   "name": "python3"
  },
  "language_info": {
   "codemirror_mode": {
    "name": "ipython",
    "version": 3
   },
   "file_extension": ".py",
   "mimetype": "text/x-python",
   "name": "python",
   "nbconvert_exporter": "python",
   "pygments_lexer": "ipython3",
   "version": "3.10.4"
  }
 },
 "nbformat": 4,
 "nbformat_minor": 5
}
