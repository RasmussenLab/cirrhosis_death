{
 "cells": [
  {
   "cell_type": "markdown",
   "id": "25b2b8b8-3951-486f-9714-a7cbe0a734a0",
   "metadata": {},
   "source": [
    "# Logistic regression model"
   ]
  },
  {
   "cell_type": "code",
   "execution_count": null,
   "id": "0956d649-7854-47d3-ae9a-a6143e4b1439",
   "metadata": {},
   "outputs": [],
   "source": [
    "from pathlib import Path\n",
    "\n",
    "import numpy as np\n",
    "import pandas as pd\n",
    "\n",
    "import pingouin as pg\n",
    "import seaborn\n",
    "import sklearn\n",
    "from sklearn.metrics import precision_recall_curve, roc_curve\n",
    "\n",
    "import src.stats\n",
    "from src.sklearn import run_pca, StandardScaler\n",
    "from src.sklearn.scoring import ConfusionMatrix\n",
    "\n",
    "import config"
   ]
  },
  {
   "cell_type": "markdown",
   "id": "100b0784-b865-4b51-ba3f-0aa0934cbdee",
   "metadata": {},
   "source": [
    "# Set parameters"
   ]
  },
  {
   "cell_type": "code",
   "execution_count": null,
   "id": "10f0546b-136a-4090-9d61-59c80f7ca29c",
   "metadata": {
    "tags": [
     "parameters"
    ]
   },
   "outputs": [],
   "source": [
    "TARGET = 'hasAdm180'\n",
    "FOLDER = ''"
   ]
  },
  {
   "cell_type": "code",
   "execution_count": null,
   "id": "13fb6cfb-4499-4306-b4a1-d37ddb9ff961",
   "metadata": {},
   "outputs": [],
   "source": [
    "if not FOLDER:\n",
    "    FOLDER = Path(config.folder_reports) / TARGET\n",
    "    FOLDER.mkdir(exist_ok=True)"
   ]
  },
  {
   "cell_type": "code",
   "execution_count": null,
   "id": "edd12792-2c76-414f-a421-831ec642e149",
   "metadata": {},
   "outputs": [],
   "source": [
    "clinic = pd.read_pickle(config.fname_pkl_clinic)\n",
    "cols_clinic = src.pandas.get_colums_accessor(clinic)\n",
    "olink = pd.read_pickle(config.fname_pkl_olink)"
   ]
  },
  {
   "cell_type": "code",
   "execution_count": null,
   "id": "18fea6e2-b726-44a9-9653-bbb6d55296b2",
   "metadata": {},
   "outputs": [],
   "source": [
    "olink_scaled = StandardScaler().fit_transform(olink).fillna(0)\n",
    "\n",
    "PCs, pca = run_pca(olink_scaled, n_components=None)\n",
    "PCs.iloc[:10, :10]"
   ]
  },
  {
   "cell_type": "markdown",
   "id": "2a60b209-623e-4a29-948d-b70b49f467ca",
   "metadata": {},
   "source": [
    "# Initial Modeling"
   ]
  },
  {
   "cell_type": "code",
   "execution_count": null,
   "id": "9a9ba85a-244a-4604-8ce6-37b4fc123ba2",
   "metadata": {},
   "outputs": [],
   "source": [
    "y_true = clinic[TARGET]\n",
    "predictions = y_true.to_frame('true')\n",
    "y_true.value_counts()"
   ]
  },
  {
   "cell_type": "code",
   "execution_count": null,
   "id": "dda7e905-c82c-479e-a85b-8a25113df483",
   "metadata": {},
   "outputs": [],
   "source": [
    "(y_true.value_counts() / len(y_true))"
   ]
  },
  {
   "cell_type": "markdown",
   "id": "a405118b-0805-478b-9225-48c20a2b2aaf",
   "metadata": {},
   "source": [
    "## Baseline\n",
    "- `age`, `decompensated`, `child-pugh` "
   ]
  },
  {
   "cell_type": "code",
   "execution_count": null,
   "id": "805450f6-1e4c-4720-a878-aefb9f301356",
   "metadata": {},
   "outputs": [],
   "source": [
    "X = [cols_clinic.Age, cols_clinic.ChildPugh]\n",
    "X = clinic[X].copy()\n",
    "X.loc[:,'decompensated'] = clinic.DecomensatedAtDiagnosis.cat.codes\n",
    "\n",
    "weights= sklearn.utils.class_weight.compute_sample_weight('balanced', y_true)\n",
    "\n",
    "log_reg = sklearn.linear_model.LogisticRegression()\n",
    "log_reg = log_reg.fit(X=X, y=y_true, sample_weight=weights)"
   ]
  },
  {
   "cell_type": "code",
   "execution_count": null,
   "id": "a711e070-1f1e-4490-8e26-af86e55c173d",
   "metadata": {},
   "outputs": [],
   "source": [
    "y_pred = log_reg.predict(X)\n",
    "predictions['baseline weighted (LR)'] = y_pred\n",
    "ConfusionMatrix(y_true, y_pred).as_dataframe"
   ]
  },
  {
   "cell_type": "markdown",
   "id": "c7a7c257-c7ca-4b7f-a953-2a863cbca81d",
   "metadata": {},
   "source": [
    "## Logistic Regression"
   ]
  },
  {
   "cell_type": "code",
   "execution_count": null,
   "id": "477c15bb-3173-4de4-82eb-d893c2493c62",
   "metadata": {},
   "outputs": [],
   "source": [
    "X = PCs.iloc[:,:5]"
   ]
  },
  {
   "cell_type": "markdown",
   "id": "73aa2686-2290-412e-aa88-cb64b039b9a9",
   "metadata": {},
   "source": [
    "### With weights"
   ]
  },
  {
   "cell_type": "code",
   "execution_count": null,
   "id": "797d2e21-b7f6-43d0-ac73-cd4248f98c0b",
   "metadata": {},
   "outputs": [],
   "source": [
    "weights= sklearn.utils.class_weight.compute_sample_weight('balanced', y_true)\n",
    "\n",
    "log_reg = sklearn.linear_model.LogisticRegression()\n",
    "log_reg = log_reg.fit(X=X, y=y_true, sample_weight=weights)"
   ]
  },
  {
   "cell_type": "code",
   "execution_count": null,
   "id": "3ffc24f6-5a47-4c7f-aa54-b8348bec30c3",
   "metadata": {},
   "outputs": [],
   "source": [
    "scores = dict(ref_score=(y_true.value_counts() / len(clinic)).max(),\n",
    "              model_score=log_reg.score(X, y_true, sample_weight=None))\n",
    "\n",
    "scores"
   ]
  },
  {
   "cell_type": "code",
   "execution_count": null,
   "id": "27812403-4fd6-490f-8bb5-15705d53126e",
   "metadata": {},
   "outputs": [],
   "source": [
    "y_pred = log_reg.predict(X)\n",
    "predictions['5 PCs weighted (LR)'] = y_pred\n",
    "\n",
    "ConfusionMatrix(y_true, y_pred).as_dataframe"
   ]
  },
  {
   "cell_type": "code",
   "execution_count": null,
   "id": "95bc8097-1106-4481-b0e1-e72663c62ab8",
   "metadata": {},
   "outputs": [],
   "source": [
    "pivot = y_true.to_frame()\n",
    "pivot['pred'] = y_pred\n",
    "pivot = pivot.join(clinic.dead.astype(int))\n",
    "pivot.describe().iloc[:2]"
   ]
  },
  {
   "cell_type": "code",
   "execution_count": null,
   "id": "f5d96290-b478-4d74-b823-bf27cb0b6369",
   "metadata": {},
   "outputs": [],
   "source": [
    "pd.pivot_table(pivot, values='pred', index=TARGET, columns='dead', aggfunc='sum')"
   ]
  },
  {
   "cell_type": "code",
   "execution_count": null,
   "id": "3aedfdc3-300e-4b4f-883d-a5d06dd9d2d2",
   "metadata": {},
   "outputs": [],
   "source": [
    "pd.pivot_table(pivot, values='dead', index=TARGET, columns='pred', aggfunc='sum')"
   ]
  },
  {
   "cell_type": "code",
   "execution_count": null,
   "id": "d090d1ef-86b6-4eda-86a0-8e66bc3e548d",
   "metadata": {},
   "outputs": [],
   "source": [
    "pivot.groupby(['pred', TARGET]).agg({'dead': ['count', 'sum']}) # more detailed"
   ]
  },
  {
   "cell_type": "markdown",
   "id": "be499849-8d1c-42fd-b100-467eb5edd46e",
   "metadata": {},
   "source": [
    "### Without weights, but adapting cutoff"
   ]
  },
  {
   "cell_type": "code",
   "execution_count": null,
   "id": "f6f2646a-5b90-45e9-a597-9bd51a86eac9",
   "metadata": {},
   "outputs": [],
   "source": [
    "log_reg = log_reg.fit(X=X, y=y_true, sample_weight=None)\n",
    "\n",
    "y_prob = log_reg.predict_proba(X)[:,1]"
   ]
  },
  {
   "cell_type": "code",
   "execution_count": null,
   "id": "0f9fe68e-6a17-4c88-8b90-43e17d4335d0",
   "metadata": {},
   "outputs": [],
   "source": [
    "fpr, tpr, cutoffs = roc_curve(y_true, y_prob)\n",
    "roc = pd.DataFrame([fpr, tpr, cutoffs], index='fpr tpr cutoffs'.split())\n",
    "ax = roc.T.plot('fpr', 'tpr')"
   ]
  },
  {
   "cell_type": "code",
   "execution_count": null,
   "id": "0abf3e2e-17a8-4e2b-bf04-e90762118069",
   "metadata": {},
   "outputs": [],
   "source": [
    "precision, recall, cutoffs = precision_recall_curve(y_true, y_prob)\n",
    "prc = pd.DataFrame([precision, recall, cutoffs], index='precision recall cutoffs'.split())\n",
    "prc"
   ]
  },
  {
   "cell_type": "code",
   "execution_count": null,
   "id": "ad256be7-443e-4691-b44f-f5432dc1045b",
   "metadata": {},
   "outputs": [],
   "source": [
    "ax = prc.T.plot('recall', 'precision', ylabel='precision')"
   ]
  },
  {
   "cell_type": "code",
   "execution_count": null,
   "id": "7888a095-0fe2-4f95-8dc9-71c8ebdc2d39",
   "metadata": {},
   "outputs": [],
   "source": [
    "prc.loc['f1_score'] = 2 * (prc.loc['precision'] * prc.loc['recall']) / (1/prc.loc['precision'] + 1/prc.loc['recall']) \n",
    "f1_max = prc[prc.loc['f1_score'].argmax()]\n",
    "f1_max"
   ]
  },
  {
   "cell_type": "code",
   "execution_count": null,
   "id": "099d59b1-2587-41a5-bf78-af8cf521df55",
   "metadata": {},
   "outputs": [],
   "source": [
    "y_pred = pd.Series((y_prob > f1_max.loc['cutoffs']), index=PCs.index).astype(int)\n",
    "\n",
    "predictions['5 PCs (LR)'] = y_pred\n",
    "\n",
    "ConfusionMatrix(y_true, y_pred).as_dataframe # this needs to be augmented with information if patient died by now (to see who is \"wrongly classified)\")"
   ]
  },
  {
   "cell_type": "code",
   "execution_count": null,
   "id": "1fc26038-5c51-473e-81c0-9d5275d9989c",
   "metadata": {},
   "outputs": [],
   "source": [
    "pivot = y_pred.to_frame('pred').join(y_true).join(clinic.dead.astype(int))\n",
    "pivot.describe().iloc[:2]"
   ]
  },
  {
   "cell_type": "markdown",
   "id": "5852edcf-0d1f-4eb3-b97e-d37af3928e51",
   "metadata": {},
   "source": [
    "How many will die for those who have been predicted to die?"
   ]
  },
  {
   "cell_type": "code",
   "execution_count": null,
   "id": "89ffc75f-b24b-4971-9fad-a6196aeae3ef",
   "metadata": {},
   "outputs": [],
   "source": [
    "pd.pivot_table(pivot, values='pred', index=TARGET, columns='dead', aggfunc='sum')"
   ]
  },
  {
   "cell_type": "code",
   "execution_count": null,
   "id": "0f4f2709-5365-45ec-8c8c-ff5d94c5be62",
   "metadata": {},
   "outputs": [],
   "source": [
    "pivot.groupby(['pred', TARGET]).agg({'dead': ['count', 'sum']}) # more detailed"
   ]
  },
  {
   "cell_type": "markdown",
   "id": "0ede7970-ca93-4b2a-b2e5-da8729824da7",
   "metadata": {},
   "source": [
    "## Compare prediction errors between models"
   ]
  },
  {
   "cell_type": "code",
   "execution_count": null,
   "id": "0854eb74-e529-4e2c-b0a5-0352d0f29659",
   "metadata": {},
   "outputs": [],
   "source": [
    "def get_mask_fp_tn(predictions:pd.DataFrame):\n",
    "    N, M = predictions.shape\n",
    "    row_sums = predictions.sum(axis=1)\n",
    "    mask = (row_sums == 0) | (row_sums==M)\n",
    "    return ~mask\n",
    "mask_fp_tn = get_mask_fp_tn(predictions)\n",
    "predictions.loc[mask_fp_tn].sort_values(by='true', ascending=False)"
   ]
  },
  {
   "cell_type": "code",
   "execution_count": null,
   "id": "c9bba29b-df9f-42f9-85bb-cbd32809cc26",
   "metadata": {},
   "outputs": [],
   "source": [
    "sel_clinic_cols = [cols_clinic.Age, cols_clinic.DiagnosisPlace, cols_clinic.HeartDiseaseTotal, cols_clinic.DaysToAdmFromInflSample, cols_clinic.DaysToDeathFromInfl, cols_clinic.DaysToDeathFromInfl, cols_clinic.DateInflSample, cols_clinic.DateBiochemistry_, cols_clinic.DateImmunoglobulins_, cols_clinic.DateInflSample]\n",
    "predictions.loc[mask_fp_tn].loc[y_true.astype(bool)].sort_values(by='true', ascending=False).join(clinic[sel_clinic_cols])"
   ]
  },
  {
   "cell_type": "code",
   "execution_count": null,
   "id": "e4c8450e-6247-40b5-a8b2-b81e212bad58",
   "metadata": {},
   "outputs": [],
   "source": [
    "mask_tp = predictions.sum(axis=1) == 4\n",
    "predictions.loc[mask_tp].join(clinic[sel_clinic_cols])"
   ]
  },
  {
   "cell_type": "markdown",
   "id": "fdf79b8f-ddfa-465c-bf36-f9af61e4a0e9",
   "metadata": {},
   "source": [
    "## Plot TP, TN, FP and FN on PCA plot"
   ]
  },
  {
   "cell_type": "code",
   "execution_count": null,
   "id": "a23d072c-ca13-4a33-a591-f925d16c906a",
   "metadata": {},
   "outputs": [],
   "source": [
    "model_pred_cols = predictions.columns[1:5].to_list()\n",
    "model_pred_cols"
   ]
  },
  {
   "cell_type": "code",
   "execution_count": null,
   "id": "78565a8f-dd70-4635-8a62-41726d0edbb5",
   "metadata": {},
   "outputs": [],
   "source": [
    "binary_labels = pd.DataFrame()\n",
    "\n",
    "TRUE_COL = 'true'\n",
    "for model_pred_col in model_pred_cols:\n",
    "    binary_labels[model_pred_col] = predictions.apply(lambda x: src.sklearn.scoring.get_label_binary_classification(\n",
    "        x[TRUE_COL], x[model_pred_col]),\n",
    "                      axis=1)\n",
    "binary_labels.sample(6)"
   ]
  },
  {
   "cell_type": "code",
   "execution_count": null,
   "id": "0d29861d-f125-4ea1-9b0d-6c5cb6068c79",
   "metadata": {},
   "outputs": [],
   "source": [
    "colors = seaborn.color_palette(n_colors=4)\n",
    "colors"
   ]
  },
  {
   "cell_type": "code",
   "execution_count": null,
   "id": "8788a868-2040-4409-bf93-3f6f505d79d0",
   "metadata": {},
   "outputs": [],
   "source": [
    "import matplotlib.pyplot as plt\n",
    "fig, axes = plt.subplots(3,1, figsize=(10,20), sharex=True, sharey=True)\n",
    "for model_pred_col, ax in zip(binary_labels.columns, axes.ravel()):\n",
    "    ax = seaborn.scatterplot(x=PCs.iloc[:,0], y=PCs.iloc[:, 1], hue=binary_labels[model_pred_col], hue_order=['TN', 'TP', 'FN', 'FP'],\n",
    "                             # palette=colors,\n",
    "                             palette=[colors[0], colors[2], colors[1], colors[3]],\n",
    "                             ax=ax)\n",
    "    ax.set_title(model_pred_col)"
   ]
  }
 ],
 "metadata": {
  "kernelspec": {
   "display_name": "Python 3 (ipykernel)",
   "language": "python",
   "name": "python3"
  },
  "language_info": {
   "codemirror_mode": {
    "name": "ipython",
    "version": 3
   },
   "file_extension": ".py",
   "mimetype": "text/x-python",
   "name": "python",
   "nbconvert_exporter": "python",
   "pygments_lexer": "ipython3",
   "version": "3.10.4"
  }
 },
 "nbformat": 4,
 "nbformat_minor": 5
}
