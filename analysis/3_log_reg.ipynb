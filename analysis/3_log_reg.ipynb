{
 "cells": [
  {
   "cell_type": "markdown",
   "id": "25b2b8b8-3951-486f-9714-a7cbe0a734a0",
   "metadata": {},
   "source": [
    "# Logistic regression model"
   ]
  },
  {
   "cell_type": "code",
   "execution_count": null,
   "id": "0956d649-7854-47d3-ae9a-a6143e4b1439",
   "metadata": {},
   "outputs": [],
   "source": [
    "import itertools\n",
    "import logging\n",
    "from pathlib import Path\n",
    "\n",
    "import numpy as np\n",
    "import pandas as pd\n",
    "\n",
    "import plotly.express as px\n",
    "import pingouin as pg\n",
    "import matplotlib.pyplot as plt\n",
    "import seaborn\n",
    "from heatmap import corrplot\n",
    "import umap\n",
    "\n",
    "import sklearn\n",
    "import sklearn.impute\n",
    "from sklearn.metrics import make_scorer, log_loss\n",
    "import statsmodels.api as sm\n",
    "\n",
    "import njab.sklearn\n",
    "from njab.sklearn import StandardScaler\n",
    "from njab.sklearn import pca as njab_pca\n",
    "from njab.sklearn.scoring import ConfusionMatrix\n",
    "from njab.sklearn.types import Splits\n",
    "from njab.plotting.metrics import plot_auc, plot_prc\n",
    "from njab.sklearn.scoring import get_score, get_pred, get_target_count_per_bin\n",
    "\n",
    "import src\n",
    "\n",
    "import config\n",
    "\n",
    "logger = logging.getLogger('njab')\n",
    "logger.setLevel(logging.INFO)"
   ]
  },
  {
   "cell_type": "markdown",
   "id": "100b0784-b865-4b51-ba3f-0aa0934cbdee",
   "metadata": {},
   "source": [
    "## Set parameters\n",
    "\n",
    "- [ ] one large dataset, composing of data should be done elsewhere\n",
    "- [ ] allow feature selection based on requested variables"
   ]
  },
  {
   "cell_type": "code",
   "execution_count": null,
   "id": "10f0546b-136a-4090-9d61-59c80f7ca29c",
   "metadata": {
    "tags": [
     "parameters"
    ]
   },
   "outputs": [],
   "source": [
    "# clinic numeric pickled, can contain missing\n",
    "CLINIC: Path = config.fname_pkl_all_clinic_num\n",
    "# olink numeric pickled, can contain missing\n",
    "OLINK: Path = config.fname_pkl_all_olink\n",
    "TARGET: str = 'dead180infl'  # target column in CLINIC data\n",
    "feat_set_to_consider: str = 'OLINK_AND_CLINIC'\n",
    "n_features_max: int = 15\n",
    "VAL_IDS: str = ''  #\n",
    "VAL_IDS_query: str = 'Cflow'\n",
    "weights: bool = True\n",
    "FOLDER = ''"
   ]
  },
  {
   "cell_type": "code",
   "execution_count": null,
   "id": "a39b232c-b01b-472e-9b30-bb77dbc6d8b5",
   "metadata": {},
   "outputs": [],
   "source": [
    "# CLINIC:Path = config.fname_pkl_all_clinic_num\n",
    "# OLINK:Path = config.fname_pkl_all_olink\n",
    "# weights = False\n",
    "# feat_set_to_consider = \"SCORES_ONLY\"\n",
    "# FOLDER = \"S:/SUND-CBMR-RegH-cohorts/ProDoc/reports_dev/prodoc/hasLiverAdm180/SCORES_ONLY\"\n",
    "\n",
    "# # Parameters\n",
    "# TARGET = \"hasLiverAdm180\"\n",
    "# CLINIC = \"S:/SUND-CBMR-RegH-cohorts/ProDoc/data/processed/all_clinic_num.pkl\"\n",
    "# OLINK = \"S:/SUND-CBMR-RegH-cohorts/ProDoc/data/processed/all_olink.pkl\"\n",
    "# feat_set_to_consider = \"SCORES_ONLY\"\n",
    "# VAL_IDS_query = \"Cflow\"\n",
    "# FOLDER = \"S:/SUND-CBMR-RegH-cohorts/ProDoc/reports/prodoc/hasLiverAdm180/SCORES_ONLY\""
   ]
  },
  {
   "cell_type": "markdown",
   "id": "4bf5376f",
   "metadata": {},
   "source": [
    "# Setup\n",
    "## Load data"
   ]
  },
  {
   "cell_type": "code",
   "execution_count": null,
   "id": "edd12792-2c76-414f-a421-831ec642e149",
   "metadata": {
    "lines_to_next_cell": 2
   },
   "outputs": [],
   "source": [
    "clinic = pd.read_pickle(CLINIC)\n",
    "cols_clinic = src.pandas.get_colums_accessor(clinic)\n",
    "olink = pd.read_pickle(OLINK)"
   ]
  },
  {
   "cell_type": "code",
   "execution_count": null,
   "id": "1d93d59f-967f-474d-aaba-3ddbfa54fddc",
   "metadata": {},
   "outputs": [],
   "source": [
    "olink.shape, clinic.shape"
   ]
  },
  {
   "cell_type": "markdown",
   "id": "99ccf3a7-f5e0-478d-89a1-d4184260f3a5",
   "metadata": {
    "lines_to_next_cell": 0
   },
   "source": [
    "## Target"
   ]
  },
  {
   "cell_type": "code",
   "execution_count": null,
   "id": "9a9ba85a-244a-4604-8ce6-37b4fc123ba2",
   "metadata": {},
   "outputs": [],
   "source": [
    "src.pandas.value_counts_with_margins(clinic[TARGET])"
   ]
  },
  {
   "cell_type": "code",
   "execution_count": null,
   "id": "d090214d-7721-48bf-87ad-8e5da0f559f3",
   "metadata": {},
   "outputs": [],
   "source": [
    "target_counts = clinic[TARGET].value_counts()\n",
    "\n",
    "if target_counts.sum() < len(clinic):\n",
    "    print(\n",
    "        f\"Target has missing values. Can only use {target_counts.sum()} of {len(clinic)} samples.\"\n",
    "    )\n",
    "    mask = clinic[TARGET].notna()\n",
    "    clinic, olink = clinic.loc[mask], olink.loc[mask]\n",
    "\n",
    "TARGET_LABEL = config.TARGET_LABELS[TARGET]\n",
    "\n",
    "y = clinic[TARGET].rename(TARGET_LABEL)\n",
    "\n",
    "target_counts"
   ]
  },
  {
   "cell_type": "markdown",
   "id": "92d0fc3d",
   "metadata": {},
   "source": [
    "## Test IDs"
   ]
  },
  {
   "cell_type": "code",
   "execution_count": null,
   "id": "9fb91915",
   "metadata": {},
   "outputs": [],
   "source": [
    "olink_val, clinic_val = None, None\n",
    "if not VAL_IDS:\n",
    "    if VAL_IDS_query:\n",
    "        logging.warning(f\"Querying index using: {VAL_IDS_query}\")\n",
    "        VAL_IDS = clinic.filter(like='Cflow', axis=0).index.to_list()\n",
    "        logging.warning(f\"Found {len(VAL_IDS)} Test-IDs\")\n",
    "    else:\n",
    "        logging.warning(\"Create train and test split.\")\n",
    "        _, VAL_IDS = sklearn.model_selection.train_test_split(\n",
    "            clinic.index,\n",
    "            test_size=0.2,\n",
    "            random_state=123,\n",
    "            stratify=clinic[TARGET])\n",
    "        VAL_IDS = list(VAL_IDS)\n",
    "elif isinstance(VAL_IDS, str):\n",
    "    VAL_IDS = VAL_IDS.split(\",\")\n",
    "else:\n",
    "    raise ValueError(\"Provide IDs in csv format as str: 'ID1,ID2'\")\n",
    "VAL_IDS"
   ]
  },
  {
   "cell_type": "markdown",
   "id": "63ed5714-3c29-4774-9a2f-37e27d8300c3",
   "metadata": {},
   "source": [
    "## Combine clinical and olink data\n"
   ]
  },
  {
   "cell_type": "code",
   "execution_count": null,
   "id": "558d2710-12f7-434e-89fa-0cb5df7fe5ad",
   "metadata": {},
   "outputs": [],
   "source": [
    "if feat_set_to_consider not in config.feat_sets:\n",
    "    raise ValueError(\n",
    "        f\"Choose one of the available sets: {', '.join(config.feat_sets.keys())}\"\n",
    "    )\n",
    "feat_to_consider = config.feat_sets[feat_set_to_consider].split(',')\n",
    "feat_to_consider"
   ]
  },
  {
   "cell_type": "code",
   "execution_count": null,
   "id": "ce335bab",
   "metadata": {},
   "outputs": [],
   "source": [
    "# predictors = feat_clinic + olink.columns.to_list()\n",
    "model_name = config.MODEL_NAMES[feat_set_to_consider]\n",
    "X = clinic.join(olink)[feat_to_consider]\n",
    "X"
   ]
  },
  {
   "cell_type": "markdown",
   "id": "4e45eb35",
   "metadata": {},
   "source": [
    "## Data Splits -> train and test split"
   ]
  },
  {
   "cell_type": "code",
   "execution_count": null,
   "id": "462ea13a",
   "metadata": {
    "lines_to_next_cell": 2
   },
   "outputs": [],
   "source": [
    "if VAL_IDS:\n",
    "    diff = pd.Index(VAL_IDS)\n",
    "    VAL_IDS = X.index.intersection(VAL_IDS)\n",
    "    if len(diff) < len(VAL_IDS):\n",
    "        logging.warning(\"Some requested validation IDs are not in the data: \"\n",
    "                        \",\".join(str(x) for x in diff.difference(VAL_IDS)))\n",
    "    X_val = X.loc[VAL_IDS]\n",
    "    X = X.drop(VAL_IDS)\n",
    "\n",
    "    use_val_split = True\n",
    "\n",
    "    y_val = y.loc[VAL_IDS]\n",
    "    y = y.drop(VAL_IDS)"
   ]
  },
  {
   "cell_type": "markdown",
   "id": "88054bf6",
   "metadata": {
    "lines_to_next_cell": 2
   },
   "source": [
    "## Output folder"
   ]
  },
  {
   "cell_type": "code",
   "execution_count": null,
   "id": "ca642eb3",
   "metadata": {},
   "outputs": [],
   "source": [
    "if not FOLDER:\n",
    "    FOLDER = Path(\n",
    "        config.folder_reports) / 'prodoc' / TARGET / feat_set_to_consider\n",
    "    FOLDER.mkdir(exist_ok=True, parents=True)\n",
    "else:\n",
    "    FOLDER = Path(FOLDER)\n",
    "FOLDER"
   ]
  },
  {
   "cell_type": "markdown",
   "id": "cfcdb589-f419-40a8-acb5-56363fa714c4",
   "metadata": {},
   "source": [
    "### Outputs"
   ]
  },
  {
   "cell_type": "code",
   "execution_count": null,
   "id": "50030842",
   "metadata": {},
   "outputs": [],
   "source": [
    "# out\n",
    "files_out = {}\n",
    "fname = FOLDER / '3_log_reg.xlsx'\n",
    "files_out[fname.stem] = fname\n",
    "writer = pd.ExcelWriter(fname)\n",
    "fname"
   ]
  },
  {
   "cell_type": "markdown",
   "id": "68eddf1e-04b8-4791-bdf0-ba6093cd9f11",
   "metadata": {},
   "source": [
    "## Collect test predictions"
   ]
  },
  {
   "cell_type": "code",
   "execution_count": null,
   "id": "ae5cacf2-ed11-44b7-8101-87ee2f5b1941",
   "metadata": {},
   "outputs": [],
   "source": [
    "predictions = y_val.to_frame('true')"
   ]
  },
  {
   "cell_type": "markdown",
   "id": "d03aac81-957e-4e3f-ae3b-54bbcfdb0e6f",
   "metadata": {},
   "source": [
    "## Deal with missing values globally - impute"
   ]
  },
  {
   "cell_type": "code",
   "execution_count": null,
   "id": "84300568-ceae-476d-8873-76be11a1aac1",
   "metadata": {},
   "outputs": [],
   "source": [
    "feat_w_missings = X.isna().sum()\n",
    "feat_w_missings = feat_w_missings.loc[feat_w_missings > 0]\n",
    "feat_w_missings"
   ]
  },
  {
   "cell_type": "code",
   "execution_count": null,
   "id": "7fe11aaf-8f73-40a5-9bf3-5b8e43d1b890",
   "metadata": {},
   "outputs": [],
   "source": [
    "row_w_missing = X.isna().sum(axis=1).astype(bool)\n",
    "col_w_missing = X.isna().sum(axis=0).astype(bool)\n",
    "X.loc[row_w_missing, col_w_missing]"
   ]
  },
  {
   "cell_type": "code",
   "execution_count": null,
   "id": "65dd35b8-10a4-4aaa-8a3c-94523846e309",
   "metadata": {
    "lines_to_next_cell": 2
   },
   "outputs": [],
   "source": [
    "median_imputer = sklearn.impute.SimpleImputer(strategy='median')\n",
    "\n",
    "X = njab.sklearn.transform_DataFrame(X, median_imputer.fit_transform)\n",
    "X_val = njab.sklearn.transform_DataFrame(X_val, median_imputer.transform)"
   ]
  },
  {
   "cell_type": "code",
   "execution_count": null,
   "id": "56270610-51de-4004-8194-3dc6a48b0a65",
   "metadata": {},
   "outputs": [],
   "source": [
    "assert X.isna().sum().sum() == 0"
   ]
  },
  {
   "cell_type": "code",
   "execution_count": null,
   "id": "59b53e24-2d77-48c7-8b5e-8c1bbe36e76a",
   "metadata": {},
   "outputs": [],
   "source": [
    "X.shape, X_val.shape"
   ]
  },
  {
   "cell_type": "markdown",
   "id": "b8f24a5e-b8e6-4b41-9bd1-3ebd75fbd19d",
   "metadata": {},
   "source": [
    "# Principal Components\n",
    "\n",
    "- [ ]  base on selected data\n",
    "- binary features do not strictly need to be normalized"
   ]
  },
  {
   "cell_type": "code",
   "execution_count": null,
   "id": "714e0bbf-5bfb-46f8-8dec-057a95b7135e",
   "metadata": {},
   "outputs": [],
   "source": [
    "scaler = StandardScaler()\n",
    "X_scaled = scaler.fit_transform(X)\n",
    "\n",
    "PCs, pca = njab_pca.run_pca(X_scaled, n_components=None)\n",
    "files_out[\"var_explained_by_PCs.pdf\"] = FOLDER / \"var_explained_by_PCs.pdf\"\n",
    "ax = njab_pca.plot_explained_variance(pca)\n",
    "ax.locator_params(axis='x', integer=True)\n",
    "njab.plotting.savefig(ax.get_figure(), files_out[\"var_explained_by_PCs.pdf\"])\n",
    "X_scaled.shape"
   ]
  },
  {
   "cell_type": "code",
   "execution_count": null,
   "id": "6272f309-e40c-4e5d-a053-809497251542",
   "metadata": {},
   "outputs": [],
   "source": [
    "files_out['scatter_first_5PCs.pdf'] = FOLDER / 'scatter_first_5PCs.pdf'\n",
    "\n",
    "fig, axes = plt.subplots(5, 2, figsize=(8.3, 11.7), layout='constrained')\n",
    "PCs = PCs.join(y.astype('category'))\n",
    "up_to = min(PCs.shape[-1], 5)\n",
    "for (i, j), ax in zip(itertools.combinations(range(up_to), 2), axes.flatten()):\n",
    "    PCs.plot.scatter(i, j, c=TARGET_LABEL, cmap='Paired', ax=ax)\n",
    "_ = PCs.pop(TARGET_LABEL)\n",
    "njab.plotting.savefig(fig, files_out['scatter_first_5PCs.pdf'])"
   ]
  },
  {
   "cell_type": "markdown",
   "id": "ddf4f774-1a0a-4a5b-afd3-689fa214d915",
   "metadata": {},
   "source": [
    "# UMAP"
   ]
  },
  {
   "cell_type": "code",
   "execution_count": null,
   "id": "b891192e-9fc5-410a-8af3-3231b737146e",
   "metadata": {},
   "outputs": [],
   "source": [
    "reducer = umap.UMAP()\n",
    "embedding = reducer.fit_transform(X_scaled)"
   ]
  },
  {
   "cell_type": "code",
   "execution_count": null,
   "id": "b90248d3-a7ba-4b63-b7b0-44c6095363f8",
   "metadata": {},
   "outputs": [],
   "source": [
    "files_out['umap.pdf'] = FOLDER / 'umap.pdf'\n",
    "\n",
    "embedding = pd.DataFrame(embedding,\n",
    "                         index=X_scaled.index,\n",
    "                         columns=['UMAP 1',\n",
    "                                  'UMAP 2']).join(y.astype('category'))\n",
    "ax = embedding.plot.scatter('UMAP 1', 'UMAP 2', c=TARGET_LABEL, cmap='Paired')\n",
    "njab.plotting.savefig(ax.get_figure(), files_out['umap.pdf'])"
   ]
  },
  {
   "cell_type": "markdown",
   "id": "a405118b-0805-478b-9225-48c20a2b2aaf",
   "metadata": {},
   "source": [
    "# Baseline Model - Logistic Regression\n",
    "- `age`, `decompensated`, `MELD-score`\n",
    "- use weigthing to counter class imbalances"
   ]
  },
  {
   "cell_type": "code",
   "execution_count": null,
   "id": "805450f6-1e4c-4720-a878-aefb9f301356",
   "metadata": {},
   "outputs": [],
   "source": [
    "# run nb with parameters\n",
    "# name_model = 'baseline'\n",
    "# cols_base_model = [cols_clinic.Age, cols_clinic.DecomensatedAtDiagnosis, cols_clinic.MELD_score] # MELD score -> death"
   ]
  },
  {
   "cell_type": "code",
   "execution_count": null,
   "id": "3654a62b-66f1-4dbd-a492-5e85a139615d",
   "metadata": {},
   "outputs": [],
   "source": [
    "if weights:\n",
    "    weights = 'balanced'\n",
    "    cutoff = 0.5\n",
    "else:\n",
    "    cutoff = None\n",
    "    weights = None"
   ]
  },
  {
   "cell_type": "markdown",
   "id": "9f56b511-0f23-4fc9-84cd-2f1823f28655",
   "metadata": {},
   "source": [
    "# Logistic Regression\n",
    "Procedure:\n",
    "1. Select best set of features from entire feature set selected using CV on train split\n",
    "2. Retrain best model configuration using entire train split and evalute on test split"
   ]
  },
  {
   "cell_type": "code",
   "execution_count": null,
   "id": "6b323c5f-22c0-461f-a17e-f22ef210a011",
   "metadata": {},
   "outputs": [],
   "source": [
    "# # Scaled\n",
    "splits = Splits(X_train=X_scaled,\n",
    "                X_test=scaler.transform(X_val),\n",
    "                y_train=y,\n",
    "                y_test=y_val)\n",
    "\n",
    "# splits = Splits(X_train=X,\n",
    "#                 X_test=X_val,\n",
    "#                 y_train=y, y_test=y_val)\n",
    "\n",
    "model = sklearn.linear_model.LogisticRegression(\n",
    "    penalty='l2', class_weight=weights)"
   ]
  },
  {
   "cell_type": "code",
   "execution_count": null,
   "id": "950f0f53-8d46-46bd-a14a-ec1fdc46b69e",
   "metadata": {},
   "outputs": [],
   "source": [
    "scoring = [\n",
    "    'precision', 'recall', 'f1', 'balanced_accuracy', 'roc_auc',\n",
    "    'average_precision'\n",
    "]\n",
    "scoring = {k: k for k in scoring}\n",
    "# do not average log loss for AIC and BIC calculations\n",
    "scoring['log_loss'] = make_scorer(log_loss,\n",
    "                                  greater_is_better=True,\n",
    "                                  normalize=False)\n",
    "cv_feat = njab.sklearn.find_n_best_features(\n",
    "    X=splits.X_train,\n",
    "    y=splits.y_train,\n",
    "    model=model,\n",
    "    name=TARGET_LABEL,\n",
    "    groups=y,\n",
    "    n_features_max=n_features_max,\n",
    "    scoring=scoring,\n",
    "    return_train_score=True,\n",
    "    # fit_params=dict(sample_weight=weights)\n",
    ")\n",
    "cv_feat = cv_feat.groupby('n_features').agg(['mean', 'std'])\n",
    "cv_feat"
   ]
  },
  {
   "cell_type": "markdown",
   "id": "9a1d25e0-ae4f-4715-868b-6822294220c8",
   "metadata": {},
   "source": [
    "Add AIC and BIC for model selection"
   ]
  },
  {
   "cell_type": "code",
   "execution_count": null,
   "id": "243fd460-7b6e-40aa-9048-0b8abd0d0d92",
   "metadata": {},
   "outputs": [],
   "source": [
    "# AIC vs BIC on train and test data with bigger is better\n",
    "IC_criteria = pd.DataFrame()\n",
    "N_split = {\n",
    "    'train': round(len(splits.X_train) * 0.8),\n",
    "    'test': round(len(splits.X_train) * 0.2)\n",
    "}\n",
    "\n",
    "# IC_criteria[('test_log_loss', 'mean')] = cv_feat[\n",
    "#                      ('test_log_loss', 'mean')]\n",
    "# IC_criteria[('train_log_loss', 'mean')] = cv_feat[\n",
    "#                      ('train_log_loss', 'mean')]\n",
    "for _split in ('train', 'test'):\n",
    "\n",
    "    IC_criteria[(f'{_split}_neg_AIC',\n",
    "                 'mean')] = -(2 * cv_feat.index.to_series() -\n",
    "                              2 * cv_feat[(f'{_split}_log_loss', 'mean')])\n",
    "    IC_criteria[(\n",
    "        f'{_split}_neg_BIC',\n",
    "        'mean')] = -(cv_feat.index.to_series() * np.log(N_split[_split]) -\n",
    "                     2 * cv_feat[(f'{_split}_log_loss', 'mean')])\n",
    "IC_criteria.columns = pd.MultiIndex.from_tuples(IC_criteria.columns)\n",
    "IC_criteria"
   ]
  },
  {
   "cell_type": "code",
   "execution_count": null,
   "id": "c5324625-4d67-4693-8942-2dc966392aed",
   "metadata": {},
   "outputs": [],
   "source": [
    "cv_feat = cv_feat.join(IC_criteria)\n",
    "cv_feat = cv_feat.filter(regex=\"train|test\", axis=1).style.highlight_max(\n",
    "    axis=0, subset=pd.IndexSlice[:, pd.IndexSlice[:, 'mean']])\n",
    "cv_feat"
   ]
  },
  {
   "cell_type": "code",
   "execution_count": null,
   "id": "94145bcf-6b19-4d71-bca5-970f9a86b575",
   "metadata": {},
   "outputs": [],
   "source": [
    "cv_feat.to_excel(writer, 'CV', float_format='%.3f')\n",
    "cv_feat = cv_feat.data"
   ]
  },
  {
   "cell_type": "code",
   "execution_count": null,
   "id": "97ba2d0c-1917-4640-8703-55764ae8cac3",
   "metadata": {},
   "outputs": [],
   "source": [
    "mask = cv_feat.columns.levels[0].str[:4] == 'test'\n",
    "scores_cols = cv_feat.columns.levels[0][mask]\n",
    "n_feat_best = cv_feat.loc[:, pd.IndexSlice[scores_cols, 'mean']].idxmax()\n",
    "n_feat_best.name = 'best'\n",
    "n_feat_best.to_excel(writer, 'n_feat_best')\n",
    "n_feat_best"
   ]
  },
  {
   "cell_type": "code",
   "execution_count": null,
   "id": "3aabd710-380c-41ee-ba17-7a6eb9821d6b",
   "metadata": {
    "lines_to_next_cell": 2
   },
   "outputs": [],
   "source": [
    "results_model = njab.sklearn.run_model(\n",
    "    model=model,\n",
    "    splits=splits,\n",
    "    # n_feat_to_select=n_feat_best.loc['test_f1', 'mean'],\n",
    "    n_feat_to_select=n_feat_best.loc['test_roc_auc', 'mean'],\n",
    "    # n_feat_to_select=n_feat_best.loc['test_neg_AIC', 'mean'],\n",
    "    # n_feat_to_select=int(n_feat_best.mode()),\n",
    "    # fit_params=dict(sample_weight=weights)\n",
    ")\n",
    "\n",
    "results_model.name = model_name"
   ]
  },
  {
   "cell_type": "markdown",
   "id": "2f6eb26f-3677-4f43-8519-a449e3a16baf",
   "metadata": {},
   "source": [
    "## ROC"
   ]
  },
  {
   "cell_type": "code",
   "execution_count": null,
   "id": "6ec2bb92-699f-45cf-88cd-4eb3773cc234",
   "metadata": {},
   "outputs": [],
   "source": [
    "ax = plot_auc(results_model,\n",
    "              label_train=config.TRAIN_LABEL,\n",
    "              label_test=config.TEST_LABEL,\n",
    "              figsize=(4, 2))\n",
    "files_out['ROAUC'] = FOLDER / 'plot_roauc.pdf'\n",
    "njab.plotting.savefig(ax.get_figure(), files_out['ROAUC'])"
   ]
  },
  {
   "cell_type": "markdown",
   "id": "263647e2-9140-413f-9804-31e2835e7cd8",
   "metadata": {},
   "source": [
    "## PRC"
   ]
  },
  {
   "cell_type": "code",
   "execution_count": null,
   "id": "9f102c96-d231-44a6-b971-cf3b672f43a5",
   "metadata": {},
   "outputs": [],
   "source": [
    "ax = plot_prc(results_model,\n",
    "              label_train=config.TRAIN_LABEL,\n",
    "              label_test=config.TEST_LABEL,\n",
    "              figsize=(4, 2))\n",
    "files_out['PRAUC'] = FOLDER / 'plot_prauc.pdf'\n",
    "njab.plotting.savefig(ax.get_figure(), files_out['PRAUC'])"
   ]
  },
  {
   "cell_type": "markdown",
   "id": "9554e066-d1da-4293-9ad0-2e64c4d9d1de",
   "metadata": {},
   "source": [
    "## Coefficients with/out std. errors"
   ]
  },
  {
   "cell_type": "code",
   "execution_count": null,
   "id": "d55ceabb-b08d-4def-8b7a-37e95d669536",
   "metadata": {},
   "outputs": [],
   "source": [
    "pd.DataFrame({\n",
    "    'coef': results_model.model.coef_.flatten(),\n",
    "    'name': results_model.model.feature_names_in_\n",
    "})"
   ]
  },
  {
   "cell_type": "code",
   "execution_count": null,
   "id": "dab7a70f-6404-44ec-b479-01cc97571b54",
   "metadata": {},
   "outputs": [],
   "source": [
    "results_model.model.intercept_"
   ]
  },
  {
   "cell_type": "code",
   "execution_count": null,
   "id": "8b8ffa89-f015-4169-8ee8-78608af43cdc",
   "metadata": {},
   "outputs": [],
   "source": [
    "sm_logit = sm.Logit(endog=splits.y_train,\n",
    "                    exog=sm.add_constant(\n",
    "                        splits.X_train[results_model.selected_features]))\n",
    "sm_logit = sm_logit.fit()\n",
    "sm_logit.summary()"
   ]
  },
  {
   "cell_type": "markdown",
   "id": "a93da1d4-60cb-45bf-8548-1a581e08b7bd",
   "metadata": {},
   "source": [
    "## Selected Features"
   ]
  },
  {
   "cell_type": "code",
   "execution_count": null,
   "id": "9a66b405-0342-4738-8384-46bbce49859c",
   "metadata": {},
   "outputs": [],
   "source": [
    "des_selected_feat = splits.X_train[results_model.selected_features].describe()\n",
    "des_selected_feat.to_excel(writer, 'sel_feat', float_format='%.3f')\n",
    "des_selected_feat"
   ]
  },
  {
   "cell_type": "code",
   "execution_count": null,
   "id": "55a6c804-4d6d-4f8c-8546-cdd8ee1d1edb",
   "metadata": {},
   "outputs": [],
   "source": [
    "fig = plt.figure(figsize=(6, 6))\n",
    "files_out['corr_plot_train.pdf'] = FOLDER / 'corr_plot_train.pdf'\n",
    "_ = corrplot(X[results_model.selected_features].join(y).corr(), size_scale=300)\n",
    "njab.plotting.savefig(fig, files_out['corr_plot_train.pdf'])"
   ]
  },
  {
   "cell_type": "markdown",
   "id": "d4b25ef7-ffbb-4edb-a20a-329913422e56",
   "metadata": {
    "lines_to_next_cell": 2
   },
   "source": [
    "## Plot training data scores"
   ]
  },
  {
   "cell_type": "code",
   "execution_count": null,
   "id": "e3d01121-f50e-4034-a50f-d6c021892084",
   "metadata": {},
   "outputs": [],
   "source": [
    "N_BINS = 20\n",
    "score = get_score(clf=results_model.model,\n",
    "                  X=splits.X_train[results_model.selected_features],\n",
    "                  pos=1)\n",
    "ax = score.hist(bins=N_BINS)\n",
    "files_out['hist_score_train.pdf'] = FOLDER / 'hist_score_train.pdf'\n",
    "njab.plotting.savefig(ax.get_figure(), files_out['hist_score_train.pdf'])"
   ]
  },
  {
   "cell_type": "code",
   "execution_count": null,
   "id": "fa41609b-c6c1-41b7-b8dd-076e885c122f",
   "metadata": {},
   "outputs": [],
   "source": [
    "# score_val\n",
    "pred_bins = get_target_count_per_bin(score, y, n_bins=N_BINS)\n",
    "ax = pred_bins.plot(kind='bar', ylabel='count')\n",
    "files_out[\n",
    "    'hist_score_train_target.pdf'] = FOLDER / 'hist_score_train_target.pdf'\n",
    "njab.plotting.savefig(\n",
    "    ax.get_figure(), files_out['hist_score_train_target.pdf'])\n",
    "# pred_bins"
   ]
  },
  {
   "cell_type": "markdown",
   "id": "387b4d1d-801e-4f77-bcd8-b05125809cfa",
   "metadata": {},
   "source": [
    "## Test data scores"
   ]
  },
  {
   "cell_type": "code",
   "execution_count": null,
   "id": "bc35609e-d1d7-4d4f-a2cf-1d63938def91",
   "metadata": {},
   "outputs": [],
   "source": [
    "score_val = get_score(clf=results_model.model,\n",
    "                      X=splits.X_test[results_model.selected_features],\n",
    "                      pos=1)\n",
    "predictions['score'] = score_val\n",
    "ax = score_val.hist(bins=N_BINS)  # list(x/N_BINS for x in range(0,N_BINS)))\n",
    "ax.set_ylabel('count')\n",
    "ax.set_xlim(0, 1)\n",
    "files_out['hist_score_test.pdf'] = FOLDER / 'hist_score_test.pdf'\n",
    "njab.plotting.savefig(ax.get_figure(), files_out['hist_score_test.pdf'])\n",
    "pred_bins_val = get_target_count_per_bin(score_val, y_val, n_bins=N_BINS)\n",
    "ax = pred_bins_val.plot(kind='bar', ylabel='count')\n",
    "ax.locator_params(axis='y', integer=True)\n",
    "files_out['hist_score_test_target.pdf'] = FOLDER / 'hist_score_test_target.pdf'\n",
    "njab.plotting.savefig(ax.get_figure(), files_out['hist_score_test_target.pdf'])\n",
    "# pred_bins_val"
   ]
  },
  {
   "cell_type": "markdown",
   "id": "e73d671b-9356-4199-9133-f16af4e45241",
   "metadata": {},
   "source": [
    "# KM plot"
   ]
  },
  {
   "cell_type": "code",
   "execution_count": null,
   "id": "a3c94db3-0686-4efc-bad4-559b513154e4",
   "metadata": {},
   "outputs": [],
   "source": [
    "pred_train = get_pred(\n",
    "    clf=results_model.model,\n",
    "    X=splits.X_train[results_model.selected_features]).astype(bool)\n",
    "ax, _, _ = src.plotting.compare_km_curves(time=clinic.loc[pred_train.index,\n",
    "                                                          \"DaysToDeathFromInfl\"],\n",
    "                                          y=y[pred_train.index],\n",
    "                                          pred=pred_train,\n",
    "                                          xlabel='Days since inflammation sample',\n",
    "                                          ylabel=f'rate {y.name}')\n",
    "\n",
    "res = src.plotting.km.log_rank_test(time=clinic.loc[pred_train.index,\n",
    "                                                    \"DaysToDeathFromInfl\"],\n",
    "                                    y=y[pred_train.index],\n",
    "                                    mask=pred_train)\n",
    "ax.set_title(\n",
    "    f'KM curve for LR based on {model_name.lower()}\\n (log-rank-test p={res.p_value:.3f})')\n",
    "ax.legend([\n",
    "    f\"KP pred=0 (N={(~pred_train).sum()})\", '95% CI (pred=0)',\n",
    "    f\"KP pred=1 (N={pred_train.sum()})\", '95% CI (pred=1)'\n",
    "])\n",
    "fname = FOLDER / f'KM_plot_model_train.pdf'\n",
    "files_out[fname.name] = fname\n",
    "njab.plotting.savefig(ax.get_figure(), fname)"
   ]
  },
  {
   "cell_type": "markdown",
   "id": "5f6c045b-9e0f-4da6-965e-f7147dc678c5",
   "metadata": {},
   "source": [
    "# Performance evaluations"
   ]
  },
  {
   "cell_type": "code",
   "execution_count": null,
   "id": "318d279c-f88c-439a-8bb7-24645f6b9065",
   "metadata": {},
   "outputs": [],
   "source": [
    "prc = pd.DataFrame(results_model.train.prc,\n",
    "                   index='precision recall cutoffs'.split())\n",
    "prc"
   ]
  },
  {
   "cell_type": "code",
   "execution_count": null,
   "id": "ab90b184-341f-49d2-9093-ed31e1a1213a",
   "metadata": {},
   "outputs": [],
   "source": [
    "prc.loc['f1_score'] = 2 * (prc.loc['precision'] * prc.loc['recall']) / (\n",
    "    1 / prc.loc['precision'] + 1 / prc.loc['recall'])\n",
    "f1_max = prc[prc.loc['f1_score'].argmax()]\n",
    "f1_max"
   ]
  },
  {
   "cell_type": "markdown",
   "id": "cc9aa549-d91c-41b4-a0ee-ef1a6b27d5bd",
   "metadata": {},
   "source": [
    "Cutoff set"
   ]
  },
  {
   "cell_type": "code",
   "execution_count": null,
   "id": "9531a34d-02b9-40dd-ad05-a8d03ca396ce",
   "metadata": {},
   "outputs": [],
   "source": [
    "cutoff = float(f1_max.loc['cutoffs'])\n",
    "cutoff"
   ]
  },
  {
   "cell_type": "code",
   "execution_count": null,
   "id": "212f2222-8a2c-44fa-b095-2227e88299a1",
   "metadata": {},
   "outputs": [],
   "source": [
    "y_pred_val = njab.sklearn.scoring.get_custom_pred(\n",
    "    clf=results_model.model,\n",
    "    X=splits.X_test[results_model.selected_features],\n",
    "    cutoff=cutoff)\n",
    "predictions[model_name] = y_pred_val\n",
    "predictions['dead'] = clinic['dead']\n",
    "_ = ConfusionMatrix(y_val, y_pred_val).as_dataframe()\n",
    "_.columns = pd.MultiIndex.from_tuples([\n",
    "    (t[0] + f\" - {cutoff:.3f}\", t[1]) for t in _.columns\n",
    "])\n",
    "_.to_excel(writer, f\"CM_test_cutoff_adapted\")\n",
    "_"
   ]
  },
  {
   "cell_type": "code",
   "execution_count": null,
   "id": "1d6b9f1a-48ad-4c19-bcec-34de2e2654ec",
   "metadata": {},
   "outputs": [],
   "source": [
    "y_pred_val = get_pred(clf=results_model.model,\n",
    "                      X=splits.X_test[results_model.selected_features])\n",
    "predictions[model_name] = y_pred_val\n",
    "predictions['dead'] = clinic['dead']\n",
    "_ = ConfusionMatrix(y_val, y_pred_val).as_dataframe()\n",
    "_.columns = pd.MultiIndex.from_tuples([\n",
    "    (t[0] + f\" - {0.5}\", t[1]) for t in _.columns\n",
    "])\n",
    "_.to_excel(writer, \"CM_test_cutoff_0.5\")\n",
    "_"
   ]
  },
  {
   "cell_type": "code",
   "execution_count": null,
   "id": "77bcff93",
   "metadata": {},
   "outputs": [],
   "source": [
    "! km plot\n",
    "y_pred_val = y_pred_val.astype(bool)\n",
    "\n",
    "ax, _, _ = src.plotting.compare_km_curves(\n",
    "    time=clinic.loc[y_pred_val.index, \"DaysToDeathFromInfl\"],\n",
    "    y=y_val[y_pred_val.index],\n",
    "    pred=y_pred_val,\n",
    "    xlabel='Days since inflammation sample',\n",
    "    ylabel=f'rate {y.name}')\n",
    "\n",
    "res = src.plotting.km.log_rank_test(time=clinic.loc[y_pred_val.index,\n",
    "                                                    \"DaysToDeathFromInfl\"],\n",
    "                                    y=y_val[y_pred_val.index],\n",
    "                                    mask=y_pred_val)\n",
    "ax.set_title(\n",
    "    f'KM curve for LR based on {model_name.lower()}\\n (log-rank-test p={res.p_value:.3f})')\n",
    "ax.legend([\n",
    "    f\"KP pred=0 (N={(~y_pred_val).sum()})\", '95% CI (pred=0)',\n",
    "    f\"KP pred=1 (N={y_pred_val.sum()})\", '95% CI (pred=1)'\n",
    "])\n",
    "fname = FOLDER / f'KM_plot_model_val.pdf'\n",
    "files_out[fname.name] = fname\n",
    "njab.plotting.savefig(ax.get_figure(), fname)"
   ]
  },
  {
   "cell_type": "markdown",
   "id": "f246345f-e3bb-4ac9-9e39-d1e6cfdd2127",
   "metadata": {},
   "source": [
    "# Multiplicative decompositon\n",
    "logarithmic transformation of the linear model\n",
    "$$ \\ln\\left(\\frac{p}{1-p} \\right) = \\beta_0 + \\beta_1 x_1 + \\dots + \\beta_M x_M $$\n",
    "Score in terms of multiplicative compentents (which is dumped to excel)\n",
    "$$ \\frac{p}{1-p} = \\exp(\\beta_0) \\cdot \\exp(\\beta_1 x_1) * \\dots * \\exp(\\beta_M x_M) = score $$\n",
    "Going from score to probability:\n",
    "$$ p = \\frac{score}{1+score} $$"
   ]
  },
  {
   "cell_type": "code",
   "execution_count": null,
   "id": "8f6ae812-d24d-4c3a-b53b-a99c53974385",
   "metadata": {},
   "outputs": [],
   "source": [
    "\n",
    "\n",
    "def get_lr_multiplicative_decomposition(results, X, score, y):\n",
    "    components = X[results.selected_features].multiply(results.model.coef_)\n",
    "    components['intercept'] = float(results.model.intercept_)\n",
    "    components = np.exp(components)\n",
    "    components['score'] = score\n",
    "    components[TARGET] = y\n",
    "    components = components.sort_values('score', ascending=False)\n",
    "    return components\n",
    "\n",
    "\n",
    "components = get_lr_multiplicative_decomposition(results=results_model,\n",
    "                                                 X=splits.X_train,\n",
    "                                                 score=score,\n",
    "                                                 y=y)\n",
    "components.to_excel(writer, 'decomp_multiplicative_train')\n",
    "components.to_excel(writer,\n",
    "                    'decomp_multiplicative_train_view',\n",
    "                    float_format='%.5f')\n",
    "components.head(10)"
   ]
  },
  {
   "cell_type": "code",
   "execution_count": null,
   "id": "1dc9a530-ce14-44e7-9834-afc343779558",
   "metadata": {},
   "outputs": [],
   "source": [
    "components_test = get_lr_multiplicative_decomposition(results=results_model,\n",
    "                                                      X=splits.X_test,\n",
    "                                                      score=score_val,\n",
    "                                                      y=y_val)\n",
    "components_test.to_excel(writer, 'decomp_multiplicative_test')\n",
    "components_test.to_excel(writer,\n",
    "                         'decomp_multiplicative_test_view',\n",
    "                         float_format='%.5f')\n",
    "components_test.head(10)"
   ]
  },
  {
   "cell_type": "code",
   "execution_count": null,
   "id": "95bc8097-1106-4481-b0e1-e72663c62ab8",
   "metadata": {},
   "outputs": [],
   "source": [
    "pivot = y.to_frame()\n",
    "pivot['pred'] = results_model.model.predict(\n",
    "    splits.X_train[results_model.selected_features])\n",
    "pivot = pivot.join(clinic.dead.astype(int))\n",
    "pivot.describe().iloc[:2]"
   ]
  },
  {
   "cell_type": "code",
   "execution_count": null,
   "id": "14d684b3",
   "metadata": {
    "lines_to_next_cell": 2
   },
   "outputs": [],
   "source": [
    "pivot_dead_by_pred_and_target = pivot.groupby(['pred', TARGET_LABEL\n",
    "                                               ]).agg({'dead': ['count', 'sum']\n",
    "                                                       })  # more detailed\n",
    "pivot_dead_by_pred_and_target.to_excel(writer, 'pivot_dead_by_pred_and_target')"
   ]
  },
  {
   "cell_type": "markdown",
   "id": "fdf79b8f-ddfa-465c-bf36-f9af61e4a0e9",
   "metadata": {
    "lines_to_next_cell": 0
   },
   "source": [
    "# Plot TP, TN, FP and FN on PCA plot\n",
    "\n",
    "## UMAP"
   ]
  },
  {
   "cell_type": "code",
   "execution_count": null,
   "id": "013a1163-8fbc-4db4-9bc2-f85dbd59e6cc",
   "metadata": {},
   "outputs": [],
   "source": [
    "reducer = umap.UMAP(random_state=42)\n",
    "# bug: how does UMAP works with only one feature?\n",
    "# make sure to have two or more features?\n",
    "M_sel = len(results_model.selected_features)\n",
    "if M_sel > 1:\n",
    "    embedding = reducer.fit_transform(\n",
    "        X_scaled[results_model.selected_features])\n",
    "\n",
    "    embedding = pd.DataFrame(embedding,\n",
    "                             index=X_scaled.index,\n",
    "                             columns=['UMAP dimension 1', 'UMAP dimension 2'\n",
    "                                      ]).join(y.astype('category'))\n",
    "    display(embedding.head(3))\n",
    "else:\n",
    "    embedding = None"
   ]
  },
  {
   "cell_type": "code",
   "execution_count": null,
   "id": "78a41ba6-34a3-44fe-bbe2-486a8d69fc14",
   "metadata": {},
   "outputs": [],
   "source": [
    "predictions['DaysToDeathFromInfl'] = clinic['DaysToDeathFromInfl']\n",
    "predictions['label'] = predictions.apply(\n",
    "    lambda x: njab.sklearn.scoring.get_label_binary_classification(\n",
    "        x['true'], x[model_name]),\n",
    "    axis=1)\n",
    "mask = predictions[['true', model_name]].sum(axis=1).astype(bool)\n",
    "predictions.loc[mask].sort_values('score', ascending=False)"
   ]
  },
  {
   "cell_type": "code",
   "execution_count": null,
   "id": "7ed92f13-f060-4c4c-905d-0595c48c7f06",
   "metadata": {},
   "outputs": [],
   "source": [
    "X_val_scaled = scaler.transform(X_val)\n",
    "if embedding is not None:\n",
    "    embedding_val = pd.DataFrame(reducer.transform(\n",
    "        X_val_scaled[results_model.selected_features]),\n",
    "        index=X_val_scaled.index,\n",
    "        columns=['UMAP dimension 1', 'UMAP dimension 2'])\n",
    "    embedding_val.sample(3)"
   ]
  },
  {
   "cell_type": "code",
   "execution_count": null,
   "id": "0b82b2e4-ccc2-42af-803b-2f4e99829aac",
   "metadata": {},
   "outputs": [],
   "source": [
    "pred_train = (\n",
    "    y.to_frame('true')\n",
    "    # .join(get_score(clf=results_model.model, X=splits.X_train[results_model.selected_features], pos=1))\n",
    "    .join(score.rename('score')).join(\n",
    "        get_pred(\n",
    "            results_model.model,\n",
    "            splits.X_train[results_model.selected_features]).rename(model_name))\n",
    ")\n",
    "pred_train['dead'] = clinic['dead']\n",
    "pred_train['DaysToDeathFromInfl'] = clinic['DaysToDeathFromInfl']\n",
    "pred_train['label'] = pred_train.apply(\n",
    "    lambda x: njab.sklearn.scoring.get_label_binary_classification(\n",
    "        x['true'], x[model_name]),\n",
    "    axis=1)\n",
    "pred_train.sample(5)"
   ]
  },
  {
   "cell_type": "code",
   "execution_count": null,
   "id": "0d29861d-f125-4ea1-9b0d-6c5cb6068c79",
   "metadata": {},
   "outputs": [],
   "source": [
    "colors = seaborn.color_palette(n_colors=4)\n",
    "colors"
   ]
  },
  {
   "cell_type": "code",
   "execution_count": null,
   "id": "8788a868-2040-4409-bf93-3f6f505d79d0",
   "metadata": {},
   "outputs": [],
   "source": [
    "if embedding is not None:\n",
    "    fig, axes = plt.subplots(1, 2, figsize=(8, 4), sharex=True, sharey=True)\n",
    "    for _embedding, ax, _title, _model_pred_label in zip(\n",
    "        [embedding, embedding_val], axes, [\n",
    "            config.TRAIN_LABEL, config.TEST_LABEL],\n",
    "            [pred_train['label'], predictions['label']]):\n",
    "        ax = seaborn.scatterplot(\n",
    "            x=_embedding.iloc[:, 0],\n",
    "            y=_embedding.iloc[:, 1],\n",
    "            hue=_model_pred_label,\n",
    "            hue_order=['TN', 'TP', 'FN', 'FP'],\n",
    "            palette=[colors[0], colors[2], colors[1], colors[3]],\n",
    "            ax=ax)\n",
    "        ax.set_title(_title)\n",
    "\n",
    "    # files_out['pred_pca_labeled'] = FOLDER / 'pred_pca_labeled.pdf'\n",
    "    # njab.plotting.savefig(fig, files_out['pred_pca_labeled'])\n",
    "\n",
    "    files_out['umap_sel_feat.pdf'] = FOLDER / 'umap_sel_feat.pdf'\n",
    "    njab.plotting.savefig(ax.get_figure(), files_out['umap_sel_feat.pdf'])"
   ]
  },
  {
   "cell_type": "markdown",
   "id": "078ab0a9",
   "metadata": {},
   "source": [
    "### Interactive UMAP plot"
   ]
  },
  {
   "cell_type": "code",
   "execution_count": null,
   "id": "ec4007e7",
   "metadata": {},
   "outputs": [],
   "source": [
    "if embedding is not None:\n",
    "    embedding = embedding.join(X[results_model.selected_features])\n",
    "    embedding_val = embedding_val.join(X_val[results_model.selected_features])\n",
    "    embedding['label'], embedding_val['label'] = pred_train['label'], predictions['label']\n",
    "    embedding['group'], embedding_val['group'] = config.TRAIN_LABEL, config.TEST_LABEL\n",
    "    combined_embeddings = pd.concat([embedding, embedding_val])\n",
    "    combined_embeddings.index.name = 'ID'"
   ]
  },
  {
   "cell_type": "code",
   "execution_count": null,
   "id": "706527bb",
   "metadata": {},
   "outputs": [],
   "source": [
    "if embedding is not None:\n",
    "    cols = combined_embeddings.columns\n",
    "\n",
    "    TEMPLATE = 'none'\n",
    "    defaults = dict(width=1600, height=700, template=TEMPLATE)\n",
    "\n",
    "    fig = px.scatter(combined_embeddings.round(3).reset_index(),\n",
    "                     x=cols[0],\n",
    "                     y=cols[1],\n",
    "                     color='label',\n",
    "                     facet_col='group',\n",
    "                     hover_data=['ID'] + results_model.selected_features,\n",
    "                     **defaults)\n",
    "    fig.for_each_annotation(lambda a: a.update(text=a.text.split(\"=\")[1]))\n",
    "\n",
    "    fname = FOLDER / 'umap_sel_feat.html'\n",
    "    files_out[fname.name] = fname\n",
    "    fig.write_html(fname)\n",
    "    print(fname)"
   ]
  },
  {
   "cell_type": "markdown",
   "id": "8e92a610",
   "metadata": {},
   "source": [
    "## PCA"
   ]
  },
  {
   "cell_type": "code",
   "execution_count": null,
   "id": "4ec7d466",
   "metadata": {},
   "outputs": [],
   "source": [
    "PCs_train, pca = njab_pca.run_pca(\n",
    "    X_scaled[results_model.selected_features], n_components=None)\n",
    "ax = njab_pca.plot_explained_variance(pca)\n",
    "ax.locator_params(axis='x', integer=True)\n",
    "\n",
    "fname = FOLDER / \"feat_sel_PCA_var_explained_by_PCs.pdf\"\n",
    "files_out[fname.name] = fname\n",
    "njab.plotting.savefig(ax.get_figure(), fname)"
   ]
  },
  {
   "cell_type": "code",
   "execution_count": null,
   "id": "59a0f452",
   "metadata": {},
   "outputs": [],
   "source": [
    "PCs_val = pca.transform(X_val_scaled[results_model.selected_features])\n",
    "PCs_val = pd.DataFrame(PCs_val, index=X_val_scaled.index,\n",
    "                       columns=PCs_train.columns)\n",
    "PCs_val"
   ]
  },
  {
   "cell_type": "code",
   "execution_count": null,
   "id": "eca582de",
   "metadata": {
    "lines_to_next_cell": 2
   },
   "outputs": [],
   "source": [
    "if M_sel > 1:\n",
    "    fig, axes = plt.subplots(1, 2, figsize=(8, 4), sharex=True, sharey=True)\n",
    "    for _embedding, ax, _title, _model_pred_label in zip(\n",
    "        [PCs_train, PCs_val],\n",
    "        axes,\n",
    "        [config.TRAIN_LABEL, config.TEST_LABEL],\n",
    "            [pred_train['label'], predictions['label']]):\n",
    "        ax = seaborn.scatterplot(\n",
    "            x=_embedding.iloc[:, 0],\n",
    "            y=_embedding.iloc[:, 1],\n",
    "            hue=_model_pred_label,\n",
    "            hue_order=['TN', 'TP', 'FN', 'FP'],\n",
    "            palette=[colors[0], colors[2], colors[1], colors[3]],\n",
    "            ax=ax)\n",
    "        ax.set_title(_title)\n",
    "\n",
    "    fname = FOLDER / 'pca_sel_feat.pdf'\n",
    "    files_out[fname.name] = fname\n",
    "    njab.plotting.savefig(ax.get_figure(), fname)"
   ]
  },
  {
   "cell_type": "code",
   "execution_count": null,
   "id": "93e9d4da",
   "metadata": {
    "lines_to_next_cell": 2
   },
   "outputs": [],
   "source": [
    "if M_sel > 1:\n",
    "    max_rows = min(3, len(results_model.selected_features))\n",
    "    fig, axes = plt.subplots(max_rows, 2,\n",
    "                             figsize=(8.3, 11.7),\n",
    "                             sharex=True, sharey=True,\n",
    "                             layout='constrained')\n",
    "\n",
    "    for axes_col, (_embedding, _title, _model_pred_label) in enumerate(zip(\n",
    "        [PCs_train, PCs_val],\n",
    "        [config.TRAIN_LABEL, config.TEST_LABEL],\n",
    "            [pred_train['label'], predictions['label']])):\n",
    "        _row = 0\n",
    "        axes[_row, axes_col].set_title(_title)\n",
    "        for (i, j) in itertools.combinations(range(max_rows), 2):\n",
    "            ax = seaborn.scatterplot(\n",
    "                x=_embedding.iloc[:, i],\n",
    "                y=_embedding.iloc[:, j],\n",
    "                hue=_model_pred_label,\n",
    "                hue_order=['TN', 'TP', 'FN', 'FP'],\n",
    "                palette=[colors[0], colors[2], colors[1], colors[3]],\n",
    "                ax=axes[_row, axes_col])\n",
    "            _row += 1\n",
    "\n",
    "    fname = FOLDER / f'pca_sel_feat_up_to_{max_rows}.pdf'\n",
    "    files_out[fname.name] = fname\n",
    "    njab.plotting.savefig(ax.get_figure(), fname)"
   ]
  },
  {
   "cell_type": "markdown",
   "id": "66cbacac",
   "metadata": {},
   "source": [
    "### Features\n",
    "- top 3 scaled n_features_max (scatter)\n",
    "- or unscalled single features (swarmplot)"
   ]
  },
  {
   "cell_type": "code",
   "execution_count": null,
   "id": "cefc7041",
   "metadata": {
    "lines_to_next_cell": 2
   },
   "outputs": [],
   "source": [
    "if M_sel > 1:\n",
    "    max_rows = min(3, len(results_model.selected_features))\n",
    "    fig, axes = plt.subplots(max_rows, 2,\n",
    "                             figsize=(8.3, 11.7),\n",
    "                             sharex=False,\n",
    "                             sharey=False,\n",
    "                             layout='constrained')\n",
    "\n",
    "    for axes_col, (_embedding, _title, _model_pred_label) in enumerate(zip(\n",
    "        [X_scaled[results_model.selected_features],\n",
    "         X_val_scaled[results_model.selected_features]],\n",
    "        [config.TRAIN_LABEL, config.TEST_LABEL],\n",
    "            [pred_train['label'], predictions['label']])):\n",
    "        _row = 0\n",
    "        axes[_row, axes_col].set_title(_title)\n",
    "        for (i, j) in itertools.combinations(range(max_rows), 2):\n",
    "            ax = seaborn.scatterplot(\n",
    "                x=_embedding.iloc[:, i],\n",
    "                y=_embedding.iloc[:, j],\n",
    "                hue=_model_pred_label,\n",
    "                hue_order=['TN', 'TP', 'FN', 'FP'],\n",
    "                palette=[colors[0], colors[2], colors[1], colors[3]],\n",
    "                ax=axes[_row, axes_col])\n",
    "            ! scale each row and each column\n",
    "            # X_scaled[results_model.selected_features][i]\n",
    "            # X_val_scaled[results_model.selected_features][j]\n",
    "            _row += 1\n",
    "\n",
    "    fname = FOLDER / f'sel_feat_up_to_{max_rows}.pdf'\n",
    "    files_out[fname.name] = fname\n",
    "    njab.plotting.savefig(ax.get_figure(), fname)\n",
    "else:\n",
    "    fig, axes = plt.subplots(1, 1,\n",
    "                             figsize=(6, 2),\n",
    "                             layout='constrained'\n",
    "                             )\n",
    "    single_feature = results_model.selected_features[0]\n",
    "    data = pd.concat([\n",
    "        X[single_feature].to_frame().join(\n",
    "            pred_train['label']).assign(group=config.TRAIN_LABEL),\n",
    "        X_val[single_feature].to_frame().join(\n",
    "            predictions['label']).assign(group=config.TEST_LABEL)\n",
    "    ])\n",
    "    ax = seaborn.swarmplot(data=data,\n",
    "                           x='group',\n",
    "                           y=single_feature,\n",
    "                           hue='label',\n",
    "                           ax=axes\n",
    "                           )\n",
    "    fname = FOLDER / f'sel_feat_{single_feature}.pdf'\n",
    "    files_out[fname.name] = fname\n",
    "    njab.plotting.savefig(ax.get_figure(), fname)"
   ]
  },
  {
   "cell_type": "markdown",
   "id": "64b45771-4ab4-4da9-870e-b968db08c085",
   "metadata": {},
   "source": [
    "## Annotation of Errors for manuel analysis\n",
    "\n",
    "-saved to excel table"
   ]
  },
  {
   "cell_type": "code",
   "execution_count": null,
   "id": "08a416f9-5d91-46b7-b8f6-bbaa23e011d1",
   "metadata": {
    "lines_to_next_cell": 2
   },
   "outputs": [],
   "source": [
    "X[results_model.selected_features].join(pred_train).to_excel(\n",
    "    writer, sheet_name='pred_train_annotated', float_format=\"%.3f\")\n",
    "X_val[results_model.selected_features].join(predictions).to_excel(\n",
    "    writer, sheet_name='pred_test_annotated', float_format=\"%.3f\")"
   ]
  },
  {
   "cell_type": "markdown",
   "id": "3900fb3d-88bc-4791-8bc9-99dccaef352b",
   "metadata": {},
   "source": [
    "# Outputs"
   ]
  },
  {
   "cell_type": "code",
   "execution_count": null,
   "id": "43f0d954-f6a9-49bf-86d3-5ed41e52b27f",
   "metadata": {},
   "outputs": [],
   "source": [
    "writer.close()"
   ]
  },
  {
   "cell_type": "code",
   "execution_count": null,
   "id": "888f9ba0-a511-42ad-b50f-5a0aaa30fe30",
   "metadata": {},
   "outputs": [],
   "source": [
    "files_out"
   ]
  },
  {
   "cell_type": "code",
   "execution_count": null,
   "id": "f9595fb2",
   "metadata": {},
   "outputs": [],
   "source": []
  }
 ],
 "metadata": {
  "kernelspec": {
   "display_name": "Python 3 (ipykernel)",
   "language": "python",
   "name": "python3"
  },
  "language_info": {
   "codemirror_mode": {
    "name": "ipython",
    "version": 3
   },
   "file_extension": ".py",
   "mimetype": "text/x-python",
   "name": "python",
   "nbconvert_exporter": "python",
   "pygments_lexer": "ipython3",
   "version": "3.10.4"
  }
 },
 "nbformat": 4,
 "nbformat_minor": 5
}
