{
 "cells": [
  {
   "cell_type": "markdown",
   "id": "25693fb5-a76f-4228-bb02-654e1f9b4e4b",
   "metadata": {},
   "source": [
    "# Compare ProDoc and CirkaFlow"
   ]
  },
  {
   "cell_type": "code",
   "execution_count": null,
   "id": "1f50032a-9295-49f8-aefb-aec26fb57f8d",
   "metadata": {},
   "outputs": [],
   "source": [
    "import pandas as pd\n",
    "\n",
    "import njab  # set formatting # noqa: F811\n",
    "\n",
    "import config"
   ]
  },
  {
   "cell_type": "code",
   "execution_count": null,
   "id": "df955df2-91bd-4b86-acfb-c85e4299e023",
   "metadata": {},
   "outputs": [],
   "source": [
    "FOLDER = config.folder_reports\n",
    "FOLDER"
   ]
  },
  {
   "cell_type": "code",
   "execution_count": null,
   "id": "fdcba90e-c3b7-4274-b9df-ddd080d85c8c",
   "metadata": {},
   "outputs": [],
   "source": [
    "files_in = {\n",
    "    'olink': config.fname_pkl_all_olink,\n",
    "    'clinic': config.fname_pkl_all_clinic_num\n",
    "}\n",
    "files_out = dict()"
   ]
  },
  {
   "cell_type": "code",
   "execution_count": null,
   "id": "a9d5eb37-c320-4221-a0da-bbff331e8b1f",
   "metadata": {
    "lines_to_next_cell": 2
   },
   "outputs": [],
   "source": [
    "clinic = pd.read_pickle(files_in['clinic'])"
   ]
  },
  {
   "cell_type": "code",
   "execution_count": null,
   "id": "c5620799-0f9b-4b23-9c4f-a3c3801147fc",
   "metadata": {},
   "outputs": [],
   "source": [
    "TEST_IDS = clinic.filter(like='Cflow', axis=0).index.to_list()\n",
    "\n",
    "clinic_cflow = clinic.loc[TEST_IDS]\n",
    "clinic_prodoc = clinic.drop(TEST_IDS)\n",
    "\n",
    "clinic_prodoc.shape, clinic_cflow.shape"
   ]
  },
  {
   "cell_type": "code",
   "execution_count": null,
   "id": "c742ffb5-fcf0-4b5a-b9fe-6cee65ed0fe4",
   "metadata": {},
   "outputs": [],
   "source": [
    "col = 'MELD-score'\n",
    "\n",
    "bins = range(int(clinic[col].min()), int(clinic[col].max() + 1), 3)\n",
    "\n",
    "ax = clinic_prodoc[col].rename(config.TRAIN_LABEL).hist(alpha=0.9, legend=True, bins=bins)\n",
    "ax = clinic_cflow[col].rename(config.TEST_LABEL).hist(alpha=0.7,\n",
    "                                                      legend=True,\n",
    "                                                      bins=bins)\n",
    "_ = ax.set_xlabel(col)\n",
    "_ = ax.set_ylabel('n observations')\n",
    "_ = ax.set_xticks(list(bins))\n",
    "\n",
    "fname = FOLDER / 'hist_meld_score_cohorts.pdf'\n",
    "files_out[fname.name] = fname\n",
    "njab.plotting.savefig(fig=ax.get_figure(), name=fname)"
   ]
  },
  {
   "cell_type": "code",
   "execution_count": null,
   "id": "d0d12163-c23d-438f-9a2a-1253bea6096d",
   "metadata": {},
   "outputs": [],
   "source": [
    "ax = clinic_prodoc[col].rename(config.TRAIN_LABEL).hist(alpha=0.9,\n",
    "                                                        legend=True,\n",
    "                                                        density=1,\n",
    "                                                        bins=bins)\n",
    "ax = clinic_cflow[col].rename(config.TEST_LABEL).hist(alpha=0.7,\n",
    "                                                      legend=True,\n",
    "                                                      density=1,\n",
    "                                                      bins=bins)\n",
    "_ = ax.set_xlabel(col)\n",
    "_ = ax.set_ylabel('proportion')\n",
    "_ = ax.set_xticks(list(bins))\n",
    "\n",
    "fname = FOLDER / 'hist_meld_score_cohorts_normalized.pdf'\n",
    "files_out[fname.name] = fname\n",
    "njab.plotting.savefig(fig=ax.get_figure(), name=fname)"
   ]
  },
  {
   "cell_type": "code",
   "execution_count": null,
   "id": "f8b1b09e-7f23-4d5f-a7cd-631e4e5c5b45",
   "metadata": {},
   "outputs": [],
   "source": [
    "njab.io.print_files(files_out)"
   ]
  },
  {
   "cell_type": "code",
   "execution_count": null,
   "id": "2678bf5b",
   "metadata": {},
   "outputs": [],
   "source": []
  }
 ],
 "metadata": {
  "kernelspec": {
   "display_name": "Python 3 (ipykernel)",
   "language": "python",
   "name": "python3"
  },
  "language_info": {
   "codemirror_mode": {
    "name": "ipython",
    "version": 3
   },
   "file_extension": ".py",
   "mimetype": "text/x-python",
   "name": "python",
   "nbconvert_exporter": "python",
   "pygments_lexer": "ipython3",
   "version": "3.10.4"
  }
 },
 "nbformat": 4,
 "nbformat_minor": 5
}
