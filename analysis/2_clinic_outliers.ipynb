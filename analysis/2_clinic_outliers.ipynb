{
 "cells": [
  {
   "cell_type": "markdown",
   "id": "810a3a46-fd97-4367-b8ab-5f8ea7f499f5",
   "metadata": {},
   "source": [
    "# Outliers in clinic data\n",
    "\n",
    "- base outlier detection on interquartile range (IQR) for continuous features\n",
    "  - set fraction for deviation from IQR wrt. to 1st and 3rd quartile \n",
    "- collect sample IDs with ouliers and respective values\n",
    "- join into new data view and dump to disk"
   ]
  },
  {
   "cell_type": "code",
   "execution_count": null,
   "id": "7f2506e2-99dd-439b-a645-fbc90968af34",
   "metadata": {},
   "outputs": [],
   "source": [
    "import numpy as np\n",
    "import pandas as pd\n",
    "\n",
    "# import pingouin as pg\n",
    "# import sklearn\n",
    "# from sklearn.metrics import auc, precision_recall_curve, roc_curve\n",
    "\n",
    "import src\n",
    "# import src.stats\n",
    "# from src.sklearn import run_pca, StandardScaler\n",
    "# from src.sklearn.scoring import ConfusionMatrix\n",
    "\n",
    "import config"
   ]
  },
  {
   "cell_type": "code",
   "execution_count": null,
   "id": "bb2a3cef-3ce0-415a-83c6-7b2cb31ca2ee",
   "metadata": {},
   "outputs": [],
   "source": [
    "clinic = pd.read_pickle(config.fname_pkl_clinic)\n",
    "cols_clinic = src.pandas.get_colums_accessor(clinic)"
   ]
  },
  {
   "cell_type": "markdown",
   "id": "937c05e9-e882-456f-84b4-cada4b56926b",
   "metadata": {},
   "source": [
    "## Parameters"
   ]
  },
  {
   "cell_type": "code",
   "execution_count": null,
   "id": "a0b08299-ff09-4f7f-ad11-76149c50dea0",
   "metadata": {},
   "outputs": [],
   "source": [
    "IQR_FACTOR = 1.5\n",
    "EXCLUDED = 'TimeToDeath,TimeToAdmFromDiagnose,TimeToAdmFromSample,TimeToDeathFromDiagnose'"
   ]
  },
  {
   "cell_type": "code",
   "execution_count": null,
   "id": "8498beb5-f2de-49b4-ae1a-42cbedcfe904",
   "metadata": {},
   "outputs": [],
   "source": [
    "vars_cont_sel = [x for x in config.clinic_data.vars_cont if x not in EXCLUDED.split(',')]\n",
    "cont_des = clinic[vars_cont_sel].describe()\n",
    "cont_des"
   ]
  },
  {
   "cell_type": "markdown",
   "id": "cd38bd46-9a51-4768-8062-2e72f47ed6aa",
   "metadata": {},
   "source": [
    "## Find outliers\n",
    "Aim: Identify all dots in boxplot"
   ]
  },
  {
   "cell_type": "code",
   "execution_count": null,
   "id": "fa890f36-0758-4c2e-8b60-f6b455561a7a",
   "metadata": {},
   "outputs": [],
   "source": [
    "ax = clinic[vars_cont_sel].boxplot(rot=90, whis=IQR_FACTOR)\n",
    "fig = ax.get_figure()\n",
    "fig.savefig(f\"{config.folder_reports}/outlier_boxplot_iqr_factor_{IQR_FACTOR}.pdf\")"
   ]
  },
  {
   "cell_type": "code",
   "execution_count": null,
   "id": "9541a059-b394-43c0-a09c-a4c9420ce91f",
   "metadata": {},
   "outputs": [],
   "source": [
    "cont_des.loc['iqr'] = cont_des.loc['75%'] - cont_des.loc['25%']\n",
    "cont_des.loc['val_min'] = cont_des.loc['25%'] - IQR_FACTOR * cont_des.loc['iqr']\n",
    "cont_des.loc['val_max'] = cont_des.loc['75%'] + IQR_FACTOR * cont_des.loc['iqr']\n",
    "cont_des"
   ]
  },
  {
   "cell_type": "code",
   "execution_count": null,
   "id": "17ebc1c3-b3e1-4466-afdb-f414d96c1440",
   "metadata": {},
   "outputs": [],
   "source": [
    "cont_des.to_excel(f\"{config.folder_reports}/clinic_cont_described.xlsx\")"
   ]
  },
  {
   "cell_type": "code",
   "execution_count": null,
   "id": "64857edc-b844-4363-a391-fdcdcc4d22b1",
   "metadata": {},
   "outputs": [],
   "source": [
    "mask = (clinic[vars_cont_sel] < cont_des.loc['val_min']) | (clinic[vars_cont_sel] > cont_des.loc['val_max'])\n",
    "msg = \"Total number of outlier values: {}\"\n",
    "print(msg.format(mask.sum().sum()))"
   ]
  },
  {
   "cell_type": "code",
   "execution_count": null,
   "id": "dde0320b-91b6-4cd2-b612-55e238ea4a30",
   "metadata": {},
   "outputs": [],
   "source": [
    "outliers = clinic[vars_cont_sel][mask].dropna(axis=0, how='all').dropna(axis=1, how='all')\n",
    "outliers = outliers.style.format( na_rep='-', precision=2)\n",
    "with pd.option_context('display.max_rows', len(outliers.data)):\n",
    "    display(outliers)"
   ]
  },
  {
   "cell_type": "code",
   "execution_count": null,
   "id": "53f86add-51c2-4dbe-95bb-a3454cce916d",
   "metadata": {},
   "outputs": [],
   "source": [
    "outliers.to_excel(f'{config.folder_reports}/outliers.xlsx')"
   ]
  }
 ],
 "metadata": {
  "kernelspec": {
   "display_name": "Python 3 (ipykernel)",
   "language": "python",
   "name": "python3"
  },
  "language_info": {
   "codemirror_mode": {
    "name": "ipython",
    "version": 3
   },
   "file_extension": ".py",
   "mimetype": "text/x-python",
   "name": "python",
   "nbconvert_exporter": "python",
   "pygments_lexer": "ipython3",
   "version": "3.10.4"
  }
 },
 "nbformat": 4,
 "nbformat_minor": 5
}
