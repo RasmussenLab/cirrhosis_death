{
 "cells": [
  {
   "cell_type": "markdown",
   "id": "3a75abb0-7a52-4e8c-9b61-b1d75376ca8f",
   "metadata": {},
   "source": [
    "# Explorative Analysis"
   ]
  },
  {
   "cell_type": "code",
   "execution_count": null,
   "id": "9ff64eb7-f349-4ef7-999c-e78ae5067edc",
   "metadata": {},
   "outputs": [],
   "source": [
    "from pathlib import Path\n",
    "\n",
    "import numpy as np\n",
    "import pandas as pd\n",
    "\n",
    "import seaborn\n",
    "\n",
    "import njab.plotting\n",
    "from njab.sklearn import run_pca, StandardScaler\n",
    "\n",
    "import config\n",
    "import njab"
   ]
  },
  {
   "cell_type": "markdown",
   "id": "bf2fc83e",
   "metadata": {},
   "source": [
    "# Set parameters"
   ]
  },
  {
   "cell_type": "code",
   "execution_count": null,
   "id": "45f458fe-8c1b-44f1-8c1a-4ffa3556d879",
   "metadata": {},
   "outputs": [],
   "source": [
    "TARGET = 'project'\n",
    "FOLDER = Path(config.folder_reports) / 'bridges'\n",
    "OLINK = config.fname_pkl_prodoc_olink"
   ]
  },
  {
   "cell_type": "code",
   "execution_count": null,
   "id": "bd3ecad5-9a6a-4032-b034-e8d156e636b5",
   "metadata": {},
   "outputs": [],
   "source": [
    "inputs = dict()\n",
    "inputs['bridging_samples'] = config.data_processed / 'bridges.pkl'\n",
    "olink_bridge = pd.read_pickle(inputs['bridging_samples'])\n",
    "olink_bridge.sample(10)"
   ]
  },
  {
   "cell_type": "code",
   "execution_count": null,
   "id": "600f1a5d-fbd5-45d5-b65b-06053651def9",
   "metadata": {},
   "outputs": [],
   "source": [
    "olink_bridge = olink_bridge.reorder_levels(['Project', 'SampleID', 'Assay'])\n",
    "olink_bridge.sample(2)"
   ]
  },
  {
   "cell_type": "code",
   "execution_count": null,
   "id": "3c6787a4-638f-43ff-9a56-ba11ca9718d6",
   "metadata": {},
   "outputs": [],
   "source": [
    "if not FOLDER:\n",
    "    FOLDER = Path(config.folder_reports) / TARGET\n",
    "FOLDER.mkdir(exist_ok=True, parents=True)\n",
    "FOLDER"
   ]
  },
  {
   "cell_type": "markdown",
   "id": "386b577e-7f49-408a-8272-65817ef3397d",
   "metadata": {},
   "source": [
    "## Compare subsets"
   ]
  },
  {
   "cell_type": "code",
   "execution_count": null,
   "id": "90834df8-6a02-4aa0-bcd5-200b20faad83",
   "metadata": {},
   "outputs": [],
   "source": [
    "olink_bridge = olink_bridge['NPX'].unstack()\n",
    "olink_bridge"
   ]
  },
  {
   "cell_type": "markdown",
   "id": "580e6baa",
   "metadata": {},
   "source": [
    "# Differences between two batches\n",
    "\n",
    "- create dummy to indicate"
   ]
  },
  {
   "cell_type": "code",
   "execution_count": null,
   "id": "c80cdf83-bdf7-4483-810b-775a446ed7d6",
   "metadata": {},
   "outputs": [],
   "source": [
    "badge_tag = pd.Series(1, olink_bridge.index, name='batch')\n",
    "badge_tag.loc['20202249'] = 0\n",
    "badge_tag"
   ]
  },
  {
   "cell_type": "code",
   "execution_count": null,
   "id": "1a2fbb03",
   "metadata": {},
   "outputs": [],
   "source": [
    "happend = badge_tag.astype(bool)"
   ]
  },
  {
   "cell_type": "markdown",
   "id": "e69b0063-098d-4ad8-aa8c-1c3a99b17d5f",
   "metadata": {},
   "source": [
    "## Olink - uncontrolled"
   ]
  },
  {
   "cell_type": "code",
   "execution_count": null,
   "id": "62fdde6e-5c26-4e49-8688-f45587e2ec2d",
   "metadata": {},
   "outputs": [],
   "source": [
    "olink = olink_bridge\n",
    "olink"
   ]
  },
  {
   "cell_type": "code",
   "execution_count": null,
   "id": "6f877d1d-9dd9-4e11-9211-8bba7f112763",
   "metadata": {},
   "outputs": [],
   "source": [
    "assert olink.isna().sum().sum() == 0\n",
    "# olink.loc[:, olink.isna().any()].describe()"
   ]
  },
  {
   "cell_type": "code",
   "execution_count": null,
   "id": "a352cb3f-e3c4-4821-b05b-ab9a41f7f595",
   "metadata": {
    "lines_to_next_cell": 2
   },
   "outputs": [],
   "source": [
    "ana_diff_olink = njab.stats.groups_comparision.diff_analysis(\n",
    "    olink, happend, event_names=('2nd batch', '1st batch')).sort_values(\n",
    "        ('ttest', 'p-val'))\n",
    "ana_diff_olink.to_excel(FOLDER / \"DA_batches.xlsx\")\n",
    "\n",
    "ana_diff_olink.head(20)"
   ]
  },
  {
   "cell_type": "markdown",
   "id": "cd5d4ea6-89a3-4a6b-84f0-85d886b4fb62",
   "metadata": {},
   "source": [
    "# PCA"
   ]
  },
  {
   "cell_type": "markdown",
   "id": "0986f6f0-7508-4aa0-9dfa-2b1e27777309",
   "metadata": {
    "lines_to_next_cell": 2
   },
   "source": [
    "## Missing values handling"
   ]
  },
  {
   "cell_type": "code",
   "execution_count": null,
   "id": "de597e7a-c395-4809-9d35-67ada73523d7",
   "metadata": {},
   "outputs": [],
   "source": [
    "def info_missing(df):\n",
    "    N, M = olink.shape\n",
    "    msg = \"{} missing features out of {} measurments, corresponding to {:.3f}%\"\n",
    "    msg = msg.format(df.isna().sum().sum(), N * M,\n",
    "                     df.isna().sum().sum() / (N * M) * 100)\n",
    "    print(msg)\n",
    "    return msg\n",
    "\n",
    "\n",
    "_ = info_missing(olink)"
   ]
  },
  {
   "cell_type": "markdown",
   "id": "b0f42717-1a09-4d50-b84a-64ee8a281bce",
   "metadata": {},
   "source": [
    "## PCA on scaled data\n",
    "\n",
    "- missing values set to zero"
   ]
  },
  {
   "cell_type": "code",
   "execution_count": null,
   "id": "f1e73b8c-951b-486e-ab68-9a9010d893c5",
   "metadata": {},
   "outputs": [],
   "source": [
    "olink_scaled = StandardScaler().fit_transform(olink).fillna(0)\n",
    "\n",
    "PCs, pca = run_pca(olink_scaled, n_components=None)\n",
    "PCs.iloc[:10, :10]"
   ]
  },
  {
   "cell_type": "code",
   "execution_count": null,
   "id": "abe58a57-8041-4283-865b-623debe97d84",
   "metadata": {},
   "outputs": [],
   "source": [
    "olink.columns[np.argmax(np.abs(\n",
    "    pca.components_[:,\n",
    "                    0]))]  # eigenvector first PCa, absolut arg max -> variable"
   ]
  },
  {
   "cell_type": "code",
   "execution_count": null,
   "id": "4cb1c1be-668a-4b28-a79d-87c91039d4d0",
   "metadata": {},
   "outputs": [],
   "source": [
    "exp_var_olink = pd.Series(\n",
    "    pca.explained_variance_ratio_).to_frame('explained variance')\n",
    "exp_var_olink[\"explained variance (cummulated)\"] = exp_var_olink[\n",
    "    'explained variance'].cumsum()\n",
    "exp_var_olink.index.name = 'PC'\n",
    "ax = exp_var_olink.plot()\n",
    "fig = ax.get_figure()\n",
    "njab.plotting.savefig(fig, name=FOLDER / '1_PCs_distribution')"
   ]
  },
  {
   "cell_type": "code",
   "execution_count": null,
   "id": "976682c3-90ad-4555-a58c-2d5bc627a226",
   "metadata": {},
   "outputs": [],
   "source": [
    "ax = seaborn.scatterplot(x=PCs.iloc[:, 0], y=PCs.iloc[:, 1], hue=badge_tag)\n",
    "fig = ax.get_figure()\n",
    "njab.plotting.savefig(fig, name=FOLDER / '1_PC1_vs_PC2.pdf')"
   ]
  }
 ],
 "metadata": {
  "jupytext": {
   "formats": "ipynb,py:percent"
  },
  "kernelspec": {
   "display_name": "Python 3 (ipykernel)",
   "language": "python",
   "name": "python3"
  },
  "language_info": {
   "codemirror_mode": {
    "name": "ipython",
    "version": 3
   },
   "file_extension": ".py",
   "mimetype": "text/x-python",
   "name": "python",
   "nbconvert_exporter": "python",
   "pygments_lexer": "ipython3",
   "version": "3.10.4"
  },
  "vscode": {
   "interpreter": {
    "hash": "4a7cb36f33b5487d941f082aa821b72e5ffcd123aba4697c50d4e81e1a75fb3c"
   }
  }
 },
 "nbformat": 4,
 "nbformat_minor": 5
}
