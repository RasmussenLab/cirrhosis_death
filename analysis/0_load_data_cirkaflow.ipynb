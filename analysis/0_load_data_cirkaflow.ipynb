{
 "cells": [
  {
   "cell_type": "markdown",
   "id": "79b8f069-22e6-4499-8798-63b1f01cbe1a",
   "metadata": {},
   "source": [
    "# CircaFlow Clinical Data"
   ]
  },
  {
   "cell_type": "code",
   "execution_count": null,
   "id": "c37caed4-4d38-4b9a-9f7a-e80aab921f1a",
   "metadata": {},
   "outputs": [],
   "source": [
    "import datetime\n",
    "from pathlib import Path\n",
    "\n",
    "import matplotlib.pyplot as plt\n",
    "import pandas as pd\n",
    "import numpy as np\n",
    "\n",
    "import seaborn as sns\n",
    "\n",
    "from lifelines import KaplanMeierFitter\n",
    "from IPython.display import display\n",
    "\n",
    "import njab.plotting\n",
    "from njab.plotting import savefig\n",
    "\n",
    "import config"
   ]
  },
  {
   "cell_type": "code",
   "execution_count": null,
   "id": "38f79c62-b4f8-4423-84c7-0433f2be289e",
   "metadata": {},
   "outputs": [],
   "source": [
    "DATA_FOLDER = Path(config.data)\n",
    "DATA_PROCESSED = Path(config.data_processed)\n",
    "FOLDER_REPORTS = Path(config.folder_reports) / 'data_cirkaflow'\n",
    "FOLDER_REPORTS.mkdir(parents=True, exist_ok=True)\n",
    "\n",
    "files_out = dict()\n",
    "\n",
    "config.STUDY_ENDDATE"
   ]
  },
  {
   "cell_type": "markdown",
   "id": "39fb48b2",
   "metadata": {},
   "source": [
    "## Parameters"
   ]
  },
  {
   "cell_type": "code",
   "execution_count": null,
   "id": "8905ef7b-7c2b-425e-a659-b20efe80d9db",
   "metadata": {
    "lines_to_next_cell": 2,
    "tags": [
     "parameters"
    ]
   },
   "outputs": [],
   "source": [
    "DATA_CLINIC: str = DATA_FOLDER / 'CleanData, CirKaFlow.true.xlsx'\n",
    "DATA_OLINK: str = DATA_PROCESSED / 'olink_cflow.pkl'\n",
    "DATA_KEYS: str = DATA_FOLDER / \"Validation Results\" / \"boks_placement_randomized.csv\"\n",
    "DATA_KEYS_UPDATE: str = DATA_FOLDER / \"Validation Results\" / 'cflow_id_update.xlsx'\n",
    "DATA_DUPLICATES: str = DATA_FOLDER / \"Validation Results\" / 'duplicates.xlsx'"
   ]
  },
  {
   "cell_type": "code",
   "execution_count": null,
   "id": "b660305f-0761-4321-a35c-220eef52af4e",
   "metadata": {},
   "outputs": [],
   "source": [
    "clinic = pd.read_excel(DATA_CLINIC).dropna(how='all', axis=1)\n",
    "olink = pd.read_pickle(DATA_OLINK)"
   ]
  },
  {
   "cell_type": "code",
   "execution_count": null,
   "id": "c0dc62ef-a3bd-45dd-9f44-615d81782673",
   "metadata": {},
   "outputs": [],
   "source": [
    "clinic = clinic.rename(config.cirkaflow_data.rename_dict, axis=1)\n",
    "# clinic = clinic.set_index('ID')\n",
    "print('Rename:',\n",
    "      {k: v for k, v in config.cirkaflow_data.rename_dict.items() if k != v})"
   ]
  },
  {
   "cell_type": "markdown",
   "id": "5fedfe72",
   "metadata": {},
   "source": [
    "Find overlapping samples between keys, olink and clinic"
   ]
  },
  {
   "cell_type": "code",
   "execution_count": null,
   "id": "067d2a2c-2d37-481b-844e-abd3d60a03ee",
   "metadata": {},
   "outputs": [],
   "source": [
    "sample_keys = pd.read_csv(DATA_KEYS, sep=';', index_col='ID')\n",
    "idx_not_unique = sample_keys.index.value_counts() > 1\n",
    "idx_not_unique = idx_not_unique.loc[idx_not_unique].index\n",
    "duplicates = sample_keys.loc[idx_not_unique]\n",
    "duplicates"
   ]
  },
  {
   "cell_type": "code",
   "execution_count": null,
   "id": "44109a46-9165-427c-99ff-10beb6ea64d3",
   "metadata": {},
   "outputs": [],
   "source": [
    "sample_keys.loc[duplicates.index.unique()]"
   ]
  },
  {
   "cell_type": "markdown",
   "id": "5e8659c6-119e-406e-8e6e-efb82f91d635",
   "metadata": {},
   "source": [
    "Some keys were changed in the course of time and needed to be renamed manuelly:"
   ]
  },
  {
   "cell_type": "code",
   "execution_count": null,
   "id": "ad8e744f-cf6d-4245-be69-dd85760709a4",
   "metadata": {},
   "outputs": [],
   "source": [
    "sample_keys_update = pd.read_excel(DATA_KEYS_UPDATE, index_col=0)\n",
    "sample_keys_update.index = sample_keys_update.index.astype(\n",
    "    'string')  # make sure index type is not an integer\n",
    "sample_keys_update"
   ]
  },
  {
   "cell_type": "code",
   "execution_count": null,
   "id": "dfa92ba5-6558-480c-bc4d-092e4534db9a",
   "metadata": {},
   "outputs": [],
   "source": [
    "rename_id = sample_keys_update.dropna()['ID'].to_dict()\n",
    "sample_keys = sample_keys.rename(rename_id)"
   ]
  },
  {
   "cell_type": "markdown",
   "id": "0de3fb95-7486-42a3-9f37-e09ca4e97682",
   "metadata": {},
   "source": [
    "move column with `Projekt ID` forward"
   ]
  },
  {
   "cell_type": "code",
   "execution_count": null,
   "id": "22f96c64-16a7-43bb-8986-d77a8c416018",
   "metadata": {},
   "outputs": [],
   "source": [
    "clinic.insert(2, \"Projekt ID\", clinic.pop(\"Projekt ID\"))\n",
    "id_cols = ['SampleID', 'ID', 'Projekt ID']\n",
    "clinic[id_cols] = clinic[id_cols].astype(str)\n",
    "clinic.sample(3)"
   ]
  },
  {
   "cell_type": "markdown",
   "id": "d0771136-38b6-4d00-b0b4-80433993ed08",
   "metadata": {},
   "source": [
    "Find cases where all three IDs agree"
   ]
  },
  {
   "cell_type": "code",
   "execution_count": null,
   "id": "3c1b3e85-d529-4443-969c-213be1b931f2",
   "metadata": {},
   "outputs": [],
   "source": [
    "mask_all_equal = (clinic['SampleID']\n",
    "                  == clinic['ID']) & (clinic['ID'] == clinic['Projekt ID'])\n",
    "clinic.loc[~mask_all_equal]"
   ]
  },
  {
   "cell_type": "markdown",
   "id": "49e702a4-0ef3-4e3f-9fb6-ec1ce577b263",
   "metadata": {},
   "source": [
    "Find matches for `SampleID`"
   ]
  },
  {
   "cell_type": "code",
   "execution_count": null,
   "id": "51d0dc89-7974-44d8-8434-8a0c083ed92c",
   "metadata": {},
   "outputs": [],
   "source": [
    "olink.sample(3)"
   ]
  },
  {
   "cell_type": "code",
   "execution_count": null,
   "id": "90b431ef-e06d-42d7-a5fc-503baa6736c4",
   "metadata": {},
   "outputs": [],
   "source": [
    "in_olink = olink.index.intersection(sample_keys['SampleID'])\n",
    "in_olink"
   ]
  },
  {
   "cell_type": "code",
   "execution_count": null,
   "id": "79209e25-7e6d-4b64-bd53-03aa03b6bd6c",
   "metadata": {},
   "outputs": [],
   "source": [
    "in_clinic = sample_keys.index.intersection(clinic['ID'])\n",
    "in_clinic"
   ]
  },
  {
   "cell_type": "markdown",
   "id": "566dc0f1-9b86-4199-be9a-9384a1507980",
   "metadata": {},
   "source": [
    "Do other IDs contain further information?"
   ]
  },
  {
   "cell_type": "code",
   "execution_count": null,
   "id": "04800459-9e97-43cf-9c57-1c31b6e763a4",
   "metadata": {},
   "outputs": [],
   "source": [
    "assert set(in_clinic) == set(\n",
    "    in_clinic.union(sample_keys.index.intersection(clinic['SampleID'])))"
   ]
  },
  {
   "cell_type": "code",
   "execution_count": null,
   "id": "5583675c-e124-4404-b1c2-025c2a0232aa",
   "metadata": {},
   "outputs": [],
   "source": [
    "to_add = sample_keys.index.intersection(\n",
    "    clinic['Projekt ID']).difference(in_clinic)\n",
    "to_add"
   ]
  },
  {
   "cell_type": "markdown",
   "id": "53067668-9f83-4752-8177-c249e53ef25f",
   "metadata": {},
   "source": [
    "Replace `ID` with machting `Projekt ID`, then add to `in_clinc`"
   ]
  },
  {
   "cell_type": "code",
   "execution_count": null,
   "id": "71946b40-f62a-4733-bab7-6f3a15fdd226",
   "metadata": {},
   "outputs": [],
   "source": [
    "mask = clinic['Projekt ID'].isin(to_add)\n",
    "clinic.loc[mask, 'ID'] = clinic.loc[mask, 'Projekt ID']\n",
    "\n",
    "in_clinic = in_clinic.union(to_add)"
   ]
  },
  {
   "cell_type": "code",
   "execution_count": null,
   "id": "342b2640-fa72-42d8-ac42-cc8d8ffbd20a",
   "metadata": {},
   "outputs": [],
   "source": [
    "clinic = clinic.set_index('ID')"
   ]
  },
  {
   "cell_type": "code",
   "execution_count": null,
   "id": "d57c4741-15c5-4a1b-b4e2-3b6e77130bc6",
   "metadata": {},
   "outputs": [],
   "source": [
    "diff_clinic_olink = clinic.index.difference(sample_keys.index)\n",
    "diff_olink_clinic = sample_keys.index.difference(clinic.index)\n",
    "len(in_clinic), len(diff_clinic_olink)"
   ]
  },
  {
   "cell_type": "code",
   "execution_count": null,
   "id": "b45e0033-6688-4fc7-a8b2-72a6c5583ea9",
   "metadata": {
    "lines_to_next_cell": 2
   },
   "outputs": [],
   "source": [
    "files_out['diff_clinic_olink'] = FOLDER_REPORTS / 'diff_clinic_olink.xlsx'\n",
    "clinic.loc[diff_clinic_olink].to_excel(files_out['diff_clinic_olink'])\n",
    "clinic.loc[diff_clinic_olink]"
   ]
  },
  {
   "cell_type": "code",
   "execution_count": null,
   "id": "0ada5afc-45b5-401a-91a8-a54439c1b9dd",
   "metadata": {},
   "outputs": [],
   "source": [
    "cflow_to_find = sample_keys.index.difference(in_clinic)\n",
    "cflow_to_find = sample_keys.loc[cflow_to_find, 'SampleID']\n",
    "cflow_to_find = cflow_to_find.loc[cflow_to_find.squeeze().str.contains('Cflow')]\n",
    "if not cflow_to_find.empty:\n",
    "    files_out['cflow_to_find'] = FOLDER_REPORTS / 'cflow_to_find.xlsx'\n",
    "    display(files_out['cflow_to_find'])\n",
    "    cflow_to_find.to_excel(files_out['cflow_to_find'])\n",
    "cflow_to_find"
   ]
  },
  {
   "cell_type": "markdown",
   "id": "12cab4e2",
   "metadata": {},
   "source": [
    "Remove duplicates, i.e. if a clincal samples has more than one OLink sample (as highlighted above)"
   ]
  },
  {
   "cell_type": "code",
   "execution_count": null,
   "id": "f19e52ce-d854-4833-a1a4-ec0630aac52b",
   "metadata": {},
   "outputs": [],
   "source": [
    "mask_duplicated = sample_keys.loc[in_clinic,\n",
    "                                  'SampleID'].index.duplicated(keep=False)\n",
    "idx_duplicated = sample_keys.loc[in_clinic].loc[mask_duplicated].index.unique()\n",
    "sample_keys.loc[in_clinic, 'SampleID'].loc[mask_duplicated]"
   ]
  },
  {
   "cell_type": "code",
   "execution_count": null,
   "id": "a6334aa6-74cb-496b-ba42-d6e9c65f46a1",
   "metadata": {},
   "outputs": [],
   "source": [
    "pd.read_excel(DATA_DUPLICATES, index_col='ID', sheet_name='two_olink')\n",
    "# ToDo: use it to drop features (not done here)"
   ]
  },
  {
   "cell_type": "code",
   "execution_count": null,
   "id": "e8fa1225-0131-4ddc-9369-0e525d27bcc1",
   "metadata": {},
   "outputs": [],
   "source": [
    "in_both = sample_keys.loc[in_clinic, 'SampleID'].reset_index().drop_duplicates(\n",
    "    keep='first', subset='ID').set_index('ID')\n",
    "in_both.loc[idx_duplicated]"
   ]
  },
  {
   "cell_type": "code",
   "execution_count": null,
   "id": "ef9e4781-026c-42b9-81ed-8a2167dc0be1",
   "metadata": {},
   "outputs": [],
   "source": [
    "print(f\"Keep N = {len(in_both)} unique samples\")"
   ]
  },
  {
   "cell_type": "markdown",
   "id": "b223b4a8-3102-4e01-bb1c-f5da2537f60a",
   "metadata": {},
   "source": [
    "Duplicated patient -> needs to be manuelly removed, drop last"
   ]
  },
  {
   "cell_type": "code",
   "execution_count": null,
   "id": "651b9e3e-3d8a-4f59-a009-4043924bf022",
   "metadata": {},
   "outputs": [],
   "source": [
    "duplicated_patients = pd.read_excel(DATA_DUPLICATES, index_col='ID')\n",
    "duplicated_patients"
   ]
  },
  {
   "cell_type": "code",
   "execution_count": null,
   "id": "cfeb3899-5332-4a63-abf9-23a0487a5192",
   "metadata": {},
   "outputs": [],
   "source": [
    "clinic.loc[duplicated_patients.index]"
   ]
  },
  {
   "cell_type": "code",
   "execution_count": null,
   "id": "cc7f2d70-8382-4a30-b537-6703d981f163",
   "metadata": {},
   "outputs": [],
   "source": [
    "in_both = in_both.drop(\n",
    "    duplicated_patients[duplicated_patients['to_drop']].index\n",
    ")  # manuelly remove one case which is a duplicated patient\n",
    "print(f\"Keep N = {len(in_both)} unique samples\")"
   ]
  },
  {
   "cell_type": "code",
   "execution_count": null,
   "id": "8e995769-1029-4231-8459-21229b4fc64e",
   "metadata": {},
   "outputs": [],
   "source": [
    "in_both.sample(3)"
   ]
  },
  {
   "cell_type": "code",
   "execution_count": null,
   "id": "f7338adb-519e-409c-89c4-f4e7e27fc901",
   "metadata": {},
   "outputs": [],
   "source": [
    "clinic = clinic.loc[in_both.index]\n",
    "olink = olink.loc[in_both['SampleID']]\n",
    "clinic.shape, olink.shape"
   ]
  },
  {
   "cell_type": "code",
   "execution_count": null,
   "id": "90df37de-fad5-4406-82d1-c6e8f8005d3d",
   "metadata": {},
   "outputs": [],
   "source": [
    "olink"
   ]
  },
  {
   "cell_type": "markdown",
   "id": "f18e795a-22ec-405e-846c-c2cfe7df7138",
   "metadata": {},
   "source": [
    "Set `SampleID` as new index for clinical data"
   ]
  },
  {
   "cell_type": "code",
   "execution_count": null,
   "id": "bbbf64a8",
   "metadata": {},
   "outputs": [],
   "source": [
    "clinic['CflowID'] = in_both\n",
    "clinic = clinic.set_index('CflowID')\n",
    "clinic.sample(3)"
   ]
  },
  {
   "cell_type": "code",
   "execution_count": null,
   "id": "1a11b899",
   "metadata": {},
   "outputs": [],
   "source": [
    "# clinic[config.clinic_data.vars_binary]\n",
    "vars_binary = njab.pandas.get_overlapping_columns(clinic,\n",
    "                                                  config.clinic_data.vars_binary)\n",
    "clinic[vars_binary].sample(5)"
   ]
  },
  {
   "cell_type": "code",
   "execution_count": null,
   "id": "fa7eab3f",
   "metadata": {},
   "outputs": [],
   "source": [
    "vars_cont = njab.pandas.get_overlapping_columns(clinic,\n",
    "                                                config.clinic_data.vars_cont)\n",
    "clinic[vars_cont].sample(5)"
   ]
  },
  {
   "cell_type": "code",
   "execution_count": null,
   "id": "ff7b0df0-0684-4878-9c7c-5ad0fb6f6884",
   "metadata": {},
   "outputs": [],
   "source": [
    "clinic.dtypes.value_counts()"
   ]
  },
  {
   "cell_type": "code",
   "execution_count": null,
   "id": "fab13ea9-778a-435f-ab84-c6d765400303",
   "metadata": {},
   "outputs": [],
   "source": [
    "clinic.loc[:, clinic.dtypes == 'object'].sample(5)"
   ]
  },
  {
   "cell_type": "code",
   "execution_count": null,
   "id": "2bb001ac-61da-4caf-9b09-fd53b8d3719d",
   "metadata": {},
   "outputs": [],
   "source": [
    "clinic[\n",
    "    \"cirrose ætiologi. Alkohol = 1, 2 = HCV, 3 = cryptogen, 4= NASH,\"\n",
    "    \" 5= anit1-trypsin mangel, 6 hæmokromatose, 7=autoimmun og PBC, 8=HBV, 9 kutan porfyri\"].value_counts(\n",
    ")"
   ]
  },
  {
   "cell_type": "markdown",
   "id": "b3915ea0-f51b-4972-9130-80d1adde716a",
   "metadata": {},
   "source": [
    "Drop duplicate columns"
   ]
  },
  {
   "cell_type": "code",
   "execution_count": null,
   "id": "e7308b07",
   "metadata": {},
   "outputs": [],
   "source": [
    "if not clinic.columns.is_unique:\n",
    "    print(f\"Duplicated: {clinic.columns[clinic.columns.duplicated()]}\")\n",
    "    keep = ~clinic.columns.duplicated()\n",
    "    clinic = clinic.loc[:, keep]\n",
    "clinic.sample(3)"
   ]
  },
  {
   "cell_type": "markdown",
   "id": "cd84854d-fd06-4175-9af4-5d4c3d390d69",
   "metadata": {},
   "source": [
    "# Discard healthy samples"
   ]
  },
  {
   "cell_type": "code",
   "execution_count": null,
   "id": "8c293d2a-af70-4b1c-a2fc-12df85e75952",
   "metadata": {},
   "outputs": [],
   "source": [
    "clinic[\"Healthy\"].value_counts(dropna=False)"
   ]
  },
  {
   "cell_type": "code",
   "execution_count": null,
   "id": "bb40ffbb-0d36-4cbd-97d8-4537af64648a",
   "metadata": {},
   "outputs": [],
   "source": [
    "mask = clinic[\"Healthy\"] == 'No'\n",
    "clinic, olink = clinic.loc[mask], olink.loc[mask]\n",
    "clinic.shape, olink.shape"
   ]
  },
  {
   "cell_type": "code",
   "execution_count": null,
   "id": "fd3c6da7-4991-4b24-8280-5285309503a0",
   "metadata": {},
   "outputs": [],
   "source": [
    "mask = clinic[\"DateInflSample\"].isna()\n",
    "clinic.loc[mask] if mask.sum(\n",
    ") else \"All included samples have an inflammation sample date\""
   ]
  },
  {
   "cell_type": "markdown",
   "id": "47034a21",
   "metadata": {
    "lines_to_next_cell": 2
   },
   "source": [
    "# Death over time\n",
    "\n",
    "- one plot with absolute time axis\n",
    "- one plot relative to diagnosis date"
   ]
  },
  {
   "cell_type": "code",
   "execution_count": null,
   "id": "ab02500b",
   "metadata": {
    "lines_to_next_cell": 2
   },
   "outputs": [],
   "source": [
    "clinic['dead'] = (clinic['DateDeath'] - clinic['DateInflSample']).notna()\n",
    "clinic[\"DateDeath\"] = clinic[\"DateDeath\"].fillna(value=config.STUDY_ENDDATE)"
   ]
  },
  {
   "cell_type": "code",
   "execution_count": null,
   "id": "e4e87b74",
   "metadata": {
    "lines_to_next_cell": 0
   },
   "outputs": [],
   "source": [
    "din_a4 = (8.27 * 2, 11.69 * 2)\n",
    "njab.plotting.make_large_descriptors(32)\n",
    "\n",
    "fig, ax = plt.subplots(figsize=din_a4)\n",
    "njab.plotting.plot_lifelines(clinic.sort_values('DateInflSample'),\n",
    "                             start_col='DateInflSample',\n",
    "                             ax=ax)\n",
    "_ = plt.xticks(rotation=45)\n",
    "ax.invert_yaxis()\n",
    "njab.plotting.set_font_sizes('x-small')\n",
    "files_out['lifelines'] = FOLDER_REPORTS / 'lifelines.pdf'\n",
    "savefig(fig, files_out['lifelines'])"
   ]
  },
  {
   "cell_type": "code",
   "execution_count": null,
   "id": "7012165d",
   "metadata": {},
   "outputs": [],
   "source": [
    "clinic.dead.value_counts()"
   ]
  },
  {
   "cell_type": "code",
   "execution_count": null,
   "id": "ff3e181b",
   "metadata": {
    "lines_to_next_cell": 2
   },
   "outputs": [],
   "source": [
    "fig, axes = plt.subplots(2, sharex=True)\n",
    "ax = axes[0]\n",
    "ax.set_yticks([])\n",
    "\n",
    "ax = clinic.loc[clinic.dead].astype({\n",
    "    'dead': 'category'\n",
    "}).plot.scatter(x=\"DateInflSample\",\n",
    "                y=\"dead\",\n",
    "                c='blue',\n",
    "                rot=45,\n",
    "                ax=ax,\n",
    "                ylabel='dead')\n",
    "ax = axes[1]\n",
    "# ax.axes.yaxis.set_visible(False)\n",
    "ax.set_yticks([])\n",
    "ax = clinic.loc[~clinic.dead].astype({\n",
    "    'dead': 'category'\n",
    "}).plot.scatter(x=\"DateInflSample\",\n",
    "                y=\"dead\",\n",
    "                c='blue',\n",
    "                rot=45,\n",
    "                ax=ax,\n",
    "                ylabel='alive')\n",
    "_ = fig.suptitle(\"Inclusion date by survival status\")\n",
    "files_out[\n",
    "    'death_vs_alive_diagonose_dates'] = FOLDER_REPORTS / 'death_vs_alive_diagonose_dates'\n",
    "savefig(fig, files_out['death_vs_alive_diagonose_dates'])"
   ]
  },
  {
   "cell_type": "code",
   "execution_count": null,
   "id": "ac69f166",
   "metadata": {},
   "outputs": [],
   "source": [
    "ax = clinic.astype({\n",
    "    'dead': 'category'\n",
    "}).plot.scatter(x=\"DateInflSample\",\n",
    "                y='DateDeath',\n",
    "                c=\"dead\",\n",
    "                cmap='Paired',\n",
    "                rot=45,\n",
    "                s=3,\n",
    "                sharex=False)\n",
    "# ticks = ax.get_xticks()\n",
    "# ax.set_xticklabels(ax.get_xticklabels(),  horizontalalignment='right')\n",
    "# ax.set_xticks(ticks)\n",
    "fontsize = 'xx-small'\n",
    "min_date, max_date = clinic[\"DateInflSample\"].min(\n",
    "), clinic[\"DateInflSample\"].max()\n",
    "ax.plot([min_date, max_date], [min_date, max_date], 'k-', lw=1)\n",
    "_ = ax.annotate('date', [min_date, min_date + datetime.timedelta(days=20)],\n",
    "                fontsize=fontsize,\n",
    "                rotation=25)\n",
    "offset, rot = 20, 25\n",
    "delta = 90\n",
    "_ = ax.plot([min_date, max_date], [\n",
    "    min_date + datetime.timedelta(days=delta),\n",
    "    max_date + datetime.timedelta(days=delta)\n",
    "],\n",
    "    'k-',\n",
    "    lw=1)\n",
    "_ = ax.annotate(f'+ {delta} days',\n",
    "                [min_date, min_date + datetime.timedelta(days=delta + 20)],\n",
    "                fontsize=fontsize,\n",
    "                rotation=25)\n",
    "delta = 180\n",
    "ax.plot([min_date, max_date], [\n",
    "    min_date + datetime.timedelta(days=delta),\n",
    "    max_date + datetime.timedelta(days=delta)\n",
    "],\n",
    "    'k-',\n",
    "    lw=1)\n",
    "_ = ax.annotate(f'+ {delta} days',\n",
    "                [min_date, min_date + datetime.timedelta(days=delta + 20)],\n",
    "                fontsize=fontsize,\n",
    "                rotation=25)\n",
    "delta = 360\n",
    "ax.plot([min_date, max_date], [\n",
    "    min_date + datetime.timedelta(days=delta),\n",
    "    max_date + datetime.timedelta(days=delta)\n",
    "],\n",
    "    'k-',\n",
    "    lw=1)\n",
    "_ = ax.annotate(f'+ {delta} days',\n",
    "                [min_date, min_date + datetime.timedelta(days=delta + 20)],\n",
    "                fontsize=fontsize,\n",
    "                rotation=25)\n",
    "fig = ax.get_figure()\n",
    "files_out[\n",
    "    'timing_deaths_over_time'] = FOLDER_REPORTS / 'timing_deaths_over_time.pdf'\n",
    "savefig(fig, files_out['timing_deaths_over_time'])"
   ]
  },
  {
   "cell_type": "markdown",
   "id": "d22e448b",
   "metadata": {},
   "source": [
    "# Cleanup steps"
   ]
  },
  {
   "cell_type": "markdown",
   "id": "aa70c060",
   "metadata": {},
   "source": [
    "### Clinic\n",
    "\n",
    "- [x] encode binary variables (yes, no) as `category`s\n",
    "  > Be aware that this might cause unexpected behaviour!"
   ]
  },
  {
   "cell_type": "markdown",
   "id": "bd723be5",
   "metadata": {},
   "source": [
    "Fill derived variables with missing measurements"
   ]
  },
  {
   "cell_type": "code",
   "execution_count": null,
   "id": "a3b8d37b",
   "metadata": {},
   "outputs": [],
   "source": [
    "clinic.loc[:, clinic.columns.str.contains(\"Adm\")].describe()"
   ]
  },
  {
   "cell_type": "code",
   "execution_count": null,
   "id": "136e7e06",
   "metadata": {},
   "outputs": [],
   "source": [
    "clinic.loc[:, clinic.columns.str.contains(\"Adm\")].sum()"
   ]
  },
  {
   "cell_type": "markdown",
   "id": "dab1031b",
   "metadata": {},
   "source": [
    "Encode binary variables"
   ]
  },
  {
   "cell_type": "code",
   "execution_count": null,
   "id": "f2c5bb08",
   "metadata": {},
   "outputs": [],
   "source": [
    "clinic[vars_binary].head()"
   ]
  },
  {
   "cell_type": "code",
   "execution_count": null,
   "id": "1494e135",
   "metadata": {
    "lines_to_next_cell": 2
   },
   "outputs": [],
   "source": [
    "clinic[vars_binary] = clinic[vars_binary].astype('category')"
   ]
  },
  {
   "cell_type": "markdown",
   "id": "630577c1",
   "metadata": {},
   "source": [
    "remaining non numeric variables"
   ]
  },
  {
   "cell_type": "code",
   "execution_count": null,
   "id": "2e6b9a98",
   "metadata": {
    "lines_to_next_cell": 2
   },
   "outputs": [],
   "source": [
    "mask_cols_obj = clinic.dtypes == 'object'\n",
    "clinic.loc[:, mask_cols_obj].describe()"
   ]
  },
  {
   "cell_type": "code",
   "execution_count": null,
   "id": "845eb2cb",
   "metadata": {},
   "outputs": [],
   "source": [
    "# clinic[\"HbA1c\"] = clinic[\"HbA1c\"].replace(to_replace=\"(NA)\", value=np.nan).astype(pd.Int32Dtype())\n",
    "# clinic[\"MaritalStatus\"] = clinic[\"MaritalStatus\"].astype('category')\n",
    "clinic[\"HeartDiseaseTotal\"] = 0  # excluded from CirkaFlow\n",
    "clinic[\"HeartDiseaseTotal\"] = clinic[\"HeartDiseaseTotal\"].replace(\n",
    "    0, 'no').astype('category')"
   ]
  },
  {
   "cell_type": "code",
   "execution_count": null,
   "id": "300ff8ae",
   "metadata": {},
   "outputs": [],
   "source": [
    "def get_dummies_yes_no(s, prefix=None):\n",
    "    return pd.get_dummies(s, prefix=prefix).replace({\n",
    "        0: 'No',\n",
    "        1: 'Yes'\n",
    "    }).astype('category')\n",
    "\n",
    "\n",
    "# clinic = clinic.join(get_dummies_yes_no(clinic[\"DiagnosisPlace\"]))\n",
    "# clinic = clinic.join(get_dummies_yes_no(clinic[\"MaritalStatus\"], prefix='MaritalStatus'))\n",
    "clinic = clinic.join(get_dummies_yes_no(clinic[\"CauseOfDeath\"], prefix='CoD'))\n",
    "clinic.sample(5)"
   ]
  },
  {
   "cell_type": "markdown",
   "id": "599f734e",
   "metadata": {},
   "source": [
    "- few have more than one etiology"
   ]
  },
  {
   "cell_type": "code",
   "execution_count": null,
   "id": "1a37ff98",
   "metadata": {},
   "outputs": [],
   "source": [
    "etiology_mask_yes = clinic.loc[:, clinic.columns.str.contains(\"Eti\")] == 'Yes'\n",
    "etiology_mask_yes.sum(axis=1).value_counts()"
   ]
  },
  {
   "cell_type": "code",
   "execution_count": null,
   "id": "67118bb8",
   "metadata": {
    "lines_to_next_cell": 0
   },
   "outputs": [],
   "source": [
    "clinic[\"EtiNonAlco\"] = (clinic[\"EtiAlco\"] == 'No') & (etiology_mask_yes.drop(\n",
    "    'EtiAlco', axis=1).sum(axis=1).astype(bool))\n",
    "clinic[\"EtiNonAlco\"] = get_dummies_yes_no(clinic[\"EtiNonAlco\"])[True]\n",
    "clinic[\"EtiNonAlco\"].value_counts()"
   ]
  },
  {
   "cell_type": "markdown",
   "id": "a33e75c5",
   "metadata": {},
   "source": [
    "### Olink\n",
    "\n",
    "- [x] highlight missing values\n"
   ]
  },
  {
   "cell_type": "code",
   "execution_count": null,
   "id": "ed1cdee8",
   "metadata": {},
   "outputs": [],
   "source": [
    "olink.head()"
   ]
  },
  {
   "cell_type": "markdown",
   "id": "2a6b6790",
   "metadata": {},
   "source": [
    "Which measurments have missing values\n",
    "\n",
    "- [ ] Imputation due to limit of detection (LOD) -> how to best impute"
   ]
  },
  {
   "cell_type": "code",
   "execution_count": null,
   "id": "ec072a38",
   "metadata": {
    "lines_to_next_cell": 0
   },
   "outputs": [],
   "source": [
    "olink.loc[:, olink.isna().any()].describe()"
   ]
  },
  {
   "cell_type": "markdown",
   "id": "7ce4c5c0-7ba3-40f8-90c6-17b6cf4f5a66",
   "metadata": {
    "lines_to_next_cell": 2
   },
   "source": [
    "# Timespans\n",
    "\n",
    "- death only has right censoring, no drop-out\n",
    "- admission has right censoring, and a few drop-outs who die before their first admission for the cirrhosis\n",
    "\n",
    "CirkaFlow specifics:\n",
    "- `DateFirstAdmission`: If `MORS` or `NA`, the patients should be excluded as the information is either\n",
    "   1. not valid due to death during inclusion period (`MORS`)\n",
    "   2. the patient's hospitialization history could not be recovered (`NA`)"
   ]
  },
  {
   "cell_type": "code",
   "execution_count": null,
   "id": "59d7db14-a769-4ced-b3fb-5ed143c0e303",
   "metadata": {
    "lines_to_next_cell": 2
   },
   "outputs": [],
   "source": [
    "# clinic[\"DateAdm\"]  = clinic[\"DateAdm\"].replace({'None': np.nan, 'MORS': np.nan})\n",
    "clinic[\"isNA|MORS\"] = clinic[\"DateFirstAdmission\"].replace({\n",
    "    np.nan: True,\n",
    "    'MORS': True\n",
    "})\n",
    "clinic.loc[clinic[\"isNA|MORS\"] != True, \"isNA|MORS\"] = False\n",
    "clinic[\"DateAdm\"] = clinic[\"DateFirstAdmission\"].replace({\n",
    "    'None': np.nan,\n",
    "    'MORS': np.nan\n",
    "})"
   ]
  },
  {
   "cell_type": "code",
   "execution_count": null,
   "id": "fa7c9cfe-bb9d-42a0-8959-d088bafa4d2e",
   "metadata": {},
   "outputs": [],
   "source": [
    "clinic[\"isNA|MORS\"] = clinic[\"isNA|MORS\"].astype(bool)\n",
    "clinic[\"isNA|MORS\"].value_counts()"
   ]
  },
  {
   "cell_type": "markdown",
   "id": "e9c0bdfb",
   "metadata": {},
   "source": [
    "For these individuals, the admission time is censored as the persons died before."
   ]
  },
  {
   "cell_type": "code",
   "execution_count": null,
   "id": "d5100dba",
   "metadata": {
    "lines_to_next_cell": 0
   },
   "outputs": [],
   "source": [
    "clinic[\"DaysToAdmFromInflSample\"] = (\n",
    "    clinic[\"DateAdm\"].fillna(config.STUDY_ENDDATE) -\n",
    "    clinic[\"DateInflSample\"]).dt.days\n",
    "clinic[\"DaysToDeathFromInfl\"] = (\n",
    "    clinic[\"DateDeath\"].fillna(config.STUDY_ENDDATE) -\n",
    "    clinic[\"DateInflSample\"]).dt.days\n",
    "\n",
    "cols_clinic = njab.pandas.get_colums_accessor(clinic)\n",
    "\n",
    "cols_view = [\n",
    "    cols_clinic.DaysToDeathFromInfl,\n",
    "    cols_clinic.DateAdm,\n",
    "    # cols_clinic.DateFirstAdmission,\n",
    "    cols_clinic.DaysToAdmFromInflSample,\n",
    "    \"dead\",\n",
    "    \"Adm90\",\n",
    "    \"Adm180\",\n",
    "    \"Age\"\n",
    "]"
   ]
  },
  {
   "cell_type": "code",
   "execution_count": null,
   "id": "27fa3f89",
   "metadata": {},
   "outputs": [],
   "source": [
    "mask = (clinic.dead == True) & (clinic.Adm180.isna())\n",
    "view = clinic.loc[mask, cols_view].sort_values(cols_view)\n",
    "files_out['died_before_admission'] = FOLDER_REPORTS / 'died_before_adm.xlsx'\n",
    "view.to_excel(files_out['died_before_admission'])\n",
    "view"
   ]
  },
  {
   "cell_type": "markdown",
   "id": "ec7421c8",
   "metadata": {},
   "source": [
    "# Kaplan-Meier survival plot"
   ]
  },
  {
   "cell_type": "code",
   "execution_count": null,
   "id": "b7de3652",
   "metadata": {},
   "outputs": [],
   "source": [
    "kmf = KaplanMeierFitter()\n",
    "kmf.fit(clinic[\"DaysToDeathFromInfl\"], event_observed=clinic[\"dead\"])\n",
    "\n",
    "X_LIMIT = config.MAX_DAYS_INTERVAL\n",
    "\n",
    "fig, ax = plt.subplots()\n",
    "y_lim = (0, 1)\n",
    "ax = kmf.plot(  # title='Kaplan Meier survival curve since inclusion',\n",
    "    xlim=(0, X_LIMIT),\n",
    "    ylim=y_lim,\n",
    "    xlabel='Days since inflammation sample',\n",
    "    ylabel='survival rate',\n",
    "    ax=ax,\n",
    "    legend=False)\n",
    "_ = ax.vlines(90, *y_lim)\n",
    "_ = ax.vlines(180, *y_lim)\n",
    "files_out['km_plot_death'] = FOLDER_REPORTS / 'km_plot_death.pdf'\n",
    "savefig(fig, files_out['km_plot_death'])"
   ]
  },
  {
   "cell_type": "code",
   "execution_count": null,
   "id": "9259315f",
   "metadata": {
    "lines_to_next_cell": 2
   },
   "outputs": [],
   "source": [
    "clinic['Cause of Death (labels)'] = clinic['CauseOfDeath'].fillna('NA')\n",
    "_ = sns.catplot(\n",
    "    x=\"DaysToDeathFromInfl\",\n",
    "    y=\"dead\",\n",
    "    # hue=\"DiagnosisPlace\",\n",
    "    hue='Cause of Death (labels)',\n",
    "    data=clinic.astype({'dead': 'category'}),\n",
    "    # height=4,\n",
    "    # aspect=3\n",
    ")\n",
    "_.set_xlabels('Days from inflammation sample to death or until study end')\n",
    "ax = _.fig.get_axes()[0]\n",
    "ylim = ax.get_ylim()\n",
    "ax.vlines(90, *ylim)\n",
    "ax.vlines(180, *ylim)\n",
    "fig = ax.get_figure()\n",
    "files_out['deaths_along_time'] = FOLDER_REPORTS / 'deaths_along_time.pdf'\n",
    "savefig(fig, files_out['deaths_along_time'])"
   ]
  },
  {
   "cell_type": "markdown",
   "id": "35ff2ab2",
   "metadata": {},
   "source": [
    "# KP plot admissions\n",
    "\n",
    "- some die before they have a first admission. We exclude these here\n",
    "- information was only collected up to 180 days after inflammation sample"
   ]
  },
  {
   "cell_type": "code",
   "execution_count": null,
   "id": "e3bf555f-7f49-4d9d-8808-8cd0fda46f0f",
   "metadata": {},
   "outputs": [],
   "source": [
    "clinic[\"LiverAdm180\"].value_counts(dropna=False).sort_index()"
   ]
  },
  {
   "cell_type": "code",
   "execution_count": null,
   "id": "8cc45b7b",
   "metadata": {},
   "outputs": [],
   "source": [
    "kmf = KaplanMeierFitter()\n",
    "\n",
    "mask = clinic[\"LiverAdm180\"].notna()\n",
    "print(f\"Based on {mask.sum()} patients\")\n",
    "# kmf.fit(clinic[\"DaysToDeathFromInfl\"], event_observed=clinic[\"LiverAdm180\"].fillna(0))\n",
    "kmf.fit(clinic.loc[mask, \"DaysToAdmFromInflSample\"],\n",
    "        event_observed=clinic.loc[mask, \"LiverAdm180\"])\n",
    "\n",
    "fig, ax = plt.subplots()\n",
    "y_lim = (0, 1)\n",
    "ax = kmf.plot(  # title='Kaplan Meier curve for liver related admissions',\n",
    "    xlim=(0, 180),\n",
    "    ylim=(0, 1),\n",
    "    xlabel='Days since inflammation sample',\n",
    "    ylabel='rate no liver-related admission',\n",
    "    legend=False)\n",
    "# _ = ax.vlines(90, *y_lim)\n",
    "# _ = ax.vlines(180, *y_lim)\n",
    "fig = ax.get_figure()\n",
    "files_out['km_plot_admission'] = FOLDER_REPORTS / 'km_plot_admission.pdf'\n",
    "savefig(fig, files_out['km_plot_admission'])"
   ]
  },
  {
   "cell_type": "markdown",
   "id": "bf2ccdff",
   "metadata": {},
   "source": [
    "# Targets"
   ]
  },
  {
   "cell_type": "code",
   "execution_count": null,
   "id": "dc29785e",
   "metadata": {},
   "outputs": [],
   "source": [
    "mask = clinic.columns.str.contains(\"Adm(90|180)\")\n",
    "clinic.loc[:, mask].describe()  # two targets for liver related admissions"
   ]
  },
  {
   "cell_type": "code",
   "execution_count": null,
   "id": "72088e75",
   "metadata": {},
   "outputs": [],
   "source": [
    "target_name = {k: f'has{k}' for k in clinic.columns[mask]}\n",
    "target_name"
   ]
  },
  {
   "cell_type": "code",
   "execution_count": null,
   "id": "bae5440a",
   "metadata": {},
   "outputs": [],
   "source": [
    "targets = {}\n",
    "\n",
    "for cutoff in [90, 180]:\n",
    "    targets[f'dead{cutoff:03}infl'] = (clinic[\"DaysToDeathFromInfl\"] <=\n",
    "                                       cutoff).astype(int)\n",
    "    targets[f\"liverDead{cutoff:03}infl\"] = (\n",
    "        clinic.loc[clinic[\"CauseOfDeath\"] != 'NonLiver',\n",
    "                   \"DaysToDeathFromInfl\"] <= cutoff).astype(int)\n",
    "\n",
    "targets = pd.DataFrame(targets)\n",
    "# targets = targets.join(\n",
    "#     (clinic.loc[:, mask] > 0).astype(int).rename(columns=target_name))\n",
    "# # targets = targets.sort_index(axis=1, ascending=False)\n",
    "targets.describe()"
   ]
  },
  {
   "cell_type": "code",
   "execution_count": null,
   "id": "4afeb009-60f3-4371-bad1-876c7e758101",
   "metadata": {},
   "outputs": [],
   "source": [
    "to_exclude = clinic[\"LiverAdm90\"].isna() & targets[\"dead090infl\"] == True  #\n",
    "clinic.loc[to_exclude]"
   ]
  },
  {
   "cell_type": "code",
   "execution_count": null,
   "id": "5002f56e-995b-442f-a8cd-c8efae49e324",
   "metadata": {},
   "outputs": [],
   "source": [
    "to_exclude = clinic[\"LiverAdm180\"].isna() & targets[\"dead180infl\"] == True\n",
    "clinic.loc[to_exclude]"
   ]
  },
  {
   "cell_type": "code",
   "execution_count": null,
   "id": "1edf359b-9702-4193-9b3d-78b60541fd76",
   "metadata": {},
   "outputs": [],
   "source": [
    "to_exclude = clinic[\"isNA|MORS\"]\n",
    "clinic.loc[to_exclude]"
   ]
  },
  {
   "cell_type": "markdown",
   "id": "6f3c9e16-1099-4427-a06f-011cbdd1b64b",
   "metadata": {},
   "source": [
    "Admission within 30 days after Inflammation sample?\n",
    "\n",
    "- na or MORS in DateAdm (FirstDateAdm)\n",
    "- expectation 4 patients to be excluded (82)"
   ]
  },
  {
   "cell_type": "code",
   "execution_count": null,
   "id": "151c7b65-4597-45fc-ac1c-ec3d6c174b6c",
   "metadata": {},
   "outputs": [],
   "source": [
    "for col_adm, col_death in zip(\n",
    "    ['Adm180', 'Adm90', 'LiverAdm90', 'LiverAdm180'],\n",
    "        ['dead180infl', 'dead090infl', 'dead090infl', 'dead180infl']):\n",
    "    # to_exclude = clinic[col_adm].isna() & targets[col_death] == True\n",
    "    to_exclude = clinic[\"isNA|MORS\"]\n",
    "    # clinic.loc[~to_exclude, col_adm] = clinic.loc[~to_exclude, col_adm].fillna(0)\n",
    "    clinic.loc[to_exclude, col_adm] = np.nan\n",
    "\n",
    "clinic.loc[:, mask].describe()"
   ]
  },
  {
   "cell_type": "code",
   "execution_count": null,
   "id": "02d03beb-eebd-4d04-94b4-a556012d8cdf",
   "metadata": {},
   "outputs": [],
   "source": [
    "targets = targets.join((clinic.loc[:, mask]).rename(columns=target_name))\n",
    "for col in target_name.values():\n",
    "    not_na = targets[col].notna()\n",
    "    targets.loc[not_na, col] = (targets.loc[not_na, col] > 0).astype(float)\n",
    "targets = targets.sort_index(axis=1, ascending=False)\n",
    "targets.describe()"
   ]
  },
  {
   "cell_type": "code",
   "execution_count": null,
   "id": "38a38a26",
   "metadata": {
    "lines_to_next_cell": 2
   },
   "outputs": [],
   "source": [
    "njab.pandas.combine_value_counts(targets)"
   ]
  },
  {
   "cell_type": "markdown",
   "id": "c0ce868e",
   "metadata": {},
   "source": [
    "add to clinical targets"
   ]
  },
  {
   "cell_type": "code",
   "execution_count": null,
   "id": "c60c5e35",
   "metadata": {},
   "outputs": [],
   "source": [
    "clinic = clinic.join(targets)"
   ]
  },
  {
   "cell_type": "markdown",
   "id": "2fb5a87f",
   "metadata": {},
   "source": [
    "# Censoring"
   ]
  },
  {
   "cell_type": "markdown",
   "id": "334406bc",
   "metadata": {},
   "source": [
    "Date of first Admission is also right-censored"
   ]
  },
  {
   "cell_type": "code",
   "execution_count": null,
   "id": "6c9c0410",
   "metadata": {},
   "outputs": [],
   "source": [
    "time_from_inclusion_to_first_admission = clinic[\"DateAdm\"].fillna(\n",
    "    config.STUDY_ENDDATE) - clinic[\"DateInflSample\"]\n",
    "time_from_inclusion_to_first_admission.describe()"
   ]
  },
  {
   "cell_type": "markdown",
   "id": "969a3a98",
   "metadata": {},
   "source": [
    "Who dies without having a first Admission date?"
   ]
  },
  {
   "cell_type": "code",
   "execution_count": null,
   "id": "0d79b7fd",
   "metadata": {},
   "outputs": [],
   "source": [
    "dead_wo_adm = clinic[\"DateAdm\"].isna() & clinic['dead']\n",
    "idx_dead_wo_adm = dead_wo_adm.loc[dead_wo_adm].index\n",
    "print('Dead without admission to hospital:',\n",
    "      *dead_wo_adm.loc[dead_wo_adm].index)\n",
    "clinic.loc[\n",
    "    dead_wo_adm,\n",
    "    [\"DateAdm\", \"DateInflSample\", cols_clinic.LiverAdm180, \"CauseOfDeath\"]]"
   ]
  },
  {
   "cell_type": "code",
   "execution_count": null,
   "id": "224d504a",
   "metadata": {
    "lines_to_next_cell": 0
   },
   "outputs": [],
   "source": [
    "DATA_PROCESSED.mkdir(exist_ok=True, parents=True)\n",
    "files_out[\n",
    "    config.fname_pkl_cirkaflow_clinic.stem] = config.fname_pkl_cirkaflow_clinic\n",
    "files_out[\n",
    "    config.fname_pkl_cirkaflow_olink.stem] = config.fname_pkl_cirkaflow_olink\n",
    "clinic.to_pickle(config.fname_pkl_cirkaflow_clinic)\n",
    "olink.to_pickle(config.fname_pkl_cirkaflow_olink)"
   ]
  },
  {
   "cell_type": "markdown",
   "id": "1028333d-817c-49e8-a9c3-5b26af58ef30",
   "metadata": {},
   "source": [
    "# Dumped combined clinical data as numeric data for ML applications"
   ]
  },
  {
   "cell_type": "code",
   "execution_count": null,
   "id": "d1fd8705-305e-4739-abf9-d5b295317400",
   "metadata": {},
   "outputs": [],
   "source": [
    "cols_cat = clinic.dtypes == 'category'\n",
    "cols_cat = clinic.columns[cols_cat]\n",
    "clinic[cols_cat]"
   ]
  },
  {
   "cell_type": "code",
   "execution_count": null,
   "id": "1ae948bf-3f93-4689-9a31-4525a940f8c2",
   "metadata": {},
   "outputs": [],
   "source": [
    "encode = {\n",
    "    **{k: 1 for k in ['Yes', 'yes', 'Male']},\n",
    "    **{k: 0 for k in ['No', 'no', 'Female']}\n",
    "}\n",
    "encode"
   ]
  },
  {
   "cell_type": "code",
   "execution_count": null,
   "id": "aaee3927-63c5-4dac-a21c-bc681f257b9c",
   "metadata": {},
   "outputs": [],
   "source": [
    "clinic[cols_cat] = clinic[cols_cat].astype('object').replace(encode)\n",
    "clinic[cols_cat]"
   ]
  },
  {
   "cell_type": "code",
   "execution_count": null,
   "id": "ee7712cb-214a-455c-a1bb-aae647966840",
   "metadata": {},
   "outputs": [],
   "source": [
    "clinic[cols_cat].describe()"
   ]
  },
  {
   "cell_type": "markdown",
   "id": "4007d151-e275-4b9a-b6d4-f163b918599d",
   "metadata": {},
   "source": [
    "The martial status was made into three dummy variables before (see above):\n",
    "`MaritalStatus_Divorced, MaritalStatus_Married, MaritalStatus_Relationship,\n",
    " MaritalStatus_Separated, MaritalStatus_Unmarried, MaritalStatus_Widow/widower`"
   ]
  },
  {
   "cell_type": "code",
   "execution_count": null,
   "id": "24f245e3-4ea0-4a9b-9ab7-a83ca18bb6b4",
   "metadata": {},
   "outputs": [],
   "source": [
    "mask = clinic.dtypes == 'object'\n",
    "clinic.loc[:, mask]"
   ]
  },
  {
   "cell_type": "code",
   "execution_count": null,
   "id": "2fcdc5c3-c2e4-4782-ba78-d2db202475ac",
   "metadata": {},
   "outputs": [],
   "source": [
    "mask = clinic.dtypes == 'datetime64[ns]'\n",
    "clinic.loc[:, mask]"
   ]
  },
  {
   "cell_type": "code",
   "execution_count": null,
   "id": "58be2d33-9c78-4fc0-9a0e-2667e9455812",
   "metadata": {},
   "outputs": [],
   "source": [
    "numeric_cols = (clinic.apply(pd.api.types.is_numeric_dtype))\n",
    "numeric_cols = clinic.columns[numeric_cols]\n",
    "clinic[numeric_cols]"
   ]
  },
  {
   "cell_type": "code",
   "execution_count": null,
   "id": "cb971709-cb16-4ce3-8111-4dd413cd2073",
   "metadata": {},
   "outputs": [],
   "source": [
    "clinic[numeric_cols].dtypes.value_counts()"
   ]
  },
  {
   "cell_type": "code",
   "execution_count": null,
   "id": "3f1b2379-93c0-48bb-9e57-817ecfa269c3",
   "metadata": {},
   "outputs": [],
   "source": [
    "# to_drop = [\"Study ID\"]\n",
    "# clinic[numeric_cols].drop(to_drop, axis=1)"
   ]
  },
  {
   "cell_type": "code",
   "execution_count": null,
   "id": "fc557543-f14b-47f5-b6de-565dc8b246c6",
   "metadata": {},
   "outputs": [],
   "source": [
    "files_out[config.fname_pkl_cirkaflow_clinic_num.\n",
    "          stem] = config.fname_pkl_cirkaflow_clinic_num\n",
    "clinic[numeric_cols].to_pickle(config.fname_pkl_cirkaflow_clinic_num)"
   ]
  },
  {
   "cell_type": "code",
   "execution_count": null,
   "id": "878df598",
   "metadata": {},
   "outputs": [],
   "source": [
    "njab.io.print_files(files_out)"
   ]
  }
 ],
 "metadata": {
  "kernelspec": {
   "display_name": "Python 3 (ipykernel)",
   "language": "python",
   "name": "python3"
  },
  "language_info": {
   "codemirror_mode": {
    "name": "ipython",
    "version": 3
   },
   "file_extension": ".py",
   "mimetype": "text/x-python",
   "name": "python",
   "nbconvert_exporter": "python",
   "pygments_lexer": "ipython3",
   "version": "3.10.4"
  }
 },
 "nbformat": 4,
 "nbformat_minor": 5
}
